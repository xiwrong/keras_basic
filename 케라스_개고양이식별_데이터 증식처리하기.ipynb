{
 "cells": [
  {
   "cell_type": "code",
   "execution_count": 1,
   "metadata": {},
   "outputs": [
    {
     "name": "stderr",
     "output_type": "stream",
     "text": [
      "Using TensorFlow backend.\n"
     ]
    }
   ],
   "source": [
    "import keras"
   ]
  },
  {
   "cell_type": "code",
   "execution_count": 2,
   "metadata": {},
   "outputs": [],
   "source": [
    "from keras import layers\n",
    "from keras import models"
   ]
  },
  {
   "cell_type": "code",
   "execution_count": 3,
   "metadata": {},
   "outputs": [],
   "source": [
    "model = models.Sequential()"
   ]
  },
  {
   "cell_type": "code",
   "execution_count": 4,
   "metadata": {},
   "outputs": [],
   "source": [
    "model.add(layers.Conv2D(32, (3,3), activation='relu', input_shape=(150,150,3)))"
   ]
  },
  {
   "cell_type": "code",
   "execution_count": 5,
   "metadata": {},
   "outputs": [],
   "source": [
    "model.add(layers.MaxPooling2D(2,2))"
   ]
  },
  {
   "cell_type": "code",
   "execution_count": 6,
   "metadata": {},
   "outputs": [],
   "source": [
    "model.add(layers.Conv2D(64, (3,3), activation='relu'))"
   ]
  },
  {
   "cell_type": "code",
   "execution_count": 7,
   "metadata": {},
   "outputs": [],
   "source": [
    "model.add(layers.MaxPooling2D(2,2))"
   ]
  },
  {
   "cell_type": "code",
   "execution_count": 8,
   "metadata": {},
   "outputs": [],
   "source": [
    "model.add(layers.Conv2D(128, (3,3), activation='relu'))"
   ]
  },
  {
   "cell_type": "code",
   "execution_count": 9,
   "metadata": {},
   "outputs": [],
   "source": [
    "model.add(layers.MaxPooling2D(2,2))"
   ]
  },
  {
   "cell_type": "code",
   "execution_count": 10,
   "metadata": {},
   "outputs": [],
   "source": [
    "model.add(layers.Conv2D(128, (3,3), activation='relu'))"
   ]
  },
  {
   "cell_type": "code",
   "execution_count": 11,
   "metadata": {},
   "outputs": [],
   "source": [
    "model.add(layers.MaxPooling2D(2,2))"
   ]
  },
  {
   "cell_type": "code",
   "execution_count": 12,
   "metadata": {},
   "outputs": [],
   "source": [
    "model.add(layers.Flatten())"
   ]
  },
  {
   "cell_type": "code",
   "execution_count": 13,
   "metadata": {},
   "outputs": [],
   "source": [
    "model.add(layers.Dense(512, activation='relu'))"
   ]
  },
  {
   "cell_type": "code",
   "execution_count": 14,
   "metadata": {},
   "outputs": [],
   "source": [
    "model.add(layers.Dense(1, activation='sigmoid'))"
   ]
  },
  {
   "cell_type": "code",
   "execution_count": 15,
   "metadata": {},
   "outputs": [
    {
     "name": "stdout",
     "output_type": "stream",
     "text": [
      "Model: \"sequential_1\"\n",
      "_________________________________________________________________\n",
      "Layer (type)                 Output Shape              Param #   \n",
      "=================================================================\n",
      "conv2d_1 (Conv2D)            (None, 148, 148, 32)      896       \n",
      "_________________________________________________________________\n",
      "max_pooling2d_1 (MaxPooling2 (None, 74, 74, 32)        0         \n",
      "_________________________________________________________________\n",
      "conv2d_2 (Conv2D)            (None, 72, 72, 64)        18496     \n",
      "_________________________________________________________________\n",
      "max_pooling2d_2 (MaxPooling2 (None, 36, 36, 64)        0         \n",
      "_________________________________________________________________\n",
      "conv2d_3 (Conv2D)            (None, 34, 34, 128)       73856     \n",
      "_________________________________________________________________\n",
      "max_pooling2d_3 (MaxPooling2 (None, 17, 17, 128)       0         \n",
      "_________________________________________________________________\n",
      "conv2d_4 (Conv2D)            (None, 15, 15, 128)       147584    \n",
      "_________________________________________________________________\n",
      "max_pooling2d_4 (MaxPooling2 (None, 7, 7, 128)         0         \n",
      "_________________________________________________________________\n",
      "flatten_1 (Flatten)          (None, 6272)              0         \n",
      "_________________________________________________________________\n",
      "dense_1 (Dense)              (None, 512)               3211776   \n",
      "_________________________________________________________________\n",
      "dense_2 (Dense)              (None, 1)                 513       \n",
      "=================================================================\n",
      "Total params: 3,453,121\n",
      "Trainable params: 3,453,121\n",
      "Non-trainable params: 0\n",
      "_________________________________________________________________\n"
     ]
    }
   ],
   "source": [
    "model.summary()"
   ]
  },
  {
   "cell_type": "code",
   "execution_count": 16,
   "metadata": {},
   "outputs": [],
   "source": [
    "from keras import optimizers"
   ]
  },
  {
   "cell_type": "code",
   "execution_count": 17,
   "metadata": {},
   "outputs": [],
   "source": [
    "model.compile(loss='binary_crossentropy', optimizer=optimizers.RMSprop(lr=1e-4), metrics=['accuracy'])"
   ]
  },
  {
   "cell_type": "code",
   "execution_count": null,
   "metadata": {},
   "outputs": [],
   "source": []
  },
  {
   "cell_type": "code",
   "execution_count": 18,
   "metadata": {},
   "outputs": [],
   "source": [
    "from keras.preprocessing.image import ImageDataGenerator"
   ]
  },
  {
   "cell_type": "code",
   "execution_count": null,
   "metadata": {},
   "outputs": [],
   "source": [
    "## 데이터 증식하기 "
   ]
  },
  {
   "cell_type": "code",
   "execution_count": 20,
   "metadata": {},
   "outputs": [],
   "source": [
    "train_datagen = ImageDataGenerator(rescale=1./255,\n",
    "                                   rotation_range=20,\n",
    "                                   width_shift_range=0.1,\n",
    "                                   height_shift_range=0.1,\n",
    "                                   shear_range=0.1,\n",
    "                                   zoom_range=0.1,\n",
    "                                   horizontal_flip=True,\n",
    "                                   fill_mode='nearest'\n",
    "                                  )"
   ]
  },
  {
   "cell_type": "code",
   "execution_count": 21,
   "metadata": {},
   "outputs": [],
   "source": [
    "validation_datagen = ImageDataGenerator(rescale=1./255)"
   ]
  },
  {
   "cell_type": "code",
   "execution_count": 22,
   "metadata": {},
   "outputs": [],
   "source": [
    "test_datagen = ImageDataGenerator(rescale=1./255)"
   ]
  },
  {
   "cell_type": "code",
   "execution_count": null,
   "metadata": {},
   "outputs": [],
   "source": []
  },
  {
   "cell_type": "code",
   "execution_count": 23,
   "metadata": {},
   "outputs": [],
   "source": [
    "train_dir = './dataset/small/train'"
   ]
  },
  {
   "cell_type": "code",
   "execution_count": 24,
   "metadata": {},
   "outputs": [
    {
     "name": "stdout",
     "output_type": "stream",
     "text": [
      "Found 2000 images belonging to 2 classes.\n"
     ]
    }
   ],
   "source": [
    "train_generator = train_datagen.flow_from_directory( train_dir, target_size=(150,150), batch_size=20, class_mode='binary')"
   ]
  },
  {
   "cell_type": "code",
   "execution_count": null,
   "metadata": {},
   "outputs": [],
   "source": []
  },
  {
   "cell_type": "code",
   "execution_count": 25,
   "metadata": {},
   "outputs": [
    {
     "name": "stdout",
     "output_type": "stream",
     "text": [
      "(20, 150, 150, 3)\n",
      "(20,)\n"
     ]
    }
   ],
   "source": [
    "for data_batch, label_batch in train_generator :\n",
    "    print(data_batch.shape)\n",
    "    print(label_batch.shape)\n",
    "    break"
   ]
  },
  {
   "cell_type": "code",
   "execution_count": 26,
   "metadata": {},
   "outputs": [],
   "source": [
    "validation_dir = './dataset/small/validation'"
   ]
  },
  {
   "cell_type": "code",
   "execution_count": 27,
   "metadata": {},
   "outputs": [
    {
     "name": "stdout",
     "output_type": "stream",
     "text": [
      "Found 1000 images belonging to 2 classes.\n"
     ]
    }
   ],
   "source": [
    "validation_generator = validation_datagen.flow_from_directory( validation_dir, target_size=(150,150), batch_size=20, class_mode='binary')"
   ]
  },
  {
   "cell_type": "code",
   "execution_count": 28,
   "metadata": {},
   "outputs": [
    {
     "name": "stdout",
     "output_type": "stream",
     "text": [
      "Epoch 1/30\n",
      "100/100 [==============================] - 41s 407ms/step - loss: 0.6941 - accuracy: 0.5155 - val_loss: 0.6861 - val_accuracy: 0.6030\n",
      "Epoch 2/30\n",
      "100/100 [==============================] - 41s 409ms/step - loss: 0.6791 - accuracy: 0.5685 - val_loss: 0.6826 - val_accuracy: 0.6340\n",
      "Epoch 3/30\n",
      "100/100 [==============================] - 44s 438ms/step - loss: 0.6527 - accuracy: 0.6125 - val_loss: 0.6507 - val_accuracy: 0.6310\n",
      "Epoch 4/30\n",
      "100/100 [==============================] - 41s 412ms/step - loss: 0.6161 - accuracy: 0.6605 - val_loss: 0.5723 - val_accuracy: 0.6450\n",
      "Epoch 5/30\n",
      "100/100 [==============================] - 42s 418ms/step - loss: 0.5979 - accuracy: 0.6770 - val_loss: 0.5876 - val_accuracy: 0.6670\n",
      "Epoch 6/30\n",
      "100/100 [==============================] - 41s 408ms/step - loss: 0.5746 - accuracy: 0.6900 - val_loss: 0.6875 - val_accuracy: 0.6820\n",
      "Epoch 7/30\n",
      "100/100 [==============================] - 44s 441ms/step - loss: 0.5684 - accuracy: 0.7010 - val_loss: 0.5239 - val_accuracy: 0.7090\n",
      "Epoch 8/30\n",
      "100/100 [==============================] - 44s 440ms/step - loss: 0.5616 - accuracy: 0.7055 - val_loss: 0.7153 - val_accuracy: 0.7090\n",
      "Epoch 9/30\n",
      "100/100 [==============================] - 44s 440ms/step - loss: 0.5535 - accuracy: 0.7115 - val_loss: 0.6609 - val_accuracy: 0.6920\n",
      "Epoch 10/30\n",
      "100/100 [==============================] - 42s 421ms/step - loss: 0.5317 - accuracy: 0.7405 - val_loss: 0.8725 - val_accuracy: 0.6940\n",
      "Epoch 11/30\n",
      "100/100 [==============================] - 41s 412ms/step - loss: 0.5304 - accuracy: 0.7365 - val_loss: 0.3914 - val_accuracy: 0.7540\n",
      "Epoch 12/30\n",
      "100/100 [==============================] - 44s 436ms/step - loss: 0.5121 - accuracy: 0.7495 - val_loss: 0.4120 - val_accuracy: 0.7490\n",
      "Epoch 13/30\n",
      "100/100 [==============================] - 43s 427ms/step - loss: 0.5101 - accuracy: 0.7470 - val_loss: 0.4353 - val_accuracy: 0.7260\n",
      "Epoch 14/30\n",
      "100/100 [==============================] - 45s 455ms/step - loss: 0.5058 - accuracy: 0.7530 - val_loss: 0.4448 - val_accuracy: 0.7750\n",
      "Epoch 15/30\n",
      "100/100 [==============================] - 45s 455ms/step - loss: 0.4912 - accuracy: 0.7760 - val_loss: 0.5573 - val_accuracy: 0.7240\n",
      "Epoch 16/30\n",
      "100/100 [==============================] - 43s 430ms/step - loss: 0.4825 - accuracy: 0.7645 - val_loss: 0.4792 - val_accuracy: 0.7600\n",
      "Epoch 17/30\n",
      "100/100 [==============================] - 44s 438ms/step - loss: 0.4805 - accuracy: 0.7635 - val_loss: 0.4360 - val_accuracy: 0.7790\n",
      "Epoch 18/30\n",
      "100/100 [==============================] - 45s 452ms/step - loss: 0.4688 - accuracy: 0.7845 - val_loss: 0.6081 - val_accuracy: 0.7670\n",
      "Epoch 19/30\n",
      "100/100 [==============================] - 48s 484ms/step - loss: 0.4637 - accuracy: 0.7815 - val_loss: 0.2569 - val_accuracy: 0.7660\n",
      "Epoch 20/30\n",
      "100/100 [==============================] - 44s 444ms/step - loss: 0.4538 - accuracy: 0.7855 - val_loss: 0.4248 - val_accuracy: 0.7570\n",
      "Epoch 21/30\n",
      "100/100 [==============================] - 43s 432ms/step - loss: 0.4477 - accuracy: 0.7990 - val_loss: 0.4169 - val_accuracy: 0.7690\n",
      "Epoch 22/30\n",
      "100/100 [==============================] - 42s 416ms/step - loss: 0.4480 - accuracy: 0.7870 - val_loss: 0.3698 - val_accuracy: 0.7680\n",
      "Epoch 23/30\n",
      "100/100 [==============================] - 42s 415ms/step - loss: 0.4466 - accuracy: 0.7920 - val_loss: 0.3686 - val_accuracy: 0.7850\n",
      "Epoch 24/30\n",
      "100/100 [==============================] - 42s 419ms/step - loss: 0.4314 - accuracy: 0.7995 - val_loss: 0.2983 - val_accuracy: 0.7840\n",
      "Epoch 25/30\n",
      "100/100 [==============================] - 41s 414ms/step - loss: 0.4329 - accuracy: 0.8035 - val_loss: 0.2971 - val_accuracy: 0.7990\n",
      "Epoch 26/30\n",
      "100/100 [==============================] - 41s 414ms/step - loss: 0.4223 - accuracy: 0.8005 - val_loss: 0.6673 - val_accuracy: 0.7800\n",
      "Epoch 27/30\n",
      "100/100 [==============================] - 41s 414ms/step - loss: 0.4225 - accuracy: 0.8010 - val_loss: 0.3357 - val_accuracy: 0.7980\n",
      "Epoch 28/30\n",
      "100/100 [==============================] - 41s 412ms/step - loss: 0.4166 - accuracy: 0.8065 - val_loss: 0.2635 - val_accuracy: 0.7950\n",
      "Epoch 29/30\n",
      "100/100 [==============================] - 42s 416ms/step - loss: 0.4195 - accuracy: 0.7975 - val_loss: 0.7666 - val_accuracy: 0.7990\n",
      "Epoch 30/30\n",
      "100/100 [==============================] - 41s 414ms/step - loss: 0.4003 - accuracy: 0.8010 - val_loss: 0.6176 - val_accuracy: 0.7850\n"
     ]
    }
   ],
   "source": [
    "history = model.fit_generator(train_generator, steps_per_epoch=100, epochs=30, validation_data = validation_generator, validation_steps=50)"
   ]
  },
  {
   "cell_type": "code",
   "execution_count": null,
   "metadata": {},
   "outputs": [],
   "source": []
  },
  {
   "cell_type": "code",
   "execution_count": 29,
   "metadata": {},
   "outputs": [],
   "source": [
    "import matplotlib.pyplot as plt\n",
    "%matplotlib inline"
   ]
  },
  {
   "cell_type": "code",
   "execution_count": 30,
   "metadata": {},
   "outputs": [],
   "source": [
    "epochs = range(1, len(history.history['accuracy'])+1)"
   ]
  },
  {
   "cell_type": "code",
   "execution_count": 31,
   "metadata": {},
   "outputs": [
    {
     "data": {
      "text/plain": [
       "<matplotlib.legend.Legend at 0x63c4f2b90>"
      ]
     },
     "execution_count": 31,
     "metadata": {},
     "output_type": "execute_result"
    },
    {
     "data": {
      "image/png": "[encoded data removed]",
      "text/plain": [
       "<Figure size 432x288 with 1 Axes>"
      ]
     },
     "metadata": {
      "needs_background": "light"
     },
     "output_type": "display_data"
    }
   ],
   "source": [
    "plt.plot(epochs, history.history['accuracy'], 'bo', label='Training accuracy ')\n",
    "plt.plot(epochs, history.history['val_accuracy'], 'r', label=' Validation accuracy ')\n",
    "plt.title(\" Training adn validation accuracy\")\n",
    "plt.legend()"
   ]
  },
  {
   "cell_type": "code",
   "execution_count": null,
   "metadata": {},
   "outputs": [],
   "source": []
  },
  {
   "cell_type": "code",
   "execution_count": 32,
   "metadata": {},
   "outputs": [
    {
     "data": {
      "text/plain": [
       "<matplotlib.legend.Legend at 0x63c64ed90>"
      ]
     },
     "execution_count": 32,
     "metadata": {},
     "output_type": "execute_result"
    },
    {
     "data": {
      "image/png": "[encoded data removed]",
      "text/plain": [
       "<Figure size 432x288 with 1 Axes>"
      ]
     },
     "metadata": {
      "needs_background": "light"
     },
     "output_type": "display_data"
    }
   ],
   "source": [
    "plt.plot(epochs, history.history['loss'], 'bo', label='Training loss ')\n",
    "plt.plot(epochs, history.history['val_loss'], 'r', label=' Validation loss ')\n",
    "plt.title(\" Training adn validation loss \")\n",
    "plt.legend()"
   ]
  },
  {
   "cell_type": "code",
   "execution_count": null,
   "metadata": {},
   "outputs": [],
   "source": []
  },
  {
   "cell_type": "code",
   "execution_count": null,
   "metadata": {},
   "outputs": [],
   "source": []
  },
  {
   "cell_type": "code",
   "execution_count": 33,
   "metadata": {},
   "outputs": [],
   "source": [
    "test_dir = './dataset/small/test'"
   ]
  },
  {
   "cell_type": "code",
   "execution_count": 34,
   "metadata": {},
   "outputs": [
    {
     "name": "stdout",
     "output_type": "stream",
     "text": [
      "Found 1000 images belonging to 2 classes.\n"
     ]
    }
   ],
   "source": [
    "test_generator = test_datagen.flow_from_directory( test_dir, target_size=(150,150), batch_size=20, class_mode='binary')"
   ]
  },
  {
   "cell_type": "code",
   "execution_count": null,
   "metadata": {},
   "outputs": [],
   "source": []
  },
  {
   "cell_type": "code",
   "execution_count": 35,
   "metadata": {},
   "outputs": [
    {
     "data": {
      "text/plain": [
       "[0.5800288915634155, 0.7649999856948853]"
      ]
     },
     "execution_count": 35,
     "metadata": {},
     "output_type": "execute_result"
    }
   ],
   "source": [
    "model.evaluate_generator(test_generator)"
   ]
  },
  {
   "cell_type": "code",
   "execution_count": null,
   "metadata": {},
   "outputs": [],
   "source": []
  },
  {
   "cell_type": "code",
   "execution_count": null,
   "metadata": {},
   "outputs": [],
   "source": []
  }
 ],
 "metadata": {
  "kernelspec": {
   "display_name": "Python 3",
   "language": "python",
   "name": "python3"
  },
  "language_info": {
   "codemirror_mode": {
    "name": "ipython",
    "version": 3
   },
   "file_extension": ".py",
   "mimetype": "text/x-python",
   "name": "python",
   "nbconvert_exporter": "python",
   "pygments_lexer": "ipython3",
   "version": "3.7.4"
  }
 },
 "nbformat": 4,
 "nbformat_minor": 2
}
