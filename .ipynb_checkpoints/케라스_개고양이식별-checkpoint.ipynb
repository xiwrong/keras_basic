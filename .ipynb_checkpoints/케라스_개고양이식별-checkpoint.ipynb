{
 "cells": [
  {
   "cell_type": "code",
   "execution_count": 1,
   "metadata": {},
   "outputs": [
    {
     "name": "stderr",
     "output_type": "stream",
     "text": [
      "Using TensorFlow backend.\n"
     ]
    }
   ],
   "source": [
    "import keras"
   ]
  },
  {
   "cell_type": "code",
   "execution_count": 2,
   "metadata": {},
   "outputs": [],
   "source": [
    "from keras import layers\n",
    "from keras import models"
   ]
  },
  {
   "cell_type": "code",
   "execution_count": 3,
   "metadata": {},
   "outputs": [],
   "source": [
    "model = models.Sequential()"
   ]
  },
  {
   "cell_type": "code",
   "execution_count": 4,
   "metadata": {},
   "outputs": [],
   "source": [
    "model.add(layers.Conv2D(32, (3,3), activation='relu', input_shape=(150,150,3)))"
   ]
  },
  {
   "cell_type": "code",
   "execution_count": 5,
   "metadata": {},
   "outputs": [],
   "source": [
    "model.add(layers.MaxPooling2D(2,2))"
   ]
  },
  {
   "cell_type": "code",
   "execution_count": 6,
   "metadata": {},
   "outputs": [],
   "source": [
    "model.add(layers.Conv2D(64, (3,3), activation='relu'))"
   ]
  },
  {
   "cell_type": "code",
   "execution_count": 7,
   "metadata": {},
   "outputs": [],
   "source": [
    "model.add(layers.MaxPooling2D(2,2))"
   ]
  },
  {
   "cell_type": "code",
   "execution_count": 8,
   "metadata": {},
   "outputs": [],
   "source": [
    "model.add(layers.Conv2D(128, (3,3), activation='relu'))"
   ]
  },
  {
   "cell_type": "code",
   "execution_count": 9,
   "metadata": {},
   "outputs": [],
   "source": [
    "model.add(layers.MaxPooling2D(2,2))"
   ]
  },
  {
   "cell_type": "code",
   "execution_count": 10,
   "metadata": {},
   "outputs": [],
   "source": [
    "model.add(layers.Conv2D(128, (3,3), activation='relu'))"
   ]
  },
  {
   "cell_type": "code",
   "execution_count": 11,
   "metadata": {},
   "outputs": [],
   "source": [
    "model.add(layers.MaxPooling2D(2,2))"
   ]
  },
  {
   "cell_type": "code",
   "execution_count": 12,
   "metadata": {},
   "outputs": [],
   "source": [
    "model.add(layers.Flatten())"
   ]
  },
  {
   "cell_type": "code",
   "execution_count": 13,
   "metadata": {},
   "outputs": [],
   "source": [
    "model.add(layers.Dense(512, activation='relu'))"
   ]
  },
  {
   "cell_type": "code",
   "execution_count": 14,
   "metadata": {},
   "outputs": [],
   "source": [
    "model.add(layers.Dense(1, activation='sigmoid'))"
   ]
  },
  {
   "cell_type": "code",
   "execution_count": 15,
   "metadata": {},
   "outputs": [
    {
     "name": "stdout",
     "output_type": "stream",
     "text": [
      "Model: \"sequential_1\"\n",
      "_________________________________________________________________\n",
      "Layer (type)                 Output Shape              Param #   \n",
      "=================================================================\n",
      "conv2d_1 (Conv2D)            (None, 148, 148, 32)      896       \n",
      "_________________________________________________________________\n",
      "max_pooling2d_1 (MaxPooling2 (None, 74, 74, 32)        0         \n",
      "_________________________________________________________________\n",
      "conv2d_2 (Conv2D)            (None, 72, 72, 64)        18496     \n",
      "_________________________________________________________________\n",
      "max_pooling2d_2 (MaxPooling2 (None, 36, 36, 64)        0         \n",
      "_________________________________________________________________\n",
      "conv2d_3 (Conv2D)            (None, 34, 34, 128)       73856     \n",
      "_________________________________________________________________\n",
      "max_pooling2d_3 (MaxPooling2 (None, 17, 17, 128)       0         \n",
      "_________________________________________________________________\n",
      "conv2d_4 (Conv2D)            (None, 15, 15, 128)       147584    \n",
      "_________________________________________________________________\n",
      "max_pooling2d_4 (MaxPooling2 (None, 7, 7, 128)         0         \n",
      "_________________________________________________________________\n",
      "flatten_1 (Flatten)          (None, 6272)              0         \n",
      "_________________________________________________________________\n",
      "dense_1 (Dense)              (None, 512)               3211776   \n",
      "_________________________________________________________________\n",
      "dense_2 (Dense)              (None, 1)                 513       \n",
      "=================================================================\n",
      "Total params: 3,453,121\n",
      "Trainable params: 3,453,121\n",
      "Non-trainable params: 0\n",
      "_________________________________________________________________\n"
     ]
    }
   ],
   "source": [
    "model.summary()"
   ]
  },
  {
   "cell_type": "code",
   "execution_count": 16,
   "metadata": {},
   "outputs": [],
   "source": [
    "from keras import optimizers"
   ]
  },
  {
   "cell_type": "code",
   "execution_count": 17,
   "metadata": {},
   "outputs": [],
   "source": [
    "model.compile(loss='binary_crossentropy', optimizer=optimizers.RMSprop(lr=1e-4), metrics=['accuracy'])"
   ]
  },
  {
   "cell_type": "code",
   "execution_count": null,
   "metadata": {},
   "outputs": [],
   "source": []
  },
  {
   "cell_type": "code",
   "execution_count": 18,
   "metadata": {},
   "outputs": [],
   "source": [
    "from keras.preprocessing.image import ImageDataGenerator"
   ]
  },
  {
   "cell_type": "code",
   "execution_count": 25,
   "metadata": {},
   "outputs": [],
   "source": [
    "train_datagen = ImageDataGenerator(rescale=1./255)"
   ]
  },
  {
   "cell_type": "code",
   "execution_count": 22,
   "metadata": {},
   "outputs": [],
   "source": [
    "validation_datagen = ImageDataGenerator(rescale=1./255)"
   ]
  },
  {
   "cell_type": "code",
   "execution_count": 23,
   "metadata": {},
   "outputs": [],
   "source": [
    "test_datagen = ImageDataGenerator(rescale=1./255)"
   ]
  },
  {
   "cell_type": "code",
   "execution_count": null,
   "metadata": {},
   "outputs": [],
   "source": []
  },
  {
   "cell_type": "code",
   "execution_count": 19,
   "metadata": {},
   "outputs": [],
   "source": [
    "train_dir = './dataset/small/train'"
   ]
  },
  {
   "cell_type": "code",
   "execution_count": 26,
   "metadata": {},
   "outputs": [
    {
     "name": "stdout",
     "output_type": "stream",
     "text": [
      "Found 2000 images belonging to 2 classes.\n"
     ]
    }
   ],
   "source": [
    "train_generator = train_datagen.flow_from_directory( train_dir, target_size=(150,150), batch_size=20, class_mode='binary')"
   ]
  },
  {
   "cell_type": "code",
   "execution_count": null,
   "metadata": {},
   "outputs": [],
   "source": []
  },
  {
   "cell_type": "code",
   "execution_count": 30,
   "metadata": {},
   "outputs": [
    {
     "name": "stdout",
     "output_type": "stream",
     "text": [
      "(20, 150, 150, 3)\n",
      "(20,)\n"
     ]
    }
   ],
   "source": [
    "for data_batch, label_batch in train_generator :\n",
    "    print(data_batch.shape)\n",
    "    print(label_batch.shape)\n",
    "    break"
   ]
  },
  {
   "cell_type": "code",
   "execution_count": 20,
   "metadata": {},
   "outputs": [],
   "source": [
    "validation_dir = './dataset/small/validation'"
   ]
  },
  {
   "cell_type": "code",
   "execution_count": 27,
   "metadata": {},
   "outputs": [
    {
     "name": "stdout",
     "output_type": "stream",
     "text": [
      "Found 1000 images belonging to 2 classes.\n"
     ]
    }
   ],
   "source": [
    "validation_generator = validation_datagen.flow_from_directory( validation_dir, target_size=(150,150), batch_size=20, class_mode='binary')"
   ]
  },
  {
   "cell_type": "code",
   "execution_count": 32,
   "metadata": {},
   "outputs": [
    {
     "name": "stdout",
     "output_type": "stream",
     "text": [
      "Epoch 1/30\n",
      "100/100 [==============================] - 39s 393ms/step - loss: 0.6893 - accuracy: 0.5305 - val_loss: 0.7319 - val_accuracy: 0.5020\n",
      "Epoch 2/30\n",
      "100/100 [==============================] - 43s 429ms/step - loss: 0.6488 - accuracy: 0.6230 - val_loss: 0.7498 - val_accuracy: 0.5980\n",
      "Epoch 3/30\n",
      "100/100 [==============================] - 42s 425ms/step - loss: 0.5977 - accuracy: 0.6870 - val_loss: 0.6714 - val_accuracy: 0.6740\n",
      "Epoch 4/30\n",
      "100/100 [==============================] - 43s 428ms/step - loss: 0.5676 - accuracy: 0.7035 - val_loss: 0.4855 - val_accuracy: 0.6730\n",
      "Epoch 5/30\n",
      "100/100 [==============================] - 41s 411ms/step - loss: 0.5326 - accuracy: 0.7240 - val_loss: 0.6415 - val_accuracy: 0.6770\n",
      "Epoch 6/30\n",
      "100/100 [==============================] - 41s 410ms/step - loss: 0.4992 - accuracy: 0.7575 - val_loss: 0.7050 - val_accuracy: 0.7010\n",
      "Epoch 7/30\n",
      "100/100 [==============================] - 41s 408ms/step - loss: 0.4760 - accuracy: 0.7630 - val_loss: 0.5821 - val_accuracy: 0.7110\n",
      "Epoch 8/30\n",
      "100/100 [==============================] - 41s 413ms/step - loss: 0.4478 - accuracy: 0.7850 - val_loss: 0.5136 - val_accuracy: 0.7140\n",
      "Epoch 9/30\n",
      "100/100 [==============================] - 41s 414ms/step - loss: 0.4243 - accuracy: 0.8060 - val_loss: 0.4601 - val_accuracy: 0.7140\n",
      "Epoch 10/30\n",
      "100/100 [==============================] - 41s 414ms/step - loss: 0.4013 - accuracy: 0.8200 - val_loss: 0.7825 - val_accuracy: 0.7240\n",
      "Epoch 11/30\n",
      "100/100 [==============================] - 41s 410ms/step - loss: 0.3805 - accuracy: 0.8310 - val_loss: 0.8039 - val_accuracy: 0.7270\n",
      "Epoch 12/30\n",
      "100/100 [==============================] - 41s 410ms/step - loss: 0.3524 - accuracy: 0.8455 - val_loss: 0.3421 - val_accuracy: 0.7300\n",
      "Epoch 13/30\n",
      "100/100 [==============================] - 41s 410ms/step - loss: 0.3265 - accuracy: 0.8605 - val_loss: 0.2672 - val_accuracy: 0.7450\n",
      "Epoch 14/30\n",
      "100/100 [==============================] - 45s 445ms/step - loss: 0.3104 - accuracy: 0.8700 - val_loss: 0.5715 - val_accuracy: 0.7320\n",
      "Epoch 15/30\n",
      "100/100 [==============================] - 45s 449ms/step - loss: 0.2901 - accuracy: 0.8805 - val_loss: 0.2382 - val_accuracy: 0.7210\n",
      "Epoch 16/30\n",
      "100/100 [==============================] - 44s 443ms/step - loss: 0.2715 - accuracy: 0.8870 - val_loss: 0.8749 - val_accuracy: 0.7250\n",
      "Epoch 17/30\n",
      "100/100 [==============================] - 44s 443ms/step - loss: 0.2504 - accuracy: 0.9010 - val_loss: 0.5773 - val_accuracy: 0.7240\n",
      "Epoch 18/30\n",
      "100/100 [==============================] - 43s 435ms/step - loss: 0.2245 - accuracy: 0.9115 - val_loss: 0.7752 - val_accuracy: 0.7070\n",
      "Epoch 19/30\n",
      "100/100 [==============================] - 46s 458ms/step - loss: 0.2069 - accuracy: 0.9265 - val_loss: 0.3518 - val_accuracy: 0.7350\n",
      "Epoch 20/30\n",
      "100/100 [==============================] - 43s 428ms/step - loss: 0.1836 - accuracy: 0.9335 - val_loss: 1.1217 - val_accuracy: 0.7070\n",
      "Epoch 21/30\n",
      "100/100 [==============================] - 44s 438ms/step - loss: 0.1704 - accuracy: 0.9375 - val_loss: 0.8863 - val_accuracy: 0.7520\n",
      "Epoch 22/30\n",
      "100/100 [==============================] - 41s 407ms/step - loss: 0.1576 - accuracy: 0.9400 - val_loss: 1.0736 - val_accuracy: 0.7450\n",
      "Epoch 23/30\n",
      "100/100 [==============================] - 42s 416ms/step - loss: 0.1343 - accuracy: 0.9550 - val_loss: 0.4094 - val_accuracy: 0.7310\n",
      "Epoch 24/30\n",
      "100/100 [==============================] - 44s 440ms/step - loss: 0.1273 - accuracy: 0.9510 - val_loss: 0.5725 - val_accuracy: 0.7340\n",
      "Epoch 25/30\n",
      "100/100 [==============================] - 45s 450ms/step - loss: 0.1111 - accuracy: 0.9625 - val_loss: 0.6736 - val_accuracy: 0.7180\n",
      "Epoch 26/30\n",
      "100/100 [==============================] - 43s 431ms/step - loss: 0.1017 - accuracy: 0.9645 - val_loss: 0.8951 - val_accuracy: 0.7290\n",
      "Epoch 27/30\n",
      "100/100 [==============================] - 42s 421ms/step - loss: 0.0786 - accuracy: 0.9755 - val_loss: 0.2383 - val_accuracy: 0.7310\n",
      "Epoch 28/30\n",
      "100/100 [==============================] - 45s 447ms/step - loss: 0.0707 - accuracy: 0.9815 - val_loss: 0.9835 - val_accuracy: 0.7250\n",
      "Epoch 29/30\n",
      "100/100 [==============================] - 43s 427ms/step - loss: 0.0613 - accuracy: 0.9825 - val_loss: 1.3569 - val_accuracy: 0.7220\n",
      "Epoch 30/30\n",
      "100/100 [==============================] - 42s 423ms/step - loss: 0.0589 - accuracy: 0.9850 - val_loss: 0.4292 - val_accuracy: 0.7300\n"
     ]
    }
   ],
   "source": [
    "history = model.fit_generator(train_generator, steps_per_epoch=100, epochs=30, validation_data = validation_generator, validation_steps=50)"
   ]
  },
  {
   "cell_type": "code",
   "execution_count": null,
   "metadata": {},
   "outputs": [],
   "source": []
  },
  {
   "cell_type": "code",
   "execution_count": 33,
   "metadata": {},
   "outputs": [],
   "source": [
    "import matplotlib.pyplot as plt\n",
    "%matplotlib inline"
   ]
  },
  {
   "cell_type": "code",
   "execution_count": 36,
   "metadata": {},
   "outputs": [],
   "source": [
    "epochs = range(1, len(history.history['accuracy'])+1)"
   ]
  },
  {
   "cell_type": "code",
   "execution_count": 37,
   "metadata": {},
   "outputs": [
    {
     "data": {
      "text/plain": [
       "<matplotlib.legend.Legend at 0x638610810>"
      ]
     },
     "execution_count": 37,
     "metadata": {},
     "output_type": "execute_result"
    },
    {
     "data": {
      "image/png": "[encoded data removed]",
      "text/plain": [
       "<Figure size 432x288 with 1 Axes>"
      ]
     },
     "metadata": {
      "needs_background": "light"
     },
     "output_type": "display_data"
    }
   ],
   "source": [
    "plt.plot(epochs, history.history['accuracy'], 'bo', label='Training accuracy ')\n",
    "plt.plot(epochs, history.history['val_accuracy'], 'r', label=' Validation accuracy ')\n",
    "plt.title(\" Training adn validation accuracy\")\n",
    "plt.legend()"
   ]
  },
  {
   "cell_type": "code",
   "execution_count": null,
   "metadata": {},
   "outputs": [],
   "source": []
  },
  {
   "cell_type": "code",
   "execution_count": 38,
   "metadata": {},
   "outputs": [
    {
     "data": {
      "text/plain": [
       "<matplotlib.legend.Legend at 0x6386cb4d0>"
      ]
     },
     "execution_count": 38,
     "metadata": {},
     "output_type": "execute_result"
    },
    {
     "data": {
      "image/png": "[encoded data removed]",
      "text/plain": [
       "<Figure size 432x288 with 1 Axes>"
      ]
     },
     "metadata": {
      "needs_background": "light"
     },
     "output_type": "display_data"
    }
   ],
   "source": [
    "plt.plot(epochs, history.history['loss'], 'bo', label='Training loss ')\n",
    "plt.plot(epochs, history.history['val_loss'], 'r', label=' Validation loss ')\n",
    "plt.title(\" Training adn validation loss \")\n",
    "plt.legend()"
   ]
  },
  {
   "cell_type": "code",
   "execution_count": null,
   "metadata": {},
   "outputs": [],
   "source": []
  },
  {
   "cell_type": "code",
   "execution_count": null,
   "metadata": {},
   "outputs": [],
   "source": []
  },
  {
   "cell_type": "code",
   "execution_count": 21,
   "metadata": {},
   "outputs": [],
   "source": [
    "test_dir = './dataset/small/test'"
   ]
  },
  {
   "cell_type": "code",
   "execution_count": 28,
   "metadata": {},
   "outputs": [
    {
     "name": "stdout",
     "output_type": "stream",
     "text": [
      "Found 1000 images belonging to 2 classes.\n"
     ]
    }
   ],
   "source": [
    "test_generator = test_datagen.flow_from_directory( test_dir, target_size=(150,150), batch_size=20, class_mode='binary')"
   ]
  },
  {
   "cell_type": "code",
   "execution_count": null,
   "metadata": {},
   "outputs": [],
   "source": []
  },
  {
   "cell_type": "code",
   "execution_count": 40,
   "metadata": {},
   "outputs": [
    {
     "data": {
      "text/plain": [
       "[0.338645875453949, 0.7400000095367432]"
      ]
     },
     "execution_count": 40,
     "metadata": {},
     "output_type": "execute_result"
    }
   ],
   "source": [
    "model.evaluate_generator(test_generator)"
   ]
  },
  {
   "cell_type": "code",
   "execution_count": null,
   "metadata": {},
   "outputs": [],
   "source": []
  },
  {
   "cell_type": "code",
   "execution_count": null,
   "metadata": {},
   "outputs": [],
   "source": []
  }
 ],
 "metadata": {
  "kernelspec": {
   "display_name": "Python 3",
   "language": "python",
   "name": "python3"
  },
  "language_info": {
   "codemirror_mode": {
    "name": "ipython",
    "version": 3
   },
   "file_extension": ".py",
   "mimetype": "text/x-python",
   "name": "python",
   "nbconvert_exporter": "python",
   "pygments_lexer": "ipython3",
   "version": "3.7.4"
  }
 },
 "nbformat": 4,
 "nbformat_minor": 2
}
