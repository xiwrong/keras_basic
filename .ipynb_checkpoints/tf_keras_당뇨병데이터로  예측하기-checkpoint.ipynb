{
 "cells": [
  {
   "cell_type": "code",
   "execution_count": 3,
   "metadata": {},
   "outputs": [
    {
     "name": "stderr",
     "output_type": "stream",
     "text": [
      "Using TensorFlow backend.\n"
     ]
    }
   ],
   "source": [
    "from numpy import loadtxt\n",
    "from keras.models import Sequential\n",
    "from keras.layers import Dense"
   ]
  },
  {
   "cell_type": "markdown",
   "metadata": {},
   "source": [
    "# 데이터 세트 설명 \n",
    "\n",
    "1. Title: Pima Indians Diabetes Database\n",
    "\n",
    "2. Sources:\n",
    "   (a) Original owners: National Institute of Diabetes and Digestive and\n",
    "                        Kidney Diseases\n",
    "   (b) Donor of database: Vincent Sigillito (vgs@aplcen.apl.jhu.edu)\n",
    "                          Research Center, RMI Group Leader\n",
    "                          Applied Physics Laboratory\n",
    "                          The Johns Hopkins University\n",
    "                          Johns Hopkins Road\n",
    "                          Laurel, MD 20707\n",
    "                          (301) 953-6231\n",
    "   (c) Date received: 9 May 1990\n",
    "\n",
    "3. Past Usage:\n",
    "    1. Smith,~J.~W., Everhart,~J.~E., Dickson,~W.~C., Knowler,~W.~C., \\&\n",
    "       Johannes,~R.~S. (1988). Using the ADAP learning algorithm to forecast\n",
    "       the onset of diabetes mellitus.  In {\\it Proceedings of the Symposium\n",
    "       on Computer Applications and Medical Care} (pp. 261--265).  IEEE\n",
    "       Computer Society Press.\n",
    "\n",
    "       The diagnostic, binary-valued variable investigated is whether the\n",
    "       patient shows signs of diabetes according to World Health Organization\n",
    "       criteria (i.e., if the 2 hour post-load plasma glucose was at least \n",
    "       200 mg/dl at any survey  examination or if found during routine medical\n",
    "       care).   The population lives near Phoenix, Arizona, USA.\n",
    "\n",
    "       Results: Their ADAP algorithm makes a real-valued prediction between\n",
    "       0 and 1.  This was transformed into a binary decision using a cutoff of \n",
    "       0.448.  Using 576 training instances, the sensitivity and specificity\n",
    "       of their algorithm was 76% on the remaining 192 instances.\n",
    "\n",
    "4. Relevant Information:\n",
    "      Several constraints were placed on the selection of these instances from\n",
    "      a larger database.  In particular, all patients here are females at\n",
    "      least 21 years old of Pima Indian heritage.  ADAP is an adaptive learning\n",
    "      routine that generates and executes digital analogs of perceptron-like\n",
    "      devices.  It is a unique algorithm; see the paper for details.\n",
    "\n",
    "5. Number of Instances: 768\n",
    "\n",
    "6. Number of Attributes: 8 plus class \n",
    "\n",
    "7. For Each Attribute: (all numeric-valued)\n",
    "   1. Number of times pregnant\n",
    "   2. Plasma glucose concentration a 2 hours in an oral glucose tolerance test\n",
    "   3. Diastolic blood pressure (mm Hg)\n",
    "   4. Triceps skin fold thickness (mm)\n",
    "   5. 2-Hour serum insulin (mu U/ml)\n",
    "   6. Body mass index (weight in kg/(height in m)^2)\n",
    "   7. Diabetes pedigree function\n",
    "   8. Age (years)\n",
    "   9. Class variable (0 or 1)\n",
    "\n",
    "8. Missing Attribute Values: Yes\n",
    "\n",
    "9. Class Distribution: (class value 1 is interpreted as \"tested positive for\n",
    "   diabetes\")\n",
    "\n",
    "   Class Value  Number of instances\n",
    "   0            500\n",
    "   1            268\n",
    "\n",
    "10. Brief statistical analysis:\n",
    "\n",
    "    Attribute number:    Mean:   Standard Deviation:\n",
    "    1.                     3.8     3.4\n",
    "    2.                   120.9    32.0\n",
    "    3.                    69.1    19.4\n",
    "    4.                    20.5    16.0\n",
    "    5.                    79.8   115.2\n",
    "    6.                    32.0     7.9\n",
    "    7.                     0.5     0.3\n",
    "    8.                    33.2    11.8\n"
   ]
  },
  {
   "cell_type": "markdown",
   "metadata": {},
   "source": [
    "# 1.  csv 파일 읽어오기"
   ]
  },
  {
   "cell_type": "code",
   "execution_count": 15,
   "metadata": {},
   "outputs": [],
   "source": [
    "dataset = loadtxt('pima-indians-diabetes.csv', delimiter=',')\n"
   ]
  },
  {
   "cell_type": "code",
   "execution_count": 17,
   "metadata": {},
   "outputs": [
    {
     "data": {
      "text/plain": [
       "(768, 9)"
      ]
     },
     "execution_count": 17,
     "metadata": {},
     "output_type": "execute_result"
    }
   ],
   "source": [
    "dataset.shape"
   ]
  },
  {
   "cell_type": "code",
   "execution_count": 23,
   "metadata": {},
   "outputs": [
    {
     "data": {
      "text/plain": [
       "614.4"
      ]
     },
     "execution_count": 23,
     "metadata": {},
     "output_type": "execute_result"
    }
   ],
   "source": [
    "768 - (768 * 0.2)"
   ]
  },
  {
   "cell_type": "markdown",
   "metadata": {},
   "source": [
    "# 2. 데이터 전처리"
   ]
  },
  {
   "cell_type": "markdown",
   "metadata": {},
   "source": [
    "## 학습 데이터 "
   ]
  },
  {
   "cell_type": "code",
   "execution_count": 24,
   "metadata": {},
   "outputs": [],
   "source": [
    "# split into input (X) and output (y) variables\n",
    "X_train = dataset[:615,0:8]\n",
    "y_train = dataset[:615,8]"
   ]
  },
  {
   "cell_type": "markdown",
   "metadata": {},
   "source": [
    "## 테스트 데이터"
   ]
  },
  {
   "cell_type": "code",
   "execution_count": 25,
   "metadata": {},
   "outputs": [],
   "source": [
    "X_test = dataset[615: ,0:8]\n",
    "y_test = dataset[615:,8]"
   ]
  },
  {
   "cell_type": "code",
   "execution_count": 21,
   "metadata": {},
   "outputs": [
    {
     "data": {
      "text/plain": [
       "array([1., 0., 1., 0., 1., 0., 1., 0., 1., 1.])"
      ]
     },
     "execution_count": 21,
     "metadata": {},
     "output_type": "execute_result"
    }
   ],
   "source": [
    "y[:10]"
   ]
  },
  {
   "cell_type": "code",
   "execution_count": null,
   "metadata": {},
   "outputs": [],
   "source": []
  },
  {
   "cell_type": "markdown",
   "metadata": {},
   "source": [
    "# 3.  모델 및 레이어 만들기"
   ]
  },
  {
   "cell_type": "code",
   "execution_count": 6,
   "metadata": {},
   "outputs": [],
   "source": [
    "model = Sequential()\n",
    "model.add(Dense(12, input_dim=8, activation='relu'))\n",
    "model.add(Dense(8, activation='relu'))\n",
    "model.add(Dense(1, activation='sigmoid'))"
   ]
  },
  {
   "cell_type": "code",
   "execution_count": null,
   "metadata": {},
   "outputs": [],
   "source": []
  },
  {
   "cell_type": "markdown",
   "metadata": {},
   "source": [
    "# 4. 모델 훈련하기 "
   ]
  },
  {
   "cell_type": "markdown",
   "metadata": {},
   "source": [
    "## 모델 컴파일하기"
   ]
  },
  {
   "cell_type": "code",
   "execution_count": 7,
   "metadata": {},
   "outputs": [],
   "source": [
    "# compile the keras model\n",
    "model.compile(loss='binary_crossentropy', optimizer='adam', metrics=['accuracy'])"
   ]
  },
  {
   "cell_type": "markdown",
   "metadata": {},
   "source": [
    "## 훈련하기 \n",
    "\n",
    "  -   Epoch: One pass through all of the rows in the training dataset.\n",
    "  -  Batch: One or more samples considered by the model within an epoch before weights are updated."
   ]
  },
  {
   "cell_type": "code",
   "execution_count": 41,
   "metadata": {},
   "outputs": [
    {
     "name": "stdout",
     "output_type": "stream",
     "text": [
      "Epoch 1/150\n",
      "615/615 [==============================] - 0s 62us/step - loss: 0.4389 - accuracy: 0.7935\n",
      "Epoch 2/150\n",
      "615/615 [==============================] - 0s 63us/step - loss: 0.4399 - accuracy: 0.7967\n",
      "Epoch 3/150\n",
      "615/615 [==============================] - 0s 60us/step - loss: 0.4919 - accuracy: 0.7707\n",
      "Epoch 4/150\n",
      "615/615 [==============================] - 0s 58us/step - loss: 0.4391 - accuracy: 0.8000\n",
      "Epoch 5/150\n",
      "615/615 [==============================] - 0s 58us/step - loss: 0.4457 - accuracy: 0.7756\n",
      "Epoch 6/150\n",
      "615/615 [==============================] - 0s 57us/step - loss: 0.4432 - accuracy: 0.7919\n",
      "Epoch 7/150\n",
      "615/615 [==============================] - 0s 60us/step - loss: 0.4376 - accuracy: 0.8098\n",
      "Epoch 8/150\n",
      "615/615 [==============================] - 0s 57us/step - loss: 0.4369 - accuracy: 0.8065\n",
      "Epoch 9/150\n",
      "615/615 [==============================] - 0s 58us/step - loss: 0.4326 - accuracy: 0.7886\n",
      "Epoch 10/150\n",
      "615/615 [==============================] - 0s 57us/step - loss: 0.4448 - accuracy: 0.7805\n",
      "Epoch 11/150\n",
      "615/615 [==============================] - 0s 57us/step - loss: 0.4477 - accuracy: 0.7756\n",
      "Epoch 12/150\n",
      "615/615 [==============================] - 0s 57us/step - loss: 0.4427 - accuracy: 0.8033\n",
      "Epoch 13/150\n",
      "615/615 [==============================] - 0s 55us/step - loss: 0.4266 - accuracy: 0.7919\n",
      "Epoch 14/150\n",
      "615/615 [==============================] - 0s 55us/step - loss: 0.4413 - accuracy: 0.7984\n",
      "Epoch 15/150\n",
      "615/615 [==============================] - 0s 55us/step - loss: 0.4454 - accuracy: 0.7789\n",
      "Epoch 16/150\n",
      "615/615 [==============================] - 0s 55us/step - loss: 0.4519 - accuracy: 0.7984\n",
      "Epoch 17/150\n",
      "615/615 [==============================] - 0s 57us/step - loss: 0.4521 - accuracy: 0.7951\n",
      "Epoch 18/150\n",
      "615/615 [==============================] - 0s 55us/step - loss: 0.4816 - accuracy: 0.7610\n",
      "Epoch 19/150\n",
      "615/615 [==============================] - 0s 55us/step - loss: 0.4256 - accuracy: 0.8000\n",
      "Epoch 20/150\n",
      "615/615 [==============================] - 0s 55us/step - loss: 0.4597 - accuracy: 0.7886\n",
      "Epoch 21/150\n",
      "615/615 [==============================] - 0s 57us/step - loss: 0.4400 - accuracy: 0.8016\n",
      "Epoch 22/150\n",
      "615/615 [==============================] - 0s 57us/step - loss: 0.4571 - accuracy: 0.7886\n",
      "Epoch 23/150\n",
      "615/615 [==============================] - 0s 55us/step - loss: 0.4625 - accuracy: 0.7837\n",
      "Epoch 24/150\n",
      "615/615 [==============================] - 0s 57us/step - loss: 0.4328 - accuracy: 0.7951\n",
      "Epoch 25/150\n",
      "615/615 [==============================] - 0s 57us/step - loss: 0.4490 - accuracy: 0.7919\n",
      "Epoch 26/150\n",
      "615/615 [==============================] - 0s 58us/step - loss: 0.4318 - accuracy: 0.7951\n",
      "Epoch 27/150\n",
      "615/615 [==============================] - 0s 57us/step - loss: 0.4357 - accuracy: 0.7902\n",
      "Epoch 28/150\n",
      "615/615 [==============================] - 0s 57us/step - loss: 0.4472 - accuracy: 0.7740\n",
      "Epoch 29/150\n",
      "615/615 [==============================] - 0s 58us/step - loss: 0.4372 - accuracy: 0.7805\n",
      "Epoch 30/150\n",
      "615/615 [==============================] - 0s 57us/step - loss: 0.4392 - accuracy: 0.7902\n",
      "Epoch 31/150\n",
      "615/615 [==============================] - 0s 58us/step - loss: 0.4387 - accuracy: 0.7886\n",
      "Epoch 32/150\n",
      "615/615 [==============================] - 0s 57us/step - loss: 0.4278 - accuracy: 0.7886\n",
      "Epoch 33/150\n",
      "615/615 [==============================] - 0s 57us/step - loss: 0.4492 - accuracy: 0.7967\n",
      "Epoch 34/150\n",
      "615/615 [==============================] - 0s 57us/step - loss: 0.4384 - accuracy: 0.7886\n",
      "Epoch 35/150\n",
      "615/615 [==============================] - 0s 58us/step - loss: 0.4412 - accuracy: 0.7967\n",
      "Epoch 36/150\n",
      "615/615 [==============================] - 0s 58us/step - loss: 0.4648 - accuracy: 0.7886\n",
      "Epoch 37/150\n",
      "615/615 [==============================] - 0s 57us/step - loss: 0.4264 - accuracy: 0.7984\n",
      "Epoch 38/150\n",
      "615/615 [==============================] - 0s 57us/step - loss: 0.4339 - accuracy: 0.8049\n",
      "Epoch 39/150\n",
      "615/615 [==============================] - 0s 57us/step - loss: 0.4289 - accuracy: 0.8033\n",
      "Epoch 40/150\n",
      "615/615 [==============================] - 0s 57us/step - loss: 0.4981 - accuracy: 0.7480\n",
      "Epoch 41/150\n",
      "615/615 [==============================] - 0s 57us/step - loss: 0.4809 - accuracy: 0.7740\n",
      "Epoch 42/150\n",
      "615/615 [==============================] - 0s 57us/step - loss: 0.4348 - accuracy: 0.7984\n",
      "Epoch 43/150\n",
      "615/615 [==============================] - 0s 55us/step - loss: 0.4388 - accuracy: 0.7789\n",
      "Epoch 44/150\n",
      "615/615 [==============================] - 0s 57us/step - loss: 0.4360 - accuracy: 0.8016\n",
      "Epoch 45/150\n",
      "615/615 [==============================] - 0s 57us/step - loss: 0.4457 - accuracy: 0.7837\n",
      "Epoch 46/150\n",
      "615/615 [==============================] - 0s 57us/step - loss: 0.4302 - accuracy: 0.7870\n",
      "Epoch 47/150\n",
      "615/615 [==============================] - 0s 57us/step - loss: 0.4288 - accuracy: 0.7935\n",
      "Epoch 48/150\n",
      "615/615 [==============================] - 0s 58us/step - loss: 0.4415 - accuracy: 0.7870\n",
      "Epoch 49/150\n",
      "615/615 [==============================] - 0s 57us/step - loss: 0.4337 - accuracy: 0.7984\n",
      "Epoch 50/150\n",
      "615/615 [==============================] - 0s 58us/step - loss: 0.4215 - accuracy: 0.8000\n",
      "Epoch 51/150\n",
      "615/615 [==============================] - 0s 57us/step - loss: 0.4559 - accuracy: 0.7919\n",
      "Epoch 52/150\n",
      "615/615 [==============================] - 0s 57us/step - loss: 0.4378 - accuracy: 0.7951\n",
      "Epoch 53/150\n",
      "615/615 [==============================] - 0s 60us/step - loss: 0.4689 - accuracy: 0.7902\n",
      "Epoch 54/150\n",
      "615/615 [==============================] - 0s 60us/step - loss: 0.4247 - accuracy: 0.8065\n",
      "Epoch 55/150\n",
      "615/615 [==============================] - 0s 55us/step - loss: 0.4224 - accuracy: 0.8000\n",
      "Epoch 56/150\n",
      "615/615 [==============================] - 0s 55us/step - loss: 0.4332 - accuracy: 0.7951\n",
      "Epoch 57/150\n",
      "615/615 [==============================] - 0s 55us/step - loss: 0.4332 - accuracy: 0.7854\n",
      "Epoch 58/150\n",
      "615/615 [==============================] - 0s 55us/step - loss: 0.4296 - accuracy: 0.7837\n",
      "Epoch 59/150\n",
      "615/615 [==============================] - 0s 57us/step - loss: 0.4414 - accuracy: 0.7935\n",
      "Epoch 60/150\n",
      "615/615 [==============================] - 0s 57us/step - loss: 0.4356 - accuracy: 0.7870\n",
      "Epoch 61/150\n",
      "615/615 [==============================] - 0s 57us/step - loss: 0.4273 - accuracy: 0.7854\n",
      "Epoch 62/150\n",
      "615/615 [==============================] - 0s 55us/step - loss: 0.4359 - accuracy: 0.7805\n",
      "Epoch 63/150\n",
      "615/615 [==============================] - 0s 57us/step - loss: 0.4249 - accuracy: 0.8065\n",
      "Epoch 64/150\n",
      "615/615 [==============================] - 0s 58us/step - loss: 0.4325 - accuracy: 0.8000\n",
      "Epoch 65/150\n",
      "615/615 [==============================] - 0s 55us/step - loss: 0.4465 - accuracy: 0.7724\n",
      "Epoch 66/150\n",
      "615/615 [==============================] - 0s 57us/step - loss: 0.4304 - accuracy: 0.8065\n",
      "Epoch 67/150\n",
      "615/615 [==============================] - 0s 57us/step - loss: 0.4334 - accuracy: 0.8033\n",
      "Epoch 68/150\n",
      "615/615 [==============================] - 0s 58us/step - loss: 0.4320 - accuracy: 0.7919\n",
      "Epoch 69/150\n",
      "615/615 [==============================] - 0s 55us/step - loss: 0.4297 - accuracy: 0.8065\n",
      "Epoch 70/150\n",
      "615/615 [==============================] - 0s 58us/step - loss: 0.4382 - accuracy: 0.7951\n",
      "Epoch 71/150\n",
      "615/615 [==============================] - 0s 55us/step - loss: 0.4712 - accuracy: 0.7707\n",
      "Epoch 72/150\n",
      "615/615 [==============================] - 0s 54us/step - loss: 0.4431 - accuracy: 0.7886\n",
      "Epoch 73/150\n",
      "615/615 [==============================] - 0s 54us/step - loss: 0.4287 - accuracy: 0.8049\n",
      "Epoch 74/150\n",
      "615/615 [==============================] - 0s 54us/step - loss: 0.4281 - accuracy: 0.8049\n",
      "Epoch 75/150\n",
      "615/615 [==============================] - 0s 57us/step - loss: 0.4646 - accuracy: 0.7724\n",
      "Epoch 76/150\n",
      "615/615 [==============================] - 0s 57us/step - loss: 0.4418 - accuracy: 0.7935\n",
      "Epoch 77/150\n",
      "615/615 [==============================] - 0s 55us/step - loss: 0.4192 - accuracy: 0.8179\n",
      "Epoch 78/150\n",
      "615/615 [==============================] - 0s 57us/step - loss: 0.4242 - accuracy: 0.8016\n",
      "Epoch 79/150\n",
      "615/615 [==============================] - 0s 55us/step - loss: 0.4531 - accuracy: 0.7951\n",
      "Epoch 80/150\n"
     ]
    },
    {
     "name": "stdout",
     "output_type": "stream",
     "text": [
      "615/615 [==============================] - 0s 55us/step - loss: 0.4264 - accuracy: 0.7951\n",
      "Epoch 81/150\n",
      "615/615 [==============================] - 0s 55us/step - loss: 0.4635 - accuracy: 0.7772\n",
      "Epoch 82/150\n",
      "615/615 [==============================] - 0s 57us/step - loss: 0.4528 - accuracy: 0.7919\n",
      "Epoch 83/150\n",
      "615/615 [==============================] - 0s 54us/step - loss: 0.4515 - accuracy: 0.7854\n",
      "Epoch 84/150\n",
      "615/615 [==============================] - 0s 55us/step - loss: 0.4438 - accuracy: 0.7919\n",
      "Epoch 85/150\n",
      "615/615 [==============================] - 0s 52us/step - loss: 0.4174 - accuracy: 0.7886\n",
      "Epoch 86/150\n",
      "615/615 [==============================] - 0s 55us/step - loss: 0.4363 - accuracy: 0.7951\n",
      "Epoch 87/150\n",
      "615/615 [==============================] - 0s 55us/step - loss: 0.4310 - accuracy: 0.7886\n",
      "Epoch 88/150\n",
      "615/615 [==============================] - 0s 57us/step - loss: 0.4355 - accuracy: 0.8065\n",
      "Epoch 89/150\n",
      "615/615 [==============================] - 0s 55us/step - loss: 0.4208 - accuracy: 0.8081\n",
      "Epoch 90/150\n",
      "615/615 [==============================] - 0s 57us/step - loss: 0.4233 - accuracy: 0.8000\n",
      "Epoch 91/150\n",
      "615/615 [==============================] - 0s 55us/step - loss: 0.4192 - accuracy: 0.8049\n",
      "Epoch 92/150\n",
      "615/615 [==============================] - 0s 55us/step - loss: 0.4377 - accuracy: 0.7951\n",
      "Epoch 93/150\n",
      "615/615 [==============================] - 0s 55us/step - loss: 0.4475 - accuracy: 0.7740\n",
      "Epoch 94/150\n",
      "615/615 [==============================] - 0s 54us/step - loss: 0.4170 - accuracy: 0.8081\n",
      "Epoch 95/150\n",
      "615/615 [==============================] - 0s 57us/step - loss: 0.4145 - accuracy: 0.8081\n",
      "Epoch 96/150\n",
      "615/615 [==============================] - 0s 55us/step - loss: 0.4318 - accuracy: 0.8033\n",
      "Epoch 97/150\n",
      "615/615 [==============================] - 0s 54us/step - loss: 0.4479 - accuracy: 0.7837\n",
      "Epoch 98/150\n",
      "615/615 [==============================] - 0s 55us/step - loss: 0.4396 - accuracy: 0.7837\n",
      "Epoch 99/150\n",
      "615/615 [==============================] - 0s 54us/step - loss: 0.4510 - accuracy: 0.7902\n",
      "Epoch 100/150\n",
      "615/615 [==============================] - 0s 54us/step - loss: 0.4513 - accuracy: 0.7886\n",
      "Epoch 101/150\n",
      "615/615 [==============================] - 0s 54us/step - loss: 0.4291 - accuracy: 0.8000\n",
      "Epoch 102/150\n",
      "615/615 [==============================] - 0s 55us/step - loss: 0.4279 - accuracy: 0.7902\n",
      "Epoch 103/150\n",
      "615/615 [==============================] - 0s 57us/step - loss: 0.4344 - accuracy: 0.7967\n",
      "Epoch 104/150\n",
      "615/615 [==============================] - 0s 57us/step - loss: 0.4303 - accuracy: 0.8033\n",
      "Epoch 105/150\n",
      "615/615 [==============================] - 0s 57us/step - loss: 0.4278 - accuracy: 0.7951\n",
      "Epoch 106/150\n",
      "615/615 [==============================] - 0s 57us/step - loss: 0.4352 - accuracy: 0.8033\n",
      "Epoch 107/150\n",
      "615/615 [==============================] - 0s 57us/step - loss: 0.4525 - accuracy: 0.7626\n",
      "Epoch 108/150\n",
      "615/615 [==============================] - ETA: 0s - loss: 0.5035 - accuracy: 0.70 - 0s 57us/step - loss: 0.4310 - accuracy: 0.8098\n",
      "Epoch 109/150\n",
      "615/615 [==============================] - 0s 55us/step - loss: 0.4208 - accuracy: 0.8114\n",
      "Epoch 110/150\n",
      "615/615 [==============================] - 0s 57us/step - loss: 0.4191 - accuracy: 0.8130\n",
      "Epoch 111/150\n",
      "615/615 [==============================] - 0s 57us/step - loss: 0.4538 - accuracy: 0.7675\n",
      "Epoch 112/150\n",
      "615/615 [==============================] - 0s 57us/step - loss: 0.4343 - accuracy: 0.8098\n",
      "Epoch 113/150\n",
      "615/615 [==============================] - 0s 57us/step - loss: 0.4346 - accuracy: 0.8016\n",
      "Epoch 114/150\n",
      "615/615 [==============================] - 0s 55us/step - loss: 0.4204 - accuracy: 0.8033\n",
      "Epoch 115/150\n",
      "615/615 [==============================] - 0s 54us/step - loss: 0.4246 - accuracy: 0.8000\n",
      "Epoch 116/150\n",
      "615/615 [==============================] - 0s 57us/step - loss: 0.4353 - accuracy: 0.7951\n",
      "Epoch 117/150\n",
      "615/615 [==============================] - 0s 55us/step - loss: 0.4366 - accuracy: 0.7935\n",
      "Epoch 118/150\n",
      "615/615 [==============================] - 0s 55us/step - loss: 0.4392 - accuracy: 0.7837\n",
      "Epoch 119/150\n",
      "615/615 [==============================] - 0s 55us/step - loss: 0.4285 - accuracy: 0.8049\n",
      "Epoch 120/150\n",
      "615/615 [==============================] - 0s 54us/step - loss: 0.4273 - accuracy: 0.8049\n",
      "Epoch 121/150\n",
      "615/615 [==============================] - 0s 57us/step - loss: 0.4290 - accuracy: 0.8098\n",
      "Epoch 122/150\n",
      "615/615 [==============================] - 0s 57us/step - loss: 0.4334 - accuracy: 0.7935\n",
      "Epoch 123/150\n",
      "615/615 [==============================] - 0s 55us/step - loss: 0.4433 - accuracy: 0.7902\n",
      "Epoch 124/150\n",
      "615/615 [==============================] - 0s 54us/step - loss: 0.4363 - accuracy: 0.7902\n",
      "Epoch 125/150\n",
      "615/615 [==============================] - 0s 54us/step - loss: 0.4392 - accuracy: 0.7902\n",
      "Epoch 126/150\n",
      "615/615 [==============================] - 0s 52us/step - loss: 0.4261 - accuracy: 0.7935\n",
      "Epoch 127/150\n",
      "615/615 [==============================] - 0s 54us/step - loss: 0.4649 - accuracy: 0.7675\n",
      "Epoch 128/150\n",
      "615/615 [==============================] - 0s 54us/step - loss: 0.4208 - accuracy: 0.8016\n",
      "Epoch 129/150\n",
      "615/615 [==============================] - 0s 54us/step - loss: 0.4289 - accuracy: 0.8000\n",
      "Epoch 130/150\n",
      "615/615 [==============================] - 0s 54us/step - loss: 0.4450 - accuracy: 0.7902\n",
      "Epoch 131/150\n",
      "615/615 [==============================] - 0s 54us/step - loss: 0.4274 - accuracy: 0.7886\n",
      "Epoch 132/150\n",
      "615/615 [==============================] - 0s 54us/step - loss: 0.4331 - accuracy: 0.8016\n",
      "Epoch 133/150\n",
      "615/615 [==============================] - 0s 52us/step - loss: 0.4300 - accuracy: 0.8000\n",
      "Epoch 134/150\n",
      "615/615 [==============================] - 0s 55us/step - loss: 0.4331 - accuracy: 0.8000\n",
      "Epoch 135/150\n",
      "615/615 [==============================] - 0s 54us/step - loss: 0.4398 - accuracy: 0.7935\n",
      "Epoch 136/150\n",
      "615/615 [==============================] - 0s 54us/step - loss: 0.4452 - accuracy: 0.7967\n",
      "Epoch 137/150\n",
      "615/615 [==============================] - 0s 54us/step - loss: 0.4348 - accuracy: 0.7951\n",
      "Epoch 138/150\n",
      "615/615 [==============================] - 0s 52us/step - loss: 0.4267 - accuracy: 0.8033\n",
      "Epoch 139/150\n",
      "615/615 [==============================] - 0s 54us/step - loss: 0.4344 - accuracy: 0.8000\n",
      "Epoch 140/150\n",
      "615/615 [==============================] - 0s 54us/step - loss: 0.4281 - accuracy: 0.7886\n",
      "Epoch 141/150\n",
      "615/615 [==============================] - 0s 55us/step - loss: 0.4228 - accuracy: 0.8016\n",
      "Epoch 142/150\n",
      "615/615 [==============================] - 0s 55us/step - loss: 0.4251 - accuracy: 0.8065\n",
      "Epoch 143/150\n",
      "615/615 [==============================] - 0s 52us/step - loss: 0.4324 - accuracy: 0.8098\n",
      "Epoch 144/150\n",
      "615/615 [==============================] - 0s 52us/step - loss: 0.4107 - accuracy: 0.8098\n",
      "Epoch 145/150\n",
      "615/615 [==============================] - 0s 54us/step - loss: 0.4357 - accuracy: 0.7967\n",
      "Epoch 146/150\n",
      "615/615 [==============================] - 0s 54us/step - loss: 0.4430 - accuracy: 0.7870\n",
      "Epoch 147/150\n",
      "615/615 [==============================] - 0s 58us/step - loss: 0.4185 - accuracy: 0.8179\n",
      "Epoch 148/150\n",
      "615/615 [==============================] - 0s 54us/step - loss: 0.4273 - accuracy: 0.7805\n",
      "Epoch 149/150\n",
      "615/615 [==============================] - 0s 54us/step - loss: 0.4227 - accuracy: 0.7984\n",
      "Epoch 150/150\n",
      "615/615 [==============================] - 0s 52us/step - loss: 0.4316 - accuracy: 0.7854\n"
     ]
    }
   ],
   "source": [
    "history = model.fit(X_train, y_train, epochs=150, batch_size=10)"
   ]
  },
  {
   "cell_type": "markdown",
   "metadata": {},
   "source": [
    "## 훈련결과 정보 확인하기 "
   ]
  },
  {
   "cell_type": "code",
   "execution_count": 47,
   "metadata": {},
   "outputs": [
    {
     "data": {
      "text/plain": [
       "dict_keys(['loss', 'accuracy'])"
      ]
     },
     "execution_count": 47,
     "metadata": {},
     "output_type": "execute_result"
    }
   ],
   "source": [
    "history.history.keys()"
   ]
  },
  {
   "cell_type": "code",
   "execution_count": 45,
   "metadata": {},
   "outputs": [
    {
     "data": {
      "text/plain": [
       "150"
      ]
     },
     "execution_count": 45,
     "metadata": {},
     "output_type": "execute_result"
    }
   ],
   "source": [
    "len(history.history['loss'])"
   ]
  },
  {
   "cell_type": "code",
   "execution_count": 48,
   "metadata": {},
   "outputs": [
    {
     "data": {
      "text/plain": [
       "150"
      ]
     },
     "execution_count": 48,
     "metadata": {},
     "output_type": "execute_result"
    }
   ],
   "source": [
    "len(history.history['accuracy'])"
   ]
  },
  {
   "cell_type": "markdown",
   "metadata": {},
   "source": [
    "## 평가하기 "
   ]
  },
  {
   "cell_type": "code",
   "execution_count": null,
   "metadata": {},
   "outputs": [],
   "source": []
  },
  {
   "cell_type": "code",
   "execution_count": 29,
   "metadata": {},
   "outputs": [
    {
     "name": "stdout",
     "output_type": "stream",
     "text": [
      "153/153 [==============================] - 0s 19us/step\n",
      "Accuracy: 77.12\n"
     ]
    }
   ],
   "source": [
    "# evaluate the keras model\n",
    "_, accuracy = model.evaluate(X_test, y_test)\n",
    "print('Accuracy: %.2f' % (accuracy*100))"
   ]
  },
  {
   "cell_type": "code",
   "execution_count": null,
   "metadata": {},
   "outputs": [],
   "source": []
  },
  {
   "cell_type": "markdown",
   "metadata": {},
   "source": [
    "## 예측하기"
   ]
  },
  {
   "cell_type": "code",
   "execution_count": 30,
   "metadata": {},
   "outputs": [],
   "source": [
    "# make probability predictions with the model\n",
    "predictions = model.predict(X_test)\n",
    "# round predictions \n",
    "rounded = [round(x[0]) for x in predictions]"
   ]
  },
  {
   "cell_type": "code",
   "execution_count": 31,
   "metadata": {},
   "outputs": [
    {
     "data": {
      "text/plain": [
       "(153, 1)"
      ]
     },
     "execution_count": 31,
     "metadata": {},
     "output_type": "execute_result"
    }
   ],
   "source": [
    "predictions.shape"
   ]
  },
  {
   "cell_type": "code",
   "execution_count": 32,
   "metadata": {},
   "outputs": [
    {
     "data": {
      "text/plain": [
       "[0.0, 0.0, 0.0, 1.0, 1.0, 1.0, 0.0, 1.0, 0.0, 0.0]"
      ]
     },
     "execution_count": 32,
     "metadata": {},
     "output_type": "execute_result"
    }
   ],
   "source": [
    "rounded[:10]"
   ]
  },
  {
   "cell_type": "code",
   "execution_count": null,
   "metadata": {},
   "outputs": [],
   "source": []
  },
  {
   "cell_type": "code",
   "execution_count": 38,
   "metadata": {},
   "outputs": [],
   "source": [
    "\n",
    "# make class predictions with the model\n",
    "predictions_classes = model.predict_classes(X_test)"
   ]
  },
  {
   "cell_type": "code",
   "execution_count": 39,
   "metadata": {},
   "outputs": [
    {
     "data": {
      "text/plain": [
       "(153, 1)"
      ]
     },
     "execution_count": 39,
     "metadata": {},
     "output_type": "execute_result"
    }
   ],
   "source": [
    "predictions_classes.shape"
   ]
  },
  {
   "cell_type": "code",
   "execution_count": null,
   "metadata": {},
   "outputs": [],
   "source": []
  },
  {
   "cell_type": "code",
   "execution_count": 40,
   "metadata": {},
   "outputs": [
    {
     "name": "stdout",
     "output_type": "stream",
     "text": [
      "[3.0, 106.0, 72.0, 0.0, 0.0, 25.8, 0.207, 27.0] => 0 (expected 0)\n",
      "[6.0, 117.0, 96.0, 0.0, 0.0, 28.7, 0.157, 30.0] => 0 (expected 0)\n",
      "[2.0, 68.0, 62.0, 13.0, 15.0, 20.1, 0.257, 23.0] => 0 (expected 0)\n",
      "[9.0, 112.0, 82.0, 24.0, 0.0, 28.2, 1.282, 50.0] => 1 (expected 1)\n",
      "[0.0, 119.0, 0.0, 0.0, 0.0, 32.4, 0.141, 24.0] => 1 (expected 1)\n"
     ]
    }
   ],
   "source": [
    "for i in range(5):\n",
    "    print('%s => %d (expected %d)' % (X_test[i].tolist(), predictions_classes[i], y_test[i]))"
   ]
  },
  {
   "cell_type": "code",
   "execution_count": null,
   "metadata": {},
   "outputs": [],
   "source": []
  }
 ],
 "metadata": {
  "kernelspec": {
   "display_name": "tensorcpu",
   "language": "python",
   "name": "tensorcpu"
  },
  "language_info": {
   "codemirror_mode": {
    "name": "ipython",
    "version": 3
   },
   "file_extension": ".py",
   "mimetype": "text/x-python",
   "name": "python",
   "nbconvert_exporter": "python",
   "pygments_lexer": "ipython3",
   "version": "3.7.4"
  }
 },
 "nbformat": 4,
 "nbformat_minor": 2
}
