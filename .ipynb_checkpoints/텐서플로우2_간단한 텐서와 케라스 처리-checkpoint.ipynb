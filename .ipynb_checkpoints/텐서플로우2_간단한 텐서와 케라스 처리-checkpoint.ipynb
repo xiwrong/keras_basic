{
 "cells": [
  {
   "cell_type": "code",
   "execution_count": 1,
   "metadata": {},
   "outputs": [],
   "source": [
    "import tensorflow as tf\n",
    "\n",
    "import numpy as np\n"
   ]
  },
  {
   "cell_type": "code",
   "execution_count": null,
   "metadata": {},
   "outputs": [],
   "source": []
  },
  {
   "cell_type": "code",
   "execution_count": 3,
   "metadata": {},
   "outputs": [],
   "source": [
    "x = np.array([0, 1, 2, 3, 4]).astype('float32').reshape(-1,1) \n",
    "y = x * 2 + 1\n",
    "\n",
    "model = tf.keras.Sequential()\n",
    "model.add(tf.keras.layers.Dense(1, input_dim = 1))\n",
    "model.build()\n",
    "\n",
    "Optimizer = tf.keras.optimizers.Adam(learning_rate = 0.01)\n"
   ]
  },
  {
   "cell_type": "code",
   "execution_count": 5,
   "metadata": {},
   "outputs": [
    {
     "name": "stdout",
     "output_type": "stream",
     "text": [
      "[[1.1467438]\n",
      " [2.9106643]\n",
      " [4.674585 ]\n",
      " [6.438505 ]\n",
      " [8.202426 ]]\n"
     ]
    }
   ],
   "source": [
    "for epoch in range(1000):\n",
    "    with tf.GradientTape() as tape:\n",
    "        y_pr = model(x[:2,:1])\n",
    "        loss = tf.keras.losses.mean_squared_error(y[:2,:1], y_pr)\n",
    "    gradients = tape.gradient(loss, model.trainable_variables)\n",
    "    Optimizer.apply_gradients(zip(gradients, model.trainable_variables))\n",
    "\n",
    "print(model.predict(x))"
   ]
  },
  {
   "cell_type": "code",
   "execution_count": 7,
   "metadata": {},
   "outputs": [
    {
     "name": "stderr",
     "output_type": "stream",
     "text": [
      "Using TensorFlow backend.\n"
     ]
    }
   ],
   "source": [
    "import keras "
   ]
  },
  {
   "cell_type": "code",
   "execution_count": 8,
   "metadata": {},
   "outputs": [
    {
     "name": "stdout",
     "output_type": "stream",
     "text": [
      "[[1.0269628]\n",
      " [2.983336 ]\n",
      " [4.9397097]\n",
      " [6.896083 ]\n",
      " [8.852456 ]]\n"
     ]
    }
   ],
   "source": [
    "model = keras.models.Sequential()\n",
    "model.add(keras.layers.Dense(1,input_shape=(1,)))\n",
    "model.compile('SGD', 'mse')\n",
    "\n",
    "model.fit(x[:2], y[:2], epochs=1000, verbose=0)\n",
    "print(model.predict(x))"
   ]
  },
  {
   "cell_type": "code",
   "execution_count": 9,
   "metadata": {},
   "outputs": [
    {
     "name": "stdout",
     "output_type": "stream",
     "text": [
      "w= [[0.06649411]] b= [0.]\n",
      "\n",
      "Epoch:0\n",
      "y_pr: [[0.        ]\n",
      " [0.06649411]]\n",
      "y_tr: [[1.]\n",
      " [3.]]\n",
      "loss: [1.       8.605457]\n",
      "\n",
      "Epoch:1\n",
      "y_pr: [[0.01     ]\n",
      " [0.0864941]]\n",
      "y_tr: [[1.]\n",
      " [3.]]\n",
      "loss: [0.98010004 8.488516  ]\n",
      "\n",
      "Epoch:2\n",
      "y_pr: [[0.01999789]\n",
      " [0.10649011]]\n",
      "y_tr: [[1.]\n",
      " [3.]]\n",
      "loss: [0.9604041 8.372399 ]\n",
      "\n",
      "[[1.0079768]\n",
      " [2.9955459]\n",
      " [4.983115 ]\n",
      " [6.970684 ]\n",
      " [8.958253 ]]\n"
     ]
    }
   ],
   "source": [
    "\n",
    "\n",
    "model = tf.keras.Sequential()\n",
    "model.add(tf.keras.layers.Dense(1, input_dim = 1))\n",
    "model.build()\n",
    "\n",
    "print('w=', model.trainable_variables[0].numpy(), 'b=', model.trainable_variables[1].numpy())\n",
    "print()\n",
    "\n",
    "Optimizer = tf.keras.optimizers.Adam(learning_rate = 0.01)\n",
    "for epoch in range(1000):\n",
    "    with tf.GradientTape() as tape:\n",
    "        y_pr = model(x[:2,:1])\n",
    "        loss = tf.keras.losses.mean_squared_error(y[:2,:1], y_pr)\n",
    "        if epoch < 3: \n",
    "            print(f'Epoch:{epoch}')\n",
    "            print('y_pr:', y_pr.numpy())\n",
    "            print('y_tr:', y[:2,:1])\n",
    "            print('loss:', loss.numpy())\n",
    "            print()\n",
    "    gradients = tape.gradient(loss, model.trainable_variables)\n",
    "    Optimizer.apply_gradients(zip(gradients, model.trainable_variables))\n",
    "print(model.predict(x))"
   ]
  },
  {
   "cell_type": "code",
   "execution_count": null,
   "metadata": {},
   "outputs": [],
   "source": []
  }
 ],
 "metadata": {
  "kernelspec": {
   "display_name": "tensorcpu",
   "language": "python",
   "name": "tensorcpu"
  },
  "language_info": {
   "codemirror_mode": {
    "name": "ipython",
    "version": 3
   },
   "file_extension": ".py",
   "mimetype": "text/x-python",
   "name": "python",
   "nbconvert_exporter": "python",
   "pygments_lexer": "ipython3",
   "version": "3.7.4"
  }
 },
 "nbformat": 4,
 "nbformat_minor": 2
}
