{
 "cells": [
  {
   "cell_type": "code",
   "execution_count": 1,
   "metadata": {},
   "outputs": [],
   "source": [
    "import numpy as np\n",
    "import tensorflow as tf\n",
    "import matplotlib.pyplot as plt"
   ]
  },
  {
   "cell_type": "code",
   "execution_count": 2,
   "metadata": {},
   "outputs": [],
   "source": [
    "%matplotlib inline"
   ]
  },
  {
   "cell_type": "code",
   "execution_count": null,
   "metadata": {},
   "outputs": [],
   "source": []
  },
  {
   "cell_type": "markdown",
   "metadata": {},
   "source": [
    "## 선형 회귀\n",
    "\n",
    "- 종속 변수와 하나 이상의 독립 변수 사이의 선형 관계를 찾는 알고리즘입니다.\n",
    "\n",
    " 종속 변수를 레이블이라고하며 독립 변수를 피처라고합니다."
   ]
  },
  {
   "cell_type": "code",
   "execution_count": null,
   "metadata": {},
   "outputs": [],
   "source": []
  },
  {
   "cell_type": "code",
   "execution_count": null,
   "metadata": {},
   "outputs": [],
   "source": []
  },
  {
   "cell_type": "markdown",
   "metadata": {},
   "source": [
    "## 데이터 생성하기\n",
    "\n",
    " -  선의 방정식을 y = mx + c 로 가정하면 선 m의 기울기를 2로, 상수 값 c를 0.9로 가정했습니다. \n",
    "    \n",
    " - np.random모델을 직선 으로 과도 하게 맞추고 싶지 않기 때문에을 사용하여 소개 한 오류 데이터 가 있습니다. \n"
   ]
  },
  {
   "cell_type": "code",
   "execution_count": 3,
   "metadata": {},
   "outputs": [],
   "source": [
    "# actual weight = 2 and actual bias = 0.9\n",
    "x = np.linspace(0, 3, 120)\n",
    "y = 2 * x + 0.9 + np.random.randn(*x.shape) * 0.3"
   ]
  },
  {
   "cell_type": "markdown",
   "metadata": {},
   "source": [
    "### 그래프를 그립니다"
   ]
  },
  {
   "cell_type": "code",
   "execution_count": 13,
   "metadata": {},
   "outputs": [
    {
     "data": {
      "text/plain": [
       "<matplotlib.collections.PathCollection at 0x16ce51af508>"
      ]
     },
     "execution_count": 13,
     "metadata": {},
     "output_type": "execute_result"
    },
    {
     "data": {
      "image/png": "[encoded data removed]",
      "text/plain": [
       "<Figure size 432x288 with 1 Axes>"
      ]
     },
     "metadata": {
      "needs_background": "light"
     },
     "output_type": "display_data"
    }
   ],
   "source": [
    "plt.scatter(x,y, label=\"input data set\")"
   ]
  },
  {
   "cell_type": "markdown",
   "metadata": {},
   "source": [
    "## 선형 모델을 클래스로 정의합니다.\n",
    "\n",
    "     Init는 가중치와 바이어스를 무작위로 초기화하고 call은 직선 방정식 y = mx + c에 따라 값을 반환합니다.\n",
    "     "
   ]
  },
  {
   "cell_type": "code",
   "execution_count": 4,
   "metadata": {},
   "outputs": [],
   "source": [
    "class LinearModel:\n",
    "    def __call__(self, x):\n",
    "        return self.Weight * x + self.Bias\n",
    "    \n",
    "    def __init__(self):\n",
    "        self.Weight = tf.Variable(11.0)\n",
    "        self.Bias = tf.Variable(12.0)"
   ]
  },
  {
   "cell_type": "markdown",
   "metadata": {},
   "source": [
    "## 손실함수를 정의합니다\n",
    "\n",
    "   손실 함수는 y(종속 변수의 실제 값)과 pred(종속 변수의 예측 값 )의 두 가지 매개 변수를 사용합니다.\n",
    "   \n",
    "   이 tf.square함수를 사용하여 차이 y와 예측 값 의 제곱을 구한 다음을 사용합니다. tf.reduce_mean평균의 제곱근을 계산하는 방법.\n",
    "\n"
   ]
  },
  {
   "cell_type": "code",
   "execution_count": 27,
   "metadata": {},
   "outputs": [],
   "source": [
    "\n",
    "def loss(y, pred):\n",
    "    return tf.reduce_mean(tf.square(y - pred))"
   ]
  },
  {
   "cell_type": "markdown",
   "metadata": {},
   "source": [
    "## 훈련 함수를 정의합니다\n",
    "\n",
    "   이 tf.GradientTape방법은 입력 변수와 관련하여 계산의 기울기를 계산하는 자동 미분에 사용됩니다. \n",
    "   \n",
    "   따라서 a의 컨텍스트 내에서 실행 된 모든 작업 tf.GradientTape이 기록됩니다."
   ]
  },
  {
   "cell_type": "code",
   "execution_count": 28,
   "metadata": {},
   "outputs": [],
   "source": [
    "\n",
    "def train(linear_model, x, y, lr=0.12):\n",
    "    with tf.GradientTape() as t:\n",
    "        current_loss = loss(y, linear_model(x))\n",
    "\n",
    "    lr_weight, lr_bias = t.gradient(current_loss, [linear_model.Weight, linear_model.Bias])\n",
    "    linear_model.Weight.assign_sub(lr * lr_weight)\n",
    "    linear_model.Bias.assign_sub(lr * lr_bias)"
   ]
  },
  {
   "cell_type": "markdown",
   "metadata": {},
   "source": [
    "## 모델 객체, 가중치, 편향과 훈현횟수를 지정합니다."
   ]
  },
  {
   "cell_type": "code",
   "execution_count": 29,
   "metadata": {},
   "outputs": [],
   "source": [
    "linear_model = LinearModel()\n",
    "Weights, Biases = [], []\n",
    "epochs = 80"
   ]
  },
  {
   "cell_type": "markdown",
   "metadata": {},
   "source": [
    "## 훈련을 수행합니다"
   ]
  },
  {
   "cell_type": "code",
   "execution_count": 30,
   "metadata": {},
   "outputs": [
    {
     "name": "stdout",
     "output_type": "stream",
     "text": [
      "Epoch count 0: Loss value: 667.741455078125\n",
      "Epoch count 1: Loss value: 10.498496055603027\n",
      "Epoch count 2: Loss value: 5.228887557983398\n",
      "Epoch count 3: Loss value: 4.716641426086426\n",
      "Epoch count 4: Loss value: 4.283185958862305\n",
      "Epoch count 5: Loss value: 3.8905701637268066\n",
      "Epoch count 6: Loss value: 3.534747362136841\n",
      "Epoch count 7: Loss value: 3.212266445159912\n",
      "Epoch count 8: Loss value: 2.9200050830841064\n",
      "Epoch count 9: Loss value: 2.655130624771118\n",
      "Epoch count 10: Loss value: 2.41507625579834\n",
      "Epoch count 11: Loss value: 2.197516441345215\n",
      "Epoch count 12: Loss value: 2.0003437995910645\n",
      "Epoch count 13: Loss value: 1.8216476440429688\n",
      "Epoch count 14: Loss value: 1.6596962213516235\n",
      "Epoch count 15: Loss value: 1.512920618057251\n",
      "Epoch count 16: Loss value: 1.3798991441726685\n",
      "Epoch count 17: Loss value: 1.2593424320220947\n",
      "Epoch count 18: Loss value: 1.1500829458236694\n",
      "Epoch count 19: Loss value: 1.0510613918304443\n",
      "Epoch count 20: Loss value: 0.9613189697265625\n",
      "Epoch count 21: Loss value: 0.8799863457679749\n",
      "Epoch count 22: Loss value: 0.8062748312950134\n",
      "Epoch count 23: Loss value: 0.7394706606864929\n",
      "Epoch count 24: Loss value: 0.6789265871047974\n",
      "Epoch count 25: Loss value: 0.6240557432174683\n",
      "Epoch count 26: Loss value: 0.5743266940116882\n",
      "Epoch count 27: Loss value: 0.5292576551437378\n",
      "Epoch count 28: Loss value: 0.4884118139743805\n",
      "Epoch count 29: Loss value: 0.4513934552669525\n",
      "Epoch count 30: Loss value: 0.4178439676761627\n",
      "Epoch count 31: Loss value: 0.3874383270740509\n",
      "Epoch count 32: Loss value: 0.3598819077014923\n",
      "Epoch count 33: Loss value: 0.3349076509475708\n",
      "Epoch count 34: Loss value: 0.31227371096611023\n",
      "Epoch count 35: Loss value: 0.29176074266433716\n",
      "Epoch count 36: Loss value: 0.2731699049472809\n",
      "Epoch count 37: Loss value: 0.25632116198539734\n",
      "Epoch count 38: Loss value: 0.2410513311624527\n",
      "Epoch count 39: Loss value: 0.22721229493618011\n",
      "Epoch count 40: Loss value: 0.2146700918674469\n",
      "Epoch count 41: Loss value: 0.20330318808555603\n",
      "Epoch count 42: Loss value: 0.19300144910812378\n",
      "Epoch count 43: Loss value: 0.18366500735282898\n",
      "Epoch count 44: Loss value: 0.17520351707935333\n",
      "Epoch count 45: Loss value: 0.16753488779067993\n",
      "Epoch count 46: Loss value: 0.16058486700057983\n",
      "Epoch count 47: Loss value: 0.15428611636161804\n",
      "Epoch count 48: Loss value: 0.14857755601406097\n",
      "Epoch count 49: Loss value: 0.14340399205684662\n",
      "Epoch count 50: Loss value: 0.1387152224779129\n",
      "Epoch count 51: Loss value: 0.1344657689332962\n",
      "Epoch count 52: Loss value: 0.13061454892158508\n",
      "Epoch count 53: Loss value: 0.12712422013282776\n",
      "Epoch count 54: Loss value: 0.12396092712879181\n",
      "Epoch count 55: Loss value: 0.12109407037496567\n",
      "Epoch count 56: Loss value: 0.11849585920572281\n",
      "Epoch count 57: Loss value: 0.11614111065864563\n",
      "Epoch count 58: Loss value: 0.11400706321001053\n",
      "Epoch count 59: Loss value: 0.11207292973995209\n",
      "Epoch count 60: Loss value: 0.1103200614452362\n",
      "Epoch count 61: Loss value: 0.10873144119977951\n",
      "Epoch count 62: Loss value: 0.10729169845581055\n",
      "Epoch count 63: Loss value: 0.10598687082529068\n",
      "Epoch count 64: Loss value: 0.10480431467294693\n",
      "Epoch count 65: Loss value: 0.10373255610466003\n",
      "Epoch count 66: Loss value: 0.10276122391223907\n",
      "Epoch count 67: Loss value: 0.10188092291355133\n",
      "Epoch count 68: Loss value: 0.10108312964439392\n",
      "Epoch count 69: Loss value: 0.10036007314920425\n",
      "Epoch count 70: Loss value: 0.09970477223396301\n",
      "Epoch count 71: Loss value: 0.09911086410284042\n",
      "Epoch count 72: Loss value: 0.09857263416051865\n",
      "Epoch count 73: Loss value: 0.09808482974767685\n",
      "Epoch count 74: Loss value: 0.09764274954795837\n",
      "Epoch count 75: Loss value: 0.0972420871257782\n",
      "Epoch count 76: Loss value: 0.09687896817922592\n",
      "Epoch count 77: Loss value: 0.0965498834848404\n",
      "Epoch count 78: Loss value: 0.09625161439180374\n",
      "Epoch count 79: Loss value: 0.09598129242658615\n"
     ]
    }
   ],
   "source": [
    "for epoch_count in range(epochs):\n",
    "    ## 손실을 구합니다. \n",
    "    Weights.append(linear_model.Weight.numpy()) \n",
    "    Biases.append(linear_model.Bias.numpy())\n",
    "    real_loss = loss(y, linear_model(x))\n",
    "    \n",
    "    ## 함습을 시킵니다. \n",
    "    train(linear_model, x, y, lr=0.12)\n",
    "    print(f\"Epoch count {epoch_count}: Loss value: {real_loss.numpy()}\")"
   ]
  },
  {
   "cell_type": "markdown",
   "metadata": {},
   "source": [
    "## 최종 결과를 확인합니다"
   ]
  },
  {
   "cell_type": "code",
   "execution_count": 31,
   "metadata": {},
   "outputs": [
    {
     "data": {
      "text/plain": [
       "1.9489174"
      ]
     },
     "execution_count": 31,
     "metadata": {},
     "output_type": "execute_result"
    }
   ],
   "source": [
    "linear_model.Weight.numpy()"
   ]
  },
  {
   "cell_type": "code",
   "execution_count": 32,
   "metadata": {},
   "outputs": [
    {
     "data": {
      "text/plain": [
       "0.98122525"
      ]
     },
     "execution_count": 32,
     "metadata": {},
     "output_type": "execute_result"
    }
   ],
   "source": [
    "linear_model.Bias.numpy()"
   ]
  },
  {
   "cell_type": "code",
   "execution_count": 33,
   "metadata": {},
   "outputs": [],
   "source": [
    "RMSE = loss(y, linear_model(x))"
   ]
  },
  {
   "cell_type": "code",
   "execution_count": 34,
   "metadata": {},
   "outputs": [
    {
     "data": {
      "text/plain": [
       "0.09573633"
      ]
     },
     "execution_count": 34,
     "metadata": {},
     "output_type": "execute_result"
    }
   ],
   "source": [
    "RMSE.numpy()"
   ]
  },
  {
   "cell_type": "markdown",
   "metadata": {},
   "source": [
    "## 회귀에 대한 그래프를 그립니다."
   ]
  },
  {
   "cell_type": "code",
   "execution_count": 35,
   "metadata": {},
   "outputs": [],
   "source": [
    "y_ = linear_model.Weight.numpy()* x + linear_model.Bias.numpy()"
   ]
  },
  {
   "cell_type": "code",
   "execution_count": 36,
   "metadata": {},
   "outputs": [
    {
     "data": {
      "text/plain": [
       "[<matplotlib.lines.Line2D at 0x16ce5a08b48>]"
      ]
     },
     "execution_count": 36,
     "metadata": {},
     "output_type": "execute_result"
    },
    {
     "data": {
      "image/png": "[encoded data removed]",
      "text/plain": [
       "<Figure size 432x288 with 1 Axes>"
      ]
     },
     "metadata": {
      "needs_background": "light"
     },
     "output_type": "display_data"
    }
   ],
   "source": [
    "plt.scatter(x,y, label=\"input data set\")\n",
    "plt.plot(x, y_ ,'r')"
   ]
  },
  {
   "cell_type": "code",
   "execution_count": null,
   "metadata": {},
   "outputs": [],
   "source": []
  }
 ],
 "metadata": {
  "kernelspec": {
   "display_name": "tensorgpu",
   "language": "python",
   "name": "tensorgpu"
  },
  "language_info": {
   "codemirror_mode": {
    "name": "ipython",
    "version": 3
   },
   "file_extension": ".py",
   "mimetype": "text/x-python",
   "name": "python",
   "nbconvert_exporter": "python",
   "pygments_lexer": "ipython3",
   "version": "3.7.4"
  }
 },
 "nbformat": 4,
 "nbformat_minor": 2
}
