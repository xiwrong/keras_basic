{
 "cells": [
  {
   "cell_type": "markdown",
   "metadata": {},
   "source": [
    "\n",
    "## 참조자료\n",
    "\n",
    "https://pinkwink.kr/1119"
   ]
  },
  {
   "cell_type": "markdown",
   "metadata": {},
   "source": [
    "# 1. 타이타닉 데이터 읽어오기"
   ]
  },
  {
   "cell_type": "code",
   "execution_count": null,
   "metadata": {},
   "outputs": [],
   "source": []
  },
  {
   "cell_type": "code",
   "execution_count": 1,
   "metadata": {},
   "outputs": [],
   "source": [
    "import pandas as pd"
   ]
  },
  {
   "cell_type": "code",
   "execution_count": 2,
   "metadata": {},
   "outputs": [],
   "source": [
    "titanic = pd.read_csv('dataset/titanic.csv', encoding='utf-8')"
   ]
  },
  {
   "cell_type": "code",
   "execution_count": 3,
   "metadata": {},
   "outputs": [
    {
     "data": {
      "text/plain": [
       "(887, 8)"
      ]
     },
     "execution_count": 3,
     "metadata": {},
     "output_type": "execute_result"
    }
   ],
   "source": [
    "titanic.shape"
   ]
  },
  {
   "cell_type": "code",
   "execution_count": 4,
   "metadata": {},
   "outputs": [
    {
     "data": {
      "text/html": [
       "<div>\n",
       "<style scoped>\n",
       "    .dataframe tbody tr th:only-of-type {\n",
       "        vertical-align: middle;\n",
       "    }\n",
       "\n",
       "    .dataframe tbody tr th {\n",
       "        vertical-align: top;\n",
       "    }\n",
       "\n",
       "    .dataframe thead th {\n",
       "        text-align: right;\n",
       "    }\n",
       "</style>\n",
       "<table border=\"1\" class=\"dataframe\">\n",
       "  <thead>\n",
       "    <tr style=\"text-align: right;\">\n",
       "      <th></th>\n",
       "      <th>Survived</th>\n",
       "      <th>Pclass</th>\n",
       "      <th>Name</th>\n",
       "      <th>Sex</th>\n",
       "      <th>Age</th>\n",
       "      <th>Siblings/Spouses Aboard</th>\n",
       "      <th>Parents/Children Aboard</th>\n",
       "      <th>Fare</th>\n",
       "    </tr>\n",
       "  </thead>\n",
       "  <tbody>\n",
       "    <tr>\n",
       "      <th>0</th>\n",
       "      <td>0</td>\n",
       "      <td>3</td>\n",
       "      <td>Mr. Owen Harris Braund</td>\n",
       "      <td>male</td>\n",
       "      <td>22.0</td>\n",
       "      <td>1</td>\n",
       "      <td>0</td>\n",
       "      <td>7.2500</td>\n",
       "    </tr>\n",
       "    <tr>\n",
       "      <th>1</th>\n",
       "      <td>1</td>\n",
       "      <td>1</td>\n",
       "      <td>Mrs. John Bradley (Florence Briggs Thayer) Cum...</td>\n",
       "      <td>female</td>\n",
       "      <td>38.0</td>\n",
       "      <td>1</td>\n",
       "      <td>0</td>\n",
       "      <td>71.2833</td>\n",
       "    </tr>\n",
       "    <tr>\n",
       "      <th>2</th>\n",
       "      <td>1</td>\n",
       "      <td>3</td>\n",
       "      <td>Miss. Laina Heikkinen</td>\n",
       "      <td>female</td>\n",
       "      <td>26.0</td>\n",
       "      <td>0</td>\n",
       "      <td>0</td>\n",
       "      <td>7.9250</td>\n",
       "    </tr>\n",
       "    <tr>\n",
       "      <th>3</th>\n",
       "      <td>1</td>\n",
       "      <td>1</td>\n",
       "      <td>Mrs. Jacques Heath (Lily May Peel) Futrelle</td>\n",
       "      <td>female</td>\n",
       "      <td>35.0</td>\n",
       "      <td>1</td>\n",
       "      <td>0</td>\n",
       "      <td>53.1000</td>\n",
       "    </tr>\n",
       "    <tr>\n",
       "      <th>4</th>\n",
       "      <td>0</td>\n",
       "      <td>3</td>\n",
       "      <td>Mr. William Henry Allen</td>\n",
       "      <td>male</td>\n",
       "      <td>35.0</td>\n",
       "      <td>0</td>\n",
       "      <td>0</td>\n",
       "      <td>8.0500</td>\n",
       "    </tr>\n",
       "  </tbody>\n",
       "</table>\n",
       "</div>"
      ],
      "text/plain": [
       "   Survived  Pclass                                               Name  \\\n",
       "0         0       3                             Mr. Owen Harris Braund   \n",
       "1         1       1  Mrs. John Bradley (Florence Briggs Thayer) Cum...   \n",
       "2         1       3                              Miss. Laina Heikkinen   \n",
       "3         1       1        Mrs. Jacques Heath (Lily May Peel) Futrelle   \n",
       "4         0       3                            Mr. William Henry Allen   \n",
       "\n",
       "      Sex   Age  Siblings/Spouses Aboard  Parents/Children Aboard     Fare  \n",
       "0    male  22.0                        1                        0   7.2500  \n",
       "1  female  38.0                        1                        0  71.2833  \n",
       "2  female  26.0                        0                        0   7.9250  \n",
       "3  female  35.0                        1                        0  53.1000  \n",
       "4    male  35.0                        0                        0   8.0500  "
      ]
     },
     "execution_count": 4,
     "metadata": {},
     "output_type": "execute_result"
    }
   ],
   "source": [
    "titanic.head()"
   ]
  },
  {
   "cell_type": "markdown",
   "metadata": {},
   "source": [
    "## 성별을 숫자로 변환하기"
   ]
  },
  {
   "cell_type": "code",
   "execution_count": 5,
   "metadata": {},
   "outputs": [],
   "source": [
    "titanic['Sex'] = titanic['Sex'].str.replace('female',\"1\")\n",
    "titanic['Sex'] = titanic['Sex'].str.replace('male','0.')"
   ]
  },
  {
   "cell_type": "code",
   "execution_count": 6,
   "metadata": {},
   "outputs": [
    {
     "data": {
      "text/html": [
       "<div>\n",
       "<style scoped>\n",
       "    .dataframe tbody tr th:only-of-type {\n",
       "        vertical-align: middle;\n",
       "    }\n",
       "\n",
       "    .dataframe tbody tr th {\n",
       "        vertical-align: top;\n",
       "    }\n",
       "\n",
       "    .dataframe thead th {\n",
       "        text-align: right;\n",
       "    }\n",
       "</style>\n",
       "<table border=\"1\" class=\"dataframe\">\n",
       "  <thead>\n",
       "    <tr style=\"text-align: right;\">\n",
       "      <th></th>\n",
       "      <th>Survived</th>\n",
       "      <th>Pclass</th>\n",
       "      <th>Name</th>\n",
       "      <th>Sex</th>\n",
       "      <th>Age</th>\n",
       "      <th>Siblings/Spouses Aboard</th>\n",
       "      <th>Parents/Children Aboard</th>\n",
       "      <th>Fare</th>\n",
       "    </tr>\n",
       "  </thead>\n",
       "  <tbody>\n",
       "    <tr>\n",
       "      <th>0</th>\n",
       "      <td>0</td>\n",
       "      <td>3</td>\n",
       "      <td>Mr. Owen Harris Braund</td>\n",
       "      <td>0.</td>\n",
       "      <td>22.0</td>\n",
       "      <td>1</td>\n",
       "      <td>0</td>\n",
       "      <td>7.2500</td>\n",
       "    </tr>\n",
       "    <tr>\n",
       "      <th>1</th>\n",
       "      <td>1</td>\n",
       "      <td>1</td>\n",
       "      <td>Mrs. John Bradley (Florence Briggs Thayer) Cum...</td>\n",
       "      <td>1</td>\n",
       "      <td>38.0</td>\n",
       "      <td>1</td>\n",
       "      <td>0</td>\n",
       "      <td>71.2833</td>\n",
       "    </tr>\n",
       "    <tr>\n",
       "      <th>2</th>\n",
       "      <td>1</td>\n",
       "      <td>3</td>\n",
       "      <td>Miss. Laina Heikkinen</td>\n",
       "      <td>1</td>\n",
       "      <td>26.0</td>\n",
       "      <td>0</td>\n",
       "      <td>0</td>\n",
       "      <td>7.9250</td>\n",
       "    </tr>\n",
       "    <tr>\n",
       "      <th>3</th>\n",
       "      <td>1</td>\n",
       "      <td>1</td>\n",
       "      <td>Mrs. Jacques Heath (Lily May Peel) Futrelle</td>\n",
       "      <td>1</td>\n",
       "      <td>35.0</td>\n",
       "      <td>1</td>\n",
       "      <td>0</td>\n",
       "      <td>53.1000</td>\n",
       "    </tr>\n",
       "    <tr>\n",
       "      <th>4</th>\n",
       "      <td>0</td>\n",
       "      <td>3</td>\n",
       "      <td>Mr. William Henry Allen</td>\n",
       "      <td>0.</td>\n",
       "      <td>35.0</td>\n",
       "      <td>0</td>\n",
       "      <td>0</td>\n",
       "      <td>8.0500</td>\n",
       "    </tr>\n",
       "  </tbody>\n",
       "</table>\n",
       "</div>"
      ],
      "text/plain": [
       "   Survived  Pclass                                               Name Sex  \\\n",
       "0         0       3                             Mr. Owen Harris Braund  0.   \n",
       "1         1       1  Mrs. John Bradley (Florence Briggs Thayer) Cum...   1   \n",
       "2         1       3                              Miss. Laina Heikkinen   1   \n",
       "3         1       1        Mrs. Jacques Heath (Lily May Peel) Futrelle   1   \n",
       "4         0       3                            Mr. William Henry Allen  0.   \n",
       "\n",
       "    Age  Siblings/Spouses Aboard  Parents/Children Aboard     Fare  \n",
       "0  22.0                        1                        0   7.2500  \n",
       "1  38.0                        1                        0  71.2833  \n",
       "2  26.0                        0                        0   7.9250  \n",
       "3  35.0                        1                        0  53.1000  \n",
       "4  35.0                        0                        0   8.0500  "
      ]
     },
     "execution_count": 6,
     "metadata": {},
     "output_type": "execute_result"
    }
   ],
   "source": [
    "titanic.head()"
   ]
  },
  {
   "cell_type": "code",
   "execution_count": 7,
   "metadata": {},
   "outputs": [
    {
     "data": {
      "text/plain": [
       "0.    573\n",
       "1     314\n",
       "Name: Sex, dtype: int64"
      ]
     },
     "execution_count": 7,
     "metadata": {},
     "output_type": "execute_result"
    }
   ],
   "source": [
    "titanic['Sex'].value_counts()"
   ]
  },
  {
   "cell_type": "code",
   "execution_count": 8,
   "metadata": {},
   "outputs": [],
   "source": [
    "titanic['Sex'] = titanic['Sex'].astype('float')"
   ]
  },
  {
   "cell_type": "code",
   "execution_count": 9,
   "metadata": {},
   "outputs": [
    {
     "data": {
      "text/html": [
       "<div>\n",
       "<style scoped>\n",
       "    .dataframe tbody tr th:only-of-type {\n",
       "        vertical-align: middle;\n",
       "    }\n",
       "\n",
       "    .dataframe tbody tr th {\n",
       "        vertical-align: top;\n",
       "    }\n",
       "\n",
       "    .dataframe thead th {\n",
       "        text-align: right;\n",
       "    }\n",
       "</style>\n",
       "<table border=\"1\" class=\"dataframe\">\n",
       "  <thead>\n",
       "    <tr style=\"text-align: right;\">\n",
       "      <th></th>\n",
       "      <th>Survived</th>\n",
       "      <th>Pclass</th>\n",
       "      <th>Name</th>\n",
       "      <th>Sex</th>\n",
       "      <th>Age</th>\n",
       "      <th>Siblings/Spouses Aboard</th>\n",
       "      <th>Parents/Children Aboard</th>\n",
       "      <th>Fare</th>\n",
       "    </tr>\n",
       "  </thead>\n",
       "  <tbody>\n",
       "    <tr>\n",
       "      <th>0</th>\n",
       "      <td>0</td>\n",
       "      <td>3</td>\n",
       "      <td>Mr. Owen Harris Braund</td>\n",
       "      <td>0.0</td>\n",
       "      <td>22.0</td>\n",
       "      <td>1</td>\n",
       "      <td>0</td>\n",
       "      <td>7.2500</td>\n",
       "    </tr>\n",
       "    <tr>\n",
       "      <th>1</th>\n",
       "      <td>1</td>\n",
       "      <td>1</td>\n",
       "      <td>Mrs. John Bradley (Florence Briggs Thayer) Cum...</td>\n",
       "      <td>1.0</td>\n",
       "      <td>38.0</td>\n",
       "      <td>1</td>\n",
       "      <td>0</td>\n",
       "      <td>71.2833</td>\n",
       "    </tr>\n",
       "    <tr>\n",
       "      <th>2</th>\n",
       "      <td>1</td>\n",
       "      <td>3</td>\n",
       "      <td>Miss. Laina Heikkinen</td>\n",
       "      <td>1.0</td>\n",
       "      <td>26.0</td>\n",
       "      <td>0</td>\n",
       "      <td>0</td>\n",
       "      <td>7.9250</td>\n",
       "    </tr>\n",
       "    <tr>\n",
       "      <th>3</th>\n",
       "      <td>1</td>\n",
       "      <td>1</td>\n",
       "      <td>Mrs. Jacques Heath (Lily May Peel) Futrelle</td>\n",
       "      <td>1.0</td>\n",
       "      <td>35.0</td>\n",
       "      <td>1</td>\n",
       "      <td>0</td>\n",
       "      <td>53.1000</td>\n",
       "    </tr>\n",
       "    <tr>\n",
       "      <th>4</th>\n",
       "      <td>0</td>\n",
       "      <td>3</td>\n",
       "      <td>Mr. William Henry Allen</td>\n",
       "      <td>0.0</td>\n",
       "      <td>35.0</td>\n",
       "      <td>0</td>\n",
       "      <td>0</td>\n",
       "      <td>8.0500</td>\n",
       "    </tr>\n",
       "  </tbody>\n",
       "</table>\n",
       "</div>"
      ],
      "text/plain": [
       "   Survived  Pclass                                               Name  Sex  \\\n",
       "0         0       3                             Mr. Owen Harris Braund  0.0   \n",
       "1         1       1  Mrs. John Bradley (Florence Briggs Thayer) Cum...  1.0   \n",
       "2         1       3                              Miss. Laina Heikkinen  1.0   \n",
       "3         1       1        Mrs. Jacques Heath (Lily May Peel) Futrelle  1.0   \n",
       "4         0       3                            Mr. William Henry Allen  0.0   \n",
       "\n",
       "    Age  Siblings/Spouses Aboard  Parents/Children Aboard     Fare  \n",
       "0  22.0                        1                        0   7.2500  \n",
       "1  38.0                        1                        0  71.2833  \n",
       "2  26.0                        0                        0   7.9250  \n",
       "3  35.0                        1                        0  53.1000  \n",
       "4  35.0                        0                        0   8.0500  "
      ]
     },
     "execution_count": 9,
     "metadata": {},
     "output_type": "execute_result"
    }
   ],
   "source": [
    "titanic.head()"
   ]
  },
  {
   "cell_type": "markdown",
   "metadata": {},
   "source": [
    "## 정수를 실수로 변환하기"
   ]
  },
  {
   "cell_type": "code",
   "execution_count": 10,
   "metadata": {},
   "outputs": [
    {
     "data": {
      "text/plain": [
       "Survived                     int64\n",
       "Pclass                       int64\n",
       "Name                        object\n",
       "Sex                        float64\n",
       "Age                        float64\n",
       "Siblings/Spouses Aboard      int64\n",
       "Parents/Children Aboard      int64\n",
       "Fare                       float64\n",
       "dtype: object"
      ]
     },
     "execution_count": 10,
     "metadata": {},
     "output_type": "execute_result"
    }
   ],
   "source": [
    "titanic.dtypes"
   ]
  },
  {
   "cell_type": "code",
   "execution_count": 11,
   "metadata": {},
   "outputs": [],
   "source": [
    "titanic['Survived'] = titanic['Survived'].astype('float')\n",
    "titanic['Pclass'] = titanic['Pclass'].astype('float')\n"
   ]
  },
  {
   "cell_type": "code",
   "execution_count": 12,
   "metadata": {},
   "outputs": [
    {
     "data": {
      "text/plain": [
       "Survived                   float64\n",
       "Pclass                     float64\n",
       "Name                        object\n",
       "Sex                        float64\n",
       "Age                        float64\n",
       "Siblings/Spouses Aboard      int64\n",
       "Parents/Children Aboard      int64\n",
       "Fare                       float64\n",
       "dtype: object"
      ]
     },
     "execution_count": 12,
     "metadata": {},
     "output_type": "execute_result"
    }
   ],
   "source": [
    "titanic.dtypes"
   ]
  },
  {
   "cell_type": "code",
   "execution_count": 13,
   "metadata": {},
   "outputs": [
    {
     "data": {
      "text/plain": [
       "array([[0.0, 3.0, 'Mr. Owen Harris Braund', ..., 1, 0, 7.25],\n",
       "       [1.0, 1.0, 'Mrs. John Bradley (Florence Briggs Thayer) Cumings',\n",
       "        ..., 1, 0, 71.2833],\n",
       "       [1.0, 3.0, 'Miss. Laina Heikkinen', ..., 0, 0, 7.925],\n",
       "       ...,\n",
       "       [0.0, 3.0, 'Miss. Catherine Helen Johnston', ..., 1, 2, 23.45],\n",
       "       [1.0, 1.0, 'Mr. Karl Howell Behr', ..., 0, 0, 30.0],\n",
       "       [0.0, 3.0, 'Mr. Patrick Dooley', ..., 0, 0, 7.75]], dtype=object)"
      ]
     },
     "execution_count": 13,
     "metadata": {},
     "output_type": "execute_result"
    }
   ],
   "source": [
    "titanic.values"
   ]
  },
  {
   "cell_type": "markdown",
   "metadata": {},
   "source": [
    "## 학습 및 테스트 데이터로 분리하기\n",
    "\n",
    "   pclass , Sex, Age, Fare를 가지고 구하기 "
   ]
  },
  {
   "cell_type": "code",
   "execution_count": 40,
   "metadata": {},
   "outputs": [],
   "source": [
    "x_data = titanic.values[:, [1,3,4,7]]\n",
    "y_data = titanic.values[:, [0]]\n",
    "\n",
    "from sklearn.model_selection import train_test_split\n",
    "X_train, X_test, y_train, y_test = train_test_split(x_data, y_data, \n",
    "                                                    test_size=0.1, random_state=7)"
   ]
  },
  {
   "cell_type": "code",
   "execution_count": 41,
   "metadata": {},
   "outputs": [
    {
     "data": {
      "text/plain": [
       "(798, 4)"
      ]
     },
     "execution_count": 41,
     "metadata": {},
     "output_type": "execute_result"
    }
   ],
   "source": [
    "X_train.shape"
   ]
  },
  {
   "cell_type": "code",
   "execution_count": 42,
   "metadata": {},
   "outputs": [
    {
     "data": {
      "text/plain": [
       "(89, 4)"
      ]
     },
     "execution_count": 42,
     "metadata": {},
     "output_type": "execute_result"
    }
   ],
   "source": [
    "X_test.shape"
   ]
  },
  {
   "cell_type": "code",
   "execution_count": null,
   "metadata": {},
   "outputs": [],
   "source": []
  },
  {
   "cell_type": "markdown",
   "metadata": {},
   "source": [
    "# 2. 모델 만들기"
   ]
  },
  {
   "cell_type": "code",
   "execution_count": 17,
   "metadata": {},
   "outputs": [
    {
     "name": "stderr",
     "output_type": "stream",
     "text": [
      "Using TensorFlow backend.\n"
     ]
    }
   ],
   "source": [
    "import keras"
   ]
  },
  {
   "cell_type": "code",
   "execution_count": 18,
   "metadata": {},
   "outputs": [
    {
     "data": {
      "text/plain": [
       "'2.3.1'"
      ]
     },
     "execution_count": 18,
     "metadata": {},
     "output_type": "execute_result"
    }
   ],
   "source": [
    "keras.__version__"
   ]
  },
  {
   "cell_type": "code",
   "execution_count": 19,
   "metadata": {},
   "outputs": [],
   "source": [
    "import tensorflow as tf "
   ]
  },
  {
   "cell_type": "code",
   "execution_count": 20,
   "metadata": {},
   "outputs": [
    {
     "data": {
      "text/plain": [
       "'2.2.4-tf'"
      ]
     },
     "execution_count": 20,
     "metadata": {},
     "output_type": "execute_result"
    }
   ],
   "source": [
    "tf.keras.__version__"
   ]
  },
  {
   "cell_type": "code",
   "execution_count": null,
   "metadata": {},
   "outputs": [],
   "source": []
  },
  {
   "cell_type": "code",
   "execution_count": 21,
   "metadata": {},
   "outputs": [],
   "source": [
    "from keras import  models\n",
    "from keras import  layers"
   ]
  },
  {
   "cell_type": "code",
   "execution_count": null,
   "metadata": {},
   "outputs": [],
   "source": []
  },
  {
   "cell_type": "markdown",
   "metadata": {},
   "source": [
    "## 히든 1, 출력 1로 정의하기"
   ]
  },
  {
   "cell_type": "code",
   "execution_count": 43,
   "metadata": {},
   "outputs": [],
   "source": [
    "model = models.Sequential()"
   ]
  },
  {
   "cell_type": "code",
   "execution_count": 44,
   "metadata": {},
   "outputs": [],
   "source": [
    "model.add(layers.Dense(255, activation='relu', input_shape=(4,)))"
   ]
  },
  {
   "cell_type": "code",
   "execution_count": 45,
   "metadata": {},
   "outputs": [],
   "source": [
    "model.add(layers.Dense(1, activation='sigmoid'))"
   ]
  },
  {
   "cell_type": "code",
   "execution_count": null,
   "metadata": {},
   "outputs": [],
   "source": []
  },
  {
   "cell_type": "code",
   "execution_count": 46,
   "metadata": {},
   "outputs": [
    {
     "name": "stdout",
     "output_type": "stream",
     "text": [
      "Model: \"sequential_2\"\n",
      "_________________________________________________________________\n",
      "Layer (type)                 Output Shape              Param #   \n",
      "=================================================================\n",
      "dense_3 (Dense)              (None, 255)               1275      \n",
      "_________________________________________________________________\n",
      "dense_4 (Dense)              (None, 1)                 256       \n",
      "=================================================================\n",
      "Total params: 1,531\n",
      "Trainable params: 1,531\n",
      "Non-trainable params: 0\n",
      "_________________________________________________________________\n"
     ]
    }
   ],
   "source": [
    "model.summary()"
   ]
  },
  {
   "cell_type": "code",
   "execution_count": null,
   "metadata": {},
   "outputs": [],
   "source": []
  },
  {
   "cell_type": "code",
   "execution_count": 47,
   "metadata": {},
   "outputs": [],
   "source": [
    "model.compile(loss='binary_crossentropy', optimizer='adam',metrics=['accuracy'])"
   ]
  },
  {
   "cell_type": "markdown",
   "metadata": {},
   "source": [
    "## 학습하기"
   ]
  },
  {
   "cell_type": "code",
   "execution_count": 48,
   "metadata": {},
   "outputs": [
    {
     "name": "stdout",
     "output_type": "stream",
     "text": [
      "Train on 798 samples, validate on 89 samples\n",
      "Epoch 1/500\n",
      "798/798 [==============================] - 0s 183us/step - loss: 0.7162 - accuracy: 0.6429 - val_loss: 0.6215 - val_accuracy: 0.5730\n",
      "Epoch 2/500\n",
      "798/798 [==============================] - 0s 33us/step - loss: 0.6067 - accuracy: 0.6930 - val_loss: 0.5546 - val_accuracy: 0.7303\n",
      "Epoch 3/500\n",
      "798/798 [==============================] - 0s 32us/step - loss: 0.5637 - accuracy: 0.7043 - val_loss: 0.5229 - val_accuracy: 0.7079\n",
      "Epoch 4/500\n",
      "798/798 [==============================] - 0s 32us/step - loss: 0.5656 - accuracy: 0.6992 - val_loss: 0.5160 - val_accuracy: 0.7191\n",
      "Epoch 5/500\n",
      "798/798 [==============================] - 0s 30us/step - loss: 0.5630 - accuracy: 0.7281 - val_loss: 0.5781 - val_accuracy: 0.6292\n",
      "Epoch 6/500\n",
      "798/798 [==============================] - 0s 30us/step - loss: 0.5310 - accuracy: 0.7193 - val_loss: 0.4751 - val_accuracy: 0.7528\n",
      "Epoch 7/500\n",
      "798/798 [==============================] - 0s 30us/step - loss: 0.5076 - accuracy: 0.7556 - val_loss: 0.4664 - val_accuracy: 0.7865\n",
      "Epoch 8/500\n",
      "798/798 [==============================] - 0s 28us/step - loss: 0.5048 - accuracy: 0.7456 - val_loss: 0.4684 - val_accuracy: 0.7640\n",
      "Epoch 9/500\n",
      "798/798 [==============================] - 0s 29us/step - loss: 0.4945 - accuracy: 0.7506 - val_loss: 0.4582 - val_accuracy: 0.7865\n",
      "Epoch 10/500\n",
      "798/798 [==============================] - 0s 29us/step - loss: 0.4941 - accuracy: 0.7632 - val_loss: 0.4587 - val_accuracy: 0.8315\n",
      "Epoch 11/500\n",
      "798/798 [==============================] - 0s 28us/step - loss: 0.4763 - accuracy: 0.7820 - val_loss: 0.4335 - val_accuracy: 0.8202\n",
      "Epoch 12/500\n",
      "798/798 [==============================] - 0s 30us/step - loss: 0.4856 - accuracy: 0.7769 - val_loss: 0.4306 - val_accuracy: 0.7978\n",
      "Epoch 13/500\n",
      "798/798 [==============================] - 0s 28us/step - loss: 0.4898 - accuracy: 0.7594 - val_loss: 0.5960 - val_accuracy: 0.6966\n",
      "Epoch 14/500\n",
      "798/798 [==============================] - 0s 29us/step - loss: 0.5215 - accuracy: 0.7581 - val_loss: 0.4325 - val_accuracy: 0.7978\n",
      "Epoch 15/500\n",
      "798/798 [==============================] - 0s 28us/step - loss: 0.4971 - accuracy: 0.7644 - val_loss: 0.4269 - val_accuracy: 0.8090\n",
      "Epoch 16/500\n",
      "798/798 [==============================] - 0s 29us/step - loss: 0.4687 - accuracy: 0.7782 - val_loss: 0.4199 - val_accuracy: 0.8090\n",
      "Epoch 17/500\n",
      "798/798 [==============================] - 0s 28us/step - loss: 0.4711 - accuracy: 0.7782 - val_loss: 0.4228 - val_accuracy: 0.7978\n",
      "Epoch 18/500\n",
      "798/798 [==============================] - 0s 30us/step - loss: 0.4879 - accuracy: 0.7694 - val_loss: 0.4154 - val_accuracy: 0.7978\n",
      "Epoch 19/500\n",
      "798/798 [==============================] - 0s 29us/step - loss: 0.4747 - accuracy: 0.7807 - val_loss: 0.4097 - val_accuracy: 0.8090\n",
      "Epoch 20/500\n",
      "798/798 [==============================] - 0s 28us/step - loss: 0.4691 - accuracy: 0.7732 - val_loss: 0.4119 - val_accuracy: 0.7978\n",
      "Epoch 21/500\n",
      "798/798 [==============================] - 0s 29us/step - loss: 0.4608 - accuracy: 0.7870 - val_loss: 0.4617 - val_accuracy: 0.7978\n",
      "Epoch 22/500\n",
      "798/798 [==============================] - 0s 29us/step - loss: 0.5020 - accuracy: 0.7719 - val_loss: 0.4437 - val_accuracy: 0.7753\n",
      "Epoch 23/500\n",
      "798/798 [==============================] - 0s 27us/step - loss: 0.4552 - accuracy: 0.7782 - val_loss: 0.4392 - val_accuracy: 0.7640\n",
      "Epoch 24/500\n",
      "798/798 [==============================] - 0s 26us/step - loss: 0.4959 - accuracy: 0.7607 - val_loss: 0.4418 - val_accuracy: 0.7865\n",
      "Epoch 25/500\n",
      "798/798 [==============================] - 0s 28us/step - loss: 0.4870 - accuracy: 0.7719 - val_loss: 0.4089 - val_accuracy: 0.8315\n",
      "Epoch 26/500\n",
      "798/798 [==============================] - 0s 28us/step - loss: 0.4765 - accuracy: 0.7782 - val_loss: 0.4070 - val_accuracy: 0.7865\n",
      "Epoch 27/500\n",
      "798/798 [==============================] - 0s 29us/step - loss: 0.4638 - accuracy: 0.7782 - val_loss: 0.4106 - val_accuracy: 0.8427\n",
      "Epoch 28/500\n",
      "798/798 [==============================] - 0s 28us/step - loss: 0.4709 - accuracy: 0.7694 - val_loss: 0.4076 - val_accuracy: 0.8090\n",
      "Epoch 29/500\n",
      "798/798 [==============================] - 0s 28us/step - loss: 0.4669 - accuracy: 0.7744 - val_loss: 0.4120 - val_accuracy: 0.8202\n",
      "Epoch 30/500\n",
      "798/798 [==============================] - 0s 32us/step - loss: 0.4772 - accuracy: 0.7707 - val_loss: 0.4188 - val_accuracy: 0.8315\n",
      "Epoch 31/500\n",
      "798/798 [==============================] - 0s 29us/step - loss: 0.4644 - accuracy: 0.7794 - val_loss: 0.4513 - val_accuracy: 0.8202\n",
      "Epoch 32/500\n",
      "798/798 [==============================] - 0s 28us/step - loss: 0.4827 - accuracy: 0.7732 - val_loss: 0.4300 - val_accuracy: 0.8090\n",
      "Epoch 33/500\n",
      "798/798 [==============================] - 0s 28us/step - loss: 0.4771 - accuracy: 0.7870 - val_loss: 0.4177 - val_accuracy: 0.8202\n",
      "Epoch 34/500\n",
      "798/798 [==============================] - 0s 29us/step - loss: 0.4675 - accuracy: 0.7807 - val_loss: 0.4071 - val_accuracy: 0.8202\n",
      "Epoch 35/500\n",
      "798/798 [==============================] - 0s 28us/step - loss: 0.5018 - accuracy: 0.7732 - val_loss: 0.4668 - val_accuracy: 0.8202\n",
      "Epoch 36/500\n",
      "798/798 [==============================] - 0s 29us/step - loss: 0.4705 - accuracy: 0.7782 - val_loss: 0.4025 - val_accuracy: 0.7978\n",
      "Epoch 37/500\n",
      "798/798 [==============================] - 0s 28us/step - loss: 0.4638 - accuracy: 0.7932 - val_loss: 0.4119 - val_accuracy: 0.8090\n",
      "Epoch 38/500\n",
      "798/798 [==============================] - 0s 30us/step - loss: 0.4727 - accuracy: 0.7757 - val_loss: 0.4119 - val_accuracy: 0.8427\n",
      "Epoch 39/500\n",
      "798/798 [==============================] - 0s 29us/step - loss: 0.4517 - accuracy: 0.7794 - val_loss: 0.4289 - val_accuracy: 0.8315\n",
      "Epoch 40/500\n",
      "798/798 [==============================] - 0s 28us/step - loss: 0.4947 - accuracy: 0.7857 - val_loss: 0.4310 - val_accuracy: 0.7978\n",
      "Epoch 41/500\n",
      "798/798 [==============================] - 0s 29us/step - loss: 0.4825 - accuracy: 0.7769 - val_loss: 0.4063 - val_accuracy: 0.7978\n",
      "Epoch 42/500\n",
      "798/798 [==============================] - 0s 28us/step - loss: 0.4809 - accuracy: 0.7719 - val_loss: 0.4568 - val_accuracy: 0.8202\n",
      "Epoch 43/500\n",
      "798/798 [==============================] - 0s 32us/step - loss: 0.4983 - accuracy: 0.7732 - val_loss: 0.4344 - val_accuracy: 0.7753\n",
      "Epoch 44/500\n",
      "798/798 [==============================] - 0s 28us/step - loss: 0.4952 - accuracy: 0.7820 - val_loss: 0.4095 - val_accuracy: 0.8090\n",
      "Epoch 45/500\n",
      "798/798 [==============================] - 0s 28us/step - loss: 0.4549 - accuracy: 0.7794 - val_loss: 0.4187 - val_accuracy: 0.7865\n",
      "Epoch 46/500\n",
      "798/798 [==============================] - 0s 27us/step - loss: 0.4589 - accuracy: 0.7870 - val_loss: 0.4181 - val_accuracy: 0.7978\n",
      "Epoch 47/500\n",
      "798/798 [==============================] - 0s 29us/step - loss: 0.4531 - accuracy: 0.7857 - val_loss: 0.4096 - val_accuracy: 0.8202\n",
      "Epoch 48/500\n",
      "798/798 [==============================] - 0s 28us/step - loss: 0.4541 - accuracy: 0.7794 - val_loss: 0.4087 - val_accuracy: 0.8090\n",
      "Epoch 49/500\n",
      "798/798 [==============================] - 0s 30us/step - loss: 0.4456 - accuracy: 0.7832 - val_loss: 0.4331 - val_accuracy: 0.8202\n",
      "Epoch 50/500\n",
      "798/798 [==============================] - 0s 31us/step - loss: 0.4585 - accuracy: 0.7907 - val_loss: 0.4138 - val_accuracy: 0.8315\n",
      "Epoch 51/500\n",
      "798/798 [==============================] - 0s 33us/step - loss: 0.4515 - accuracy: 0.7820 - val_loss: 0.4110 - val_accuracy: 0.7978\n",
      "Epoch 52/500\n",
      "798/798 [==============================] - 0s 31us/step - loss: 0.4513 - accuracy: 0.7707 - val_loss: 0.4163 - val_accuracy: 0.7865\n",
      "Epoch 53/500\n",
      "798/798 [==============================] - 0s 34us/step - loss: 0.4588 - accuracy: 0.7832 - val_loss: 0.4112 - val_accuracy: 0.8090\n",
      "Epoch 54/500\n",
      "798/798 [==============================] - 0s 34us/step - loss: 0.4401 - accuracy: 0.7845 - val_loss: 0.4341 - val_accuracy: 0.8539\n",
      "Epoch 55/500\n",
      "798/798 [==============================] - 0s 31us/step - loss: 0.4516 - accuracy: 0.7907 - val_loss: 0.4135 - val_accuracy: 0.8090\n",
      "Epoch 56/500\n",
      "798/798 [==============================] - 0s 31us/step - loss: 0.4597 - accuracy: 0.7782 - val_loss: 0.4062 - val_accuracy: 0.8090\n",
      "Epoch 57/500\n"
     ]
    },
    {
     "name": "stdout",
     "output_type": "stream",
     "text": [
      "798/798 [==============================] - 0s 31us/step - loss: 0.4661 - accuracy: 0.7794 - val_loss: 0.5327 - val_accuracy: 0.7978\n",
      "Epoch 58/500\n",
      "798/798 [==============================] - 0s 30us/step - loss: 0.4803 - accuracy: 0.7845 - val_loss: 0.4265 - val_accuracy: 0.8202\n",
      "Epoch 59/500\n",
      "798/798 [==============================] - 0s 28us/step - loss: 0.4870 - accuracy: 0.7807 - val_loss: 0.5176 - val_accuracy: 0.8202\n",
      "Epoch 60/500\n",
      "798/798 [==============================] - 0s 28us/step - loss: 0.4790 - accuracy: 0.7744 - val_loss: 0.4861 - val_accuracy: 0.8427\n",
      "Epoch 61/500\n",
      "798/798 [==============================] - 0s 27us/step - loss: 0.4636 - accuracy: 0.7870 - val_loss: 0.4126 - val_accuracy: 0.7865\n",
      "Epoch 62/500\n",
      "798/798 [==============================] - 0s 30us/step - loss: 0.4459 - accuracy: 0.7870 - val_loss: 0.4076 - val_accuracy: 0.8090\n",
      "Epoch 63/500\n",
      "798/798 [==============================] - 0s 28us/step - loss: 0.4417 - accuracy: 0.7920 - val_loss: 0.4171 - val_accuracy: 0.7865\n",
      "Epoch 64/500\n",
      "798/798 [==============================] - 0s 29us/step - loss: 0.4566 - accuracy: 0.7882 - val_loss: 0.4105 - val_accuracy: 0.7865\n",
      "Epoch 65/500\n",
      "798/798 [==============================] - 0s 29us/step - loss: 0.4653 - accuracy: 0.7870 - val_loss: 0.4129 - val_accuracy: 0.8652\n",
      "Epoch 66/500\n",
      "798/798 [==============================] - 0s 30us/step - loss: 0.4550 - accuracy: 0.7932 - val_loss: 0.4163 - val_accuracy: 0.7753\n",
      "Epoch 67/500\n",
      "798/798 [==============================] - 0s 29us/step - loss: 0.4536 - accuracy: 0.7732 - val_loss: 0.4206 - val_accuracy: 0.8090\n",
      "Epoch 68/500\n",
      "798/798 [==============================] - 0s 29us/step - loss: 0.4396 - accuracy: 0.7907 - val_loss: 0.4091 - val_accuracy: 0.8090\n",
      "Epoch 69/500\n",
      "798/798 [==============================] - 0s 28us/step - loss: 0.4469 - accuracy: 0.7932 - val_loss: 0.4437 - val_accuracy: 0.8202\n",
      "Epoch 70/500\n",
      "798/798 [==============================] - 0s 28us/step - loss: 0.4577 - accuracy: 0.7882 - val_loss: 0.4209 - val_accuracy: 0.7978\n",
      "Epoch 71/500\n",
      "798/798 [==============================] - 0s 30us/step - loss: 0.4583 - accuracy: 0.7920 - val_loss: 0.4535 - val_accuracy: 0.8090\n",
      "Epoch 72/500\n",
      "798/798 [==============================] - 0s 27us/step - loss: 0.4627 - accuracy: 0.7882 - val_loss: 0.4138 - val_accuracy: 0.7865\n",
      "Epoch 73/500\n",
      "798/798 [==============================] - 0s 27us/step - loss: 0.4556 - accuracy: 0.7882 - val_loss: 0.4392 - val_accuracy: 0.8427\n",
      "Epoch 74/500\n",
      "798/798 [==============================] - 0s 30us/step - loss: 0.5022 - accuracy: 0.7945 - val_loss: 0.4293 - val_accuracy: 0.8539\n",
      "Epoch 75/500\n",
      "798/798 [==============================] - 0s 28us/step - loss: 0.4717 - accuracy: 0.7820 - val_loss: 0.4172 - val_accuracy: 0.7978\n",
      "Epoch 76/500\n",
      "798/798 [==============================] - 0s 30us/step - loss: 0.4722 - accuracy: 0.7820 - val_loss: 0.4079 - val_accuracy: 0.8427\n",
      "Epoch 77/500\n",
      "798/798 [==============================] - 0s 30us/step - loss: 0.4429 - accuracy: 0.7945 - val_loss: 0.4327 - val_accuracy: 0.7865\n",
      "Epoch 78/500\n",
      "798/798 [==============================] - 0s 29us/step - loss: 0.4430 - accuracy: 0.7782 - val_loss: 0.4083 - val_accuracy: 0.8090\n",
      "Epoch 79/500\n",
      "798/798 [==============================] - 0s 28us/step - loss: 0.4410 - accuracy: 0.7945 - val_loss: 0.4197 - val_accuracy: 0.7978\n",
      "Epoch 80/500\n",
      "798/798 [==============================] - 0s 29us/step - loss: 0.4365 - accuracy: 0.7895 - val_loss: 0.4111 - val_accuracy: 0.7753\n",
      "Epoch 81/500\n",
      "798/798 [==============================] - 0s 28us/step - loss: 0.4678 - accuracy: 0.7782 - val_loss: 0.4857 - val_accuracy: 0.8090\n",
      "Epoch 82/500\n",
      "798/798 [==============================] - 0s 30us/step - loss: 0.4842 - accuracy: 0.7845 - val_loss: 0.5104 - val_accuracy: 0.7640\n",
      "Epoch 83/500\n",
      "798/798 [==============================] - 0s 28us/step - loss: 0.4812 - accuracy: 0.7907 - val_loss: 0.4113 - val_accuracy: 0.8652\n",
      "Epoch 84/500\n",
      "798/798 [==============================] - 0s 28us/step - loss: 0.4335 - accuracy: 0.7920 - val_loss: 0.4139 - val_accuracy: 0.7978\n",
      "Epoch 85/500\n",
      "798/798 [==============================] - 0s 29us/step - loss: 0.4539 - accuracy: 0.7895 - val_loss: 0.4091 - val_accuracy: 0.8539\n",
      "Epoch 86/500\n",
      "798/798 [==============================] - 0s 30us/step - loss: 0.4345 - accuracy: 0.8083 - val_loss: 0.4683 - val_accuracy: 0.8090\n",
      "Epoch 87/500\n",
      "798/798 [==============================] - 0s 29us/step - loss: 0.4467 - accuracy: 0.7982 - val_loss: 0.4048 - val_accuracy: 0.8539\n",
      "Epoch 88/500\n",
      "798/798 [==============================] - 0s 29us/step - loss: 0.4416 - accuracy: 0.8033 - val_loss: 0.4164 - val_accuracy: 0.7978\n",
      "Epoch 89/500\n",
      "798/798 [==============================] - 0s 29us/step - loss: 0.4714 - accuracy: 0.7857 - val_loss: 0.4331 - val_accuracy: 0.8427\n",
      "Epoch 90/500\n",
      "798/798 [==============================] - 0s 30us/step - loss: 0.4549 - accuracy: 0.7895 - val_loss: 0.4055 - val_accuracy: 0.8315\n",
      "Epoch 91/500\n",
      "798/798 [==============================] - 0s 30us/step - loss: 0.4273 - accuracy: 0.8020 - val_loss: 0.4128 - val_accuracy: 0.7978\n",
      "Epoch 92/500\n",
      "798/798 [==============================] - 0s 31us/step - loss: 0.4526 - accuracy: 0.8020 - val_loss: 0.4452 - val_accuracy: 0.8539\n",
      "Epoch 93/500\n",
      "798/798 [==============================] - 0s 31us/step - loss: 0.4429 - accuracy: 0.7995 - val_loss: 0.4139 - val_accuracy: 0.7753\n",
      "Epoch 94/500\n",
      "798/798 [==============================] - 0s 30us/step - loss: 0.4731 - accuracy: 0.7820 - val_loss: 0.4114 - val_accuracy: 0.8539\n",
      "Epoch 95/500\n",
      "798/798 [==============================] - 0s 31us/step - loss: 0.4560 - accuracy: 0.8033 - val_loss: 0.4204 - val_accuracy: 0.7753\n",
      "Epoch 96/500\n",
      "798/798 [==============================] - 0s 30us/step - loss: 0.4536 - accuracy: 0.7945 - val_loss: 0.4026 - val_accuracy: 0.8427\n",
      "Epoch 97/500\n",
      "798/798 [==============================] - 0s 27us/step - loss: 0.4301 - accuracy: 0.7995 - val_loss: 0.4269 - val_accuracy: 0.8427\n",
      "Epoch 98/500\n",
      "798/798 [==============================] - 0s 30us/step - loss: 0.4319 - accuracy: 0.8045 - val_loss: 0.4232 - val_accuracy: 0.8539\n",
      "Epoch 99/500\n",
      "798/798 [==============================] - 0s 30us/step - loss: 0.4382 - accuracy: 0.7982 - val_loss: 0.4025 - val_accuracy: 0.8202\n",
      "Epoch 100/500\n",
      "798/798 [==============================] - 0s 29us/step - loss: 0.4337 - accuracy: 0.7970 - val_loss: 0.5320 - val_accuracy: 0.7865\n",
      "Epoch 101/500\n",
      "798/798 [==============================] - 0s 32us/step - loss: 0.4751 - accuracy: 0.7870 - val_loss: 0.4257 - val_accuracy: 0.7753\n",
      "Epoch 102/500\n",
      "798/798 [==============================] - 0s 31us/step - loss: 0.4755 - accuracy: 0.8070 - val_loss: 0.4278 - val_accuracy: 0.8202\n",
      "Epoch 103/500\n",
      "798/798 [==============================] - 0s 29us/step - loss: 0.4421 - accuracy: 0.8020 - val_loss: 0.4099 - val_accuracy: 0.8315\n",
      "Epoch 104/500\n",
      "798/798 [==============================] - 0s 31us/step - loss: 0.4322 - accuracy: 0.7995 - val_loss: 0.4183 - val_accuracy: 0.8427\n",
      "Epoch 105/500\n",
      "798/798 [==============================] - 0s 28us/step - loss: 0.4310 - accuracy: 0.7982 - val_loss: 0.4184 - val_accuracy: 0.7978\n",
      "Epoch 106/500\n",
      "798/798 [==============================] - 0s 31us/step - loss: 0.4686 - accuracy: 0.7995 - val_loss: 0.4480 - val_accuracy: 0.8427\n",
      "Epoch 107/500\n",
      "798/798 [==============================] - 0s 28us/step - loss: 0.4272 - accuracy: 0.8020 - val_loss: 0.4385 - val_accuracy: 0.7753\n",
      "Epoch 108/500\n",
      "798/798 [==============================] - 0s 27us/step - loss: 0.4431 - accuracy: 0.8083 - val_loss: 0.4257 - val_accuracy: 0.8427\n",
      "Epoch 109/500\n",
      "798/798 [==============================] - 0s 29us/step - loss: 0.4450 - accuracy: 0.7957 - val_loss: 0.4128 - val_accuracy: 0.8427\n",
      "Epoch 110/500\n",
      "798/798 [==============================] - 0s 30us/step - loss: 0.4345 - accuracy: 0.8095 - val_loss: 0.4090 - val_accuracy: 0.8427\n",
      "Epoch 111/500\n",
      "798/798 [==============================] - 0s 30us/step - loss: 0.4239 - accuracy: 0.8033 - val_loss: 0.4098 - val_accuracy: 0.8315\n",
      "Epoch 112/500\n",
      "798/798 [==============================] - 0s 29us/step - loss: 0.4325 - accuracy: 0.8020 - val_loss: 0.4067 - val_accuracy: 0.8090\n",
      "Epoch 113/500\n"
     ]
    },
    {
     "name": "stdout",
     "output_type": "stream",
     "text": [
      "798/798 [==============================] - 0s 29us/step - loss: 0.4423 - accuracy: 0.7820 - val_loss: 0.4185 - val_accuracy: 0.7978\n",
      "Epoch 114/500\n",
      "798/798 [==============================] - 0s 31us/step - loss: 0.4397 - accuracy: 0.8070 - val_loss: 0.4111 - val_accuracy: 0.8539\n",
      "Epoch 115/500\n",
      "798/798 [==============================] - 0s 28us/step - loss: 0.4177 - accuracy: 0.8083 - val_loss: 0.4111 - val_accuracy: 0.8202\n",
      "Epoch 116/500\n",
      "798/798 [==============================] - 0s 29us/step - loss: 0.4439 - accuracy: 0.8033 - val_loss: 0.4258 - val_accuracy: 0.7865\n",
      "Epoch 117/500\n",
      "798/798 [==============================] - 0s 29us/step - loss: 0.4620 - accuracy: 0.7995 - val_loss: 0.4021 - val_accuracy: 0.8315\n",
      "Epoch 118/500\n",
      "798/798 [==============================] - 0s 30us/step - loss: 0.4324 - accuracy: 0.8120 - val_loss: 0.4348 - val_accuracy: 0.8427\n",
      "Epoch 119/500\n",
      "798/798 [==============================] - 0s 28us/step - loss: 0.4302 - accuracy: 0.8070 - val_loss: 0.4095 - val_accuracy: 0.7865\n",
      "Epoch 120/500\n",
      "798/798 [==============================] - 0s 29us/step - loss: 0.4353 - accuracy: 0.8045 - val_loss: 0.4125 - val_accuracy: 0.8090\n",
      "Epoch 121/500\n",
      "798/798 [==============================] - 0s 27us/step - loss: 0.4275 - accuracy: 0.8095 - val_loss: 0.4070 - val_accuracy: 0.8090\n",
      "Epoch 122/500\n",
      "798/798 [==============================] - 0s 28us/step - loss: 0.4426 - accuracy: 0.8095 - val_loss: 0.4073 - val_accuracy: 0.8090\n",
      "Epoch 123/500\n",
      "798/798 [==============================] - 0s 28us/step - loss: 0.4453 - accuracy: 0.7957 - val_loss: 0.4364 - val_accuracy: 0.8315\n",
      "Epoch 124/500\n",
      "798/798 [==============================] - 0s 28us/step - loss: 0.4358 - accuracy: 0.8020 - val_loss: 0.4203 - val_accuracy: 0.8427\n",
      "Epoch 125/500\n",
      "798/798 [==============================] - 0s 28us/step - loss: 0.4432 - accuracy: 0.7995 - val_loss: 0.4311 - val_accuracy: 0.8315\n",
      "Epoch 126/500\n",
      "798/798 [==============================] - 0s 29us/step - loss: 0.4601 - accuracy: 0.8008 - val_loss: 0.4368 - val_accuracy: 0.8315\n",
      "Epoch 127/500\n",
      "798/798 [==============================] - 0s 28us/step - loss: 0.4362 - accuracy: 0.8070 - val_loss: 0.4410 - val_accuracy: 0.8315\n",
      "Epoch 128/500\n",
      "798/798 [==============================] - 0s 27us/step - loss: 0.4517 - accuracy: 0.7882 - val_loss: 0.4059 - val_accuracy: 0.8202\n",
      "Epoch 129/500\n",
      "798/798 [==============================] - 0s 28us/step - loss: 0.4346 - accuracy: 0.8133 - val_loss: 0.4011 - val_accuracy: 0.8315\n",
      "Epoch 130/500\n",
      "798/798 [==============================] - 0s 28us/step - loss: 0.4304 - accuracy: 0.8195 - val_loss: 0.4060 - val_accuracy: 0.7978\n",
      "Epoch 131/500\n",
      "798/798 [==============================] - 0s 29us/step - loss: 0.4299 - accuracy: 0.8158 - val_loss: 0.3982 - val_accuracy: 0.8315\n",
      "Epoch 132/500\n",
      "798/798 [==============================] - 0s 28us/step - loss: 0.4196 - accuracy: 0.8095 - val_loss: 0.4116 - val_accuracy: 0.8090\n",
      "Epoch 133/500\n",
      "798/798 [==============================] - 0s 27us/step - loss: 0.4268 - accuracy: 0.8070 - val_loss: 0.4056 - val_accuracy: 0.8202\n",
      "Epoch 134/500\n",
      "798/798 [==============================] - 0s 29us/step - loss: 0.4415 - accuracy: 0.8008 - val_loss: 0.4072 - val_accuracy: 0.8315\n",
      "Epoch 135/500\n",
      "798/798 [==============================] - 0s 29us/step - loss: 0.4412 - accuracy: 0.8045 - val_loss: 0.4037 - val_accuracy: 0.8427\n",
      "Epoch 136/500\n",
      "798/798 [==============================] - 0s 31us/step - loss: 0.4221 - accuracy: 0.8170 - val_loss: 0.4051 - val_accuracy: 0.8202\n",
      "Epoch 137/500\n",
      "798/798 [==============================] - 0s 31us/step - loss: 0.4384 - accuracy: 0.8070 - val_loss: 0.4325 - val_accuracy: 0.7865\n",
      "Epoch 138/500\n",
      "798/798 [==============================] - 0s 29us/step - loss: 0.4517 - accuracy: 0.8108 - val_loss: 0.4065 - val_accuracy: 0.8427\n",
      "Epoch 139/500\n",
      "798/798 [==============================] - 0s 30us/step - loss: 0.4279 - accuracy: 0.8120 - val_loss: 0.4156 - val_accuracy: 0.8427\n",
      "Epoch 140/500\n",
      "798/798 [==============================] - 0s 29us/step - loss: 0.4191 - accuracy: 0.8133 - val_loss: 0.4369 - val_accuracy: 0.8202\n",
      "Epoch 141/500\n",
      "798/798 [==============================] - 0s 29us/step - loss: 0.4570 - accuracy: 0.8083 - val_loss: 0.4227 - val_accuracy: 0.7865\n",
      "Epoch 142/500\n",
      "798/798 [==============================] - 0s 33us/step - loss: 0.4597 - accuracy: 0.7970 - val_loss: 0.4060 - val_accuracy: 0.7978\n",
      "Epoch 143/500\n",
      "798/798 [==============================] - 0s 30us/step - loss: 0.4454 - accuracy: 0.8020 - val_loss: 0.4042 - val_accuracy: 0.8315\n",
      "Epoch 144/500\n",
      "798/798 [==============================] - 0s 30us/step - loss: 0.4324 - accuracy: 0.8108 - val_loss: 0.4031 - val_accuracy: 0.8202\n",
      "Epoch 145/500\n",
      "798/798 [==============================] - 0s 27us/step - loss: 0.4219 - accuracy: 0.8133 - val_loss: 0.4075 - val_accuracy: 0.8315\n",
      "Epoch 146/500\n",
      "798/798 [==============================] - 0s 27us/step - loss: 0.4290 - accuracy: 0.8170 - val_loss: 0.4265 - val_accuracy: 0.8315\n",
      "Epoch 147/500\n",
      "798/798 [==============================] - 0s 29us/step - loss: 0.4350 - accuracy: 0.8158 - val_loss: 0.4027 - val_accuracy: 0.8315\n",
      "Epoch 148/500\n",
      "798/798 [==============================] - 0s 29us/step - loss: 0.4224 - accuracy: 0.8158 - val_loss: 0.4258 - val_accuracy: 0.8090\n",
      "Epoch 149/500\n",
      "798/798 [==============================] - 0s 30us/step - loss: 0.4224 - accuracy: 0.8221 - val_loss: 0.4295 - val_accuracy: 0.8427\n",
      "Epoch 150/500\n",
      "798/798 [==============================] - 0s 30us/step - loss: 0.4227 - accuracy: 0.8145 - val_loss: 0.4300 - val_accuracy: 0.8427\n",
      "Epoch 151/500\n",
      "798/798 [==============================] - 0s 30us/step - loss: 0.4658 - accuracy: 0.8045 - val_loss: 0.4063 - val_accuracy: 0.8090\n",
      "Epoch 152/500\n",
      "798/798 [==============================] - 0s 29us/step - loss: 0.4657 - accuracy: 0.8045 - val_loss: 0.4830 - val_accuracy: 0.8315\n",
      "Epoch 153/500\n",
      "798/798 [==============================] - 0s 30us/step - loss: 0.4369 - accuracy: 0.8108 - val_loss: 0.4394 - val_accuracy: 0.7978\n",
      "Epoch 154/500\n",
      "798/798 [==============================] - 0s 29us/step - loss: 0.4853 - accuracy: 0.7907 - val_loss: 0.4175 - val_accuracy: 0.7865\n",
      "Epoch 155/500\n",
      "798/798 [==============================] - 0s 29us/step - loss: 0.4311 - accuracy: 0.8145 - val_loss: 0.4226 - val_accuracy: 0.8427\n",
      "Epoch 156/500\n",
      "798/798 [==============================] - 0s 30us/step - loss: 0.4171 - accuracy: 0.8195 - val_loss: 0.4207 - val_accuracy: 0.8427\n",
      "Epoch 157/500\n",
      "798/798 [==============================] - 0s 28us/step - loss: 0.4240 - accuracy: 0.8246 - val_loss: 0.4080 - val_accuracy: 0.7753\n",
      "Epoch 158/500\n",
      "798/798 [==============================] - 0s 27us/step - loss: 0.4397 - accuracy: 0.8120 - val_loss: 0.4356 - val_accuracy: 0.8315\n",
      "Epoch 159/500\n",
      "798/798 [==============================] - 0s 29us/step - loss: 0.4219 - accuracy: 0.8095 - val_loss: 0.4047 - val_accuracy: 0.8539\n",
      "Epoch 160/500\n",
      "798/798 [==============================] - 0s 30us/step - loss: 0.4249 - accuracy: 0.8083 - val_loss: 0.4095 - val_accuracy: 0.7865\n",
      "Epoch 161/500\n",
      "798/798 [==============================] - 0s 31us/step - loss: 0.4270 - accuracy: 0.8133 - val_loss: 0.4196 - val_accuracy: 0.8315\n",
      "Epoch 162/500\n",
      "798/798 [==============================] - 0s 30us/step - loss: 0.4187 - accuracy: 0.8233 - val_loss: 0.4097 - val_accuracy: 0.7978\n",
      "Epoch 163/500\n",
      "798/798 [==============================] - 0s 32us/step - loss: 0.4194 - accuracy: 0.8183 - val_loss: 0.4077 - val_accuracy: 0.8202\n",
      "Epoch 164/500\n",
      "798/798 [==============================] - 0s 33us/step - loss: 0.4211 - accuracy: 0.8145 - val_loss: 0.4020 - val_accuracy: 0.8090\n",
      "Epoch 165/500\n",
      "798/798 [==============================] - 0s 30us/step - loss: 0.4315 - accuracy: 0.8221 - val_loss: 0.4147 - val_accuracy: 0.8539\n",
      "Epoch 166/500\n",
      "798/798 [==============================] - 0s 29us/step - loss: 0.4206 - accuracy: 0.8083 - val_loss: 0.4015 - val_accuracy: 0.8315\n",
      "Epoch 167/500\n",
      "798/798 [==============================] - 0s 30us/step - loss: 0.4167 - accuracy: 0.8283 - val_loss: 0.4327 - val_accuracy: 0.8315\n",
      "Epoch 168/500\n",
      "798/798 [==============================] - 0s 29us/step - loss: 0.4265 - accuracy: 0.8233 - val_loss: 0.4095 - val_accuracy: 0.8090\n",
      "Epoch 169/500\n"
     ]
    },
    {
     "name": "stdout",
     "output_type": "stream",
     "text": [
      "798/798 [==============================] - 0s 29us/step - loss: 0.4308 - accuracy: 0.8083 - val_loss: 0.4008 - val_accuracy: 0.8315\n",
      "Epoch 170/500\n",
      "798/798 [==============================] - 0s 28us/step - loss: 0.4535 - accuracy: 0.8020 - val_loss: 0.4566 - val_accuracy: 0.8427\n",
      "Epoch 171/500\n",
      "798/798 [==============================] - 0s 30us/step - loss: 0.4479 - accuracy: 0.8020 - val_loss: 0.4071 - val_accuracy: 0.8090\n",
      "Epoch 172/500\n",
      "798/798 [==============================] - 0s 27us/step - loss: 0.4194 - accuracy: 0.8170 - val_loss: 0.4229 - val_accuracy: 0.8427\n",
      "Epoch 173/500\n",
      "798/798 [==============================] - 0s 29us/step - loss: 0.4194 - accuracy: 0.8070 - val_loss: 0.4196 - val_accuracy: 0.8427\n",
      "Epoch 174/500\n",
      "798/798 [==============================] - 0s 27us/step - loss: 0.4230 - accuracy: 0.8108 - val_loss: 0.4111 - val_accuracy: 0.7978\n",
      "Epoch 175/500\n",
      "798/798 [==============================] - 0s 28us/step - loss: 0.4219 - accuracy: 0.8120 - val_loss: 0.4044 - val_accuracy: 0.8090\n",
      "Epoch 176/500\n",
      "798/798 [==============================] - 0s 29us/step - loss: 0.4240 - accuracy: 0.8095 - val_loss: 0.4079 - val_accuracy: 0.8090\n",
      "Epoch 177/500\n",
      "798/798 [==============================] - 0s 30us/step - loss: 0.4250 - accuracy: 0.8095 - val_loss: 0.4301 - val_accuracy: 0.8427\n",
      "Epoch 178/500\n",
      "798/798 [==============================] - 0s 29us/step - loss: 0.4378 - accuracy: 0.8283 - val_loss: 0.4057 - val_accuracy: 0.8315\n",
      "Epoch 179/500\n",
      "798/798 [==============================] - 0s 30us/step - loss: 0.4733 - accuracy: 0.8033 - val_loss: 0.4702 - val_accuracy: 0.7865\n",
      "Epoch 180/500\n",
      "798/798 [==============================] - 0s 29us/step - loss: 0.4298 - accuracy: 0.8145 - val_loss: 0.4098 - val_accuracy: 0.8202\n",
      "Epoch 181/500\n",
      "798/798 [==============================] - 0s 30us/step - loss: 0.4178 - accuracy: 0.8170 - val_loss: 0.4182 - val_accuracy: 0.8315\n",
      "Epoch 182/500\n",
      "798/798 [==============================] - 0s 27us/step - loss: 0.4477 - accuracy: 0.8145 - val_loss: 0.4058 - val_accuracy: 0.8090\n",
      "Epoch 183/500\n",
      "798/798 [==============================] - 0s 29us/step - loss: 0.4200 - accuracy: 0.8208 - val_loss: 0.4391 - val_accuracy: 0.8427\n",
      "Epoch 184/500\n",
      "798/798 [==============================] - 0s 31us/step - loss: 0.4066 - accuracy: 0.8258 - val_loss: 0.4256 - val_accuracy: 0.8427\n",
      "Epoch 185/500\n",
      "798/798 [==============================] - 0s 30us/step - loss: 0.4233 - accuracy: 0.8208 - val_loss: 0.4081 - val_accuracy: 0.8315\n",
      "Epoch 186/500\n",
      "798/798 [==============================] - 0s 30us/step - loss: 0.4116 - accuracy: 0.8208 - val_loss: 0.4033 - val_accuracy: 0.8202\n",
      "Epoch 187/500\n",
      "798/798 [==============================] - 0s 30us/step - loss: 0.4134 - accuracy: 0.8221 - val_loss: 0.4254 - val_accuracy: 0.8427\n",
      "Epoch 188/500\n",
      "798/798 [==============================] - 0s 29us/step - loss: 0.4334 - accuracy: 0.8120 - val_loss: 0.4174 - val_accuracy: 0.8202\n",
      "Epoch 189/500\n",
      "798/798 [==============================] - 0s 33us/step - loss: 0.4470 - accuracy: 0.8133 - val_loss: 0.4561 - val_accuracy: 0.8315\n",
      "Epoch 190/500\n",
      "798/798 [==============================] - 0s 31us/step - loss: 0.4444 - accuracy: 0.8095 - val_loss: 0.4092 - val_accuracy: 0.8202\n",
      "Epoch 191/500\n",
      "798/798 [==============================] - 0s 31us/step - loss: 0.4450 - accuracy: 0.7982 - val_loss: 0.4040 - val_accuracy: 0.8202\n",
      "Epoch 192/500\n",
      "798/798 [==============================] - 0s 27us/step - loss: 0.4133 - accuracy: 0.8208 - val_loss: 0.4059 - val_accuracy: 0.8427\n",
      "Epoch 193/500\n",
      "798/798 [==============================] - 0s 29us/step - loss: 0.4185 - accuracy: 0.8170 - val_loss: 0.4083 - val_accuracy: 0.8427\n",
      "Epoch 194/500\n",
      "798/798 [==============================] - 0s 28us/step - loss: 0.4167 - accuracy: 0.8045 - val_loss: 0.4143 - val_accuracy: 0.8090\n",
      "Epoch 195/500\n",
      "798/798 [==============================] - 0s 28us/step - loss: 0.4399 - accuracy: 0.8045 - val_loss: 0.4207 - val_accuracy: 0.8090\n",
      "Epoch 196/500\n",
      "798/798 [==============================] - 0s 29us/step - loss: 0.4572 - accuracy: 0.8133 - val_loss: 0.4138 - val_accuracy: 0.8202\n",
      "Epoch 197/500\n",
      "798/798 [==============================] - 0s 31us/step - loss: 0.4270 - accuracy: 0.8158 - val_loss: 0.4080 - val_accuracy: 0.8539\n",
      "Epoch 198/500\n",
      "798/798 [==============================] - 0s 27us/step - loss: 0.4132 - accuracy: 0.8183 - val_loss: 0.4205 - val_accuracy: 0.8539\n",
      "Epoch 199/500\n",
      "798/798 [==============================] - 0s 29us/step - loss: 0.4215 - accuracy: 0.8208 - val_loss: 0.4129 - val_accuracy: 0.8202\n",
      "Epoch 200/500\n",
      "798/798 [==============================] - 0s 29us/step - loss: 0.4165 - accuracy: 0.8170 - val_loss: 0.4050 - val_accuracy: 0.8202\n",
      "Epoch 201/500\n",
      "798/798 [==============================] - 0s 28us/step - loss: 0.4307 - accuracy: 0.8058 - val_loss: 0.4045 - val_accuracy: 0.8090\n",
      "Epoch 202/500\n",
      "798/798 [==============================] - 0s 29us/step - loss: 0.4153 - accuracy: 0.8095 - val_loss: 0.4156 - val_accuracy: 0.8652\n",
      "Epoch 203/500\n",
      "798/798 [==============================] - 0s 38us/step - loss: 0.4121 - accuracy: 0.8208 - val_loss: 0.4105 - val_accuracy: 0.8202\n",
      "Epoch 204/500\n",
      "798/798 [==============================] - 0s 29us/step - loss: 0.4113 - accuracy: 0.8183 - val_loss: 0.4025 - val_accuracy: 0.8315\n",
      "Epoch 205/500\n",
      "798/798 [==============================] - 0s 29us/step - loss: 0.4232 - accuracy: 0.8133 - val_loss: 0.4888 - val_accuracy: 0.8315\n",
      "Epoch 206/500\n",
      "798/798 [==============================] - 0s 27us/step - loss: 0.4370 - accuracy: 0.8195 - val_loss: 0.4114 - val_accuracy: 0.8315\n",
      "Epoch 207/500\n",
      "798/798 [==============================] - 0s 28us/step - loss: 0.4417 - accuracy: 0.8170 - val_loss: 0.4154 - val_accuracy: 0.7978\n",
      "Epoch 208/500\n",
      "798/798 [==============================] - 0s 31us/step - loss: 0.4172 - accuracy: 0.8221 - val_loss: 0.4116 - val_accuracy: 0.8202\n",
      "Epoch 209/500\n",
      "798/798 [==============================] - 0s 30us/step - loss: 0.4232 - accuracy: 0.8183 - val_loss: 0.4013 - val_accuracy: 0.8202\n",
      "Epoch 210/500\n",
      "798/798 [==============================] - 0s 28us/step - loss: 0.4092 - accuracy: 0.8333 - val_loss: 0.4145 - val_accuracy: 0.8315\n",
      "Epoch 211/500\n",
      "798/798 [==============================] - 0s 30us/step - loss: 0.4111 - accuracy: 0.8195 - val_loss: 0.4086 - val_accuracy: 0.8427\n",
      "Epoch 212/500\n",
      "798/798 [==============================] - 0s 28us/step - loss: 0.4258 - accuracy: 0.8221 - val_loss: 0.4081 - val_accuracy: 0.8090\n",
      "Epoch 213/500\n",
      "798/798 [==============================] - 0s 31us/step - loss: 0.4515 - accuracy: 0.8158 - val_loss: 0.4188 - val_accuracy: 0.8427\n",
      "Epoch 214/500\n",
      "798/798 [==============================] - 0s 29us/step - loss: 0.4208 - accuracy: 0.8133 - val_loss: 0.4152 - val_accuracy: 0.8539\n",
      "Epoch 215/500\n",
      "798/798 [==============================] - 0s 30us/step - loss: 0.4166 - accuracy: 0.8170 - val_loss: 0.4206 - val_accuracy: 0.8539\n",
      "Epoch 216/500\n",
      "798/798 [==============================] - 0s 30us/step - loss: 0.4232 - accuracy: 0.8183 - val_loss: 0.4097 - val_accuracy: 0.7978\n",
      "Epoch 217/500\n",
      "798/798 [==============================] - 0s 31us/step - loss: 0.4397 - accuracy: 0.8070 - val_loss: 0.4422 - val_accuracy: 0.8315\n",
      "Epoch 218/500\n",
      "798/798 [==============================] - 0s 30us/step - loss: 0.4276 - accuracy: 0.8158 - val_loss: 0.4055 - val_accuracy: 0.8090\n",
      "Epoch 219/500\n",
      "798/798 [==============================] - 0s 30us/step - loss: 0.4073 - accuracy: 0.8233 - val_loss: 0.4085 - val_accuracy: 0.8427\n",
      "Epoch 220/500\n",
      "798/798 [==============================] - 0s 33us/step - loss: 0.4089 - accuracy: 0.8095 - val_loss: 0.4061 - val_accuracy: 0.8315\n",
      "Epoch 221/500\n",
      "798/798 [==============================] - 0s 32us/step - loss: 0.4216 - accuracy: 0.8158 - val_loss: 0.4097 - val_accuracy: 0.8427\n",
      "Epoch 222/500\n",
      "798/798 [==============================] - 0s 31us/step - loss: 0.4086 - accuracy: 0.8233 - val_loss: 0.4060 - val_accuracy: 0.8090\n",
      "Epoch 223/500\n",
      "798/798 [==============================] - 0s 30us/step - loss: 0.4073 - accuracy: 0.8246 - val_loss: 0.4250 - val_accuracy: 0.8652\n",
      "Epoch 224/500\n",
      "798/798 [==============================] - 0s 31us/step - loss: 0.4300 - accuracy: 0.8195 - val_loss: 0.4808 - val_accuracy: 0.8315\n",
      "Epoch 225/500\n"
     ]
    },
    {
     "name": "stdout",
     "output_type": "stream",
     "text": [
      "798/798 [==============================] - 0s 29us/step - loss: 0.4506 - accuracy: 0.8033 - val_loss: 0.4109 - val_accuracy: 0.8090\n",
      "Epoch 226/500\n",
      "798/798 [==============================] - 0s 32us/step - loss: 0.4450 - accuracy: 0.8058 - val_loss: 0.4166 - val_accuracy: 0.8427\n",
      "Epoch 227/500\n",
      "798/798 [==============================] - 0s 30us/step - loss: 0.4160 - accuracy: 0.8296 - val_loss: 0.4165 - val_accuracy: 0.8202\n",
      "Epoch 228/500\n",
      "798/798 [==============================] - 0s 29us/step - loss: 0.4172 - accuracy: 0.8271 - val_loss: 0.4029 - val_accuracy: 0.8315\n",
      "Epoch 229/500\n",
      "798/798 [==============================] - 0s 28us/step - loss: 0.4028 - accuracy: 0.8283 - val_loss: 0.4121 - val_accuracy: 0.8202\n",
      "Epoch 230/500\n",
      "798/798 [==============================] - 0s 28us/step - loss: 0.4190 - accuracy: 0.8083 - val_loss: 0.4208 - val_accuracy: 0.8539\n",
      "Epoch 231/500\n",
      "798/798 [==============================] - 0s 30us/step - loss: 0.4023 - accuracy: 0.8308 - val_loss: 0.4103 - val_accuracy: 0.8090\n",
      "Epoch 232/500\n",
      "798/798 [==============================] - 0s 37us/step - loss: 0.4373 - accuracy: 0.8170 - val_loss: 0.4043 - val_accuracy: 0.8090\n",
      "Epoch 233/500\n",
      "798/798 [==============================] - 0s 51us/step - loss: 0.4690 - accuracy: 0.8008 - val_loss: 0.4189 - val_accuracy: 0.8090\n",
      "Epoch 234/500\n",
      "798/798 [==============================] - 0s 38us/step - loss: 0.4339 - accuracy: 0.8108 - val_loss: 0.4169 - val_accuracy: 0.8539\n",
      "Epoch 235/500\n",
      "798/798 [==============================] - 0s 29us/step - loss: 0.4185 - accuracy: 0.8045 - val_loss: 0.4066 - val_accuracy: 0.8539\n",
      "Epoch 236/500\n",
      "798/798 [==============================] - 0s 29us/step - loss: 0.4098 - accuracy: 0.8183 - val_loss: 0.4104 - val_accuracy: 0.8202\n",
      "Epoch 237/500\n",
      "798/798 [==============================] - 0s 34us/step - loss: 0.4114 - accuracy: 0.8233 - val_loss: 0.4170 - val_accuracy: 0.8539\n",
      "Epoch 238/500\n",
      "798/798 [==============================] - 0s 39us/step - loss: 0.4070 - accuracy: 0.8145 - val_loss: 0.4119 - val_accuracy: 0.8315\n",
      "Epoch 239/500\n",
      "798/798 [==============================] - 0s 29us/step - loss: 0.4060 - accuracy: 0.8321 - val_loss: 0.4095 - val_accuracy: 0.8202\n",
      "Epoch 240/500\n",
      "798/798 [==============================] - 0s 27us/step - loss: 0.4121 - accuracy: 0.8195 - val_loss: 0.4110 - val_accuracy: 0.8202\n",
      "Epoch 241/500\n",
      "798/798 [==============================] - 0s 29us/step - loss: 0.4116 - accuracy: 0.8120 - val_loss: 0.4153 - val_accuracy: 0.8427\n",
      "Epoch 242/500\n",
      "798/798 [==============================] - 0s 27us/step - loss: 0.4083 - accuracy: 0.8246 - val_loss: 0.4229 - val_accuracy: 0.8652\n",
      "Epoch 243/500\n",
      "798/798 [==============================] - 0s 28us/step - loss: 0.4020 - accuracy: 0.8221 - val_loss: 0.4406 - val_accuracy: 0.8539\n",
      "Epoch 244/500\n",
      "798/798 [==============================] - 0s 32us/step - loss: 0.4210 - accuracy: 0.8246 - val_loss: 0.4201 - val_accuracy: 0.8315\n",
      "Epoch 245/500\n",
      "798/798 [==============================] - 0s 30us/step - loss: 0.4078 - accuracy: 0.8195 - val_loss: 0.4252 - val_accuracy: 0.8539\n",
      "Epoch 246/500\n",
      "798/798 [==============================] - 0s 29us/step - loss: 0.4105 - accuracy: 0.8208 - val_loss: 0.4137 - val_accuracy: 0.8539\n",
      "Epoch 247/500\n",
      "798/798 [==============================] - 0s 28us/step - loss: 0.4051 - accuracy: 0.8170 - val_loss: 0.4076 - val_accuracy: 0.8090\n",
      "Epoch 248/500\n",
      "798/798 [==============================] - 0s 26us/step - loss: 0.4180 - accuracy: 0.8133 - val_loss: 0.4419 - val_accuracy: 0.8427\n",
      "Epoch 249/500\n",
      "798/798 [==============================] - 0s 30us/step - loss: 0.4115 - accuracy: 0.8221 - val_loss: 0.4113 - val_accuracy: 0.8090\n",
      "Epoch 250/500\n",
      "798/798 [==============================] - 0s 29us/step - loss: 0.4326 - accuracy: 0.8195 - val_loss: 0.4414 - val_accuracy: 0.8539\n",
      "Epoch 251/500\n",
      "798/798 [==============================] - 0s 31us/step - loss: 0.4086 - accuracy: 0.8258 - val_loss: 0.4104 - val_accuracy: 0.8202\n",
      "Epoch 252/500\n",
      "798/798 [==============================] - 0s 27us/step - loss: 0.4079 - accuracy: 0.8296 - val_loss: 0.4101 - val_accuracy: 0.8427\n",
      "Epoch 253/500\n",
      "798/798 [==============================] - 0s 28us/step - loss: 0.4733 - accuracy: 0.8120 - val_loss: 0.4074 - val_accuracy: 0.8427\n",
      "Epoch 254/500\n",
      "798/798 [==============================] - 0s 29us/step - loss: 0.4065 - accuracy: 0.8133 - val_loss: 0.4067 - val_accuracy: 0.8315\n",
      "Epoch 255/500\n",
      "798/798 [==============================] - 0s 27us/step - loss: 0.4233 - accuracy: 0.8133 - val_loss: 0.4095 - val_accuracy: 0.8202\n",
      "Epoch 256/500\n",
      "798/798 [==============================] - 0s 27us/step - loss: 0.4177 - accuracy: 0.8195 - val_loss: 0.4212 - val_accuracy: 0.8539\n",
      "Epoch 257/500\n",
      "798/798 [==============================] - 0s 28us/step - loss: 0.4191 - accuracy: 0.8183 - val_loss: 0.4178 - val_accuracy: 0.8090\n",
      "Epoch 258/500\n",
      "798/798 [==============================] - 0s 32us/step - loss: 0.4106 - accuracy: 0.8158 - val_loss: 0.4155 - val_accuracy: 0.8427\n",
      "Epoch 259/500\n",
      "798/798 [==============================] - 0s 33us/step - loss: 0.4214 - accuracy: 0.8133 - val_loss: 0.4213 - val_accuracy: 0.8539\n",
      "Epoch 260/500\n",
      "798/798 [==============================] - 0s 32us/step - loss: 0.4112 - accuracy: 0.8170 - val_loss: 0.4094 - val_accuracy: 0.7978\n",
      "Epoch 261/500\n",
      "798/798 [==============================] - 0s 31us/step - loss: 0.4054 - accuracy: 0.8233 - val_loss: 0.4233 - val_accuracy: 0.8090\n",
      "Epoch 262/500\n",
      "798/798 [==============================] - 0s 30us/step - loss: 0.4111 - accuracy: 0.8145 - val_loss: 0.4181 - val_accuracy: 0.8090\n",
      "Epoch 263/500\n",
      "798/798 [==============================] - 0s 30us/step - loss: 0.4033 - accuracy: 0.8221 - val_loss: 0.4205 - val_accuracy: 0.8090\n",
      "Epoch 264/500\n",
      "798/798 [==============================] - 0s 28us/step - loss: 0.4212 - accuracy: 0.8158 - val_loss: 0.4376 - val_accuracy: 0.8315\n",
      "Epoch 265/500\n",
      "798/798 [==============================] - 0s 29us/step - loss: 0.4214 - accuracy: 0.8283 - val_loss: 0.4211 - val_accuracy: 0.8652\n",
      "Epoch 266/500\n",
      "798/798 [==============================] - 0s 29us/step - loss: 0.4054 - accuracy: 0.8233 - val_loss: 0.4657 - val_accuracy: 0.8315\n",
      "Epoch 267/500\n",
      "798/798 [==============================] - 0s 29us/step - loss: 0.4169 - accuracy: 0.8158 - val_loss: 0.4165 - val_accuracy: 0.7978\n",
      "Epoch 268/500\n",
      "798/798 [==============================] - 0s 27us/step - loss: 0.4439 - accuracy: 0.8095 - val_loss: 0.4405 - val_accuracy: 0.8539\n",
      "Epoch 269/500\n",
      "798/798 [==============================] - 0s 31us/step - loss: 0.4113 - accuracy: 0.8120 - val_loss: 0.4152 - val_accuracy: 0.8202\n",
      "Epoch 270/500\n",
      "798/798 [==============================] - 0s 36us/step - loss: 0.4288 - accuracy: 0.8195 - val_loss: 0.4439 - val_accuracy: 0.8427\n",
      "Epoch 271/500\n",
      "798/798 [==============================] - 0s 32us/step - loss: 0.4252 - accuracy: 0.8233 - val_loss: 0.4829 - val_accuracy: 0.8427\n",
      "Epoch 272/500\n",
      "798/798 [==============================] - 0s 32us/step - loss: 0.4157 - accuracy: 0.8208 - val_loss: 0.4048 - val_accuracy: 0.8202\n",
      "Epoch 273/500\n",
      "798/798 [==============================] - 0s 27us/step - loss: 0.4283 - accuracy: 0.7995 - val_loss: 0.4256 - val_accuracy: 0.8427\n",
      "Epoch 274/500\n",
      "798/798 [==============================] - 0s 30us/step - loss: 0.4601 - accuracy: 0.8133 - val_loss: 0.4264 - val_accuracy: 0.8539\n",
      "Epoch 275/500\n",
      "798/798 [==============================] - 0s 29us/step - loss: 0.4243 - accuracy: 0.8183 - val_loss: 0.4310 - val_accuracy: 0.7978\n",
      "Epoch 276/500\n",
      "798/798 [==============================] - 0s 27us/step - loss: 0.4303 - accuracy: 0.8095 - val_loss: 0.4074 - val_accuracy: 0.8315\n",
      "Epoch 277/500\n",
      "798/798 [==============================] - 0s 28us/step - loss: 0.4140 - accuracy: 0.8258 - val_loss: 0.4558 - val_accuracy: 0.8315\n",
      "Epoch 278/500\n",
      "798/798 [==============================] - 0s 28us/step - loss: 0.4115 - accuracy: 0.8170 - val_loss: 0.4573 - val_accuracy: 0.8202\n",
      "Epoch 279/500\n",
      "798/798 [==============================] - 0s 27us/step - loss: 0.4118 - accuracy: 0.8233 - val_loss: 0.4120 - val_accuracy: 0.8652\n",
      "Epoch 280/500\n",
      "798/798 [==============================] - 0s 27us/step - loss: 0.4230 - accuracy: 0.8170 - val_loss: 0.4271 - val_accuracy: 0.8539\n",
      "Epoch 281/500\n"
     ]
    },
    {
     "name": "stdout",
     "output_type": "stream",
     "text": [
      "798/798 [==============================] - 0s 30us/step - loss: 0.4193 - accuracy: 0.8108 - val_loss: 0.4219 - val_accuracy: 0.8202\n",
      "Epoch 282/500\n",
      "798/798 [==============================] - 0s 51us/step - loss: 0.4131 - accuracy: 0.8246 - val_loss: 0.4204 - val_accuracy: 0.8202\n",
      "Epoch 283/500\n",
      "798/798 [==============================] - 0s 38us/step - loss: 0.4022 - accuracy: 0.8233 - val_loss: 0.4161 - val_accuracy: 0.8427\n",
      "Epoch 284/500\n",
      "798/798 [==============================] - 0s 34us/step - loss: 0.4082 - accuracy: 0.8221 - val_loss: 0.4103 - val_accuracy: 0.8202\n",
      "Epoch 285/500\n",
      "798/798 [==============================] - 0s 30us/step - loss: 0.4279 - accuracy: 0.8145 - val_loss: 0.4183 - val_accuracy: 0.7978\n",
      "Epoch 286/500\n",
      "798/798 [==============================] - 0s 27us/step - loss: 0.4139 - accuracy: 0.8233 - val_loss: 0.4258 - val_accuracy: 0.8090\n",
      "Epoch 287/500\n",
      "798/798 [==============================] - 0s 42us/step - loss: 0.4365 - accuracy: 0.8120 - val_loss: 0.4157 - val_accuracy: 0.8427\n",
      "Epoch 288/500\n",
      "798/798 [==============================] - 0s 39us/step - loss: 0.4141 - accuracy: 0.8246 - val_loss: 0.4122 - val_accuracy: 0.8539\n",
      "Epoch 289/500\n",
      "798/798 [==============================] - 0s 33us/step - loss: 0.4040 - accuracy: 0.8233 - val_loss: 0.4161 - val_accuracy: 0.8090\n",
      "Epoch 290/500\n",
      "798/798 [==============================] - 0s 28us/step - loss: 0.4078 - accuracy: 0.8258 - val_loss: 0.4340 - val_accuracy: 0.8427\n",
      "Epoch 291/500\n",
      "798/798 [==============================] - 0s 27us/step - loss: 0.4146 - accuracy: 0.8108 - val_loss: 0.4122 - val_accuracy: 0.8202\n",
      "Epoch 292/500\n",
      "798/798 [==============================] - 0s 26us/step - loss: 0.4132 - accuracy: 0.8158 - val_loss: 0.4130 - val_accuracy: 0.8202\n",
      "Epoch 293/500\n",
      "798/798 [==============================] - 0s 27us/step - loss: 0.4486 - accuracy: 0.8095 - val_loss: 0.4177 - val_accuracy: 0.8090\n",
      "Epoch 294/500\n",
      "798/798 [==============================] - 0s 27us/step - loss: 0.4269 - accuracy: 0.8296 - val_loss: 0.4157 - val_accuracy: 0.8315\n",
      "Epoch 295/500\n",
      "798/798 [==============================] - 0s 27us/step - loss: 0.4271 - accuracy: 0.8183 - val_loss: 0.4179 - val_accuracy: 0.8539\n",
      "Epoch 296/500\n",
      "798/798 [==============================] - 0s 27us/step - loss: 0.4247 - accuracy: 0.8208 - val_loss: 0.4064 - val_accuracy: 0.8090\n",
      "Epoch 297/500\n",
      "798/798 [==============================] - 0s 27us/step - loss: 0.4073 - accuracy: 0.8221 - val_loss: 0.4130 - val_accuracy: 0.8202\n",
      "Epoch 298/500\n",
      "798/798 [==============================] - 0s 31us/step - loss: 0.4024 - accuracy: 0.8271 - val_loss: 0.4285 - val_accuracy: 0.8539\n",
      "Epoch 299/500\n",
      "798/798 [==============================] - 0s 27us/step - loss: 0.4067 - accuracy: 0.8195 - val_loss: 0.4607 - val_accuracy: 0.8427\n",
      "Epoch 300/500\n",
      "798/798 [==============================] - 0s 28us/step - loss: 0.4175 - accuracy: 0.8183 - val_loss: 0.4229 - val_accuracy: 0.8090\n",
      "Epoch 301/500\n",
      "798/798 [==============================] - 0s 29us/step - loss: 0.4110 - accuracy: 0.8333 - val_loss: 0.4320 - val_accuracy: 0.8539\n",
      "Epoch 302/500\n",
      "798/798 [==============================] - 0s 30us/step - loss: 0.4066 - accuracy: 0.8221 - val_loss: 0.4167 - val_accuracy: 0.8539\n",
      "Epoch 303/500\n",
      "798/798 [==============================] - 0s 37us/step - loss: 0.4124 - accuracy: 0.8258 - val_loss: 0.4167 - val_accuracy: 0.8090\n",
      "Epoch 304/500\n",
      "798/798 [==============================] - 0s 30us/step - loss: 0.3964 - accuracy: 0.8271 - val_loss: 0.4517 - val_accuracy: 0.8539\n",
      "Epoch 305/500\n",
      "798/798 [==============================] - 0s 29us/step - loss: 0.4199 - accuracy: 0.8296 - val_loss: 0.4038 - val_accuracy: 0.8202\n",
      "Epoch 306/500\n",
      "798/798 [==============================] - 0s 30us/step - loss: 0.4041 - accuracy: 0.8208 - val_loss: 0.4263 - val_accuracy: 0.8539\n",
      "Epoch 307/500\n",
      "798/798 [==============================] - 0s 30us/step - loss: 0.4418 - accuracy: 0.8158 - val_loss: 0.4202 - val_accuracy: 0.8539\n",
      "Epoch 308/500\n",
      "798/798 [==============================] - 0s 31us/step - loss: 0.4027 - accuracy: 0.8095 - val_loss: 0.4169 - val_accuracy: 0.8090\n",
      "Epoch 309/500\n",
      "798/798 [==============================] - 0s 33us/step - loss: 0.4154 - accuracy: 0.8108 - val_loss: 0.4641 - val_accuracy: 0.8315\n",
      "Epoch 310/500\n",
      "798/798 [==============================] - 0s 31us/step - loss: 0.4260 - accuracy: 0.8346 - val_loss: 0.4091 - val_accuracy: 0.8202\n",
      "Epoch 311/500\n",
      "798/798 [==============================] - 0s 28us/step - loss: 0.3986 - accuracy: 0.8246 - val_loss: 0.4265 - val_accuracy: 0.8315\n",
      "Epoch 312/500\n",
      "798/798 [==============================] - 0s 26us/step - loss: 0.4070 - accuracy: 0.8221 - val_loss: 0.4235 - val_accuracy: 0.8539\n",
      "Epoch 313/500\n",
      "798/798 [==============================] - 0s 31us/step - loss: 0.4011 - accuracy: 0.8321 - val_loss: 0.4235 - val_accuracy: 0.7978\n",
      "Epoch 314/500\n",
      "798/798 [==============================] - 0s 40us/step - loss: 0.4232 - accuracy: 0.8158 - val_loss: 0.4708 - val_accuracy: 0.8539\n",
      "Epoch 315/500\n",
      "798/798 [==============================] - 0s 32us/step - loss: 0.4257 - accuracy: 0.8070 - val_loss: 0.4350 - val_accuracy: 0.8202\n",
      "Epoch 316/500\n",
      "798/798 [==============================] - 0s 28us/step - loss: 0.4413 - accuracy: 0.8221 - val_loss: 0.4166 - val_accuracy: 0.8652\n",
      "Epoch 317/500\n",
      "798/798 [==============================] - 0s 27us/step - loss: 0.4034 - accuracy: 0.8358 - val_loss: 0.4127 - val_accuracy: 0.8539\n",
      "Epoch 318/500\n",
      "798/798 [==============================] - 0s 28us/step - loss: 0.4095 - accuracy: 0.8283 - val_loss: 0.5778 - val_accuracy: 0.7865\n",
      "Epoch 319/500\n",
      "798/798 [==============================] - 0s 27us/step - loss: 0.4363 - accuracy: 0.8158 - val_loss: 0.4118 - val_accuracy: 0.7978\n",
      "Epoch 320/500\n",
      "798/798 [==============================] - 0s 28us/step - loss: 0.4207 - accuracy: 0.8120 - val_loss: 0.4265 - val_accuracy: 0.8090\n",
      "Epoch 321/500\n",
      "798/798 [==============================] - 0s 31us/step - loss: 0.4306 - accuracy: 0.8145 - val_loss: 0.4318 - val_accuracy: 0.8202\n",
      "Epoch 322/500\n",
      "798/798 [==============================] - 0s 29us/step - loss: 0.4128 - accuracy: 0.8233 - val_loss: 0.4193 - val_accuracy: 0.8539\n",
      "Epoch 323/500\n",
      "798/798 [==============================] - 0s 28us/step - loss: 0.4162 - accuracy: 0.8271 - val_loss: 0.4312 - val_accuracy: 0.8090\n",
      "Epoch 324/500\n",
      "798/798 [==============================] - 0s 27us/step - loss: 0.4054 - accuracy: 0.8333 - val_loss: 0.4132 - val_accuracy: 0.8090\n",
      "Epoch 325/500\n",
      "798/798 [==============================] - 0s 30us/step - loss: 0.4187 - accuracy: 0.8383 - val_loss: 0.4208 - val_accuracy: 0.8090\n",
      "Epoch 326/500\n",
      "798/798 [==============================] - 0s 29us/step - loss: 0.4043 - accuracy: 0.8208 - val_loss: 0.4787 - val_accuracy: 0.8090\n",
      "Epoch 327/500\n",
      "798/798 [==============================] - 0s 31us/step - loss: 0.4891 - accuracy: 0.8008 - val_loss: 0.4741 - val_accuracy: 0.8202\n",
      "Epoch 328/500\n",
      "798/798 [==============================] - 0s 27us/step - loss: 0.4143 - accuracy: 0.8308 - val_loss: 0.4205 - val_accuracy: 0.8090\n",
      "Epoch 329/500\n",
      "798/798 [==============================] - 0s 28us/step - loss: 0.4280 - accuracy: 0.8258 - val_loss: 0.4062 - val_accuracy: 0.8539\n",
      "Epoch 330/500\n",
      "798/798 [==============================] - 0s 28us/step - loss: 0.4063 - accuracy: 0.8221 - val_loss: 0.4138 - val_accuracy: 0.8090\n",
      "Epoch 331/500\n",
      "798/798 [==============================] - 0s 26us/step - loss: 0.4010 - accuracy: 0.8221 - val_loss: 0.4243 - val_accuracy: 0.8539\n",
      "Epoch 332/500\n",
      "798/798 [==============================] - 0s 27us/step - loss: 0.4137 - accuracy: 0.8208 - val_loss: 0.4117 - val_accuracy: 0.8090\n",
      "Epoch 333/500\n",
      "798/798 [==============================] - 0s 28us/step - loss: 0.4029 - accuracy: 0.8145 - val_loss: 0.4165 - val_accuracy: 0.8539\n",
      "Epoch 334/500\n",
      "798/798 [==============================] - 0s 27us/step - loss: 0.3967 - accuracy: 0.8333 - val_loss: 0.4209 - val_accuracy: 0.8539\n",
      "Epoch 335/500\n",
      "798/798 [==============================] - 0s 27us/step - loss: 0.4181 - accuracy: 0.8246 - val_loss: 0.4443 - val_accuracy: 0.8427\n",
      "Epoch 336/500\n",
      "798/798 [==============================] - 0s 26us/step - loss: 0.4205 - accuracy: 0.8283 - val_loss: 0.4328 - val_accuracy: 0.8315\n",
      "Epoch 337/500\n"
     ]
    },
    {
     "name": "stdout",
     "output_type": "stream",
     "text": [
      "798/798 [==============================] - 0s 29us/step - loss: 0.4448 - accuracy: 0.8033 - val_loss: 0.4156 - val_accuracy: 0.7865\n",
      "Epoch 338/500\n",
      "798/798 [==============================] - 0s 28us/step - loss: 0.4130 - accuracy: 0.8258 - val_loss: 0.4190 - val_accuracy: 0.8315\n",
      "Epoch 339/500\n",
      "798/798 [==============================] - 0s 28us/step - loss: 0.4129 - accuracy: 0.8221 - val_loss: 0.4522 - val_accuracy: 0.8090\n",
      "Epoch 340/500\n",
      "798/798 [==============================] - 0s 29us/step - loss: 0.4225 - accuracy: 0.8246 - val_loss: 0.4107 - val_accuracy: 0.8539\n",
      "Epoch 341/500\n",
      "798/798 [==============================] - 0s 29us/step - loss: 0.4100 - accuracy: 0.8246 - val_loss: 0.4308 - val_accuracy: 0.8539\n",
      "Epoch 342/500\n",
      "798/798 [==============================] - 0s 30us/step - loss: 0.4012 - accuracy: 0.8246 - val_loss: 0.4150 - val_accuracy: 0.8427\n",
      "Epoch 343/500\n",
      "798/798 [==============================] - 0s 29us/step - loss: 0.4072 - accuracy: 0.8258 - val_loss: 0.4370 - val_accuracy: 0.8090\n",
      "Epoch 344/500\n",
      "798/798 [==============================] - 0s 27us/step - loss: 0.4056 - accuracy: 0.8246 - val_loss: 0.4181 - val_accuracy: 0.7978\n",
      "Epoch 345/500\n",
      "798/798 [==============================] - 0s 27us/step - loss: 0.4014 - accuracy: 0.8170 - val_loss: 0.4172 - val_accuracy: 0.8539\n",
      "Epoch 346/500\n",
      "798/798 [==============================] - 0s 28us/step - loss: 0.4026 - accuracy: 0.8233 - val_loss: 0.4191 - val_accuracy: 0.8427\n",
      "Epoch 347/500\n",
      "798/798 [==============================] - 0s 27us/step - loss: 0.3991 - accuracy: 0.8333 - val_loss: 0.4180 - val_accuracy: 0.8202\n",
      "Epoch 348/500\n",
      "798/798 [==============================] - 0s 26us/step - loss: 0.4237 - accuracy: 0.8208 - val_loss: 0.4702 - val_accuracy: 0.8539\n",
      "Epoch 349/500\n",
      "798/798 [==============================] - 0s 26us/step - loss: 0.4057 - accuracy: 0.8346 - val_loss: 0.4252 - val_accuracy: 0.8427\n",
      "Epoch 350/500\n",
      "798/798 [==============================] - 0s 27us/step - loss: 0.4020 - accuracy: 0.8258 - val_loss: 0.4213 - val_accuracy: 0.8539\n",
      "Epoch 351/500\n",
      "798/798 [==============================] - 0s 29us/step - loss: 0.4050 - accuracy: 0.8258 - val_loss: 0.4561 - val_accuracy: 0.8315\n",
      "Epoch 352/500\n",
      "798/798 [==============================] - 0s 32us/step - loss: 0.4099 - accuracy: 0.8283 - val_loss: 0.4159 - val_accuracy: 0.8202\n",
      "Epoch 353/500\n",
      "798/798 [==============================] - 0s 29us/step - loss: 0.4109 - accuracy: 0.8145 - val_loss: 0.4137 - val_accuracy: 0.8202\n",
      "Epoch 354/500\n",
      "798/798 [==============================] - 0s 29us/step - loss: 0.4321 - accuracy: 0.8258 - val_loss: 0.4498 - val_accuracy: 0.7978\n",
      "Epoch 355/500\n",
      "798/798 [==============================] - 0s 31us/step - loss: 0.4105 - accuracy: 0.8246 - val_loss: 0.4154 - val_accuracy: 0.8539\n",
      "Epoch 356/500\n",
      "798/798 [==============================] - 0s 28us/step - loss: 0.3977 - accuracy: 0.8296 - val_loss: 0.4245 - val_accuracy: 0.8539\n",
      "Epoch 357/500\n",
      "798/798 [==============================] - 0s 29us/step - loss: 0.4081 - accuracy: 0.8258 - val_loss: 0.4138 - val_accuracy: 0.7865\n",
      "Epoch 358/500\n",
      "798/798 [==============================] - 0s 40us/step - loss: 0.4166 - accuracy: 0.8145 - val_loss: 0.4772 - val_accuracy: 0.8202\n",
      "Epoch 359/500\n",
      "798/798 [==============================] - 0s 32us/step - loss: 0.4089 - accuracy: 0.8296 - val_loss: 0.4450 - val_accuracy: 0.8539\n",
      "Epoch 360/500\n",
      "798/798 [==============================] - 0s 29us/step - loss: 0.4198 - accuracy: 0.8271 - val_loss: 0.4383 - val_accuracy: 0.8090\n",
      "Epoch 361/500\n",
      "798/798 [==============================] - 0s 29us/step - loss: 0.4037 - accuracy: 0.8221 - val_loss: 0.4093 - val_accuracy: 0.8315\n",
      "Epoch 362/500\n",
      "798/798 [==============================] - 0s 26us/step - loss: 0.3936 - accuracy: 0.8258 - val_loss: 0.4138 - val_accuracy: 0.8202\n",
      "Epoch 363/500\n",
      "798/798 [==============================] - 0s 26us/step - loss: 0.3937 - accuracy: 0.8346 - val_loss: 0.4267 - val_accuracy: 0.8539\n",
      "Epoch 364/500\n",
      "798/798 [==============================] - 0s 28us/step - loss: 0.3967 - accuracy: 0.8246 - val_loss: 0.4214 - val_accuracy: 0.8202\n",
      "Epoch 365/500\n",
      "798/798 [==============================] - 0s 28us/step - loss: 0.4022 - accuracy: 0.8296 - val_loss: 0.4197 - val_accuracy: 0.8202\n",
      "Epoch 366/500\n",
      "798/798 [==============================] - 0s 28us/step - loss: 0.4078 - accuracy: 0.8271 - val_loss: 0.4232 - val_accuracy: 0.8539\n",
      "Epoch 367/500\n",
      "798/798 [==============================] - 0s 27us/step - loss: 0.4034 - accuracy: 0.8195 - val_loss: 0.4199 - val_accuracy: 0.7978\n",
      "Epoch 368/500\n",
      "798/798 [==============================] - 0s 26us/step - loss: 0.4159 - accuracy: 0.8070 - val_loss: 0.4211 - val_accuracy: 0.8652\n",
      "Epoch 369/500\n",
      "798/798 [==============================] - 0s 27us/step - loss: 0.4006 - accuracy: 0.8208 - val_loss: 0.4209 - val_accuracy: 0.8090\n",
      "Epoch 370/500\n",
      "798/798 [==============================] - 0s 27us/step - loss: 0.4002 - accuracy: 0.8296 - val_loss: 0.4246 - val_accuracy: 0.7978\n",
      "Epoch 371/500\n",
      "798/798 [==============================] - 0s 28us/step - loss: 0.4340 - accuracy: 0.8221 - val_loss: 0.4258 - val_accuracy: 0.7978\n",
      "Epoch 372/500\n",
      "798/798 [==============================] - 0s 28us/step - loss: 0.4428 - accuracy: 0.8208 - val_loss: 0.4296 - val_accuracy: 0.8539\n",
      "Epoch 373/500\n",
      "798/798 [==============================] - 0s 28us/step - loss: 0.4031 - accuracy: 0.8333 - val_loss: 0.4221 - val_accuracy: 0.8427\n",
      "Epoch 374/500\n",
      "798/798 [==============================] - 0s 30us/step - loss: 0.4026 - accuracy: 0.8296 - val_loss: 0.4191 - val_accuracy: 0.8315\n",
      "Epoch 375/500\n",
      "798/798 [==============================] - 0s 29us/step - loss: 0.4003 - accuracy: 0.8170 - val_loss: 0.4150 - val_accuracy: 0.8202\n",
      "Epoch 376/500\n",
      "798/798 [==============================] - 0s 31us/step - loss: 0.4039 - accuracy: 0.8258 - val_loss: 0.4341 - val_accuracy: 0.8539\n",
      "Epoch 377/500\n",
      "798/798 [==============================] - 0s 28us/step - loss: 0.3926 - accuracy: 0.8308 - val_loss: 0.4167 - val_accuracy: 0.8427\n",
      "Epoch 378/500\n",
      "798/798 [==============================] - 0s 32us/step - loss: 0.4145 - accuracy: 0.8271 - val_loss: 0.4112 - val_accuracy: 0.8427\n",
      "Epoch 379/500\n",
      "798/798 [==============================] - 0s 32us/step - loss: 0.3964 - accuracy: 0.8346 - val_loss: 0.4114 - val_accuracy: 0.8427\n",
      "Epoch 380/500\n",
      "798/798 [==============================] - 0s 30us/step - loss: 0.4002 - accuracy: 0.8396 - val_loss: 0.4235 - val_accuracy: 0.8427\n",
      "Epoch 381/500\n",
      "798/798 [==============================] - 0s 30us/step - loss: 0.3981 - accuracy: 0.8358 - val_loss: 0.4227 - val_accuracy: 0.8427\n",
      "Epoch 382/500\n",
      "798/798 [==============================] - 0s 31us/step - loss: 0.3967 - accuracy: 0.8371 - val_loss: 0.4175 - val_accuracy: 0.8539\n",
      "Epoch 383/500\n",
      "798/798 [==============================] - 0s 31us/step - loss: 0.4119 - accuracy: 0.8283 - val_loss: 0.4207 - val_accuracy: 0.7978\n",
      "Epoch 384/500\n",
      "798/798 [==============================] - 0s 30us/step - loss: 0.4132 - accuracy: 0.8258 - val_loss: 0.4183 - val_accuracy: 0.8202\n",
      "Epoch 385/500\n",
      "798/798 [==============================] - 0s 28us/step - loss: 0.4027 - accuracy: 0.8233 - val_loss: 0.4165 - val_accuracy: 0.8315\n",
      "Epoch 386/500\n",
      "798/798 [==============================] - 0s 31us/step - loss: 0.4081 - accuracy: 0.8271 - val_loss: 0.4238 - val_accuracy: 0.8427\n",
      "Epoch 387/500\n",
      "798/798 [==============================] - 0s 30us/step - loss: 0.3926 - accuracy: 0.8371 - val_loss: 0.4233 - val_accuracy: 0.8539\n",
      "Epoch 388/500\n",
      "798/798 [==============================] - 0s 31us/step - loss: 0.4012 - accuracy: 0.8258 - val_loss: 0.4105 - val_accuracy: 0.8202\n",
      "Epoch 389/500\n",
      "798/798 [==============================] - 0s 31us/step - loss: 0.4077 - accuracy: 0.8246 - val_loss: 0.4209 - val_accuracy: 0.8202\n",
      "Epoch 390/500\n",
      "798/798 [==============================] - 0s 29us/step - loss: 0.4002 - accuracy: 0.8346 - val_loss: 0.4432 - val_accuracy: 0.8652\n",
      "Epoch 391/500\n",
      "798/798 [==============================] - 0s 29us/step - loss: 0.4239 - accuracy: 0.8208 - val_loss: 0.4320 - val_accuracy: 0.8427\n",
      "Epoch 392/500\n",
      "798/798 [==============================] - 0s 30us/step - loss: 0.4031 - accuracy: 0.8296 - val_loss: 0.4185 - val_accuracy: 0.8090\n",
      "Epoch 393/500\n"
     ]
    },
    {
     "name": "stdout",
     "output_type": "stream",
     "text": [
      "798/798 [==============================] - 0s 30us/step - loss: 0.4005 - accuracy: 0.8221 - val_loss: 0.4202 - val_accuracy: 0.8427\n",
      "Epoch 394/500\n",
      "798/798 [==============================] - 0s 29us/step - loss: 0.4066 - accuracy: 0.8283 - val_loss: 0.4127 - val_accuracy: 0.8315\n",
      "Epoch 395/500\n",
      "798/798 [==============================] - 0s 28us/step - loss: 0.4561 - accuracy: 0.8083 - val_loss: 0.4176 - val_accuracy: 0.8202\n",
      "Epoch 396/500\n",
      "798/798 [==============================] - 0s 30us/step - loss: 0.4174 - accuracy: 0.8221 - val_loss: 0.4225 - val_accuracy: 0.8427\n",
      "Epoch 397/500\n",
      "798/798 [==============================] - 0s 28us/step - loss: 0.4102 - accuracy: 0.8145 - val_loss: 0.4227 - val_accuracy: 0.8427\n",
      "Epoch 398/500\n",
      "798/798 [==============================] - 0s 27us/step - loss: 0.4121 - accuracy: 0.8221 - val_loss: 0.4214 - val_accuracy: 0.8315\n",
      "Epoch 399/500\n",
      "798/798 [==============================] - 0s 28us/step - loss: 0.4013 - accuracy: 0.8145 - val_loss: 0.4202 - val_accuracy: 0.8090\n",
      "Epoch 400/500\n",
      "798/798 [==============================] - 0s 28us/step - loss: 0.3948 - accuracy: 0.8271 - val_loss: 0.4246 - val_accuracy: 0.8202\n",
      "Epoch 401/500\n",
      "798/798 [==============================] - 0s 28us/step - loss: 0.3934 - accuracy: 0.8321 - val_loss: 0.4162 - val_accuracy: 0.8202\n",
      "Epoch 402/500\n",
      "798/798 [==============================] - 0s 28us/step - loss: 0.4080 - accuracy: 0.8208 - val_loss: 0.4204 - val_accuracy: 0.8539\n",
      "Epoch 403/500\n",
      "798/798 [==============================] - 0s 27us/step - loss: 0.3918 - accuracy: 0.8296 - val_loss: 0.4421 - val_accuracy: 0.8539\n",
      "Epoch 404/500\n",
      "798/798 [==============================] - 0s 31us/step - loss: 0.3991 - accuracy: 0.8271 - val_loss: 0.4210 - val_accuracy: 0.7978\n",
      "Epoch 405/500\n",
      "798/798 [==============================] - 0s 37us/step - loss: 0.4041 - accuracy: 0.8333 - val_loss: 0.4347 - val_accuracy: 0.8539\n",
      "Epoch 406/500\n",
      "798/798 [==============================] - 0s 31us/step - loss: 0.4174 - accuracy: 0.8246 - val_loss: 0.4207 - val_accuracy: 0.7978\n",
      "Epoch 407/500\n",
      "798/798 [==============================] - 0s 30us/step - loss: 0.4037 - accuracy: 0.8371 - val_loss: 0.4131 - val_accuracy: 0.8539\n",
      "Epoch 408/500\n",
      "798/798 [==============================] - 0s 30us/step - loss: 0.3919 - accuracy: 0.8383 - val_loss: 0.4248 - val_accuracy: 0.8090\n",
      "Epoch 409/500\n",
      "798/798 [==============================] - 0s 30us/step - loss: 0.4135 - accuracy: 0.8170 - val_loss: 0.4168 - val_accuracy: 0.7978\n",
      "Epoch 410/500\n",
      "798/798 [==============================] - 0s 29us/step - loss: 0.4059 - accuracy: 0.8158 - val_loss: 0.4174 - val_accuracy: 0.8539\n",
      "Epoch 411/500\n",
      "798/798 [==============================] - 0s 33us/step - loss: 0.3953 - accuracy: 0.8308 - val_loss: 0.4211 - val_accuracy: 0.8202\n",
      "Epoch 412/500\n",
      "798/798 [==============================] - 0s 29us/step - loss: 0.3944 - accuracy: 0.8283 - val_loss: 0.4187 - val_accuracy: 0.8427\n",
      "Epoch 413/500\n",
      "798/798 [==============================] - 0s 27us/step - loss: 0.4093 - accuracy: 0.8333 - val_loss: 0.4353 - val_accuracy: 0.8090\n",
      "Epoch 414/500\n",
      "798/798 [==============================] - 0s 28us/step - loss: 0.3975 - accuracy: 0.8283 - val_loss: 0.4641 - val_accuracy: 0.8315\n",
      "Epoch 415/500\n",
      "798/798 [==============================] - 0s 27us/step - loss: 0.4316 - accuracy: 0.8208 - val_loss: 0.4285 - val_accuracy: 0.8315\n",
      "Epoch 416/500\n",
      "798/798 [==============================] - 0s 28us/step - loss: 0.4209 - accuracy: 0.8271 - val_loss: 0.4238 - val_accuracy: 0.8539\n",
      "Epoch 417/500\n",
      "798/798 [==============================] - 0s 28us/step - loss: 0.3924 - accuracy: 0.8308 - val_loss: 0.4227 - val_accuracy: 0.8652\n",
      "Epoch 418/500\n",
      "798/798 [==============================] - 0s 27us/step - loss: 0.4189 - accuracy: 0.8296 - val_loss: 0.4335 - val_accuracy: 0.8539\n",
      "Epoch 419/500\n",
      "798/798 [==============================] - 0s 28us/step - loss: 0.3990 - accuracy: 0.8283 - val_loss: 0.4163 - val_accuracy: 0.8539\n",
      "Epoch 420/500\n",
      "798/798 [==============================] - 0s 28us/step - loss: 0.4064 - accuracy: 0.8158 - val_loss: 0.4252 - val_accuracy: 0.7978\n",
      "Epoch 421/500\n",
      "798/798 [==============================] - 0s 29us/step - loss: 0.3978 - accuracy: 0.8208 - val_loss: 0.4306 - val_accuracy: 0.8202\n",
      "Epoch 422/500\n",
      "798/798 [==============================] - 0s 28us/step - loss: 0.4049 - accuracy: 0.8308 - val_loss: 0.4310 - val_accuracy: 0.8539\n",
      "Epoch 423/500\n",
      "798/798 [==============================] - 0s 27us/step - loss: 0.3954 - accuracy: 0.8308 - val_loss: 0.4257 - val_accuracy: 0.8427\n",
      "Epoch 424/500\n",
      "798/798 [==============================] - 0s 28us/step - loss: 0.3960 - accuracy: 0.8308 - val_loss: 0.4367 - val_accuracy: 0.8652\n",
      "Epoch 425/500\n",
      "798/798 [==============================] - 0s 28us/step - loss: 0.3972 - accuracy: 0.8296 - val_loss: 0.4205 - val_accuracy: 0.8539\n",
      "Epoch 426/500\n",
      "798/798 [==============================] - 0s 27us/step - loss: 0.3981 - accuracy: 0.8308 - val_loss: 0.4176 - val_accuracy: 0.8090\n",
      "Epoch 427/500\n",
      "798/798 [==============================] - 0s 27us/step - loss: 0.4069 - accuracy: 0.8221 - val_loss: 0.4251 - val_accuracy: 0.8090\n",
      "Epoch 428/500\n",
      "798/798 [==============================] - 0s 27us/step - loss: 0.3951 - accuracy: 0.8308 - val_loss: 0.4230 - val_accuracy: 0.8090\n",
      "Epoch 429/500\n",
      "798/798 [==============================] - 0s 28us/step - loss: 0.4125 - accuracy: 0.8246 - val_loss: 0.4222 - val_accuracy: 0.8315\n",
      "Epoch 430/500\n",
      "798/798 [==============================] - 0s 27us/step - loss: 0.4005 - accuracy: 0.8271 - val_loss: 0.4334 - val_accuracy: 0.8539\n",
      "Epoch 431/500\n",
      "798/798 [==============================] - 0s 28us/step - loss: 0.4050 - accuracy: 0.8258 - val_loss: 0.4159 - val_accuracy: 0.8090\n",
      "Epoch 432/500\n",
      "798/798 [==============================] - 0s 28us/step - loss: 0.3899 - accuracy: 0.8383 - val_loss: 0.4181 - val_accuracy: 0.8427\n",
      "Epoch 433/500\n",
      "798/798 [==============================] - 0s 29us/step - loss: 0.4097 - accuracy: 0.8195 - val_loss: 0.5432 - val_accuracy: 0.7978\n",
      "Epoch 434/500\n",
      "798/798 [==============================] - 0s 29us/step - loss: 0.4261 - accuracy: 0.8170 - val_loss: 0.4632 - val_accuracy: 0.8427\n",
      "Epoch 435/500\n",
      "798/798 [==============================] - 0s 27us/step - loss: 0.4178 - accuracy: 0.8145 - val_loss: 0.4289 - val_accuracy: 0.8427\n",
      "Epoch 436/500\n",
      "798/798 [==============================] - 0s 28us/step - loss: 0.4126 - accuracy: 0.8271 - val_loss: 0.4296 - val_accuracy: 0.8202\n",
      "Epoch 437/500\n",
      "798/798 [==============================] - 0s 28us/step - loss: 0.4061 - accuracy: 0.8296 - val_loss: 0.4291 - val_accuracy: 0.8427\n",
      "Epoch 438/500\n",
      "798/798 [==============================] - 0s 27us/step - loss: 0.3917 - accuracy: 0.8308 - val_loss: 0.4213 - val_accuracy: 0.8090\n",
      "Epoch 439/500\n",
      "798/798 [==============================] - 0s 27us/step - loss: 0.3955 - accuracy: 0.8271 - val_loss: 0.4304 - val_accuracy: 0.8539\n",
      "Epoch 440/500\n",
      "798/798 [==============================] - 0s 27us/step - loss: 0.3935 - accuracy: 0.8371 - val_loss: 0.4184 - val_accuracy: 0.8427\n",
      "Epoch 441/500\n",
      "798/798 [==============================] - 0s 27us/step - loss: 0.3980 - accuracy: 0.8321 - val_loss: 0.4569 - val_accuracy: 0.8539\n",
      "Epoch 442/500\n",
      "798/798 [==============================] - 0s 27us/step - loss: 0.3946 - accuracy: 0.8296 - val_loss: 0.4421 - val_accuracy: 0.8427\n",
      "Epoch 443/500\n",
      "798/798 [==============================] - 0s 27us/step - loss: 0.4083 - accuracy: 0.8233 - val_loss: 0.4403 - val_accuracy: 0.8090\n",
      "Epoch 444/500\n",
      "798/798 [==============================] - 0s 29us/step - loss: 0.4191 - accuracy: 0.8208 - val_loss: 0.4166 - val_accuracy: 0.8539\n",
      "Epoch 445/500\n",
      "798/798 [==============================] - 0s 29us/step - loss: 0.3933 - accuracy: 0.8346 - val_loss: 0.4271 - val_accuracy: 0.8539\n",
      "Epoch 446/500\n",
      "798/798 [==============================] - 0s 30us/step - loss: 0.4108 - accuracy: 0.8258 - val_loss: 0.4316 - val_accuracy: 0.8427\n",
      "Epoch 447/500\n",
      "798/798 [==============================] - 0s 30us/step - loss: 0.3976 - accuracy: 0.8346 - val_loss: 0.4274 - val_accuracy: 0.8652\n",
      "Epoch 448/500\n",
      "798/798 [==============================] - 0s 29us/step - loss: 0.3995 - accuracy: 0.8271 - val_loss: 0.4235 - val_accuracy: 0.8315\n",
      "Epoch 449/500\n"
     ]
    },
    {
     "name": "stdout",
     "output_type": "stream",
     "text": [
      "798/798 [==============================] - 0s 29us/step - loss: 0.4066 - accuracy: 0.8246 - val_loss: 0.4224 - val_accuracy: 0.8202\n",
      "Epoch 450/500\n",
      "798/798 [==============================] - 0s 30us/step - loss: 0.3948 - accuracy: 0.8346 - val_loss: 0.4263 - val_accuracy: 0.8202\n",
      "Epoch 451/500\n",
      "798/798 [==============================] - 0s 29us/step - loss: 0.3969 - accuracy: 0.8346 - val_loss: 0.4314 - val_accuracy: 0.8539\n",
      "Epoch 452/500\n",
      "798/798 [==============================] - 0s 30us/step - loss: 0.4059 - accuracy: 0.8246 - val_loss: 0.4115 - val_accuracy: 0.8315\n",
      "Epoch 453/500\n",
      "798/798 [==============================] - 0s 31us/step - loss: 0.3934 - accuracy: 0.8283 - val_loss: 0.4230 - val_accuracy: 0.8539\n",
      "Epoch 454/500\n",
      "798/798 [==============================] - 0s 27us/step - loss: 0.3886 - accuracy: 0.8396 - val_loss: 0.4338 - val_accuracy: 0.8427\n",
      "Epoch 455/500\n",
      "798/798 [==============================] - 0s 28us/step - loss: 0.3966 - accuracy: 0.8283 - val_loss: 0.4293 - val_accuracy: 0.8202\n",
      "Epoch 456/500\n",
      "798/798 [==============================] - 0s 27us/step - loss: 0.4101 - accuracy: 0.8183 - val_loss: 0.4231 - val_accuracy: 0.8090\n",
      "Epoch 457/500\n",
      "798/798 [==============================] - 0s 27us/step - loss: 0.4115 - accuracy: 0.8195 - val_loss: 0.4290 - val_accuracy: 0.8202\n",
      "Epoch 458/500\n",
      "798/798 [==============================] - 0s 27us/step - loss: 0.4011 - accuracy: 0.8308 - val_loss: 0.4270 - val_accuracy: 0.8652\n",
      "Epoch 459/500\n",
      "798/798 [==============================] - 0s 25us/step - loss: 0.4196 - accuracy: 0.8233 - val_loss: 0.4299 - val_accuracy: 0.8202\n",
      "Epoch 460/500\n",
      "798/798 [==============================] - 0s 27us/step - loss: 0.3934 - accuracy: 0.8296 - val_loss: 0.4274 - val_accuracy: 0.8539\n",
      "Epoch 461/500\n",
      "798/798 [==============================] - 0s 29us/step - loss: 0.4010 - accuracy: 0.8283 - val_loss: 0.4301 - val_accuracy: 0.8427\n",
      "Epoch 462/500\n",
      "798/798 [==============================] - 0s 27us/step - loss: 0.3991 - accuracy: 0.8283 - val_loss: 0.4218 - val_accuracy: 0.8202\n",
      "Epoch 463/500\n",
      "798/798 [==============================] - 0s 29us/step - loss: 0.3956 - accuracy: 0.8421 - val_loss: 0.4268 - val_accuracy: 0.8539\n",
      "Epoch 464/500\n",
      "798/798 [==============================] - 0s 27us/step - loss: 0.3968 - accuracy: 0.8296 - val_loss: 0.4339 - val_accuracy: 0.8202\n",
      "Epoch 465/500\n",
      "798/798 [==============================] - 0s 29us/step - loss: 0.4030 - accuracy: 0.8258 - val_loss: 0.4406 - val_accuracy: 0.8539\n",
      "Epoch 466/500\n",
      "798/798 [==============================] - 0s 28us/step - loss: 0.3949 - accuracy: 0.8308 - val_loss: 0.4358 - val_accuracy: 0.8427\n",
      "Epoch 467/500\n",
      "798/798 [==============================] - 0s 27us/step - loss: 0.3874 - accuracy: 0.8296 - val_loss: 0.4377 - val_accuracy: 0.8539\n",
      "Epoch 468/500\n",
      "798/798 [==============================] - 0s 29us/step - loss: 0.4048 - accuracy: 0.8183 - val_loss: 0.4372 - val_accuracy: 0.8090\n",
      "Epoch 469/500\n",
      "798/798 [==============================] - 0s 28us/step - loss: 0.4013 - accuracy: 0.8296 - val_loss: 0.4162 - val_accuracy: 0.8315\n",
      "Epoch 470/500\n",
      "798/798 [==============================] - 0s 28us/step - loss: 0.3919 - accuracy: 0.8296 - val_loss: 0.4248 - val_accuracy: 0.8315\n",
      "Epoch 471/500\n",
      "798/798 [==============================] - 0s 27us/step - loss: 0.3982 - accuracy: 0.8221 - val_loss: 0.4339 - val_accuracy: 0.8539\n",
      "Epoch 472/500\n",
      "798/798 [==============================] - 0s 29us/step - loss: 0.3975 - accuracy: 0.8271 - val_loss: 0.4335 - val_accuracy: 0.8539\n",
      "Epoch 473/500\n",
      "798/798 [==============================] - 0s 29us/step - loss: 0.3954 - accuracy: 0.8296 - val_loss: 0.4198 - val_accuracy: 0.8539\n",
      "Epoch 474/500\n",
      "798/798 [==============================] - 0s 28us/step - loss: 0.3881 - accuracy: 0.8321 - val_loss: 0.4346 - val_accuracy: 0.8427\n",
      "Epoch 475/500\n",
      "798/798 [==============================] - 0s 28us/step - loss: 0.3967 - accuracy: 0.8371 - val_loss: 0.4267 - val_accuracy: 0.8315\n",
      "Epoch 476/500\n",
      "798/798 [==============================] - 0s 27us/step - loss: 0.3911 - accuracy: 0.8258 - val_loss: 0.4425 - val_accuracy: 0.8539\n",
      "Epoch 477/500\n",
      "798/798 [==============================] - 0s 28us/step - loss: 0.3911 - accuracy: 0.8383 - val_loss: 0.4361 - val_accuracy: 0.8539\n",
      "Epoch 478/500\n",
      "798/798 [==============================] - 0s 29us/step - loss: 0.3875 - accuracy: 0.8283 - val_loss: 0.4535 - val_accuracy: 0.8427\n",
      "Epoch 479/500\n",
      "798/798 [==============================] - 0s 27us/step - loss: 0.3912 - accuracy: 0.8333 - val_loss: 0.4222 - val_accuracy: 0.8090\n",
      "Epoch 480/500\n",
      "798/798 [==============================] - 0s 29us/step - loss: 0.3996 - accuracy: 0.8308 - val_loss: 0.4327 - val_accuracy: 0.8427\n",
      "Epoch 481/500\n",
      "798/798 [==============================] - 0s 27us/step - loss: 0.3869 - accuracy: 0.8321 - val_loss: 0.4350 - val_accuracy: 0.8539\n",
      "Epoch 482/500\n",
      "798/798 [==============================] - 0s 28us/step - loss: 0.4024 - accuracy: 0.8208 - val_loss: 0.4355 - val_accuracy: 0.8539\n",
      "Epoch 483/500\n",
      "798/798 [==============================] - 0s 28us/step - loss: 0.4020 - accuracy: 0.8258 - val_loss: 0.4382 - val_accuracy: 0.8652\n",
      "Epoch 484/500\n",
      "798/798 [==============================] - 0s 27us/step - loss: 0.3951 - accuracy: 0.8371 - val_loss: 0.4255 - val_accuracy: 0.8090\n",
      "Epoch 485/500\n",
      "798/798 [==============================] - 0s 28us/step - loss: 0.4038 - accuracy: 0.8321 - val_loss: 0.4330 - val_accuracy: 0.7978\n",
      "Epoch 486/500\n",
      "798/798 [==============================] - 0s 27us/step - loss: 0.3939 - accuracy: 0.8358 - val_loss: 0.4527 - val_accuracy: 0.8427\n",
      "Epoch 487/500\n",
      "798/798 [==============================] - 0s 29us/step - loss: 0.3970 - accuracy: 0.8221 - val_loss: 0.4287 - val_accuracy: 0.8539\n",
      "Epoch 488/500\n",
      "798/798 [==============================] - 0s 28us/step - loss: 0.3888 - accuracy: 0.8321 - val_loss: 0.4419 - val_accuracy: 0.8427\n",
      "Epoch 489/500\n",
      "798/798 [==============================] - 0s 30us/step - loss: 0.3963 - accuracy: 0.8346 - val_loss: 0.4527 - val_accuracy: 0.8539\n",
      "Epoch 490/500\n",
      "798/798 [==============================] - 0s 27us/step - loss: 0.4106 - accuracy: 0.8283 - val_loss: 0.4418 - val_accuracy: 0.8539\n",
      "Epoch 491/500\n",
      "798/798 [==============================] - 0s 28us/step - loss: 0.3957 - accuracy: 0.8371 - val_loss: 0.4515 - val_accuracy: 0.8652\n",
      "Epoch 492/500\n",
      "798/798 [==============================] - 0s 28us/step - loss: 0.3871 - accuracy: 0.8308 - val_loss: 0.4715 - val_accuracy: 0.8090\n",
      "Epoch 493/500\n",
      "798/798 [==============================] - 0s 28us/step - loss: 0.4193 - accuracy: 0.8271 - val_loss: 0.4664 - val_accuracy: 0.8652\n",
      "Epoch 494/500\n",
      "798/798 [==============================] - 0s 28us/step - loss: 0.3958 - accuracy: 0.8308 - val_loss: 0.4258 - val_accuracy: 0.8090\n",
      "Epoch 495/500\n",
      "798/798 [==============================] - 0s 28us/step - loss: 0.4177 - accuracy: 0.8208 - val_loss: 0.4273 - val_accuracy: 0.8202\n",
      "Epoch 496/500\n",
      "798/798 [==============================] - 0s 27us/step - loss: 0.4019 - accuracy: 0.8258 - val_loss: 0.4493 - val_accuracy: 0.8427\n",
      "Epoch 497/500\n",
      "798/798 [==============================] - 0s 28us/step - loss: 0.3903 - accuracy: 0.8308 - val_loss: 0.4546 - val_accuracy: 0.8539\n",
      "Epoch 498/500\n",
      "798/798 [==============================] - 0s 29us/step - loss: 0.3987 - accuracy: 0.8195 - val_loss: 0.4296 - val_accuracy: 0.8202\n",
      "Epoch 499/500\n",
      "798/798 [==============================] - 0s 29us/step - loss: 0.3909 - accuracy: 0.8346 - val_loss: 0.4324 - val_accuracy: 0.8427\n",
      "Epoch 500/500\n",
      "798/798 [==============================] - 0s 29us/step - loss: 0.3930 - accuracy: 0.8308 - val_loss: 0.4373 - val_accuracy: 0.8202\n"
     ]
    }
   ],
   "source": [
    "hist = model.fit(X_train, y_train, validation_data=(X_test, y_test), epochs=500)"
   ]
  },
  {
   "cell_type": "markdown",
   "metadata": {},
   "source": [
    "## 학습 데이터 결과 그래프 그리기"
   ]
  },
  {
   "cell_type": "code",
   "execution_count": 49,
   "metadata": {},
   "outputs": [],
   "source": [
    "import matplotlib.pyplot as plt\n",
    "%matplotlib inline"
   ]
  },
  {
   "cell_type": "code",
   "execution_count": 50,
   "metadata": {},
   "outputs": [
    {
     "data": {
      "image/png": "[encoded data removed]",
      "text/plain": [
       "<Figure size 864x576 with 1 Axes>"
      ]
     },
     "metadata": {
      "needs_background": "light"
     },
     "output_type": "display_data"
    }
   ],
   "source": [
    "plt.figure(figsize=(12,8))\n",
    "plt.plot(hist.history['loss'])\n",
    "plt.plot(hist.history['val_loss'])\n",
    "plt.plot(hist.history['accuracy'])\n",
    "plt.plot(hist.history['val_accuracy'])\n",
    "plt.legend(['loss','val_loss', 'accuracy','val_accuracy'])\n",
    "plt.show()"
   ]
  },
  {
   "cell_type": "markdown",
   "metadata": {},
   "source": [
    "## 평가하기"
   ]
  },
  {
   "cell_type": "code",
   "execution_count": 51,
   "metadata": {},
   "outputs": [
    {
     "name": "stdout",
     "output_type": "stream",
     "text": [
      "89/89 [==============================] - 0s 35us/step\n"
     ]
    },
    {
     "data": {
      "text/plain": [
       "[0.43730805161293973, 0.8202247023582458]"
      ]
     },
     "execution_count": 51,
     "metadata": {},
     "output_type": "execute_result"
    }
   ],
   "source": [
    "model.evaluate(X_test, y_test)"
   ]
  },
  {
   "cell_type": "code",
   "execution_count": 52,
   "metadata": {},
   "outputs": [],
   "source": [
    "a = model.predict(X_test)"
   ]
  },
  {
   "cell_type": "code",
   "execution_count": 53,
   "metadata": {},
   "outputs": [],
   "source": [
    "import numpy as np"
   ]
  },
  {
   "cell_type": "code",
   "execution_count": 54,
   "metadata": {},
   "outputs": [
    {
     "data": {
      "text/plain": [
       "array([9.31326866e-01, 1.32312506e-01, 2.12086827e-01, 1.01051003e-01,\n",
       "       9.92136180e-01, 1.39652133e-01, 9.43148136e-01, 2.40591258e-01,\n",
       "       9.47731853e-01, 1.33850366e-01, 9.04401302e-01, 7.48403668e-02,\n",
       "       7.76722074e-01, 9.97570753e-01, 1.54172957e-01, 9.69219983e-01,\n",
       "       1.80556417e-01, 4.28245962e-02, 9.39422488e-01, 1.01638705e-01,\n",
       "       5.40907681e-01, 3.85011673e-01, 4.82013792e-01, 5.48906326e-02,\n",
       "       6.41195714e-01, 5.47839701e-02, 2.83548564e-01, 2.98970938e-03,\n",
       "       6.45667315e-04, 7.08370566e-01, 6.38069689e-01, 5.27147353e-01,\n",
       "       8.16340744e-02, 9.92993176e-01, 1.15065455e-01, 3.30782652e-01,\n",
       "       9.94121552e-01, 1.49482340e-01, 6.55202687e-01, 9.97201383e-01,\n",
       "       9.96857584e-01, 1.66297913e-01, 1.93789482e-01, 1.26436353e-03,\n",
       "       1.76167667e-01, 1.90912485e-01, 4.81150270e-01, 4.53928769e-01,\n",
       "       1.59201354e-01, 4.05687779e-01, 1.88839942e-01, 5.94671965e-01,\n",
       "       2.18088746e-01, 9.38726842e-01, 3.90413702e-02, 2.33863413e-01,\n",
       "       2.06676781e-01, 9.93413329e-01, 1.92760289e-01, 3.39064181e-01,\n",
       "       5.58004916e-01, 1.74540162e-01, 4.66886610e-01, 7.60284960e-01,\n",
       "       9.95806336e-01, 1.04777098e-01, 6.30073309e-01, 6.55413806e-01,\n",
       "       6.20047629e-01, 2.15556502e-01, 9.90638494e-01, 1.63493484e-01,\n",
       "       9.96945679e-01, 2.45521486e-01, 7.45189965e-01, 9.67071712e-01,\n",
       "       1.63395315e-01, 9.20230448e-01, 8.89034867e-02, 1.17842525e-01,\n",
       "       4.23396945e-01, 5.24381101e-01, 1.72094315e-01, 9.89955783e-01,\n",
       "       1.67209059e-01, 7.89105892e-02, 1.33538425e-01, 1.03923678e-01,\n",
       "       2.67794263e-02], dtype=float32)"
      ]
     },
     "execution_count": 54,
     "metadata": {},
     "output_type": "execute_result"
    }
   ],
   "source": [
    "np.max(a, axis=1)"
   ]
  },
  {
   "cell_type": "code",
   "execution_count": 55,
   "metadata": {},
   "outputs": [
    {
     "data": {
      "text/plain": [
       "array([3.0, 0.0, 8.0, 29.125], dtype=object)"
      ]
     },
     "execution_count": 55,
     "metadata": {},
     "output_type": "execute_result"
    }
   ],
   "source": [
    "X_test[1]"
   ]
  },
  {
   "cell_type": "code",
   "execution_count": 56,
   "metadata": {},
   "outputs": [
    {
     "data": {
      "text/plain": [
       "array([0.0], dtype=object)"
      ]
     },
     "execution_count": 56,
     "metadata": {},
     "output_type": "execute_result"
    }
   ],
   "source": [
    "y_test[1]"
   ]
  },
  {
   "cell_type": "code",
   "execution_count": 57,
   "metadata": {},
   "outputs": [
    {
     "data": {
      "text/plain": [
       "array([0.1323125], dtype=float32)"
      ]
     },
     "execution_count": 57,
     "metadata": {},
     "output_type": "execute_result"
    }
   ],
   "source": [
    "a[1]"
   ]
  },
  {
   "cell_type": "code",
   "execution_count": null,
   "metadata": {},
   "outputs": [],
   "source": []
  },
  {
   "cell_type": "markdown",
   "metadata": {},
   "source": [
    "## 임의의 결과를 넣고 예측하기"
   ]
  },
  {
   "cell_type": "code",
   "execution_count": 64,
   "metadata": {},
   "outputs": [],
   "source": [
    "dicaprio = np.array([3., 0.,24, 5.]).reshape(1,4)\n",
    "winslet = np.array([1., 1., 20,100.]).reshape(1,4)"
   ]
  },
  {
   "cell_type": "code",
   "execution_count": 65,
   "metadata": {},
   "outputs": [
    {
     "data": {
      "text/plain": [
       "array([[0.2776016]], dtype=float32)"
      ]
     },
     "execution_count": 65,
     "metadata": {},
     "output_type": "execute_result"
    }
   ],
   "source": [
    "model.predict(dicaprio)"
   ]
  },
  {
   "cell_type": "code",
   "execution_count": 66,
   "metadata": {},
   "outputs": [
    {
     "data": {
      "text/plain": [
       "array([[0.9819904]], dtype=float32)"
      ]
     },
     "execution_count": 66,
     "metadata": {},
     "output_type": "execute_result"
    }
   ],
   "source": [
    "model.predict(winslet)"
   ]
  },
  {
   "cell_type": "code",
   "execution_count": null,
   "metadata": {},
   "outputs": [],
   "source": []
  }
 ],
 "metadata": {
  "kernelspec": {
   "display_name": "Python 3",
   "language": "python",
   "name": "python3"
  },
  "language_info": {
   "codemirror_mode": {
    "name": "ipython",
    "version": 3
   },
   "file_extension": ".py",
   "mimetype": "text/x-python",
   "name": "python",
   "nbconvert_exporter": "python",
   "pygments_lexer": "ipython3",
   "version": "3.7.4"
  }
 },
 "nbformat": 4,
 "nbformat_minor": 2
}
