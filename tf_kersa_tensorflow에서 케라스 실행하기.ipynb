{
 "cells": [
  {
   "cell_type": "markdown",
   "metadata": {},
   "source": [
    "## 참조자료 \n",
    "\n",
    "https://lambdalabs.com/blog/tensorflow-2-0-tutorial-01-image-classification-basics/"
   ]
  },
  {
   "cell_type": "code",
   "execution_count": null,
   "metadata": {},
   "outputs": [],
   "source": [
    "## Sequencial API"
   ]
  },
  {
   "cell_type": "code",
   "execution_count": 2,
   "metadata": {},
   "outputs": [],
   "source": [
    "import tensorflow as tf"
   ]
  },
  {
   "cell_type": "code",
   "execution_count": 5,
   "metadata": {},
   "outputs": [],
   "source": [
    "from tensorflow.keras.models import Sequential\n",
    "from tensorflow.keras.layers import Conv2D, MaxPooling2D, Flatten, Dense\n",
    "\n",
    "model = Sequential([\n",
    "    Conv2D(32, (3, 3), activation='relu', input_shape=(32, 32, 3)),\n",
    "    MaxPooling2D(pool_size=(2, 2)),\n",
    "    Flatten(),\n",
    "    Dense(10, activation='softmax')\n",
    "])"
   ]
  },
  {
   "cell_type": "code",
   "execution_count": null,
   "metadata": {},
   "outputs": [],
   "source": [
    "## Functional API"
   ]
  },
  {
   "cell_type": "code",
   "execution_count": 6,
   "metadata": {},
   "outputs": [],
   "source": [
    "from tensorflow.keras.models import Model\n",
    "from tensorflow.keras.layers import Input, Conv2D, MaxPooling2D, Flatten, Dense\n",
    "\n",
    "inputs = Input(shape=(32, 32, 3))\n",
    "x = Conv2D(32, (3, 3), activation='relu')(inputs)\n",
    "x = MaxPooling2D(pool_size=(2, 2))(x)\n",
    "x = Flatten()(x)\n",
    "x = Dense(10, activation='softmax')(x)\n",
    "model = Model(inputs=inputs, outputs=x)"
   ]
  },
  {
   "cell_type": "code",
   "execution_count": null,
   "metadata": {},
   "outputs": [],
   "source": []
  },
  {
   "cell_type": "code",
   "execution_count": 7,
   "metadata": {},
   "outputs": [],
   "source": [
    "import tensorflow.keras as keras"
   ]
  },
  {
   "cell_type": "code",
   "execution_count": 8,
   "metadata": {},
   "outputs": [],
   "source": [
    "(x_train, y_train), (x_test, y_test) = keras.datasets.cifar10.load_data()"
   ]
  },
  {
   "cell_type": "code",
   "execution_count": 9,
   "metadata": {},
   "outputs": [
    {
     "name": "stdout",
     "output_type": "stream",
     "text": [
      "<class 'numpy.ndarray'> <class 'numpy.ndarray'>\n"
     ]
    }
   ],
   "source": [
    "print(type(x_train), type(y_train))"
   ]
  },
  {
   "cell_type": "code",
   "execution_count": 11,
   "metadata": {},
   "outputs": [
    {
     "name": "stdout",
     "output_type": "stream",
     "text": [
      "(50000, 32, 32, 3) (50000, 1)\n"
     ]
    }
   ],
   "source": [
    "print(x_train.shape, y_train.shape)"
   ]
  },
  {
   "cell_type": "code",
   "execution_count": null,
   "metadata": {},
   "outputs": [],
   "source": []
  },
  {
   "cell_type": "code",
   "execution_count": null,
   "metadata": {},
   "outputs": [],
   "source": []
  },
  {
   "cell_type": "markdown",
   "metadata": {},
   "source": [
    "## The tf.data.Dataset class \n",
    "\n",
    "  - 훈련 데이터를 보유하는 컨테이너 역할을합니다.\n",
    "  - 학습 데이터의 요소를 변경하는 데 사용할 수 있습니다."
   ]
  },
  {
   "cell_type": "code",
   "execution_count": 12,
   "metadata": {},
   "outputs": [],
   "source": [
    "# Instantiate the Dataset class.\n",
    "train_dataset = tf.data.Dataset.from_tensor_slices((x_train, y_train))"
   ]
  },
  {
   "cell_type": "code",
   "execution_count": 13,
   "metadata": {},
   "outputs": [
    {
     "data": {
      "text/plain": [
       "<TensorSliceDataset shapes: ((32, 32, 3), (1,)), types: (tf.uint8, tf.uint8)>"
      ]
     },
     "execution_count": 13,
     "metadata": {},
     "output_type": "execute_result"
    }
   ],
   "source": [
    "train_dataset"
   ]
  },
  {
   "cell_type": "code",
   "execution_count": 16,
   "metadata": {},
   "outputs": [
    {
     "data": {
      "text/plain": [
       "tensorflow.python.data.ops.dataset_ops.TensorSliceDataset"
      ]
     },
     "execution_count": 16,
     "metadata": {},
     "output_type": "execute_result"
    }
   ],
   "source": [
    "type(train_dataset)"
   ]
  },
  {
   "cell_type": "code",
   "execution_count": 19,
   "metadata": {},
   "outputs": [],
   "source": [
    "for image, label in train_dataset.take(1):\n",
    "    (image.shape, label.shape)"
   ]
  },
  {
   "cell_type": "code",
   "execution_count": 22,
   "metadata": {},
   "outputs": [
    {
     "data": {
      "text/plain": [
       "(tensorflow.python.framework.ops.EagerTensor,\n",
       " tensorflow.python.framework.ops.EagerTensor)"
      ]
     },
     "execution_count": 22,
     "metadata": {},
     "output_type": "execute_result"
    }
   ],
   "source": [
    "type(image), type(label)"
   ]
  },
  {
   "cell_type": "code",
   "execution_count": 20,
   "metadata": {},
   "outputs": [
    {
     "name": "stdout",
     "output_type": "stream",
     "text": [
      "(32, 32, 3) (1,)\n"
     ]
    }
   ],
   "source": [
    "print(image.shape, label.shape)"
   ]
  },
  {
   "cell_type": "code",
   "execution_count": null,
   "metadata": {},
   "outputs": [],
   "source": []
  },
  {
   "cell_type": "code",
   "execution_count": 25,
   "metadata": {},
   "outputs": [],
   "source": [
    " HEIGHT= WIDTH=32"
   ]
  },
  {
   "cell_type": "code",
   "execution_count": 28,
   "metadata": {},
   "outputs": [],
   "source": [
    "NUM_CHANNELS=3"
   ]
  },
  {
   "cell_type": "code",
   "execution_count": 29,
   "metadata": {},
   "outputs": [],
   "source": [
    "def augmentation(x, y):\n",
    "    x = tf.image.resize_with_crop_or_pad(\n",
    "        x, HEIGHT + 8, WIDTH + 8)\n",
    "    x = tf.image.random_crop(x, [HEIGHT, WIDTH, NUM_CHANNELS])\n",
    "    x = tf.image.random_flip_left_right(x)\n",
    "    return x, y"
   ]
  },
  {
   "cell_type": "code",
   "execution_count": 30,
   "metadata": {},
   "outputs": [],
   "source": [
    "train_dataset = train_dataset.map(augmentation)"
   ]
  },
  {
   "cell_type": "code",
   "execution_count": 31,
   "metadata": {},
   "outputs": [],
   "source": [
    "for image, label in train_dataset.take(1):\n",
    "    (image.shape, label.shape)"
   ]
  },
  {
   "cell_type": "code",
   "execution_count": 32,
   "metadata": {},
   "outputs": [
    {
     "name": "stdout",
     "output_type": "stream",
     "text": [
      "(32, 32, 3) (1,)\n"
     ]
    }
   ],
   "source": [
    "print(image.shape, label.shape)"
   ]
  },
  {
   "cell_type": "code",
   "execution_count": 34,
   "metadata": {},
   "outputs": [],
   "source": [
    "train_dataset = (train_dataset\n",
    "                 .map(augmentation)\n",
    "                 .shuffle(buffer_size=50000))"
   ]
  },
  {
   "cell_type": "code",
   "execution_count": 35,
   "metadata": {},
   "outputs": [
    {
     "data": {
      "text/plain": [
       "tensorflow.python.data.ops.dataset_ops.ShuffleDataset"
      ]
     },
     "execution_count": 35,
     "metadata": {},
     "output_type": "execute_result"
    }
   ],
   "source": [
    "type(train_dataset)"
   ]
  },
  {
   "cell_type": "code",
   "execution_count": null,
   "metadata": {},
   "outputs": [],
   "source": []
  },
  {
   "cell_type": "code",
   "execution_count": 36,
   "metadata": {},
   "outputs": [],
   "source": [
    "def normalize(x, y):\n",
    "    x = tf.image.per_image_standardization(x)\n",
    "    return x, y"
   ]
  },
  {
   "cell_type": "code",
   "execution_count": 37,
   "metadata": {},
   "outputs": [
    {
     "name": "stdout",
     "output_type": "stream",
     "text": [
      "WARNING:tensorflow:From /Users/dahlmoon/anaconda3/lib/python3.7/site-packages/tensorflow_core/python/ops/image_ops_impl.py:1518: div (from tensorflow.python.ops.math_ops) is deprecated and will be removed in a future version.\n",
      "Instructions for updating:\n",
      "Deprecated in favor of operator or tf.math.divide.\n"
     ]
    }
   ],
   "source": [
    "train_dataset = (train_dataset\n",
    "                 .map(augmentation)\n",
    "                 .shuffle(buffer_size=50000)\n",
    "                 .map(normalize))"
   ]
  },
  {
   "cell_type": "code",
   "execution_count": null,
   "metadata": {},
   "outputs": [],
   "source": []
  },
  {
   "cell_type": "code",
   "execution_count": 39,
   "metadata": {},
   "outputs": [],
   "source": [
    "train_dataset = (train_dataset.map(augmentation)\n",
    "                 .map(normalize)\n",
    "                 .shuffle(50000)\n",
    "                 .batch(128, drop_remainder=True))"
   ]
  },
  {
   "cell_type": "code",
   "execution_count": null,
   "metadata": {},
   "outputs": [],
   "source": []
  },
  {
   "cell_type": "code",
   "execution_count": 40,
   "metadata": {},
   "outputs": [],
   "source": [
    "model.compile(\n",
    "          loss='sparse_categorical_crossentropy',\n",
    "          optimizer=keras.optimizers.SGD(learning_rate=0.1, momentum=0.9),\n",
    "          metrics=['accuracy'])"
   ]
  },
  {
   "cell_type": "code",
   "execution_count": null,
   "metadata": {},
   "outputs": [
    {
     "name": "stdout",
     "output_type": "stream",
     "text": [
      "Epoch 1/60\n",
      "390/390 [==============================] - 37s 95ms/step - loss: 512.0011 - accuracy: 0.0987\n",
      "Epoch 2/60\n",
      "390/390 [==============================] - 36s 92ms/step - loss: 2.3047 - accuracy: 0.0988\n",
      "Epoch 3/60\n",
      "390/390 [==============================] - 37s 95ms/step - loss: 2.3041 - accuracy: 0.1012\n",
      "Epoch 4/60\n",
      "390/390 [==============================] - 36s 91ms/step - loss: 2.3046 - accuracy: 0.0967\n",
      "Epoch 5/60\n",
      "390/390 [==============================] - 37s 94ms/step - loss: 2.3044 - accuracy: 0.1012\n",
      "Epoch 6/60\n",
      "390/390 [==============================] - 37s 95ms/step - loss: 2.3047 - accuracy: 0.0972\n",
      "Epoch 7/60\n",
      "390/390 [==============================] - 38s 96ms/step - loss: 2.3047 - accuracy: 0.0985\n",
      "Epoch 8/60\n",
      "390/390 [==============================] - 37s 96ms/step - loss: 2.3044 - accuracy: 0.0989\n",
      "Epoch 9/60\n",
      "390/390 [==============================] - 37s 95ms/step - loss: 2.3044 - accuracy: 0.0998\n",
      "Epoch 10/60\n",
      "390/390 [==============================] - 38s 97ms/step - loss: 2.3045 - accuracy: 0.0984\n",
      "Epoch 11/60\n",
      "390/390 [==============================] - 42s 109ms/step - loss: 2.3047 - accuracy: 0.0985\n",
      "Epoch 12/60\n",
      "390/390 [==============================] - 37s 96ms/step - loss: 2.3045 - accuracy: 0.1011\n",
      "Epoch 13/60\n",
      "390/390 [==============================] - 37s 94ms/step - loss: 2.3046 - accuracy: 0.1019\n",
      "Epoch 14/60\n",
      "390/390 [==============================] - 37s 94ms/step - loss: 2.3044 - accuracy: 0.0996\n",
      "Epoch 15/60\n",
      "390/390 [==============================] - 37s 94ms/step - loss: 2.3045 - accuracy: 0.0991\n",
      "Epoch 16/60\n",
      "390/390 [==============================] - 37s 96ms/step - loss: 2.3046 - accuracy: 0.0984\n",
      "Epoch 17/60\n",
      "390/390 [==============================] - 41s 106ms/step - loss: 2.3045 - accuracy: 0.1002\n",
      "Epoch 18/60\n",
      "390/390 [==============================] - 37s 95ms/step - loss: 2.3044 - accuracy: 0.1002\n",
      "Epoch 19/60\n",
      "390/390 [==============================] - 36s 92ms/step - loss: 2.3044 - accuracy: 0.1002\n",
      "Epoch 20/60\n",
      "390/390 [==============================] - 36s 92ms/step - loss: 2.3047 - accuracy: 0.0969\n",
      "Epoch 21/60\n",
      "390/390 [==============================] - 36s 92ms/step - loss: 2.3044 - accuracy: 0.0994\n",
      "Epoch 22/60\n",
      "390/390 [==============================] - 41s 106ms/step - loss: 2.3047 - accuracy: 0.0999\n",
      "Epoch 23/60\n",
      "390/390 [==============================] - 37s 96ms/step - loss: 2.3044 - accuracy: 0.1017\n",
      "Epoch 24/60\n",
      "390/390 [==============================] - 36s 92ms/step - loss: 2.3042 - accuracy: 0.1004\n",
      "Epoch 25/60\n",
      "390/390 [==============================] - 37s 96ms/step - loss: 2.3046 - accuracy: 0.1006\n",
      "Epoch 26/60\n",
      "390/390 [==============================] - 36s 93ms/step - loss: 2.3043 - accuracy: 0.1026\n",
      "Epoch 27/60\n"
     ]
    }
   ],
   "source": [
    "model.fit(train_dataset,\n",
    "          epochs=60,\n",
    "          validation_freq=0.2, verbose=1)"
   ]
  },
  {
   "cell_type": "code",
   "execution_count": null,
   "metadata": {},
   "outputs": [],
   "source": []
  }
 ],
 "metadata": {
  "kernelspec": {
   "display_name": "Python 3",
   "language": "python",
   "name": "python3"
  },
  "language_info": {
   "codemirror_mode": {
    "name": "ipython",
    "version": 3
   },
   "file_extension": ".py",
   "mimetype": "text/x-python",
   "name": "python",
   "nbconvert_exporter": "python",
   "pygments_lexer": "ipython3",
   "version": "3.7.4"
  }
 },
 "nbformat": 4,
 "nbformat_minor": 2
}
