{
 "cells": [
  {
   "cell_type": "code",
   "execution_count": 11,
   "metadata": {},
   "outputs": [],
   "source": [
    "import tensorflow as tf"
   ]
  },
  {
   "cell_type": "code",
   "execution_count": 12,
   "metadata": {},
   "outputs": [
    {
     "data": {
      "text/plain": [
       "'2.1.0-dev20191015'"
      ]
     },
     "execution_count": 12,
     "metadata": {},
     "output_type": "execute_result"
    }
   ],
   "source": [
    "tf.__version__"
   ]
  },
  {
   "cell_type": "code",
   "execution_count": 25,
   "metadata": {},
   "outputs": [],
   "source": [
    "import numpy as np"
   ]
  },
  {
   "cell_type": "code",
   "execution_count": 26,
   "metadata": {},
   "outputs": [],
   "source": [
    "import scipy as sp"
   ]
  },
  {
   "cell_type": "code",
   "execution_count": 23,
   "metadata": {},
   "outputs": [
    {
     "name": "stdout",
     "output_type": "stream",
     "text": [
      "LinearOperator\n",
      "LinearOperatorAdjoint\n",
      "LinearOperatorBlockDiag\n",
      "LinearOperatorCirculant\n",
      "LinearOperatorCirculant2D\n",
      "LinearOperatorCirculant3D\n",
      "LinearOperatorComposition\n",
      "LinearOperatorDiag\n",
      "LinearOperatorFullMatrix\n",
      "LinearOperatorHouseholder\n",
      "LinearOperatorIdentity\n",
      "LinearOperatorInversion\n",
      "LinearOperatorKronecker\n",
      "LinearOperatorLowRankUpdate\n",
      "LinearOperatorLowerTriangular\n",
      "LinearOperatorPermutation\n",
      "LinearOperatorScaledIdentity\n",
      "LinearOperatorToeplitz\n",
      "LinearOperatorZeros\n",
      "adjoint\n",
      "band_part\n",
      "cholesky\n",
      "cholesky_solve\n",
      "cross\n",
      "det\n",
      "diag\n",
      "diag_part\n",
      "eigh\n",
      "eigvalsh\n",
      "einsum\n",
      "expm\n",
      "eye\n",
      "global_norm\n",
      "inv\n",
      "l2_normalize\n",
      "logdet\n",
      "logm\n",
      "lstsq\n",
      "lu\n",
      "lu_matrix_inverse\n",
      "lu_reconstruct\n",
      "lu_solve\n",
      "matmul\n",
      "matrix_rank\n",
      "matrix_transpose\n",
      "matvec\n",
      "norm\n",
      "normalize\n",
      "pinv\n",
      "qr\n",
      "set_diag\n",
      "slogdet\n",
      "solve\n",
      "sqrtm\n",
      "svd\n",
      "tensor_diag\n",
      "tensor_diag_part\n",
      "tensordot\n",
      "trace\n",
      "triangular_solve\n",
      "tridiagonal_matmul\n",
      "tridiagonal_solve\n"
     ]
    }
   ],
   "source": [
    "for i in dir(tf.linalg) :\n",
    "    if not i.startswith(\"_\") :\n",
    "        print(i)"
   ]
  },
  {
   "cell_type": "code",
   "execution_count": 24,
   "metadata": {},
   "outputs": [
    {
     "name": "stdout",
     "output_type": "stream",
     "text": [
      "LinAlgError\n",
      "absolute_import\n",
      "cholesky\n",
      "cond\n",
      "det\n",
      "division\n",
      "eig\n",
      "eigh\n",
      "eigvals\n",
      "eigvalsh\n",
      "info\n",
      "inv\n",
      "lapack_lite\n",
      "linalg\n",
      "lstsq\n",
      "matrix_power\n",
      "matrix_rank\n",
      "multi_dot\n",
      "norm\n",
      "pinv\n",
      "print_function\n",
      "qr\n",
      "slogdet\n",
      "solve\n",
      "svd\n",
      "tensorinv\n",
      "tensorsolve\n",
      "test\n"
     ]
    }
   ],
   "source": [
    "for i in dir(np.linalg) :\n",
    "    if not i.startswith(\"_\") :\n",
    "        print(i)"
   ]
  },
  {
   "cell_type": "code",
   "execution_count": 27,
   "metadata": {},
   "outputs": [
    {
     "name": "stdout",
     "output_type": "stream",
     "text": [
      "LinAlgError\n",
      "LinAlgWarning\n",
      "absolute_import\n",
      "basic\n",
      "blas\n",
      "block_diag\n",
      "cdf2rdf\n",
      "cho_factor\n",
      "cho_solve\n",
      "cho_solve_banded\n",
      "cholesky\n",
      "cholesky_banded\n",
      "circulant\n",
      "clarkson_woodruff_transform\n",
      "companion\n",
      "coshm\n",
      "cosm\n",
      "cython_blas\n",
      "cython_lapack\n",
      "decomp\n",
      "decomp_cholesky\n",
      "decomp_lu\n",
      "decomp_qr\n",
      "decomp_schur\n",
      "decomp_svd\n",
      "det\n",
      "dft\n",
      "diagsvd\n",
      "division\n",
      "eig\n",
      "eig_banded\n",
      "eigh\n",
      "eigh_tridiagonal\n",
      "eigvals\n",
      "eigvals_banded\n",
      "eigvalsh\n",
      "eigvalsh_tridiagonal\n",
      "expm\n",
      "expm_cond\n",
      "expm_frechet\n",
      "fiedler\n",
      "fiedler_companion\n",
      "find_best_blas_type\n",
      "flinalg\n",
      "fractional_matrix_power\n",
      "funm\n",
      "get_blas_funcs\n",
      "get_lapack_funcs\n",
      "hadamard\n",
      "hankel\n",
      "helmert\n",
      "hessenberg\n",
      "hilbert\n",
      "inv\n",
      "invhilbert\n",
      "invpascal\n",
      "kron\n",
      "lapack\n",
      "ldl\n",
      "leslie\n",
      "linalg_version\n",
      "logm\n",
      "lstsq\n",
      "lu\n",
      "lu_factor\n",
      "lu_solve\n",
      "matfuncs\n",
      "matrix_balance\n",
      "misc\n",
      "norm\n",
      "null_space\n",
      "ordqz\n",
      "orth\n",
      "orthogonal_procrustes\n",
      "pascal\n",
      "pinv\n",
      "pinv2\n",
      "pinvh\n",
      "polar\n",
      "print_function\n",
      "qr\n",
      "qr_delete\n",
      "qr_insert\n",
      "qr_multiply\n",
      "qr_update\n",
      "qz\n",
      "rq\n",
      "rsf2csf\n",
      "schur\n",
      "signm\n",
      "sinhm\n",
      "sinm\n",
      "solve\n",
      "solve_banded\n",
      "solve_circulant\n",
      "solve_continuous_are\n",
      "solve_continuous_lyapunov\n",
      "solve_discrete_are\n",
      "solve_discrete_lyapunov\n",
      "solve_lyapunov\n",
      "solve_sylvester\n",
      "solve_toeplitz\n",
      "solve_triangular\n",
      "solveh_banded\n",
      "special_matrices\n",
      "sqrtm\n",
      "subspace_angles\n",
      "svd\n",
      "svdvals\n",
      "tanhm\n",
      "tanm\n",
      "test\n",
      "toeplitz\n",
      "tri\n",
      "tril\n",
      "triu\n"
     ]
    }
   ],
   "source": [
    "for i in dir(sp.linalg) :\n",
    "    if not i.startswith(\"_\") :\n",
    "        print(i)"
   ]
  },
  {
   "cell_type": "code",
   "execution_count": 7,
   "metadata": {},
   "outputs": [
    {
     "name": "stdout",
     "output_type": "stream",
     "text": [
      "[[2 2 2]\n",
      " [2 2 2]\n",
      " [2 2 2]]\n",
      "[[1 1 1]\n",
      " [1 1 1]\n",
      " [1 1 1]]\n"
     ]
    }
   ],
   "source": [
    "matrix1 = np.array([(2,2,2),(2,2,2),(2,2,2)],dtype='int32')\n",
    "matrix2 = np.array([(1,1,1),(1,1,1),(1,1,1)],dtype='int32')\n",
    "print (matrix1)\n",
    "print (matrix2)\n"
   ]
  },
  {
   "cell_type": "code",
   "execution_count": 14,
   "metadata": {},
   "outputs": [
    {
     "data": {
      "text/plain": [
       "array([[3, 3, 3],\n",
       "       [3, 3, 3],\n",
       "       [3, 3, 3]])"
      ]
     },
     "execution_count": 14,
     "metadata": {},
     "output_type": "execute_result"
    }
   ],
   "source": [
    "np.add(matrix1,matrix2)"
   ]
  },
  {
   "cell_type": "code",
   "execution_count": 15,
   "metadata": {},
   "outputs": [
    {
     "data": {
      "text/plain": [
       "<tf.Tensor: shape=(3, 3), dtype=int32, numpy=\n",
       "array([[3, 3, 3],\n",
       "       [3, 3, 3],\n",
       "       [3, 3, 3]])>"
      ]
     },
     "execution_count": 15,
     "metadata": {},
     "output_type": "execute_result"
    }
   ],
   "source": [
    "tf.add(matrix1,matrix2)"
   ]
  },
  {
   "cell_type": "code",
   "execution_count": null,
   "metadata": {},
   "outputs": [],
   "source": []
  },
  {
   "cell_type": "code",
   "execution_count": 16,
   "metadata": {},
   "outputs": [
    {
     "data": {
      "text/plain": [
       "array([[6, 6, 6],\n",
       "       [6, 6, 6],\n",
       "       [6, 6, 6]])"
      ]
     },
     "execution_count": 16,
     "metadata": {},
     "output_type": "execute_result"
    }
   ],
   "source": [
    "np.matmul(matrix1, matrix2)"
   ]
  },
  {
   "cell_type": "code",
   "execution_count": 9,
   "metadata": {},
   "outputs": [
    {
     "data": {
      "text/plain": [
       "<tf.Tensor: shape=(3, 3), dtype=int32, numpy=\n",
       "array([[6, 6, 6],\n",
       "       [6, 6, 6],\n",
       "       [6, 6, 6]])>"
      ]
     },
     "execution_count": 9,
     "metadata": {},
     "output_type": "execute_result"
    }
   ],
   "source": [
    "tf.matmul(matrix1, matrix2)"
   ]
  },
  {
   "cell_type": "code",
   "execution_count": null,
   "metadata": {},
   "outputs": [],
   "source": []
  },
  {
   "cell_type": "code",
   "execution_count": null,
   "metadata": {},
   "outputs": [],
   "source": [
    "matrix1 = tf.constant(matrix1)\n",
    "matrix2 = tf.constant(matrix2)\n"
   ]
  },
  {
   "cell_type": "code",
   "execution_count": 10,
   "metadata": {},
   "outputs": [],
   "source": [
    "matrix_product = tf.matmul(matrix1, matrix2)\n",
    "matrix_sum = tf.add(matrix1,matrix2)\n"
   ]
  },
  {
   "cell_type": "code",
   "execution_count": null,
   "metadata": {},
   "outputs": [],
   "source": []
  },
  {
   "cell_type": "code",
   "execution_count": null,
   "metadata": {},
   "outputs": [],
   "source": []
  },
  {
   "cell_type": "code",
   "execution_count": null,
   "metadata": {},
   "outputs": [],
   "source": [
    "matrix_3 = np.array([(2,7,2),(1,4,2),(9,0,2)],dtype='float32')\n",
    "print (matrix_3)"
   ]
  },
  {
   "cell_type": "code",
   "execution_count": null,
   "metadata": {},
   "outputs": [],
   "source": []
  },
  {
   "cell_type": "code",
   "execution_count": 17,
   "metadata": {},
   "outputs": [
    {
     "data": {
      "text/plain": [
       "56.0"
      ]
     },
     "execution_count": 17,
     "metadata": {},
     "output_type": "execute_result"
    }
   ],
   "source": [
    "np.linalg.det(matrix_3)"
   ]
  },
  {
   "cell_type": "code",
   "execution_count": null,
   "metadata": {},
   "outputs": [],
   "source": [
    "matrix_det = tf.linalg.det(matrix_3)"
   ]
  },
  {
   "cell_type": "code",
   "execution_count": 4,
   "metadata": {},
   "outputs": [
    {
     "data": {
      "text/plain": [
       "<tf.Tensor: shape=(), dtype=float32, numpy=55.999992>"
      ]
     },
     "execution_count": 4,
     "metadata": {},
     "output_type": "execute_result"
    }
   ],
   "source": [
    "matrix_det "
   ]
  },
  {
   "cell_type": "code",
   "execution_count": null,
   "metadata": {},
   "outputs": [],
   "source": []
  },
  {
   "cell_type": "code",
   "execution_count": 18,
   "metadata": {},
   "outputs": [
    {
     "data": {
      "text/plain": [
       "array([[ 0.14285715, -0.25      ,  0.10714286],\n",
       "       [ 0.2857143 , -0.25      , -0.03571429],\n",
       "       [-0.64285713,  1.125     ,  0.01785714]], dtype=float32)"
      ]
     },
     "execution_count": 18,
     "metadata": {},
     "output_type": "execute_result"
    }
   ],
   "source": [
    "np.linalg.inv(matrix_3)"
   ]
  },
  {
   "cell_type": "code",
   "execution_count": 19,
   "metadata": {},
   "outputs": [
    {
     "data": {
      "text/plain": [
       "<tf.Tensor: shape=(3, 3), dtype=float32, numpy=\n",
       "array([[ 0.14285716, -0.25000003,  0.10714285],\n",
       "       [ 0.28571433, -0.25000006, -0.03571429],\n",
       "       [-0.64285725,  1.1250001 ,  0.01785715]], dtype=float32)>"
      ]
     },
     "execution_count": 19,
     "metadata": {},
     "output_type": "execute_result"
    }
   ],
   "source": [
    "tf.linalg.inv(matrix_3)"
   ]
  },
  {
   "cell_type": "code",
   "execution_count": null,
   "metadata": {},
   "outputs": [],
   "source": []
  },
  {
   "cell_type": "code",
   "execution_count": 21,
   "metadata": {},
   "outputs": [
    {
     "data": {
      "text/plain": [
       "3"
      ]
     },
     "execution_count": 21,
     "metadata": {},
     "output_type": "execute_result"
    }
   ],
   "source": [
    "np.linalg.matrix_rank(matrix_3)"
   ]
  },
  {
   "cell_type": "code",
   "execution_count": 20,
   "metadata": {},
   "outputs": [
    {
     "data": {
      "text/plain": [
       "<tf.Tensor: shape=(), dtype=int32, numpy=3>"
      ]
     },
     "execution_count": 20,
     "metadata": {},
     "output_type": "execute_result"
    }
   ],
   "source": [
    "tf.linalg.matrix_rank(matrix_3)"
   ]
  },
  {
   "cell_type": "code",
   "execution_count": null,
   "metadata": {},
   "outputs": [],
   "source": []
  }
 ],
 "metadata": {
  "kernelspec": {
   "display_name": "tensorcpu",
   "language": "python",
   "name": "tensorcpu"
  },
  "language_info": {
   "codemirror_mode": {
    "name": "ipython",
    "version": 3
   },
   "file_extension": ".py",
   "mimetype": "text/x-python",
   "name": "python",
   "nbconvert_exporter": "python",
   "pygments_lexer": "ipython3",
   "version": "3.7.4"
  }
 },
 "nbformat": 4,
 "nbformat_minor": 2
}
