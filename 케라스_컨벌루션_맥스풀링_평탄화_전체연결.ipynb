{
 "cells": [
  {
   "cell_type": "code",
   "execution_count": 7,
   "metadata": {},
   "outputs": [],
   "source": [
    "from keras.models import Sequential\n",
    "from keras.layers import Conv2D\n",
    "from keras.layers import MaxPooling2D\n",
    "from keras.layers import Flatten\n",
    "from keras.layers import Dense"
   ]
  },
  {
   "cell_type": "code",
   "execution_count": 31,
   "metadata": {},
   "outputs": [],
   "source": [
    "model = Sequential()"
   ]
  },
  {
   "cell_type": "code",
   "execution_count": null,
   "metadata": {},
   "outputs": [],
   "source": []
  },
  {
   "cell_type": "code",
   "execution_count": null,
   "metadata": {},
   "outputs": [],
   "source": []
  },
  {
   "cell_type": "markdown",
   "metadata": {},
   "source": [
    "## 컨벌루션과 맥스풀링\n",
    "\n",
    "\n",
    "컨벌루션 : 컨벌루션은 이미지에서 특정 기능을 식별하기 위해 이미지에서 수행됩니다. 컨벌루션 (Convolution)은 이미지의 흐림, 선명도, 가장자리 감지, 노이즈 감소 등을 통해 기계가 이미지의 특정 특성을 학습하는 데 도움이됩니다.\n",
    "\n",
    "풀링 : 복잡한 이미지가 너무 클 수 있으므로 축소해야합니다. 풀링은 주로 기능이나 패턴을 잃지 않고 이미지를 줄이기 위해 수행됩니다.\n"
   ]
  },
  {
   "cell_type": "code",
   "execution_count": 32,
   "metadata": {},
   "outputs": [],
   "source": [
    "model.add(Conv2D(filters = 32, kernel_size = (3, 3),input_shape = (150, 150, 3), activation=\"relu\"))\n",
    "model.add(MaxPooling2D(pool_size = (2, 2)))\n",
    "model.add(Conv2D(32, (3, 3), activation=\"relu\"))\n",
    "model.add(MaxPooling2D(pool_size = (2, 2)))"
   ]
  },
  {
   "cell_type": "markdown",
   "metadata": {},
   "source": [
    "## 평탄화  \n",
    "\n",
    "   평탄화는 2 차원 형상의 행렬을 신경망 또는 분류기에 공급 될 수있는 형상의 벡터로 변환합니다.\n"
   ]
  },
  {
   "cell_type": "code",
   "execution_count": 33,
   "metadata": {},
   "outputs": [],
   "source": [
    "model.add(Flatten())"
   ]
  },
  {
   "cell_type": "markdown",
   "metadata": {},
   "source": [
    "##  전체 연결 \n",
    "\n",
    "   전체 연결 : 전체 연결은 단순히 평평한 이미지를 신경망에 공급하는 과정을 말합니다."
   ]
  },
  {
   "cell_type": "code",
   "execution_count": 34,
   "metadata": {},
   "outputs": [],
   "source": [
    "model.add(Dense(units = 128, activation = \"relu\"))\n",
    "model.add(Dense(units = 1, activation = \"sigmoid\"))"
   ]
  },
  {
   "cell_type": "code",
   "execution_count": 35,
   "metadata": {},
   "outputs": [],
   "source": [
    "model.compile(optimizer = \"adam\",\n",
    "                        loss = \"binary_crossentropy\",\n",
    "                        metrics = [\"accuracy\"])\n"
   ]
  },
  {
   "cell_type": "code",
   "execution_count": null,
   "metadata": {},
   "outputs": [],
   "source": []
  },
  {
   "cell_type": "code",
   "execution_count": null,
   "metadata": {},
   "outputs": [],
   "source": []
  },
  {
   "cell_type": "code",
   "execution_count": 37,
   "metadata": {},
   "outputs": [],
   "source": [
    "from keras.preprocessing.image import ImageDataGenerator\n",
    "\n",
    "train_datagen = ImageDataGenerator(rescale = 1./255, shear_range = 0.1,zoom_range = 0.2, horizontal_flip = True)"
   ]
  },
  {
   "cell_type": "code",
   "execution_count": 38,
   "metadata": {},
   "outputs": [
    {
     "name": "stdout",
     "output_type": "stream",
     "text": [
      "Found 2000 images belonging to 2 classes.\n"
     ]
    }
   ],
   "source": [
    "training_set = train_datagen.flow_from_directory('./dataset/small/train',target_size = (150, 150),batch_size = 32,class_mode = 'binary')"
   ]
  },
  {
   "cell_type": "code",
   "execution_count": 39,
   "metadata": {},
   "outputs": [],
   "source": [
    "test_datagen = ImageDataGenerator(rescale = 1./255, shear_range = 0.1,zoom_range = 0.2, horizontal_flip = True)"
   ]
  },
  {
   "cell_type": "code",
   "execution_count": 40,
   "metadata": {},
   "outputs": [
    {
     "name": "stdout",
     "output_type": "stream",
     "text": [
      "Found 1000 images belonging to 2 classes.\n"
     ]
    }
   ],
   "source": [
    "test_set = test_datagen.flow_from_directory('./dataset/small/test',target_size = (150, 150),batch_size = 32,class_mode = 'binary')\n"
   ]
  },
  {
   "cell_type": "code",
   "execution_count": null,
   "metadata": {},
   "outputs": [],
   "source": []
  },
  {
   "cell_type": "code",
   "execution_count": null,
   "metadata": {},
   "outputs": [
    {
     "name": "stdout",
     "output_type": "stream",
     "text": [
      "Epoch 1/30\n",
      "100/100 [==============================] - 28s 281ms/step - loss: 0.0786 - accuracy: 0.9732 - val_loss: 0.7222 - val_accuracy: 0.7538\n",
      "Epoch 2/30\n",
      "100/100 [==============================] - 29s 294ms/step - loss: 0.0628 - accuracy: 0.9764 - val_loss: 0.5944 - val_accuracy: 0.7513\n",
      "Epoch 3/30\n",
      "100/100 [==============================] - 29s 294ms/step - loss: 0.0748 - accuracy: 0.9720 - val_loss: 0.7300 - val_accuracy: 0.7310\n",
      "Epoch 4/30\n",
      "100/100 [==============================] - 30s 297ms/step - loss: 0.0546 - accuracy: 0.9822 - val_loss: 0.4840 - val_accuracy: 0.7558\n",
      "Epoch 5/30\n",
      "100/100 [==============================] - 29s 290ms/step - loss: 0.0645 - accuracy: 0.9768 - val_loss: 0.7802 - val_accuracy: 0.7538\n",
      "Epoch 6/30\n",
      "100/100 [==============================] - 30s 297ms/step - loss: 0.0417 - accuracy: 0.9845 - val_loss: 1.1935 - val_accuracy: 0.7661\n",
      "Epoch 7/30\n",
      "100/100 [==============================] - 29s 288ms/step - loss: 0.0541 - accuracy: 0.9821 - val_loss: 1.6186 - val_accuracy: 0.7227\n",
      "Epoch 8/30\n",
      "100/100 [==============================] - 29s 294ms/step - loss: 0.0606 - accuracy: 0.9751 - val_loss: 0.8634 - val_accuracy: 0.7307\n",
      "Epoch 9/30\n",
      "100/100 [==============================] - 28s 285ms/step - loss: 0.0461 - accuracy: 0.9830 - val_loss: 1.0630 - val_accuracy: 0.7352\n",
      "Epoch 10/30\n",
      "100/100 [==============================] - 29s 289ms/step - loss: 0.0458 - accuracy: 0.9858 - val_loss: 1.1376 - val_accuracy: 0.7468\n",
      "Epoch 11/30\n",
      "100/100 [==============================] - 29s 289ms/step - loss: 0.0467 - accuracy: 0.9833 - val_loss: 1.8750 - val_accuracy: 0.7249\n",
      "Epoch 12/30\n",
      "100/100 [==============================] - 29s 294ms/step - loss: 0.0602 - accuracy: 0.9786 - val_loss: 0.7291 - val_accuracy: 0.7538\n",
      "Epoch 13/30\n",
      "100/100 [==============================] - 30s 299ms/step - loss: 0.0397 - accuracy: 0.9867 - val_loss: 1.0357 - val_accuracy: 0.7494\n",
      "Epoch 14/30\n",
      "100/100 [==============================] - 29s 292ms/step - loss: 0.0480 - accuracy: 0.9861 - val_loss: 1.0674 - val_accuracy: 0.7360\n",
      "Epoch 15/30\n",
      "100/100 [==============================] - 30s 300ms/step - loss: 0.0736 - accuracy: 0.9744 - val_loss: 0.6511 - val_accuracy: 0.7262\n",
      "Epoch 16/30\n",
      "100/100 [==============================] - 29s 292ms/step - loss: 0.0413 - accuracy: 0.9861 - val_loss: 0.3151 - val_accuracy: 0.7429\n",
      "Epoch 17/30\n",
      " 99/100 [============================>.] - ETA: 0s - loss: 0.0372 - accuracy: 0.9872"
     ]
    }
   ],
   "source": [
    "history = model.fit_generator(training_set,\n",
    "                  steps_per_epoch=100, epochs=30,\n",
    "                  validation_data = test_set,\n",
    "                validation_steps=50)"
   ]
  },
  {
   "cell_type": "code",
   "execution_count": null,
   "metadata": {},
   "outputs": [],
   "source": [
    "import matplotlib.pyplot as plt\n",
    "%matplotlib inline"
   ]
  },
  {
   "cell_type": "code",
   "execution_count": null,
   "metadata": {},
   "outputs": [],
   "source": [
    "epochs = range(1, len(history.history['accuracy'])+1)"
   ]
  },
  {
   "cell_type": "code",
   "execution_count": null,
   "metadata": {},
   "outputs": [],
   "source": [
    "plt.plot(epochs, history.history['accuracy'], 'bo', label='Training accuracy ')\n",
    "plt.plot(epochs, history.history['val_accuracy'], 'r', label=' Validation accuracy ')\n",
    "plt.title(\" Training adn validation accuracy\")\n",
    "plt.legend()"
   ]
  },
  {
   "cell_type": "code",
   "execution_count": null,
   "metadata": {},
   "outputs": [],
   "source": [
    "plt.plot(epochs, history.history['loss'], 'bo', label='Training loss ')\n",
    "plt.plot(epochs, history.history['val_loss'], 'r', label=' Validation loss ')\n",
    "plt.title(\" Training adn validation loss \")\n",
    "plt.legend()"
   ]
  },
  {
   "cell_type": "code",
   "execution_count": null,
   "metadata": {},
   "outputs": [],
   "source": []
  }
 ],
 "metadata": {
  "kernelspec": {
   "display_name": "Python 3",
   "language": "python",
   "name": "python3"
  },
  "language_info": {
   "codemirror_mode": {
    "name": "ipython",
    "version": 3
   },
   "file_extension": ".py",
   "mimetype": "text/x-python",
   "name": "python",
   "nbconvert_exporter": "python",
   "pygments_lexer": "ipython3",
   "version": "3.7.4"
  }
 },
 "nbformat": 4,
 "nbformat_minor": 2
}
