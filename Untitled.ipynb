{
 "cells": [
  {
   "cell_type": "code",
   "execution_count": 1,
   "metadata": {},
   "outputs": [
    {
     "name": "stderr",
     "output_type": "stream",
     "text": [
      "Using TensorFlow backend.\n"
     ]
    }
   ],
   "source": [
    "from keras.datasets import reuters"
   ]
  },
  {
   "cell_type": "code",
   "execution_count": 11,
   "metadata": {},
   "outputs": [],
   "source": [
    "(train_data, train_labels), (test_data, test_labels) = reuters.load_data(num_words=10000)"
   ]
  },
  {
   "cell_type": "code",
   "execution_count": 12,
   "metadata": {},
   "outputs": [],
   "source": [
    "import numpy as np"
   ]
  },
  {
   "cell_type": "code",
   "execution_count": 13,
   "metadata": {},
   "outputs": [],
   "source": [
    "def vectorize_sequences(sequences, dimension=10000) :\n",
    "    results = np.zeros((len(sequences), dimension))\n",
    "    for i , sequence in enumerate(sequences) :\n",
    "        results[i, sequence] = 1.\n",
    "    return results"
   ]
  },
  {
   "cell_type": "code",
   "execution_count": 14,
   "metadata": {},
   "outputs": [],
   "source": [
    "X_train = vectorize_sequences(train_data)"
   ]
  },
  {
   "cell_type": "code",
   "execution_count": 15,
   "metadata": {},
   "outputs": [],
   "source": [
    "X_test = vectorize_sequences(test_data)"
   ]
  },
  {
   "cell_type": "code",
   "execution_count": 16,
   "metadata": {},
   "outputs": [],
   "source": [
    "def to_one_hot(labels, dimension=46) :\n",
    "    results = np.zeros((len(labels), dimension))\n",
    "    for i, label in enumerate(labels) :\n",
    "        results[i, label] = 1.\n",
    "    return results"
   ]
  },
  {
   "cell_type": "code",
   "execution_count": 17,
   "metadata": {},
   "outputs": [],
   "source": [
    "one_hot_train_labels = to_one_hot(train_labels)"
   ]
  },
  {
   "cell_type": "code",
   "execution_count": 18,
   "metadata": {},
   "outputs": [],
   "source": [
    "one_hot_test_labels = to_one_hot(test_labels)"
   ]
  },
  {
   "cell_type": "code",
   "execution_count": 21,
   "metadata": {},
   "outputs": [],
   "source": [
    "from keras import models\n",
    "from keras import layers"
   ]
  },
  {
   "cell_type": "code",
   "execution_count": null,
   "metadata": {},
   "outputs": [],
   "source": []
  },
  {
   "cell_type": "code",
   "execution_count": 34,
   "metadata": {},
   "outputs": [],
   "source": [
    "model = models.Sequential()\n",
    "model.add(layers.Dense(64, activation='relu', input_shape=(10000,)))\n",
    "model.add(layers.Dense(64, activation='relu'))\n",
    "model.add(layers.Dense(46, activation='softmax'))"
   ]
  },
  {
   "cell_type": "code",
   "execution_count": null,
   "metadata": {},
   "outputs": [],
   "source": []
  },
  {
   "cell_type": "code",
   "execution_count": 35,
   "metadata": {},
   "outputs": [],
   "source": [
    "model.compile(optimizer='rmsprop', loss='categorical_crossentropy', metrics=['accuracy'])"
   ]
  },
  {
   "cell_type": "code",
   "execution_count": 36,
   "metadata": {},
   "outputs": [
    {
     "name": "stdout",
     "output_type": "stream",
     "text": [
      "Train on 7185 samples, validate on 1797 samples\n",
      "Epoch 1/20\n",
      "7185/7185 [==============================] - 1s 145us/step - loss: 2.6591 - accuracy: 0.5209 - val_loss: 1.7451 - val_accuracy: 0.6466\n",
      "Epoch 2/20\n",
      "7185/7185 [==============================] - 1s 135us/step - loss: 1.4169 - accuracy: 0.7090 - val_loss: 1.3613 - val_accuracy: 0.7117\n",
      "Epoch 3/20\n",
      "7185/7185 [==============================] - 1s 134us/step - loss: 1.0547 - accuracy: 0.7780 - val_loss: 1.1953 - val_accuracy: 0.7323\n",
      "Epoch 4/20\n",
      "7185/7185 [==============================] - 1s 134us/step - loss: 0.8423 - accuracy: 0.8255 - val_loss: 1.1128 - val_accuracy: 0.7579\n",
      "Epoch 5/20\n",
      "7185/7185 [==============================] - 1s 133us/step - loss: 0.6800 - accuracy: 0.8610 - val_loss: 1.0412 - val_accuracy: 0.7613\n",
      "Epoch 6/20\n",
      "7185/7185 [==============================] - 1s 133us/step - loss: 0.5559 - accuracy: 0.8870 - val_loss: 1.0034 - val_accuracy: 0.7869\n",
      "Epoch 7/20\n",
      "7185/7185 [==============================] - 1s 134us/step - loss: 0.4539 - accuracy: 0.9102 - val_loss: 1.0515 - val_accuracy: 0.7574\n",
      "Epoch 8/20\n",
      "7185/7185 [==============================] - 1s 133us/step - loss: 0.3742 - accuracy: 0.9258 - val_loss: 0.9536 - val_accuracy: 0.8041\n",
      "Epoch 9/20\n",
      "7185/7185 [==============================] - 1s 127us/step - loss: 0.3068 - accuracy: 0.9364 - val_loss: 0.9355 - val_accuracy: 0.8063\n",
      "Epoch 10/20\n",
      "7185/7185 [==============================] - 1s 122us/step - loss: 0.2558 - accuracy: 0.9464 - val_loss: 0.9669 - val_accuracy: 0.8002\n",
      "Epoch 11/20\n",
      "7185/7185 [==============================] - 1s 120us/step - loss: 0.2166 - accuracy: 0.9509 - val_loss: 0.9655 - val_accuracy: 0.7974\n",
      "Epoch 12/20\n",
      "7185/7185 [==============================] - 1s 117us/step - loss: 0.1831 - accuracy: 0.9559 - val_loss: 0.9793 - val_accuracy: 0.7997\n",
      "Epoch 13/20\n",
      "7185/7185 [==============================] - 1s 117us/step - loss: 0.1690 - accuracy: 0.9578 - val_loss: 1.0441 - val_accuracy: 0.7780\n",
      "Epoch 14/20\n",
      "7185/7185 [==============================] - 1s 116us/step - loss: 0.1462 - accuracy: 0.9580 - val_loss: 1.0427 - val_accuracy: 0.7785\n",
      "Epoch 15/20\n",
      "7185/7185 [==============================] - 1s 129us/step - loss: 0.1402 - accuracy: 0.9603 - val_loss: 1.0043 - val_accuracy: 0.8008\n",
      "Epoch 16/20\n",
      "7185/7185 [==============================] - 1s 135us/step - loss: 0.1258 - accuracy: 0.9610 - val_loss: 1.1800 - val_accuracy: 0.7730\n",
      "Epoch 17/20\n",
      "7185/7185 [==============================] - 1s 134us/step - loss: 0.1224 - accuracy: 0.9633 - val_loss: 1.0273 - val_accuracy: 0.8058\n",
      "Epoch 18/20\n",
      "7185/7185 [==============================] - 1s 136us/step - loss: 0.1106 - accuracy: 0.9638 - val_loss: 1.0974 - val_accuracy: 0.7963\n",
      "Epoch 19/20\n",
      "7185/7185 [==============================] - 1s 132us/step - loss: 0.1108 - accuracy: 0.9616 - val_loss: 1.2350 - val_accuracy: 0.7674\n",
      "Epoch 20/20\n",
      "7185/7185 [==============================] - 1s 137us/step - loss: 0.1083 - accuracy: 0.9634 - val_loss: 1.2746 - val_accuracy: 0.7657\n"
     ]
    }
   ],
   "source": [
    "history = model.fit(X_train, one_hot_train_labels, epochs=20, batch_size=512, validation_split=0.2)"
   ]
  },
  {
   "cell_type": "code",
   "execution_count": 37,
   "metadata": {},
   "outputs": [
    {
     "data": {
      "text/plain": [
       "dict_keys(['val_loss', 'val_accuracy', 'loss', 'accuracy'])"
      ]
     },
     "execution_count": 37,
     "metadata": {},
     "output_type": "execute_result"
    }
   ],
   "source": [
    "history.history.keys()"
   ]
  },
  {
   "cell_type": "code",
   "execution_count": 38,
   "metadata": {},
   "outputs": [],
   "source": [
    "import matplotlib.pyplot as plt\n",
    "%matplotlib inline\n",
    "\n",
    "loss = history.history['loss']\n",
    "val_loss = history.history['val_loss']\n",
    "\n",
    "acc = history.history['accuracy']\n",
    "val_acc = history.history['val_accuracy']\n",
    "epochs = range(1, len(loss) + 1)"
   ]
  },
  {
   "cell_type": "code",
   "execution_count": 39,
   "metadata": {},
   "outputs": [
    {
     "data": {
      "text/plain": [
       "<matplotlib.legend.Legend at 0x63d535e10>"
      ]
     },
     "execution_count": 39,
     "metadata": {},
     "output_type": "execute_result"
    },
    {
     "data": {
      "image/png": "[encoded data removed]",
      "text/plain": [
       "<Figure size 432x288 with 1 Axes>"
      ]
     },
     "metadata": {
      "needs_background": "light"
     },
     "output_type": "display_data"
    }
   ],
   "source": [
    "plt.plot(epochs, loss, 'bo', label='Tranining loss ')\n",
    "plt.plot(epochs, val_loss, 'r', label='Validation loss')\n",
    "plt.legend()"
   ]
  },
  {
   "cell_type": "code",
   "execution_count": 40,
   "metadata": {},
   "outputs": [
    {
     "data": {
      "text/plain": [
       "<matplotlib.legend.Legend at 0x63d434d50>"
      ]
     },
     "execution_count": 40,
     "metadata": {},
     "output_type": "execute_result"
    },
    {
     "data": {
      "image/png": "[encoded data removed]",
      "text/plain": [
       "<Figure size 432x288 with 1 Axes>"
      ]
     },
     "metadata": {
      "needs_background": "light"
     },
     "output_type": "display_data"
    }
   ],
   "source": [
    "plt.plot(epochs, acc, 'bo', label='Tranining accuracy ')\n",
    "plt.plot(epochs, val_acc, 'r', label='Validation accuracy ')\n",
    "plt.legend()"
   ]
  },
  {
   "cell_type": "code",
   "execution_count": 43,
   "metadata": {},
   "outputs": [],
   "source": [
    "model_ = models.Sequential()\n",
    "model_.add(layers.Dense(64, activation='relu', input_shape=(10000,)))\n",
    "model_.add(layers.Dense(64, activation='relu'))\n",
    "model_.add(layers.Dense(46, activation='softmax'))"
   ]
  },
  {
   "cell_type": "code",
   "execution_count": 45,
   "metadata": {},
   "outputs": [
    {
     "data": {
      "text/plain": [
       "False"
      ]
     },
     "execution_count": 45,
     "metadata": {},
     "output_type": "execute_result"
    }
   ],
   "source": [
    "model_ is model"
   ]
  },
  {
   "cell_type": "code",
   "execution_count": 46,
   "metadata": {},
   "outputs": [],
   "source": [
    "model_.compile(optimizer='rmsprop', loss='categorical_crossentropy', metrics=['accuracy'])"
   ]
  },
  {
   "cell_type": "code",
   "execution_count": 47,
   "metadata": {},
   "outputs": [
    {
     "name": "stdout",
     "output_type": "stream",
     "text": [
      "Train on 7185 samples, validate on 1797 samples\n",
      "Epoch 1/9\n",
      "7185/7185 [==============================] - 1s 147us/step - loss: 2.6326 - accuracy: 0.5113 - val_loss: 1.7852 - val_accuracy: 0.6244\n",
      "Epoch 2/9\n",
      "7185/7185 [==============================] - 1s 135us/step - loss: 1.4767 - accuracy: 0.6799 - val_loss: 1.4224 - val_accuracy: 0.6984\n",
      "Epoch 3/9\n",
      "7185/7185 [==============================] - 1s 134us/step - loss: 1.1246 - accuracy: 0.7591 - val_loss: 1.2722 - val_accuracy: 0.7129\n",
      "Epoch 4/9\n",
      "7185/7185 [==============================] - 1s 135us/step - loss: 0.9068 - accuracy: 0.8026 - val_loss: 1.1441 - val_accuracy: 0.7457\n",
      "Epoch 5/9\n",
      "7185/7185 [==============================] - 1s 133us/step - loss: 0.7377 - accuracy: 0.8381 - val_loss: 1.1189 - val_accuracy: 0.7435\n",
      "Epoch 6/9\n",
      "7185/7185 [==============================] - 1s 132us/step - loss: 0.6091 - accuracy: 0.8686 - val_loss: 1.0109 - val_accuracy: 0.7869\n",
      "Epoch 7/9\n",
      "7185/7185 [==============================] - 1s 133us/step - loss: 0.4987 - accuracy: 0.8973 - val_loss: 0.9712 - val_accuracy: 0.7813\n",
      "Epoch 8/9\n",
      "7185/7185 [==============================] - 1s 120us/step - loss: 0.4103 - accuracy: 0.9148 - val_loss: 1.0536 - val_accuracy: 0.7718\n",
      "Epoch 9/9\n",
      "7185/7185 [==============================] - 1s 123us/step - loss: 0.3404 - accuracy: 0.9276 - val_loss: 0.9565 - val_accuracy: 0.7924\n"
     ]
    }
   ],
   "source": [
    "history = model_.fit(X_train, one_hot_train_labels, epochs=9, batch_size=512, validation_split=0.2)"
   ]
  },
  {
   "cell_type": "code",
   "execution_count": 48,
   "metadata": {},
   "outputs": [],
   "source": [
    "loss = history.history['loss']\n",
    "val_loss = history.history['val_loss']\n",
    "\n",
    "acc = history.history['accuracy']\n",
    "val_acc = history.history['val_accuracy']\n",
    "epochs = range(1, len(loss) + 1)"
   ]
  },
  {
   "cell_type": "code",
   "execution_count": 49,
   "metadata": {},
   "outputs": [
    {
     "data": {
      "text/plain": [
       "<matplotlib.legend.Legend at 0x63d17b490>"
      ]
     },
     "execution_count": 49,
     "metadata": {},
     "output_type": "execute_result"
    },
    {
     "data": {
      "image/png": "[encoded data removed]",
      "text/plain": [
       "<Figure size 432x288 with 1 Axes>"
      ]
     },
     "metadata": {
      "needs_background": "light"
     },
     "output_type": "display_data"
    }
   ],
   "source": [
    "plt.plot(epochs, loss, 'bo', label='Tranining loss ')\n",
    "plt.plot(epochs, val_loss, 'r', label='Validation loss')\n",
    "plt.legend()"
   ]
  },
  {
   "cell_type": "code",
   "execution_count": 50,
   "metadata": {},
   "outputs": [
    {
     "data": {
      "text/plain": [
       "<matplotlib.legend.Legend at 0x63d3a2f90>"
      ]
     },
     "execution_count": 50,
     "metadata": {},
     "output_type": "execute_result"
    },
    {
     "data": {
      "image/png": "[encoded data removed]",
      "text/plain": [
       "<Figure size 432x288 with 1 Axes>"
      ]
     },
     "metadata": {
      "needs_background": "light"
     },
     "output_type": "display_data"
    }
   ],
   "source": [
    "plt.plot(epochs, acc, 'bo', label='Tranining accuracy ')\n",
    "plt.plot(epochs, val_acc, 'r', label='Validation accuracy ')\n",
    "plt.legend()"
   ]
  },
  {
   "cell_type": "code",
   "execution_count": null,
   "metadata": {},
   "outputs": [],
   "source": []
  }
 ],
 "metadata": {
  "kernelspec": {
   "display_name": "Python 3",
   "language": "python",
   "name": "python3"
  },
  "language_info": {
   "codemirror_mode": {
    "name": "ipython",
    "version": 3
   },
   "file_extension": ".py",
   "mimetype": "text/x-python",
   "name": "python",
   "nbconvert_exporter": "python",
   "pygments_lexer": "ipython3",
   "version": "3.7.4"
  }
 },
 "nbformat": 4,
 "nbformat_minor": 2
}
