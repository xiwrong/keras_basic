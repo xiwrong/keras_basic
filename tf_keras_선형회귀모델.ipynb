{
 "cells": [
  {
   "cell_type": "code",
   "execution_count": null,
   "metadata": {},
   "outputs": [],
   "source": []
  },
  {
   "cell_type": "code",
   "execution_count": 3,
   "metadata": {},
   "outputs": [],
   "source": [
    "%matplotlib inline"
   ]
  },
  {
   "cell_type": "code",
   "execution_count": 5,
   "metadata": {},
   "outputs": [],
   "source": [
    "import keras\n",
    "from keras.models import Sequential\n",
    "from keras.layers import Dense, Activation\n",
    "import numpy as np\n",
    "import matplotlib.pyplot as plt "
   ]
  },
  {
   "cell_type": "code",
   "execution_count": null,
   "metadata": {},
   "outputs": [],
   "source": []
  },
  {
   "cell_type": "code",
   "execution_count": null,
   "metadata": {},
   "outputs": [],
   "source": [
    "x = data = np.linspace(1,2,200)\n",
    "y = x*4 + np.random.randn(*x.shape) * 0.3\n"
   ]
  },
  {
   "cell_type": "code",
   "execution_count": 10,
   "metadata": {},
   "outputs": [
    {
     "data": {
      "text/plain": [
       "[<matplotlib.lines.Line2D at 0x1bc287dc688>]"
      ]
     },
     "execution_count": 10,
     "metadata": {},
     "output_type": "execute_result"
    },
    {
     "data": {
      "image/png": "[encoded data removed]",
      "text/plain": [
       "<Figure size 432x288 with 1 Axes>"
      ]
     },
     "metadata": {
      "needs_background": "light"
     },
     "output_type": "display_data"
    }
   ],
   "source": [
    "plt.plot(x, y, 'bo')"
   ]
  },
  {
   "cell_type": "code",
   "execution_count": null,
   "metadata": {},
   "outputs": [],
   "source": []
  },
  {
   "cell_type": "code",
   "execution_count": 12,
   "metadata": {},
   "outputs": [],
   "source": [
    "model = Sequential()\n",
    "model.add(Dense(1, input_dim=1, activation='linear'))"
   ]
  },
  {
   "cell_type": "code",
   "execution_count": null,
   "metadata": {},
   "outputs": [],
   "source": []
  },
  {
   "cell_type": "code",
   "execution_count": 13,
   "metadata": {},
   "outputs": [],
   "source": [
    "model.compile(optimizer='sgd', loss='mse', metrics=['mse'])"
   ]
  },
  {
   "cell_type": "markdown",
   "metadata": {},
   "source": [
    "## 초기값 확인 "
   ]
  },
  {
   "cell_type": "code",
   "execution_count": 14,
   "metadata": {},
   "outputs": [
    {
     "name": "stdout",
     "output_type": "stream",
     "text": [
      "Linear regression model is initialized with weights w: 0.05, b: 0.00\n"
     ]
    }
   ],
   "source": [
    "weights = model.layers[0].get_weights()\n",
    "w_init = weights[0][0][0]\n",
    "b_init = weights[1][0]\n",
    "print('Linear regression model is initialized with weights w: %.2f, b: %.2f' % (w_init, b_init))"
   ]
  },
  {
   "cell_type": "code",
   "execution_count": null,
   "metadata": {},
   "outputs": [],
   "source": [
    "plt.plot(x, y, 'bo')"
   ]
  },
  {
   "cell_type": "code",
   "execution_count": 15,
   "metadata": {},
   "outputs": [
    {
     "name": "stdout",
     "output_type": "stream",
     "text": [
      "Epoch 1/30\n",
      "200/200 [==============================] - 0s 514us/step - loss: 1.1840 - mse: 1.1840\n",
      "Epoch 2/30\n",
      "200/200 [==============================] - 0s 399us/step - loss: 0.1627 - mse: 0.1627\n",
      "Epoch 3/30\n",
      "200/200 [==============================] - 0s 409us/step - loss: 0.1570 - mse: 0.1570\n",
      "Epoch 4/30\n",
      "200/200 [==============================] - 0s 404us/step - loss: 0.1519 - mse: 0.1519\n",
      "Epoch 5/30\n",
      "200/200 [==============================] - 0s 424us/step - loss: 0.1471 - mse: 0.1471\n",
      "Epoch 6/30\n",
      "200/200 [==============================] - 0s 419us/step - loss: 0.1427 - mse: 0.1427\n",
      "Epoch 7/30\n",
      "200/200 [==============================] - 0s 404us/step - loss: 0.1387 - mse: 0.1387\n",
      "Epoch 8/30\n",
      "200/200 [==============================] - 0s 414us/step - loss: 0.1350 - mse: 0.1350\n",
      "Epoch 9/30\n",
      "200/200 [==============================] - 0s 399us/step - loss: 0.1316 - mse: 0.1316\n",
      "Epoch 10/30\n",
      "200/200 [==============================] - 0s 399us/step - loss: 0.1284 - mse: 0.1284\n",
      "Epoch 11/30\n",
      "200/200 [==============================] - 0s 379us/step - loss: 0.1255 - mse: 0.1255\n",
      "Epoch 12/30\n",
      "200/200 [==============================] - 0s 374us/step - loss: 0.1229 - mse: 0.1229\n",
      "Epoch 13/30\n",
      "200/200 [==============================] - 0s 374us/step - loss: 0.1205 - mse: 0.1205\n",
      "Epoch 14/30\n",
      "200/200 [==============================] - 0s 394us/step - loss: 0.1182 - mse: 0.1182\n",
      "Epoch 15/30\n",
      "200/200 [==============================] - 0s 374us/step - loss: 0.1161 - mse: 0.1161\n",
      "Epoch 16/30\n",
      "200/200 [==============================] - 0s 379us/step - loss: 0.1143 - mse: 0.1143\n",
      "Epoch 17/30\n",
      "200/200 [==============================] - 0s 394us/step - loss: 0.1125 - mse: 0.1125\n",
      "Epoch 18/30\n",
      "200/200 [==============================] - 0s 374us/step - loss: 0.1109 - mse: 0.1109\n",
      "Epoch 19/30\n",
      "200/200 [==============================] - 0s 379us/step - loss: 0.1094 - mse: 0.1094\n",
      "Epoch 20/30\n",
      "200/200 [==============================] - 0s 382us/step - loss: 0.1081 - mse: 0.1081\n",
      "Epoch 21/30\n",
      "200/200 [==============================] - 0s 374us/step - loss: 0.1068 - mse: 0.1068\n",
      "Epoch 22/30\n",
      "200/200 [==============================] - 0s 369us/step - loss: 0.1057 - mse: 0.1057\n",
      "Epoch 23/30\n",
      "200/200 [==============================] - 0s 374us/step - loss: 0.1046 - mse: 0.1046\n",
      "Epoch 24/30\n",
      "200/200 [==============================] - 0s 389us/step - loss: 0.1037 - mse: 0.1037\n",
      "Epoch 25/30\n",
      "200/200 [==============================] - 0s 389us/step - loss: 0.1028 - mse: 0.1028\n",
      "Epoch 26/30\n",
      "200/200 [==============================] - 0s 374us/step - loss: 0.1019 - mse: 0.1019\n",
      "Epoch 27/30\n",
      "200/200 [==============================] - 0s 389us/step - loss: 0.1012 - mse: 0.1012\n",
      "Epoch 28/30\n",
      "200/200 [==============================] - 0s 384us/step - loss: 0.1005 - mse: 0.1005\n",
      "Epoch 29/30\n",
      "200/200 [==============================] - 0s 409us/step - loss: 0.0999 - mse: 0.0999\n",
      "Epoch 30/30\n",
      "200/200 [==============================] - 0s 389us/step - loss: 0.0993 - mse: 0.0993\n"
     ]
    },
    {
     "data": {
      "text/plain": [
       "<keras.callbacks.callbacks.History at 0x1bc28836508>"
      ]
     },
     "execution_count": 15,
     "metadata": {},
     "output_type": "execute_result"
    }
   ],
   "source": [
    "model.fit(x,y, batch_size=1, epochs=30, shuffle=False)"
   ]
  },
  {
   "cell_type": "code",
   "execution_count": 16,
   "metadata": {},
   "outputs": [
    {
     "name": "stdout",
     "output_type": "stream",
     "text": [
      "Linear regression model is trained to have weight w: 3.62, b: 0.70\n"
     ]
    }
   ],
   "source": [
    "weights = model.layers[0].get_weights()\n",
    "w_final = weights[0][0][0]\n",
    "b_final = weights[1][0]\n",
    "print('Linear regression model is trained to have weight w: %.2f, b: %.2f' % (w_final, b_final))"
   ]
  },
  {
   "cell_type": "code",
   "execution_count": null,
   "metadata": {},
   "outputs": [],
   "source": []
  },
  {
   "cell_type": "code",
   "execution_count": 17,
   "metadata": {},
   "outputs": [
    {
     "data": {
      "image/png": "[encoded data removed]",
      "text/plain": [
       "<Figure size 432x288 with 1 Axes>"
      ]
     },
     "metadata": {
      "needs_background": "light"
     },
     "output_type": "display_data"
    }
   ],
   "source": [
    "\n",
    "predict = model.predict(data)\n",
    "\n",
    "plt.plot(data, predict, 'b', data , y, 'k.')\n",
    "plt.show()"
   ]
  },
  {
   "cell_type": "code",
   "execution_count": null,
   "metadata": {},
   "outputs": [],
   "source": []
  },
  {
   "cell_type": "code",
   "execution_count": null,
   "metadata": {},
   "outputs": [],
   "source": []
  },
  {
   "cell_type": "code",
   "execution_count": null,
   "metadata": {},
   "outputs": [],
   "source": []
  },
  {
   "cell_type": "code",
   "execution_count": null,
   "metadata": {},
   "outputs": [],
   "source": []
  }
 ],
 "metadata": {
  "kernelspec": {
   "display_name": "tensorcpu",
   "language": "python",
   "name": "tensorcpu"
  },
  "language_info": {
   "codemirror_mode": {
    "name": "ipython",
    "version": 3
   },
   "file_extension": ".py",
   "mimetype": "text/x-python",
   "name": "python",
   "nbconvert_exporter": "python",
   "pygments_lexer": "ipython3",
   "version": "3.7.4"
  }
 },
 "nbformat": 4,
 "nbformat_minor": 2
}
