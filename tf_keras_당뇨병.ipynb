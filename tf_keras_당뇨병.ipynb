{
 "cells": [
  {
   "cell_type": "code",
   "execution_count": 3,
   "metadata": {},
   "outputs": [
    {
     "name": "stderr",
     "output_type": "stream",
     "text": [
      "Using TensorFlow backend.\n"
     ]
    }
   ],
   "source": [
    "from numpy import loadtxt\n",
    "from keras.models import Sequential\n",
    "from keras.layers import Dense"
   ]
  },
  {
   "cell_type": "markdown",
   "metadata": {},
   "source": [
    "# 데이터 세트 설명 \n",
    "\n",
    "1. Title: Pima Indians Diabetes Database\n",
    "\n",
    "2. Sources:\n",
    "   (a) Original owners: National Institute of Diabetes and Digestive and\n",
    "                        Kidney Diseases\n",
    "   (b) Donor of database: Vincent Sigillito (vgs@aplcen.apl.jhu.edu)\n",
    "                          Research Center, RMI Group Leader\n",
    "                          Applied Physics Laboratory\n",
    "                          The Johns Hopkins University\n",
    "                          Johns Hopkins Road\n",
    "                          Laurel, MD 20707\n",
    "                          (301) 953-6231\n",
    "   (c) Date received: 9 May 1990\n",
    "\n",
    "3. Past Usage:\n",
    "    1. Smith,~J.~W., Everhart,~J.~E., Dickson,~W.~C., Knowler,~W.~C., \\&\n",
    "       Johannes,~R.~S. (1988). Using the ADAP learning algorithm to forecast\n",
    "       the onset of diabetes mellitus.  In {\\it Proceedings of the Symposium\n",
    "       on Computer Applications and Medical Care} (pp. 261--265).  IEEE\n",
    "       Computer Society Press.\n",
    "\n",
    "       The diagnostic, binary-valued variable investigated is whether the\n",
    "       patient shows signs of diabetes according to World Health Organization\n",
    "       criteria (i.e., if the 2 hour post-load plasma glucose was at least \n",
    "       200 mg/dl at any survey  examination or if found during routine medical\n",
    "       care).   The population lives near Phoenix, Arizona, USA.\n",
    "\n",
    "       Results: Their ADAP algorithm makes a real-valued prediction between\n",
    "       0 and 1.  This was transformed into a binary decision using a cutoff of \n",
    "       0.448.  Using 576 training instances, the sensitivity and specificity\n",
    "       of their algorithm was 76% on the remaining 192 instances.\n",
    "\n",
    "4. Relevant Information:\n",
    "      Several constraints were placed on the selection of these instances from\n",
    "      a larger database.  In particular, all patients here are females at\n",
    "      least 21 years old of Pima Indian heritage.  ADAP is an adaptive learning\n",
    "      routine that generates and executes digital analogs of perceptron-like\n",
    "      devices.  It is a unique algorithm; see the paper for details.\n",
    "\n",
    "5. Number of Instances: 768\n",
    "\n",
    "6. Number of Attributes: 8 plus class \n",
    "\n",
    "7. For Each Attribute: (all numeric-valued)\n",
    "   1. Number of times pregnant\n",
    "   2. Plasma glucose concentration a 2 hours in an oral glucose tolerance test\n",
    "   3. Diastolic blood pressure (mm Hg)\n",
    "   4. Triceps skin fold thickness (mm)\n",
    "   5. 2-Hour serum insulin (mu U/ml)\n",
    "   6. Body mass index (weight in kg/(height in m)^2)\n",
    "   7. Diabetes pedigree function\n",
    "   8. Age (years)\n",
    "   9. Class variable (0 or 1)\n",
    "\n",
    "8. Missing Attribute Values: Yes\n",
    "\n",
    "9. Class Distribution: (class value 1 is interpreted as \"tested positive for\n",
    "   diabetes\")\n",
    "\n",
    "   Class Value  Number of instances\n",
    "   0            500\n",
    "   1            268\n",
    "\n",
    "10. Brief statistical analysis:\n",
    "\n",
    "    Attribute number:    Mean:   Standard Deviation:\n",
    "    1.                     3.8     3.4\n",
    "    2.                   120.9    32.0\n",
    "    3.                    69.1    19.4\n",
    "    4.                    20.5    16.0\n",
    "    5.                    79.8   115.2\n",
    "    6.                    32.0     7.9\n",
    "    7.                     0.5     0.3\n",
    "    8.                    33.2    11.8\n"
   ]
  },
  {
   "cell_type": "code",
   "execution_count": 15,
   "metadata": {},
   "outputs": [],
   "source": [
    "dataset = loadtxt('pima-indians-diabetes.csv', delimiter=',')\n"
   ]
  },
  {
   "cell_type": "code",
   "execution_count": 17,
   "metadata": {},
   "outputs": [
    {
     "data": {
      "text/plain": [
       "(768, 9)"
      ]
     },
     "execution_count": 17,
     "metadata": {},
     "output_type": "execute_result"
    }
   ],
   "source": [
    "dataset.shape"
   ]
  },
  {
   "cell_type": "code",
   "execution_count": 16,
   "metadata": {},
   "outputs": [],
   "source": [
    "# split into input (X) and output (y) variables\n",
    "X = dataset[:,0:8]\n",
    "y = dataset[:,8]"
   ]
  },
  {
   "cell_type": "markdown",
   "metadata": {},
   "source": [
    "## 모델만들기"
   ]
  },
  {
   "cell_type": "code",
   "execution_count": 6,
   "metadata": {},
   "outputs": [],
   "source": [
    "model = Sequential()\n",
    "model.add(Dense(12, input_dim=8, activation='relu'))\n",
    "model.add(Dense(8, activation='relu'))\n",
    "model.add(Dense(1, activation='sigmoid'))"
   ]
  },
  {
   "cell_type": "markdown",
   "metadata": {},
   "source": [
    "## 모델 컴파일하기"
   ]
  },
  {
   "cell_type": "code",
   "execution_count": 7,
   "metadata": {},
   "outputs": [],
   "source": [
    "# compile the keras model\n",
    "model.compile(loss='binary_crossentropy', optimizer='adam', metrics=['accuracy'])"
   ]
  },
  {
   "cell_type": "markdown",
   "metadata": {},
   "source": [
    "## 훈련하기 "
   ]
  },
  {
   "cell_type": "code",
   "execution_count": 8,
   "metadata": {},
   "outputs": [
    {
     "name": "stdout",
     "output_type": "stream",
     "text": [
      "Epoch 1/150\n",
      "768/768 [==============================] - 0s 158us/step - loss: 2.7321 - accuracy: 0.6042\n",
      "Epoch 2/150\n",
      "768/768 [==============================] - 0s 53us/step - loss: 1.8914 - accuracy: 0.6042\n",
      "Epoch 3/150\n",
      "768/768 [==============================] - 0s 55us/step - loss: 1.4941 - accuracy: 0.6094\n",
      "Epoch 4/150\n",
      "768/768 [==============================] - 0s 56us/step - loss: 1.2491 - accuracy: 0.6029\n",
      "Epoch 5/150\n",
      "768/768 [==============================] - 0s 55us/step - loss: 1.0796 - accuracy: 0.6107\n",
      "Epoch 6/150\n",
      "768/768 [==============================] - 0s 56us/step - loss: 0.9905 - accuracy: 0.6042\n",
      "Epoch 7/150\n",
      "768/768 [==============================] - 0s 55us/step - loss: 0.9094 - accuracy: 0.6094\n",
      "Epoch 8/150\n",
      "768/768 [==============================] - 0s 57us/step - loss: 0.8316 - accuracy: 0.6198\n",
      "Epoch 9/150\n",
      "768/768 [==============================] - 0s 58us/step - loss: 0.8454 - accuracy: 0.6146\n",
      "Epoch 10/150\n",
      "768/768 [==============================] - 0s 58us/step - loss: 0.7820 - accuracy: 0.6328\n",
      "Epoch 11/150\n",
      "768/768 [==============================] - 0s 57us/step - loss: 0.7851 - accuracy: 0.6406\n",
      "Epoch 12/150\n",
      "768/768 [==============================] - 0s 57us/step - loss: 0.7376 - accuracy: 0.6523\n",
      "Epoch 13/150\n",
      "768/768 [==============================] - 0s 57us/step - loss: 0.7477 - accuracy: 0.6458\n",
      "Epoch 14/150\n",
      "768/768 [==============================] - 0s 57us/step - loss: 0.6941 - accuracy: 0.6706\n",
      "Epoch 15/150\n",
      "768/768 [==============================] - 0s 58us/step - loss: 0.7261 - accuracy: 0.6719\n",
      "Epoch 16/150\n",
      "768/768 [==============================] - 0s 57us/step - loss: 0.7155 - accuracy: 0.6797\n",
      "Epoch 17/150\n",
      "768/768 [==============================] - 0s 57us/step - loss: 0.6638 - accuracy: 0.6836\n",
      "Epoch 18/150\n",
      "768/768 [==============================] - 0s 57us/step - loss: 0.6890 - accuracy: 0.6836\n",
      "Epoch 19/150\n",
      "768/768 [==============================] - 0s 56us/step - loss: 0.6636 - accuracy: 0.6901\n",
      "Epoch 20/150\n",
      "768/768 [==============================] - 0s 57us/step - loss: 0.7058 - accuracy: 0.6771\n",
      "Epoch 21/150\n",
      "768/768 [==============================] - 0s 57us/step - loss: 0.6668 - accuracy: 0.6992\n",
      "Epoch 22/150\n",
      "768/768 [==============================] - 0s 57us/step - loss: 0.6361 - accuracy: 0.7018\n",
      "Epoch 23/150\n",
      "768/768 [==============================] - 0s 57us/step - loss: 0.6742 - accuracy: 0.6966\n",
      "Epoch 24/150\n",
      "768/768 [==============================] - 0s 56us/step - loss: 0.6521 - accuracy: 0.6927\n",
      "Epoch 25/150\n",
      "768/768 [==============================] - 0s 56us/step - loss: 0.6566 - accuracy: 0.6953\n",
      "Epoch 26/150\n",
      "768/768 [==============================] - 0s 56us/step - loss: 0.6466 - accuracy: 0.6901\n",
      "Epoch 27/150\n",
      "768/768 [==============================] - 0s 57us/step - loss: 0.6243 - accuracy: 0.7070\n",
      "Epoch 28/150\n",
      "768/768 [==============================] - 0s 58us/step - loss: 0.6586 - accuracy: 0.6953\n",
      "Epoch 29/150\n",
      "768/768 [==============================] - 0s 57us/step - loss: 0.6221 - accuracy: 0.7083\n",
      "Epoch 30/150\n",
      "768/768 [==============================] - 0s 58us/step - loss: 0.6109 - accuracy: 0.7109\n",
      "Epoch 31/150\n",
      "768/768 [==============================] - 0s 56us/step - loss: 0.6298 - accuracy: 0.7135\n",
      "Epoch 32/150\n",
      "768/768 [==============================] - 0s 56us/step - loss: 0.6230 - accuracy: 0.7031\n",
      "Epoch 33/150\n",
      "768/768 [==============================] - 0s 56us/step - loss: 0.6050 - accuracy: 0.7148\n",
      "Epoch 34/150\n",
      "768/768 [==============================] - 0s 57us/step - loss: 0.5974 - accuracy: 0.7044\n",
      "Epoch 35/150\n",
      "768/768 [==============================] - 0s 58us/step - loss: 0.5700 - accuracy: 0.7227\n",
      "Epoch 36/150\n",
      "768/768 [==============================] - 0s 57us/step - loss: 0.5952 - accuracy: 0.7109\n",
      "Epoch 37/150\n",
      "768/768 [==============================] - 0s 57us/step - loss: 0.6165 - accuracy: 0.7070\n",
      "Epoch 38/150\n",
      "768/768 [==============================] - 0s 56us/step - loss: 0.6015 - accuracy: 0.7227\n",
      "Epoch 39/150\n",
      "768/768 [==============================] - 0s 57us/step - loss: 0.6075 - accuracy: 0.7161\n",
      "Epoch 40/150\n",
      "768/768 [==============================] - 0s 57us/step - loss: 0.6022 - accuracy: 0.7109\n",
      "Epoch 41/150\n",
      "768/768 [==============================] - 0s 57us/step - loss: 0.5820 - accuracy: 0.7266\n",
      "Epoch 42/150\n",
      "768/768 [==============================] - 0s 57us/step - loss: 0.5945 - accuracy: 0.7109\n",
      "Epoch 43/150\n",
      "768/768 [==============================] - 0s 57us/step - loss: 0.5966 - accuracy: 0.7214\n",
      "Epoch 44/150\n",
      "768/768 [==============================] - 0s 56us/step - loss: 0.5614 - accuracy: 0.7409\n",
      "Epoch 45/150\n",
      "768/768 [==============================] - 0s 57us/step - loss: 0.5735 - accuracy: 0.7357\n",
      "Epoch 46/150\n",
      "768/768 [==============================] - 0s 57us/step - loss: 0.5819 - accuracy: 0.7266\n",
      "Epoch 47/150\n",
      "768/768 [==============================] - 0s 57us/step - loss: 0.5627 - accuracy: 0.7318\n",
      "Epoch 48/150\n",
      "768/768 [==============================] - 0s 57us/step - loss: 0.6057 - accuracy: 0.7070\n",
      "Epoch 49/150\n",
      "768/768 [==============================] - 0s 58us/step - loss: 0.5718 - accuracy: 0.7292\n",
      "Epoch 50/150\n",
      "768/768 [==============================] - 0s 58us/step - loss: 0.5672 - accuracy: 0.7279\n",
      "Epoch 51/150\n",
      "768/768 [==============================] - 0s 57us/step - loss: 0.6036 - accuracy: 0.7070\n",
      "Epoch 52/150\n",
      "768/768 [==============================] - 0s 56us/step - loss: 0.5829 - accuracy: 0.7083\n",
      "Epoch 53/150\n",
      "768/768 [==============================] - 0s 56us/step - loss: 0.5462 - accuracy: 0.7396\n",
      "Epoch 54/150\n",
      "768/768 [==============================] - 0s 56us/step - loss: 0.5649 - accuracy: 0.7344\n",
      "Epoch 55/150\n",
      "768/768 [==============================] - 0s 56us/step - loss: 0.5826 - accuracy: 0.7240\n",
      "Epoch 56/150\n",
      "768/768 [==============================] - 0s 56us/step - loss: 0.5547 - accuracy: 0.7409\n",
      "Epoch 57/150\n",
      "768/768 [==============================] - 0s 56us/step - loss: 0.5599 - accuracy: 0.7409\n",
      "Epoch 58/150\n",
      "768/768 [==============================] - 0s 57us/step - loss: 0.5457 - accuracy: 0.7487\n",
      "Epoch 59/150\n",
      "768/768 [==============================] - 0s 57us/step - loss: 0.5399 - accuracy: 0.7305\n",
      "Epoch 60/150\n",
      "768/768 [==============================] - 0s 57us/step - loss: 0.5529 - accuracy: 0.7435\n",
      "Epoch 61/150\n",
      "768/768 [==============================] - 0s 56us/step - loss: 0.5524 - accuracy: 0.7214\n",
      "Epoch 62/150\n",
      "768/768 [==============================] - 0s 57us/step - loss: 0.5668 - accuracy: 0.7357\n",
      "Epoch 63/150\n",
      "768/768 [==============================] - 0s 56us/step - loss: 0.5504 - accuracy: 0.7487\n",
      "Epoch 64/150\n",
      "768/768 [==============================] - 0s 56us/step - loss: 0.5701 - accuracy: 0.7253\n",
      "Epoch 65/150\n",
      "768/768 [==============================] - 0s 56us/step - loss: 0.5460 - accuracy: 0.7435\n",
      "Epoch 66/150\n",
      "768/768 [==============================] - 0s 56us/step - loss: 0.5527 - accuracy: 0.7331\n",
      "Epoch 67/150\n",
      "768/768 [==============================] - 0s 56us/step - loss: 0.5960 - accuracy: 0.7188\n",
      "Epoch 68/150\n",
      "768/768 [==============================] - 0s 57us/step - loss: 0.5788 - accuracy: 0.7318\n",
      "Epoch 69/150\n",
      "768/768 [==============================] - 0s 57us/step - loss: 0.5513 - accuracy: 0.7318\n",
      "Epoch 70/150\n",
      "768/768 [==============================] - 0s 57us/step - loss: 0.5529 - accuracy: 0.7188\n",
      "Epoch 71/150\n",
      "768/768 [==============================] - 0s 54us/step - loss: 0.5404 - accuracy: 0.7565\n",
      "Epoch 72/150\n",
      "768/768 [==============================] - 0s 57us/step - loss: 0.5236 - accuracy: 0.7448\n",
      "Epoch 73/150\n",
      "768/768 [==============================] - 0s 57us/step - loss: 0.5650 - accuracy: 0.7240\n",
      "Epoch 74/150\n",
      "768/768 [==============================] - 0s 56us/step - loss: 0.5309 - accuracy: 0.7604\n",
      "Epoch 75/150\n",
      "768/768 [==============================] - 0s 57us/step - loss: 0.5354 - accuracy: 0.7435\n",
      "Epoch 76/150\n",
      "768/768 [==============================] - 0s 57us/step - loss: 0.5318 - accuracy: 0.7617\n",
      "Epoch 77/150\n",
      "768/768 [==============================] - 0s 58us/step - loss: 0.5731 - accuracy: 0.7188\n",
      "Epoch 78/150\n",
      "768/768 [==============================] - 0s 58us/step - loss: 0.5234 - accuracy: 0.7448\n",
      "Epoch 79/150\n",
      "768/768 [==============================] - 0s 56us/step - loss: 0.5237 - accuracy: 0.7461\n",
      "Epoch 80/150\n"
     ]
    },
    {
     "name": "stdout",
     "output_type": "stream",
     "text": [
      "768/768 [==============================] - 0s 58us/step - loss: 0.5206 - accuracy: 0.7487\n",
      "Epoch 81/150\n",
      "768/768 [==============================] - 0s 57us/step - loss: 0.5234 - accuracy: 0.7513\n",
      "Epoch 82/150\n",
      "768/768 [==============================] - 0s 57us/step - loss: 0.5394 - accuracy: 0.7526\n",
      "Epoch 83/150\n",
      "768/768 [==============================] - 0s 57us/step - loss: 0.5354 - accuracy: 0.7448\n",
      "Epoch 84/150\n",
      "768/768 [==============================] - 0s 57us/step - loss: 0.5460 - accuracy: 0.7500\n",
      "Epoch 85/150\n",
      "768/768 [==============================] - 0s 57us/step - loss: 0.5234 - accuracy: 0.7422\n",
      "Epoch 86/150\n",
      "768/768 [==============================] - 0s 57us/step - loss: 0.5245 - accuracy: 0.7487\n",
      "Epoch 87/150\n",
      "768/768 [==============================] - 0s 57us/step - loss: 0.5051 - accuracy: 0.7565\n",
      "Epoch 88/150\n",
      "768/768 [==============================] - 0s 56us/step - loss: 0.5433 - accuracy: 0.7422\n",
      "Epoch 89/150\n",
      "768/768 [==============================] - 0s 56us/step - loss: 0.5472 - accuracy: 0.7344\n",
      "Epoch 90/150\n",
      "768/768 [==============================] - 0s 56us/step - loss: 0.5172 - accuracy: 0.7526\n",
      "Epoch 91/150\n",
      "768/768 [==============================] - 0s 57us/step - loss: 0.5158 - accuracy: 0.7448\n",
      "Epoch 92/150\n",
      "768/768 [==============================] - 0s 57us/step - loss: 0.5058 - accuracy: 0.7591\n",
      "Epoch 93/150\n",
      "768/768 [==============================] - 0s 56us/step - loss: 0.5210 - accuracy: 0.7500\n",
      "Epoch 94/150\n",
      "768/768 [==============================] - 0s 56us/step - loss: 0.5231 - accuracy: 0.7578\n",
      "Epoch 95/150\n",
      "768/768 [==============================] - 0s 57us/step - loss: 0.5299 - accuracy: 0.7435\n",
      "Epoch 96/150\n",
      "768/768 [==============================] - 0s 57us/step - loss: 0.5712 - accuracy: 0.7461\n",
      "Epoch 97/150\n",
      "768/768 [==============================] - 0s 56us/step - loss: 0.5093 - accuracy: 0.7435\n",
      "Epoch 98/150\n",
      "768/768 [==============================] - 0s 57us/step - loss: 0.5404 - accuracy: 0.7344\n",
      "Epoch 99/150\n",
      "768/768 [==============================] - 0s 58us/step - loss: 0.5120 - accuracy: 0.7487\n",
      "Epoch 100/150\n",
      "768/768 [==============================] - 0s 57us/step - loss: 0.5306 - accuracy: 0.7526\n",
      "Epoch 101/150\n",
      "768/768 [==============================] - 0s 58us/step - loss: 0.5236 - accuracy: 0.7539\n",
      "Epoch 102/150\n",
      "768/768 [==============================] - 0s 56us/step - loss: 0.5236 - accuracy: 0.7487\n",
      "Epoch 103/150\n",
      "768/768 [==============================] - 0s 57us/step - loss: 0.5142 - accuracy: 0.7565\n",
      "Epoch 104/150\n",
      "768/768 [==============================] - 0s 56us/step - loss: 0.5087 - accuracy: 0.7656\n",
      "Epoch 105/150\n",
      "768/768 [==============================] - 0s 57us/step - loss: 0.5349 - accuracy: 0.7396\n",
      "Epoch 106/150\n",
      "768/768 [==============================] - 0s 57us/step - loss: 0.5067 - accuracy: 0.7578\n",
      "Epoch 107/150\n",
      "768/768 [==============================] - 0s 57us/step - loss: 0.5200 - accuracy: 0.7656\n",
      "Epoch 108/150\n",
      "768/768 [==============================] - 0s 56us/step - loss: 0.5219 - accuracy: 0.7656\n",
      "Epoch 109/150\n",
      "768/768 [==============================] - 0s 57us/step - loss: 0.5214 - accuracy: 0.7539\n",
      "Epoch 110/150\n",
      "768/768 [==============================] - 0s 57us/step - loss: 0.5270 - accuracy: 0.7474\n",
      "Epoch 111/150\n",
      "768/768 [==============================] - 0s 57us/step - loss: 0.5064 - accuracy: 0.7721\n",
      "Epoch 112/150\n",
      "768/768 [==============================] - 0s 56us/step - loss: 0.5174 - accuracy: 0.7734\n",
      "Epoch 113/150\n",
      "768/768 [==============================] - 0s 57us/step - loss: 0.5153 - accuracy: 0.7617\n",
      "Epoch 114/150\n",
      "768/768 [==============================] - 0s 57us/step - loss: 0.5078 - accuracy: 0.7552\n",
      "Epoch 115/150\n",
      "768/768 [==============================] - 0s 56us/step - loss: 0.4958 - accuracy: 0.7630\n",
      "Epoch 116/150\n",
      "768/768 [==============================] - 0s 57us/step - loss: 0.4938 - accuracy: 0.7617\n",
      "Epoch 117/150\n",
      "768/768 [==============================] - 0s 56us/step - loss: 0.4967 - accuracy: 0.7552\n",
      "Epoch 118/150\n",
      "768/768 [==============================] - 0s 57us/step - loss: 0.5065 - accuracy: 0.7435\n",
      "Epoch 119/150\n",
      "768/768 [==============================] - 0s 56us/step - loss: 0.5326 - accuracy: 0.7474\n",
      "Epoch 120/150\n",
      "768/768 [==============================] - 0s 57us/step - loss: 0.5018 - accuracy: 0.7656\n",
      "Epoch 121/150\n",
      "768/768 [==============================] - 0s 56us/step - loss: 0.4995 - accuracy: 0.7852\n",
      "Epoch 122/150\n",
      "768/768 [==============================] - 0s 57us/step - loss: 0.5119 - accuracy: 0.7565\n",
      "Epoch 123/150\n",
      "768/768 [==============================] - 0s 56us/step - loss: 0.5068 - accuracy: 0.7578\n",
      "Epoch 124/150\n",
      "768/768 [==============================] - 0s 56us/step - loss: 0.5305 - accuracy: 0.7370\n",
      "Epoch 125/150\n",
      "768/768 [==============================] - 0s 56us/step - loss: 0.4998 - accuracy: 0.7682\n",
      "Epoch 126/150\n",
      "768/768 [==============================] - 0s 57us/step - loss: 0.4977 - accuracy: 0.7604\n",
      "Epoch 127/150\n",
      "768/768 [==============================] - 0s 56us/step - loss: 0.5087 - accuracy: 0.7630\n",
      "Epoch 128/150\n",
      "768/768 [==============================] - 0s 57us/step - loss: 0.5015 - accuracy: 0.7708\n",
      "Epoch 129/150\n",
      "768/768 [==============================] - 0s 57us/step - loss: 0.5077 - accuracy: 0.7604\n",
      "Epoch 130/150\n",
      "768/768 [==============================] - 0s 56us/step - loss: 0.4919 - accuracy: 0.7747\n",
      "Epoch 131/150\n",
      "768/768 [==============================] - 0s 56us/step - loss: 0.4921 - accuracy: 0.7734\n",
      "Epoch 132/150\n",
      "768/768 [==============================] - 0s 58us/step - loss: 0.4823 - accuracy: 0.7695\n",
      "Epoch 133/150\n",
      "768/768 [==============================] - 0s 56us/step - loss: 0.4980 - accuracy: 0.7604\n",
      "Epoch 134/150\n",
      "768/768 [==============================] - 0s 58us/step - loss: 0.5053 - accuracy: 0.7604\n",
      "Epoch 135/150\n",
      "768/768 [==============================] - 0s 56us/step - loss: 0.5061 - accuracy: 0.7552\n",
      "Epoch 136/150\n",
      "768/768 [==============================] - 0s 56us/step - loss: 0.5148 - accuracy: 0.7513\n",
      "Epoch 137/150\n",
      "768/768 [==============================] - 0s 58us/step - loss: 0.4991 - accuracy: 0.7682\n",
      "Epoch 138/150\n",
      "768/768 [==============================] - 0s 56us/step - loss: 0.5013 - accuracy: 0.7552\n",
      "Epoch 139/150\n",
      "768/768 [==============================] - 0s 55us/step - loss: 0.4900 - accuracy: 0.7669\n",
      "Epoch 140/150\n",
      "768/768 [==============================] - 0s 56us/step - loss: 0.5152 - accuracy: 0.7448\n",
      "Epoch 141/150\n",
      "768/768 [==============================] - 0s 57us/step - loss: 0.5182 - accuracy: 0.7526\n",
      "Epoch 142/150\n",
      "768/768 [==============================] - 0s 57us/step - loss: 0.5196 - accuracy: 0.7422\n",
      "Epoch 143/150\n",
      "768/768 [==============================] - 0s 55us/step - loss: 0.4762 - accuracy: 0.7708\n",
      "Epoch 144/150\n",
      "768/768 [==============================] - 0s 56us/step - loss: 0.4866 - accuracy: 0.7734\n",
      "Epoch 145/150\n",
      "768/768 [==============================] - 0s 57us/step - loss: 0.4896 - accuracy: 0.7747\n",
      "Epoch 146/150\n",
      "768/768 [==============================] - 0s 57us/step - loss: 0.4707 - accuracy: 0.7760\n",
      "Epoch 147/150\n",
      "768/768 [==============================] - 0s 58us/step - loss: 0.4773 - accuracy: 0.7786\n",
      "Epoch 148/150\n",
      "768/768 [==============================] - 0s 57us/step - loss: 0.4919 - accuracy: 0.7812\n",
      "Epoch 149/150\n",
      "768/768 [==============================] - 0s 56us/step - loss: 0.4889 - accuracy: 0.7643\n",
      "Epoch 150/150\n",
      "768/768 [==============================] - 0s 57us/step - loss: 0.4797 - accuracy: 0.7812\n"
     ]
    },
    {
     "data": {
      "text/plain": [
       "<keras.callbacks.callbacks.History at 0x17619b71888>"
      ]
     },
     "execution_count": 8,
     "metadata": {},
     "output_type": "execute_result"
    }
   ],
   "source": [
    "model.fit(X, y, epochs=150, batch_size=10)"
   ]
  },
  {
   "cell_type": "markdown",
   "metadata": {},
   "source": [
    "## 평가하기 "
   ]
  },
  {
   "cell_type": "code",
   "execution_count": 9,
   "metadata": {},
   "outputs": [
    {
     "name": "stdout",
     "output_type": "stream",
     "text": [
      "768/768 [==============================] - 0s 25us/step\n",
      "Accuracy: 75.39\n"
     ]
    }
   ],
   "source": [
    "# evaluate the keras model\n",
    "_, accuracy = model.evaluate(X, y)\n",
    "print('Accuracy: %.2f' % (accuracy*100))"
   ]
  },
  {
   "cell_type": "code",
   "execution_count": null,
   "metadata": {},
   "outputs": [],
   "source": []
  },
  {
   "cell_type": "markdown",
   "metadata": {},
   "source": [
    "## 예측하기"
   ]
  },
  {
   "cell_type": "code",
   "execution_count": 10,
   "metadata": {},
   "outputs": [],
   "source": [
    "# make probability predictions with the model\n",
    "predictions = model.predict(X)\n",
    "# round predictions \n",
    "rounded = [round(x[0]) for x in predictions]"
   ]
  },
  {
   "cell_type": "code",
   "execution_count": 12,
   "metadata": {},
   "outputs": [
    {
     "data": {
      "text/plain": [
       "(768, 1)"
      ]
     },
     "execution_count": 12,
     "metadata": {},
     "output_type": "execute_result"
    }
   ],
   "source": [
    "predictions.shape"
   ]
  },
  {
   "cell_type": "code",
   "execution_count": 19,
   "metadata": {},
   "outputs": [
    {
     "data": {
      "text/plain": [
       "[1.0, 0.0, 1.0, 0.0, 1.0, 0.0, 0.0, 1.0, 1.0, 0.0]"
      ]
     },
     "execution_count": 19,
     "metadata": {},
     "output_type": "execute_result"
    }
   ],
   "source": [
    "rounded[:10]"
   ]
  },
  {
   "cell_type": "code",
   "execution_count": null,
   "metadata": {},
   "outputs": [],
   "source": []
  },
  {
   "cell_type": "code",
   "execution_count": 13,
   "metadata": {},
   "outputs": [],
   "source": [
    "\n",
    "# make class predictions with the model\n",
    "predictions = model.predict_classes(X)"
   ]
  },
  {
   "cell_type": "code",
   "execution_count": 14,
   "metadata": {},
   "outputs": [
    {
     "name": "stdout",
     "output_type": "stream",
     "text": [
      "[6.0, 148.0, 72.0, 35.0, 0.0, 33.6, 0.627, 50.0] => 1 (expected 1)\n",
      "[1.0, 85.0, 66.0, 29.0, 0.0, 26.6, 0.351, 31.0] => 0 (expected 0)\n",
      "[8.0, 183.0, 64.0, 0.0, 0.0, 23.3, 0.672, 32.0] => 1 (expected 1)\n",
      "[1.0, 89.0, 66.0, 23.0, 94.0, 28.1, 0.167, 21.0] => 0 (expected 0)\n",
      "[0.0, 137.0, 40.0, 35.0, 168.0, 43.1, 2.288, 33.0] => 1 (expected 1)\n"
     ]
    }
   ],
   "source": [
    "for i in range(5):\n",
    "    print('%s => %d (expected %d)' % (X[i].tolist(), predictions[i], y[i]))"
   ]
  },
  {
   "cell_type": "code",
   "execution_count": null,
   "metadata": {},
   "outputs": [],
   "source": []
  }
 ],
 "metadata": {
  "kernelspec": {
   "display_name": "tensorcpu",
   "language": "python",
   "name": "tensorcpu"
  },
  "language_info": {
   "codemirror_mode": {
    "name": "ipython",
    "version": 3
   },
   "file_extension": ".py",
   "mimetype": "text/x-python",
   "name": "python",
   "nbconvert_exporter": "python",
   "pygments_lexer": "ipython3",
   "version": "3.7.4"
  }
 },
 "nbformat": 4,
 "nbformat_minor": 2
}
