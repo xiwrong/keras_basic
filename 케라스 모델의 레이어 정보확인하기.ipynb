{
 "cells": [
  {
   "cell_type": "code",
   "execution_count": 1,
   "metadata": {},
   "outputs": [
    {
     "name": "stderr",
     "output_type": "stream",
     "text": [
      "Using TensorFlow backend.\n"
     ]
    }
   ],
   "source": [
    "import keras"
   ]
  },
  {
   "cell_type": "code",
   "execution_count": 2,
   "metadata": {},
   "outputs": [],
   "source": [
    "from keras.models import Sequential"
   ]
  },
  {
   "cell_type": "code",
   "execution_count": 3,
   "metadata": {},
   "outputs": [],
   "source": [
    "from keras.layers import Conv2D"
   ]
  },
  {
   "cell_type": "code",
   "execution_count": 4,
   "metadata": {},
   "outputs": [],
   "source": [
    "from keras.layers import Dense, SpatialDropout1D"
   ]
  },
  {
   "cell_type": "code",
   "execution_count": 5,
   "metadata": {},
   "outputs": [
    {
     "data": {
      "text/plain": [
       "['Activation',\n",
       " 'ActivityRegularization',\n",
       " 'Add',\n",
       " 'AlphaDropout',\n",
       " 'AtrousConvolution1D',\n",
       " 'AtrousConvolution2D',\n",
       " 'Average',\n",
       " 'AveragePooling1D',\n",
       " 'AveragePooling2D',\n",
       " 'AveragePooling3D',\n",
       " 'AvgPool1D',\n",
       " 'AvgPool2D',\n",
       " 'AvgPool3D',\n",
       " 'BatchNormalization',\n",
       " 'Bidirectional',\n",
       " 'Concatenate',\n",
       " 'Conv1D',\n",
       " 'Conv2D',\n",
       " 'Conv2DTranspose',\n",
       " 'Conv3D',\n",
       " 'Conv3DTranspose',\n",
       " 'ConvLSTM2D',\n",
       " 'ConvLSTM2DCell',\n",
       " 'ConvRecurrent2D',\n",
       " 'Convolution1D',\n",
       " 'Convolution2D',\n",
       " 'Convolution3D',\n",
       " 'Cropping1D',\n",
       " 'Cropping2D',\n",
       " 'Cropping3D',\n",
       " 'CuDNNGRU',\n",
       " 'CuDNNLSTM',\n",
       " 'Deconvolution2D',\n",
       " 'Deconvolution3D',\n",
       " 'Dense',\n",
       " 'DepthwiseConv2D',\n",
       " 'Dot',\n",
       " 'Dropout',\n",
       " 'ELU',\n",
       " 'Embedding',\n",
       " 'Flatten',\n",
       " 'GRU',\n",
       " 'GRUCell',\n",
       " 'GaussianDropout',\n",
       " 'GaussianNoise',\n",
       " 'GlobalAveragePooling1D',\n",
       " 'GlobalAveragePooling2D',\n",
       " 'GlobalAveragePooling3D',\n",
       " 'GlobalAvgPool1D',\n",
       " 'GlobalAvgPool2D',\n",
       " 'GlobalAvgPool3D',\n",
       " 'GlobalMaxPool1D',\n",
       " 'GlobalMaxPool2D',\n",
       " 'GlobalMaxPool3D',\n",
       " 'GlobalMaxPooling1D',\n",
       " 'GlobalMaxPooling2D',\n",
       " 'GlobalMaxPooling3D',\n",
       " 'Highway',\n",
       " 'Input',\n",
       " 'InputLayer',\n",
       " 'InputSpec',\n",
       " 'LSTM',\n",
       " 'LSTMCell',\n",
       " 'Lambda',\n",
       " 'Layer',\n",
       " 'LeakyReLU',\n",
       " 'LocallyConnected1D',\n",
       " 'LocallyConnected2D',\n",
       " 'Masking',\n",
       " 'MaxPool1D',\n",
       " 'MaxPool2D',\n",
       " 'MaxPool3D',\n",
       " 'MaxPooling1D',\n",
       " 'MaxPooling2D',\n",
       " 'MaxPooling3D',\n",
       " 'Maximum',\n",
       " 'MaxoutDense',\n",
       " 'Minimum',\n",
       " 'Multiply',\n",
       " 'PReLU',\n",
       " 'Permute',\n",
       " 'RNN',\n",
       " 'ReLU',\n",
       " 'Recurrent',\n",
       " 'RepeatVector',\n",
       " 'Reshape',\n",
       " 'SeparableConv1D',\n",
       " 'SeparableConv2D',\n",
       " 'SimpleRNN',\n",
       " 'SimpleRNNCell',\n",
       " 'Softmax',\n",
       " 'SpatialDropout1D',\n",
       " 'SpatialDropout2D',\n",
       " 'SpatialDropout3D',\n",
       " 'StackedRNNCells',\n",
       " 'Subtract',\n",
       " 'ThresholdedReLU',\n",
       " 'TimeDistributed',\n",
       " 'UpSampling1D',\n",
       " 'UpSampling2D',\n",
       " 'UpSampling3D',\n",
       " 'ZeroPadding1D',\n",
       " 'ZeroPadding2D',\n",
       " 'ZeroPadding3D',\n",
       " '__builtins__',\n",
       " '__cached__',\n",
       " '__doc__',\n",
       " '__file__',\n",
       " '__loader__',\n",
       " '__name__',\n",
       " '__package__',\n",
       " '__path__',\n",
       " '__spec__',\n",
       " 'absolute_import',\n",
       " 'add',\n",
       " 'advanced_activations',\n",
       " 'average',\n",
       " 'concatenate',\n",
       " 'convolutional',\n",
       " 'convolutional_recurrent',\n",
       " 'core',\n",
       " 'cudnn_recurrent',\n",
       " 'deserialize',\n",
       " 'deserialize_keras_object',\n",
       " 'dot',\n",
       " 'embeddings',\n",
       " 'local',\n",
       " 'maximum',\n",
       " 'merge',\n",
       " 'minimum',\n",
       " 'multiply',\n",
       " 'noise',\n",
       " 'normalization',\n",
       " 'pooling',\n",
       " 'recurrent',\n",
       " 'serialize',\n",
       " 'subtract',\n",
       " 'wrappers']"
      ]
     },
     "execution_count": 5,
     "metadata": {},
     "output_type": "execute_result"
    }
   ],
   "source": [
    "dir(keras.layers)"
   ]
  },
  {
   "cell_type": "code",
   "execution_count": 6,
   "metadata": {},
   "outputs": [],
   "source": [
    "model = Sequential()\n",
    "model.add(Conv2D(32, (3,3), input_shape=(256, 256,3)))"
   ]
  },
  {
   "cell_type": "code",
   "execution_count": 7,
   "metadata": {},
   "outputs": [
    {
     "name": "stdout",
     "output_type": "stream",
     "text": [
      "Model: \"sequential_1\"\n",
      "_________________________________________________________________\n",
      "Layer (type)                 Output Shape              Param #   \n",
      "=================================================================\n",
      "conv2d_1 (Conv2D)            (None, 254, 254, 32)      896       \n",
      "=================================================================\n",
      "Total params: 896\n",
      "Trainable params: 896\n",
      "Non-trainable params: 0\n",
      "_________________________________________________________________\n"
     ]
    }
   ],
   "source": [
    "model.summary()"
   ]
  },
  {
   "cell_type": "code",
   "execution_count": 8,
   "metadata": {},
   "outputs": [
    {
     "data": {
      "text/plain": [
       "[<keras.layers.convolutional.Conv2D at 0x62c52ae10>]"
      ]
     },
     "execution_count": 8,
     "metadata": {},
     "output_type": "execute_result"
    }
   ],
   "source": [
    "model.layers"
   ]
  },
  {
   "cell_type": "code",
   "execution_count": 9,
   "metadata": {},
   "outputs": [],
   "source": [
    "import numpy as np"
   ]
  },
  {
   "cell_type": "code",
   "execution_count": 10,
   "metadata": {},
   "outputs": [],
   "source": [
    "a = np.arange(1,13).reshape(2,2,3)"
   ]
  },
  {
   "cell_type": "code",
   "execution_count": 11,
   "metadata": {},
   "outputs": [
    {
     "data": {
      "text/plain": [
       "array([[[ 1,  2,  3],\n",
       "        [ 4,  5,  6]],\n",
       "\n",
       "       [[ 7,  8,  9],\n",
       "        [10, 11, 12]]])"
      ]
     },
     "execution_count": 11,
     "metadata": {},
     "output_type": "execute_result"
    }
   ],
   "source": [
    "a"
   ]
  },
  {
   "cell_type": "code",
   "execution_count": 12,
   "metadata": {},
   "outputs": [],
   "source": [
    "b = np.arange(1,7).reshape(3,2)"
   ]
  },
  {
   "cell_type": "code",
   "execution_count": 13,
   "metadata": {},
   "outputs": [
    {
     "data": {
      "text/plain": [
       "array([[1, 2],\n",
       "       [3, 4],\n",
       "       [5, 6]])"
      ]
     },
     "execution_count": 13,
     "metadata": {},
     "output_type": "execute_result"
    }
   ],
   "source": [
    "b"
   ]
  },
  {
   "cell_type": "code",
   "execution_count": 14,
   "metadata": {},
   "outputs": [
    {
     "data": {
      "text/plain": [
       "(2, 2, 2)"
      ]
     },
     "execution_count": 14,
     "metadata": {},
     "output_type": "execute_result"
    }
   ],
   "source": [
    "np.dot(a,b).shape"
   ]
  },
  {
   "cell_type": "code",
   "execution_count": null,
   "metadata": {},
   "outputs": [],
   "source": []
  },
  {
   "cell_type": "code",
   "execution_count": 15,
   "metadata": {},
   "outputs": [
    {
     "data": {
      "text/plain": [
       "TensorShape([3, 3, 3, 32])"
      ]
     },
     "execution_count": 15,
     "metadata": {},
     "output_type": "execute_result"
    }
   ],
   "source": [
    "model.layers[0].kernel.shape"
   ]
  },
  {
   "cell_type": "code",
   "execution_count": 16,
   "metadata": {},
   "outputs": [
    {
     "data": {
      "text/plain": [
       "TensorShape([32])"
      ]
     },
     "execution_count": 16,
     "metadata": {},
     "output_type": "execute_result"
    }
   ],
   "source": [
    "model.layers[0].bias.shape"
   ]
  },
  {
   "cell_type": "code",
   "execution_count": 17,
   "metadata": {},
   "outputs": [
    {
     "data": {
      "text/plain": [
       "TensorShape([3, 3, 3, 32])"
      ]
     },
     "execution_count": 17,
     "metadata": {},
     "output_type": "execute_result"
    }
   ],
   "source": [
    "model.layers[0].weights[0].shape"
   ]
  },
  {
   "cell_type": "code",
   "execution_count": 18,
   "metadata": {},
   "outputs": [
    {
     "data": {
      "text/plain": [
       "TensorShape([None, 254, 254, 32])"
      ]
     },
     "execution_count": 18,
     "metadata": {},
     "output_type": "execute_result"
    }
   ],
   "source": [
    "model.layers[0].output.shape"
   ]
  },
  {
   "cell_type": "code",
   "execution_count": null,
   "metadata": {},
   "outputs": [],
   "source": []
  },
  {
   "cell_type": "code",
   "execution_count": 19,
   "metadata": {},
   "outputs": [],
   "source": [
    "model_ = Sequential()\n",
    "model_.add(Conv2D(32, kernel_size=3, input_shape=(256, 256,3)))"
   ]
  },
  {
   "cell_type": "code",
   "execution_count": 20,
   "metadata": {},
   "outputs": [
    {
     "data": {
      "text/plain": [
       "TensorShape([3, 3, 3, 32])"
      ]
     },
     "execution_count": 20,
     "metadata": {},
     "output_type": "execute_result"
    }
   ],
   "source": [
    "model_.layers[0].kernel.shape"
   ]
  },
  {
   "cell_type": "code",
   "execution_count": 21,
   "metadata": {},
   "outputs": [
    {
     "data": {
      "text/plain": [
       "<tf.Variable 'conv2d_2/kernel:0' shape=(3, 3, 3, 32) dtype=float32, numpy=\n",
       "array([[[[ 0.0959827 , -0.10124157,  0.05229746,  0.02419095,\n",
       "          -0.10504754,  0.09694442, -0.04939698,  0.01749036,\n",
       "           0.09247112,  0.11113051,  0.13302489,  0.06665833,\n",
       "          -0.1377449 ,  0.13653775, -0.03802709,  0.05592673,\n",
       "           0.09603466,  0.01001793,  0.0382341 , -0.03217387,\n",
       "          -0.03956856,  0.1101377 , -0.10143617,  0.08560017,\n",
       "          -0.11431383,  0.06647748,  0.01646617,  0.12511115,\n",
       "          -0.13349968,  0.10577998, -0.05254361,  0.12676992],\n",
       "         [-0.06040071, -0.04281982, -0.03786099,  0.08306941,\n",
       "          -0.03814512, -0.02089109, -0.11568388,  0.00569136,\n",
       "           0.04225145, -0.12427377, -0.08360261, -0.00502685,\n",
       "          -0.02897295, -0.11968535, -0.11746111, -0.06347314,\n",
       "           0.13718261,  0.10758753, -0.10029355,  0.04225586,\n",
       "           0.03611314,  0.1272207 ,  0.02799058,  0.09013198,\n",
       "          -0.05569834,  0.04473686, -0.05289221,  0.05929573,\n",
       "           0.07811634, -0.07303135,  0.1280692 , -0.02549204],\n",
       "         [ 0.0143097 , -0.00337118,  0.10521132,  0.11439516,\n",
       "          -0.06590504, -0.12771937,  0.13733827, -0.08476918,\n",
       "           0.08998412,  0.05310458, -0.07418578,  0.05490635,\n",
       "          -0.08026484,  0.04767725, -0.06384509, -0.04703467,\n",
       "          -0.01785728, -0.066594  ,  0.08478455,  0.10137549,\n",
       "           0.12974088, -0.13584141,  0.07832874, -0.08780679,\n",
       "          -0.11523651,  0.08160943, -0.09450452, -0.04759258,\n",
       "          -0.02850172,  0.05162708, -0.07807879, -0.12732027]],\n",
       "\n",
       "        [[-0.00228837,  0.08117022,  0.12492038, -0.07440463,\n",
       "           0.04599749,  0.10832444,  0.08502923, -0.0090369 ,\n",
       "           0.04059917,  0.0044727 , -0.02345839,  0.04429729,\n",
       "          -0.05490352,  0.0961464 ,  0.02388148, -0.11007202,\n",
       "           0.09212579,  0.12634735,  0.05003537,  0.05584826,\n",
       "          -0.00753759, -0.06071633,  0.00272298,  0.00891404,\n",
       "           0.03978139, -0.02753978,  0.03457464,  0.09951502,\n",
       "          -0.03933536,  0.00645325,  0.03591201, -0.07429894],\n",
       "         [ 0.00927737, -0.03556397, -0.09930725,  0.04932654,\n",
       "          -0.06811994,  0.01267569, -0.08744386,  0.01310582,\n",
       "          -0.07828096, -0.07499521,  0.05778408, -0.1329763 ,\n",
       "           0.08637267,  0.10644186,  0.1319554 ,  0.05158266,\n",
       "          -0.08263826,  0.02706428, -0.11625926,  0.03403656,\n",
       "          -0.0645486 , -0.00858657,  0.07683069, -0.08643891,\n",
       "          -0.08774287,  0.12280102, -0.0333619 ,  0.0868624 ,\n",
       "           0.04995781, -0.11798361, -0.11650766, -0.02331762],\n",
       "         [ 0.02113113,  0.0637878 , -0.04029786, -0.106167  ,\n",
       "          -0.02053193, -0.07879777,  0.0113565 ,  0.0184404 ,\n",
       "          -0.01436403, -0.0656848 , -0.02963421,  0.0072583 ,\n",
       "           0.12904786, -0.09162883,  0.10100178, -0.11425009,\n",
       "          -0.06910543, -0.11004902,  0.03587656,  0.08053541,\n",
       "          -0.12058273, -0.01507166, -0.10402167,  0.13619216,\n",
       "          -0.09911937, -0.07036178,  0.00659516,  0.02161035,\n",
       "          -0.0151782 ,  0.13670267, -0.02163352, -0.13274059]],\n",
       "\n",
       "        [[-0.12574363,  0.0728948 ,  0.11089912, -0.08476191,\n",
       "          -0.09950633,  0.01246566, -0.03102915, -0.05600185,\n",
       "           0.09841701,  0.08605066,  0.06572725, -0.0594313 ,\n",
       "          -0.0437741 ,  0.03090365, -0.02636738, -0.09004436,\n",
       "          -0.06652632,  0.00370394, -0.10289589,  0.04793137,\n",
       "          -0.09010224, -0.06011602, -0.03580049,  0.07867694,\n",
       "          -0.02846187, -0.01415134, -0.08821656,  0.08013035,\n",
       "          -0.05385961, -0.01336518, -0.01952813, -0.12321058],\n",
       "         [-0.11511789,  0.13126658, -0.09413473,  0.13545032,\n",
       "           0.0675519 ,  0.12118985,  0.09640548, -0.01425493,\n",
       "          -0.0951122 ,  0.0157339 ,  0.07112467,  0.08963154,\n",
       "           0.05336235, -0.05219532, -0.12249523,  0.05604574,\n",
       "          -0.10581627, -0.102222  , -0.10786766, -0.13440292,\n",
       "          -0.12300786,  0.11082429, -0.06890932,  0.02444945,\n",
       "          -0.02984681,  0.07996774, -0.01612774,  0.04262726,\n",
       "          -0.03339543, -0.04931864, -0.01974533,  0.11436747],\n",
       "         [ 0.10478058, -0.0550408 ,  0.10522813, -0.08369063,\n",
       "           0.08552408,  0.07832401, -0.10321303, -0.04102825,\n",
       "           0.09969671, -0.02884202,  0.04742713, -0.1020222 ,\n",
       "          -0.01598503, -0.03376644,  0.10125449,  0.01349294,\n",
       "           0.03410122, -0.11218458, -0.09374817,  0.1375769 ,\n",
       "          -0.03079792, -0.00746858, -0.07898865, -0.02649936,\n",
       "          -0.01695931, -0.073465  , -0.08667668,  0.05769187,\n",
       "           0.09269702, -0.00244647,  0.0505781 ,  0.00322475]]],\n",
       "\n",
       "\n",
       "       [[[-0.04527947, -0.00092256, -0.00496998, -0.12370846,\n",
       "           0.12510051, -0.00090462,  0.12316577,  0.11549596,\n",
       "          -0.02110737,  0.0451057 , -0.05543099, -0.09421071,\n",
       "           0.13637681, -0.06439398,  0.05790073, -0.11237783,\n",
       "          -0.10192648, -0.03000334,  0.00690727,  0.08890532,\n",
       "          -0.08283618, -0.11430448,  0.0994619 , -0.03457902,\n",
       "          -0.05524438,  0.0869057 ,  0.00913186,  0.05508131,\n",
       "          -0.11363871,  0.03225212,  0.05649194, -0.07211794],\n",
       "         [ 0.08305885, -0.11063239,  0.08707176, -0.10125627,\n",
       "          -0.01741386, -0.12880434,  0.12942685, -0.04801564,\n",
       "           0.0110051 ,  0.04923368, -0.06941148, -0.10349558,\n",
       "          -0.12544084,  0.06626703, -0.03282411, -0.09650283,\n",
       "          -0.05713309, -0.00097886,  0.08218335, -0.11455521,\n",
       "          -0.09991533, -0.09108867, -0.07051995,  0.01024896,\n",
       "           0.00787677,  0.04126342,  0.09617862,  0.03694695,\n",
       "           0.007248  , -0.07964198, -0.03603428, -0.0945649 ],\n",
       "         [-0.06899188,  0.0453793 , -0.0321639 ,  0.00960615,\n",
       "          -0.06952402, -0.04688548,  0.12063698, -0.129012  ,\n",
       "           0.04352066,  0.05923167,  0.11525445,  0.03277136,\n",
       "          -0.09249288,  0.11365162, -0.07452843,  0.02705164,\n",
       "           0.00810263,  0.05773133, -0.08222435,  0.13177033,\n",
       "          -0.07869783, -0.09711714, -0.05814113, -0.10132718,\n",
       "          -0.09404843,  0.0759228 ,  0.07527846, -0.02721169,\n",
       "          -0.05524635,  0.03198178,  0.0173417 , -0.06825017]],\n",
       "\n",
       "        [[-0.12691242,  0.06773047,  0.07087559, -0.08960241,\n",
       "          -0.05193507, -0.09744592,  0.07118943, -0.07412728,\n",
       "           0.01240297,  0.02315694, -0.13482437,  0.01862098,\n",
       "          -0.08497757,  0.09954602,  0.03194186, -0.00663798,\n",
       "           0.12335841,  0.12136425, -0.07855911, -0.10504228,\n",
       "           0.01125993, -0.00741574, -0.10354379,  0.11978148,\n",
       "          -0.10473373, -0.01690025,  0.06419465, -0.07973611,\n",
       "           0.10514432, -0.00059676, -0.12997583,  0.11664478],\n",
       "         [-0.03282855,  0.04775964,  0.01589434, -0.06986284,\n",
       "          -0.13146947, -0.12531163,  0.00744335,  0.08526279,\n",
       "           0.13761003,  0.03751516,  0.00360861,  0.02190936,\n",
       "          -0.08515394,  0.02209787, -0.09257998, -0.08835407,\n",
       "           0.09285411, -0.11378066, -0.03941812,  0.03096662,\n",
       "           0.03851606, -0.00684294, -0.04065106,  0.11594941,\n",
       "           0.01236454, -0.01770546,  0.12221064,  0.00085369,\n",
       "          -0.02180929, -0.05646656, -0.09770051, -0.11832941],\n",
       "         [-0.13687122,  0.0764396 ,  0.05216748,  0.07756801,\n",
       "           0.10222188, -0.05633028,  0.02877657,  0.02093504,\n",
       "           0.13609673,  0.09796996,  0.02915788, -0.05945867,\n",
       "          -0.0483366 ,  0.11578168,  0.09188022,  0.10568653,\n",
       "          -0.03819428,  0.06588283, -0.12795824,  0.10639234,\n",
       "           0.08347292,  0.08491488,  0.02301131, -0.10296555,\n",
       "           0.13131048,  0.01926729, -0.09588389,  0.08717051,\n",
       "           0.01944962, -0.07040801, -0.03225311, -0.09252898]],\n",
       "\n",
       "        [[-0.02592981, -0.00340234, -0.11813664, -0.03272428,\n",
       "          -0.10711561, -0.05685054, -0.03782907, -0.0082657 ,\n",
       "           0.10110173, -0.09064382,  0.13599081, -0.12115656,\n",
       "           0.00227015, -0.07174721,  0.00939083, -0.03491929,\n",
       "          -0.02591336, -0.06821088,  0.02837189,  0.03134055,\n",
       "           0.07016498, -0.11596911,  0.11104771, -0.02537632,\n",
       "           0.12172036,  0.06803481, -0.02156816,  0.02608749,\n",
       "           0.00199325,  0.04079568, -0.07685351, -0.0779473 ],\n",
       "         [-0.01125541,  0.05227567, -0.12470572, -0.08034035,\n",
       "           0.09484841,  0.02834605, -0.01958525,  0.11019759,\n",
       "           0.02454112, -0.00648591, -0.07284711, -0.13086198,\n",
       "          -0.08525304,  0.12837256, -0.03294115,  0.04623753,\n",
       "           0.0380141 , -0.06389399, -0.0595357 , -0.03743823,\n",
       "           0.05571848,  0.06950408,  0.12337495,  0.03555755,\n",
       "          -0.12596084,  0.11985429,  0.06194215, -0.00444776,\n",
       "           0.09419225, -0.06747928,  0.01646735,  0.09764323],\n",
       "         [ 0.00519526,  0.10693994, -0.07820071, -0.07521834,\n",
       "           0.07174832, -0.07387121, -0.10267286,  0.12999465,\n",
       "          -0.09250042,  0.01367787,  0.05664571, -0.0871719 ,\n",
       "          -0.05190516, -0.1042628 , -0.04606642,  0.03891806,\n",
       "           0.13372739,  0.06608894, -0.007404  , -0.11125107,\n",
       "           0.07401811,  0.07430194, -0.12217329, -0.11276186,\n",
       "           0.06423864, -0.01791517,  0.03181057,  0.09452426,\n",
       "          -0.00980902,  0.0066561 ,  0.07856688,  0.01730418]]],\n",
       "\n",
       "\n",
       "       [[[ 0.04699135,  0.07271224, -0.0763047 ,  0.07417166,\n",
       "          -0.0828343 , -0.06750978,  0.08290404,  0.05626242,\n",
       "          -0.00130965, -0.02056667,  0.10004504,  0.02582975,\n",
       "          -0.0929753 ,  0.11907624, -0.02163427, -0.0807223 ,\n",
       "           0.11962606,  0.10638851,  0.06512463, -0.04386719,\n",
       "          -0.00762205,  0.10904536, -0.04190718,  0.03206202,\n",
       "           0.09697887, -0.00501852,  0.08650011, -0.08885986,\n",
       "           0.06844556, -0.02456422, -0.09564856, -0.00298516],\n",
       "         [ 0.02605814, -0.04267181, -0.01120876,  0.12452094,\n",
       "           0.01350732,  0.00749439,  0.07240406,  0.08601999,\n",
       "          -0.08663715, -0.06962787, -0.08010735,  0.12909995,\n",
       "          -0.07066131, -0.08724445, -0.07400862, -0.03386466,\n",
       "          -0.02281652, -0.03930502,  0.08170143,  0.03973025,\n",
       "          -0.07069234, -0.11354082,  0.07005267, -0.08337697,\n",
       "           0.00620291, -0.07912175, -0.00802138,  0.06474254,\n",
       "          -0.10646887, -0.10905483,  0.00993221, -0.12514572],\n",
       "         [-0.00840002,  0.09270111,  0.0478832 ,  0.13568376,\n",
       "           0.13583033,  0.11761822,  0.0317065 , -0.03860395,\n",
       "          -0.12551254,  0.10862839,  0.07481223, -0.11188403,\n",
       "           0.00932537,  0.12263958,  0.09161685,  0.11797221,\n",
       "          -0.02070981, -0.04742713,  0.00249086, -0.00705247,\n",
       "           0.07048701,  0.00991134,  0.10130741,  0.02416407,\n",
       "           0.05752598, -0.04914937,  0.09474944,  0.02205773,\n",
       "           0.06151193, -0.04882392,  0.05573578, -0.12551926]],\n",
       "\n",
       "        [[ 0.1040035 ,  0.02035131,  0.04617004, -0.13502653,\n",
       "           0.12908657,  0.08890232,  0.11003043, -0.01478472,\n",
       "          -0.01385628,  0.13188668,  0.04872496,  0.09856643,\n",
       "          -0.1075826 , -0.09536976, -0.1205262 , -0.00139517,\n",
       "           0.04762249, -0.04091243, -0.1268957 ,  0.0353106 ,\n",
       "           0.05997479,  0.08854258,  0.01484889,  0.13392635,\n",
       "          -0.07658754, -0.12961864,  0.05031523, -0.10025583,\n",
       "          -0.02835803,  0.00188081,  0.00996968, -0.01416325],\n",
       "         [-0.11288105, -0.06049968,  0.12604465, -0.03367197,\n",
       "          -0.12691405,  0.13797452,  0.07669748,  0.10725799,\n",
       "           0.10838345, -0.07225986,  0.12139989, -0.02230895,\n",
       "           0.0256265 , -0.00050364,  0.00667328, -0.1317785 ,\n",
       "           0.06728794,  0.08144486,  0.03130966, -0.10865833,\n",
       "          -0.1206389 , -0.08816227, -0.11501887,  0.09983212,\n",
       "          -0.0885052 , -0.02022661,  0.0737644 ,  0.13732092,\n",
       "           0.03446412, -0.03222047,  0.11384864, -0.10203511],\n",
       "         [ 0.06948118, -0.03396147, -0.10485771,  0.08890395,\n",
       "          -0.11667708,  0.06908767, -0.11698952, -0.12311351,\n",
       "          -0.09273447,  0.03146303, -0.13151531,  0.0697019 ,\n",
       "           0.0592389 ,  0.12518562, -0.03426916, -0.05796259,\n",
       "           0.01612037,  0.04422183, -0.07690981, -0.13662672,\n",
       "          -0.03797132,  0.05249794,  0.1377319 , -0.04979138,\n",
       "          -0.1214501 , -0.08941667, -0.03037842,  0.02308024,\n",
       "           0.04579258,  0.04844116,  0.00703411, -0.04203412]],\n",
       "\n",
       "        [[-0.12893555,  0.03126247,  0.11001733, -0.0725022 ,\n",
       "          -0.06113442,  0.05398189, -0.0135754 , -0.05969029,\n",
       "           0.10516265,  0.11097154, -0.07358287, -0.11224467,\n",
       "           0.07441576, -0.13156247,  0.13451333,  0.13151844,\n",
       "           0.00965104,  0.00405167, -0.10627253, -0.10188535,\n",
       "          -0.01746421, -0.10730919,  0.03989875, -0.10273384,\n",
       "          -0.01093522, -0.11599957, -0.12822041, -0.05627348,\n",
       "           0.01416394, -0.05949076,  0.05367745, -0.08575866],\n",
       "         [ 0.06696184, -0.02985866,  0.02492268, -0.05504268,\n",
       "          -0.06470783, -0.0140242 ,  0.11425219,  0.06809604,\n",
       "           0.08636145, -0.03965507,  0.11612023,  0.12189551,\n",
       "          -0.11006221, -0.00323719,  0.05472051,  0.09915049,\n",
       "           0.01370139,  0.08476835, -0.04402276,  0.11014672,\n",
       "           0.10767961, -0.07327122,  0.09080385, -0.10486709,\n",
       "          -0.00054188,  0.10239632, -0.06456506,  0.03550012,\n",
       "          -0.10178736, -0.06507761,  0.09166841,  0.13467889],\n",
       "         [-0.02176511,  0.12505196, -0.05183856, -0.04066623,\n",
       "          -0.0070806 ,  0.02392979, -0.06313392, -0.07739983,\n",
       "          -0.12139907, -0.04514798, -0.1143254 , -0.04337065,\n",
       "          -0.10483541,  0.12927459, -0.13300323,  0.03906669,\n",
       "          -0.07083649, -0.00817204,  0.08006532,  0.07462332,\n",
       "          -0.10986811, -0.10513395, -0.11847939,  0.05361454,\n",
       "           0.02181986,  0.10592288,  0.13305606, -0.06189752,\n",
       "          -0.13045456,  0.02697463, -0.05109636,  0.00326045]]]],\n",
       "      dtype=float32)>"
      ]
     },
     "execution_count": 21,
     "metadata": {},
     "output_type": "execute_result"
    }
   ],
   "source": [
    "model_.layers[0].kernel"
   ]
  },
  {
   "cell_type": "code",
   "execution_count": 22,
   "metadata": {},
   "outputs": [
    {
     "data": {
      "text/plain": [
       "TensorShape([32])"
      ]
     },
     "execution_count": 22,
     "metadata": {},
     "output_type": "execute_result"
    }
   ],
   "source": [
    "model_.layers[0].bias.shape"
   ]
  },
  {
   "cell_type": "code",
   "execution_count": 23,
   "metadata": {},
   "outputs": [
    {
     "data": {
      "text/plain": [
       "<tf.Variable 'conv2d_2/bias:0' shape=(32,) dtype=float32, numpy=\n",
       "array([0., 0., 0., 0., 0., 0., 0., 0., 0., 0., 0., 0., 0., 0., 0., 0., 0.,\n",
       "       0., 0., 0., 0., 0., 0., 0., 0., 0., 0., 0., 0., 0., 0., 0.],\n",
       "      dtype=float32)>"
      ]
     },
     "execution_count": 23,
     "metadata": {},
     "output_type": "execute_result"
    }
   ],
   "source": [
    "model_.layers[0].bias"
   ]
  },
  {
   "cell_type": "code",
   "execution_count": 24,
   "metadata": {},
   "outputs": [
    {
     "data": {
      "text/plain": [
       "<tf.Tensor: id=64, shape=(3, 3, 3, 32), dtype=bool, numpy=\n",
       "array([[[[ True,  True,  True,  True,  True,  True,  True,  True,\n",
       "           True,  True,  True,  True,  True,  True,  True,  True,\n",
       "           True,  True,  True,  True,  True,  True,  True,  True,\n",
       "           True,  True,  True,  True,  True,  True,  True,  True],\n",
       "         [ True,  True,  True,  True,  True,  True,  True,  True,\n",
       "           True,  True,  True,  True,  True,  True,  True,  True,\n",
       "           True,  True,  True,  True,  True,  True,  True,  True,\n",
       "           True,  True,  True,  True,  True,  True,  True,  True],\n",
       "         [ True,  True,  True,  True,  True,  True,  True,  True,\n",
       "           True,  True,  True,  True,  True,  True,  True,  True,\n",
       "           True,  True,  True,  True,  True,  True,  True,  True,\n",
       "           True,  True,  True,  True,  True,  True,  True,  True]],\n",
       "\n",
       "        [[ True,  True,  True,  True,  True,  True,  True,  True,\n",
       "           True,  True,  True,  True,  True,  True,  True,  True,\n",
       "           True,  True,  True,  True,  True,  True,  True,  True,\n",
       "           True,  True,  True,  True,  True,  True,  True,  True],\n",
       "         [ True,  True,  True,  True,  True,  True,  True,  True,\n",
       "           True,  True,  True,  True,  True,  True,  True,  True,\n",
       "           True,  True,  True,  True,  True,  True,  True,  True,\n",
       "           True,  True,  True,  True,  True,  True,  True,  True],\n",
       "         [ True,  True,  True,  True,  True,  True,  True,  True,\n",
       "           True,  True,  True,  True,  True,  True,  True,  True,\n",
       "           True,  True,  True,  True,  True,  True,  True,  True,\n",
       "           True,  True,  True,  True,  True,  True,  True,  True]],\n",
       "\n",
       "        [[ True,  True,  True,  True,  True,  True,  True,  True,\n",
       "           True,  True,  True,  True,  True,  True,  True,  True,\n",
       "           True,  True,  True,  True,  True,  True,  True,  True,\n",
       "           True,  True,  True,  True,  True,  True,  True,  True],\n",
       "         [ True,  True,  True,  True,  True,  True,  True,  True,\n",
       "           True,  True,  True,  True,  True,  True,  True,  True,\n",
       "           True,  True,  True,  True,  True,  True,  True,  True,\n",
       "           True,  True,  True,  True,  True,  True,  True,  True],\n",
       "         [ True,  True,  True,  True,  True,  True,  True,  True,\n",
       "           True,  True,  True,  True,  True,  True,  True,  True,\n",
       "           True,  True,  True,  True,  True,  True,  True,  True,\n",
       "           True,  True,  True,  True,  True,  True,  True,  True]]],\n",
       "\n",
       "\n",
       "       [[[ True,  True,  True,  True,  True,  True,  True,  True,\n",
       "           True,  True,  True,  True,  True,  True,  True,  True,\n",
       "           True,  True,  True,  True,  True,  True,  True,  True,\n",
       "           True,  True,  True,  True,  True,  True,  True,  True],\n",
       "         [ True,  True,  True,  True,  True,  True,  True,  True,\n",
       "           True,  True,  True,  True,  True,  True,  True,  True,\n",
       "           True,  True,  True,  True,  True,  True,  True,  True,\n",
       "           True,  True,  True,  True,  True,  True,  True,  True],\n",
       "         [ True,  True,  True,  True,  True,  True,  True,  True,\n",
       "           True,  True,  True,  True,  True,  True,  True,  True,\n",
       "           True,  True,  True,  True,  True,  True,  True,  True,\n",
       "           True,  True,  True,  True,  True,  True,  True,  True]],\n",
       "\n",
       "        [[ True,  True,  True,  True,  True,  True,  True,  True,\n",
       "           True,  True,  True,  True,  True,  True,  True,  True,\n",
       "           True,  True,  True,  True,  True,  True,  True,  True,\n",
       "           True,  True,  True,  True,  True,  True,  True,  True],\n",
       "         [ True,  True,  True,  True,  True,  True,  True,  True,\n",
       "           True,  True,  True,  True,  True,  True,  True,  True,\n",
       "           True,  True,  True,  True,  True,  True,  True,  True,\n",
       "           True,  True,  True,  True,  True,  True,  True,  True],\n",
       "         [ True,  True,  True,  True,  True,  True,  True,  True,\n",
       "           True,  True,  True,  True,  True,  True,  True,  True,\n",
       "           True,  True,  True,  True,  True,  True,  True,  True,\n",
       "           True,  True,  True,  True,  True,  True,  True,  True]],\n",
       "\n",
       "        [[ True,  True,  True,  True,  True,  True,  True,  True,\n",
       "           True,  True,  True,  True,  True,  True,  True,  True,\n",
       "           True,  True,  True,  True,  True,  True,  True,  True,\n",
       "           True,  True,  True,  True,  True,  True,  True,  True],\n",
       "         [ True,  True,  True,  True,  True,  True,  True,  True,\n",
       "           True,  True,  True,  True,  True,  True,  True,  True,\n",
       "           True,  True,  True,  True,  True,  True,  True,  True,\n",
       "           True,  True,  True,  True,  True,  True,  True,  True],\n",
       "         [ True,  True,  True,  True,  True,  True,  True,  True,\n",
       "           True,  True,  True,  True,  True,  True,  True,  True,\n",
       "           True,  True,  True,  True,  True,  True,  True,  True,\n",
       "           True,  True,  True,  True,  True,  True,  True,  True]]],\n",
       "\n",
       "\n",
       "       [[[ True,  True,  True,  True,  True,  True,  True,  True,\n",
       "           True,  True,  True,  True,  True,  True,  True,  True,\n",
       "           True,  True,  True,  True,  True,  True,  True,  True,\n",
       "           True,  True,  True,  True,  True,  True,  True,  True],\n",
       "         [ True,  True,  True,  True,  True,  True,  True,  True,\n",
       "           True,  True,  True,  True,  True,  True,  True,  True,\n",
       "           True,  True,  True,  True,  True,  True,  True,  True,\n",
       "           True,  True,  True,  True,  True,  True,  True,  True],\n",
       "         [ True,  True,  True,  True,  True,  True,  True,  True,\n",
       "           True,  True,  True,  True,  True,  True,  True,  True,\n",
       "           True,  True,  True,  True,  True,  True,  True,  True,\n",
       "           True,  True,  True,  True,  True,  True,  True,  True]],\n",
       "\n",
       "        [[ True,  True,  True,  True,  True,  True,  True,  True,\n",
       "           True,  True,  True,  True,  True,  True,  True,  True,\n",
       "           True,  True,  True,  True,  True,  True,  True,  True,\n",
       "           True,  True,  True,  True,  True,  True,  True,  True],\n",
       "         [ True,  True,  True,  True,  True,  True,  True,  True,\n",
       "           True,  True,  True,  True,  True,  True,  True,  True,\n",
       "           True,  True,  True,  True,  True,  True,  True,  True,\n",
       "           True,  True,  True,  True,  True,  True,  True,  True],\n",
       "         [ True,  True,  True,  True,  True,  True,  True,  True,\n",
       "           True,  True,  True,  True,  True,  True,  True,  True,\n",
       "           True,  True,  True,  True,  True,  True,  True,  True,\n",
       "           True,  True,  True,  True,  True,  True,  True,  True]],\n",
       "\n",
       "        [[ True,  True,  True,  True,  True,  True,  True,  True,\n",
       "           True,  True,  True,  True,  True,  True,  True,  True,\n",
       "           True,  True,  True,  True,  True,  True,  True,  True,\n",
       "           True,  True,  True,  True,  True,  True,  True,  True],\n",
       "         [ True,  True,  True,  True,  True,  True,  True,  True,\n",
       "           True,  True,  True,  True,  True,  True,  True,  True,\n",
       "           True,  True,  True,  True,  True,  True,  True,  True,\n",
       "           True,  True,  True,  True,  True,  True,  True,  True],\n",
       "         [ True,  True,  True,  True,  True,  True,  True,  True,\n",
       "           True,  True,  True,  True,  True,  True,  True,  True,\n",
       "           True,  True,  True,  True,  True,  True,  True,  True,\n",
       "           True,  True,  True,  True,  True,  True,  True,  True]]]])>"
      ]
     },
     "execution_count": 24,
     "metadata": {},
     "output_type": "execute_result"
    }
   ],
   "source": [
    "model_.layers[0].weights[0] ==  model_.layers[0].kernel"
   ]
  },
  {
   "cell_type": "code",
   "execution_count": 25,
   "metadata": {},
   "outputs": [
    {
     "data": {
      "text/plain": [
       "<tf.Variable 'conv2d_2/bias:0' shape=(32,) dtype=float32, numpy=\n",
       "array([0., 0., 0., 0., 0., 0., 0., 0., 0., 0., 0., 0., 0., 0., 0., 0., 0.,\n",
       "       0., 0., 0., 0., 0., 0., 0., 0., 0., 0., 0., 0., 0., 0., 0.],\n",
       "      dtype=float32)>"
      ]
     },
     "execution_count": 25,
     "metadata": {},
     "output_type": "execute_result"
    }
   ],
   "source": [
    "model_.layers[0].weights[1]"
   ]
  },
  {
   "cell_type": "code",
   "execution_count": 26,
   "metadata": {},
   "outputs": [
    {
     "data": {
      "text/plain": [
       "TensorShape([None, 254, 254, 32])"
      ]
     },
     "execution_count": 26,
     "metadata": {},
     "output_type": "execute_result"
    }
   ],
   "source": [
    "model_.layers[0].output.shape"
   ]
  },
  {
   "cell_type": "code",
   "execution_count": 27,
   "metadata": {},
   "outputs": [
    {
     "name": "stdout",
     "output_type": "stream",
     "text": [
      "판교\tNNG,*,F,판교,*,*,*,*\n",
      "의\tJKG,*,F,의,*,*,*,*\n",
      "맛집\tNNG,*,T,맛집,Compound,*,*,맛/NNG/*+집/NNG/*\n",
      "을\tJKO,*,T,을,*,*,*,*\n",
      "알려\tVV+EC,*,F,알려,Inflect,VV,EC,알리/VV/*+어/EC/*\n",
      "주\tVX,*,F,주,*,*,*,*\n",
      "세요\tEP+EF,*,F,세요,Inflect,EP,EF,시/EP/*+어요/EF/*\n",
      ".\tSF,*,*,*,*,*,*,*\n",
      "EOS\n",
      "\n"
     ]
    }
   ],
   "source": [
    "import MeCab\n",
    "m = MeCab.Tagger()\n",
    "te = m.parse('판교의 맛집을 알려주세요.')\n",
    "print(te)"
   ]
  },
  {
   "cell_type": "code",
   "execution_count": null,
   "metadata": {},
   "outputs": [],
   "source": []
  }
 ],
 "metadata": {
  "kernelspec": {
   "display_name": "Python 3",
   "language": "python",
   "name": "python3"
  },
  "language_info": {
   "codemirror_mode": {
    "name": "ipython",
    "version": 3
   },
   "file_extension": ".py",
   "mimetype": "text/x-python",
   "name": "python",
   "nbconvert_exporter": "python",
   "pygments_lexer": "ipython3",
   "version": "3.7.4"
  }
 },
 "nbformat": 4,
 "nbformat_minor": 2
}
