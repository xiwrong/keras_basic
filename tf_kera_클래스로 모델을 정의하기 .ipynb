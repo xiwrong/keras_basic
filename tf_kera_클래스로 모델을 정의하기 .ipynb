{
 "cells": [
  {
   "cell_type": "code",
   "execution_count": 1,
   "metadata": {},
   "outputs": [],
   "source": [
    "import tensorflow as tf"
   ]
  },
  {
   "cell_type": "code",
   "execution_count": 2,
   "metadata": {},
   "outputs": [],
   "source": [
    "class LeNet(tf.keras.Model):\n",
    "    def __init__(self):\n",
    "        super(LeNet, self).__init__()\n",
    "        self.conv2d_1 = tf.keras.layers.Conv2D(filters=6, \n",
    "                           kernel_size=(3, 3), activation='relu', \n",
    "                           input_shape=(32,32,1))\n",
    "        self.average_pool = tf.keras.layers.AveragePooling2D()\n",
    "        self.conv2d_2 = tf.keras.layers.Conv2D(filters=16, \n",
    "                           kernel_size=(3, 3), activation='relu')\n",
    "        self.flatten = tf.keras.layers.Flatten()\n",
    "        self.fc_1 = tf.keras.layers.Dense(120, activation='relu')\n",
    "        self.fc_2 = tf.keras.layers.Dense(84, activation='relu')\n",
    "        self.out = tf.keras.layers.Dense(10, activation='softmax')\n",
    "        \n",
    "    def call(self, input):\n",
    "        x = self.conv2d_1(input)\n",
    "        x = self.average_pool(x)\n",
    "        x = self.conv2d_2(x)\n",
    "        x = self.average_pool(x)\n",
    "        x = self.flatten(x)\n",
    "        x = self.fc_2(self.fc_1(x))\n",
    "        return self.out(x)\n",
    "    \n",
    "lenet = LeNet()"
   ]
  },
  {
   "cell_type": "code",
   "execution_count": null,
   "metadata": {},
   "outputs": [],
   "source": []
  },
  {
   "cell_type": "code",
   "execution_count": null,
   "metadata": {},
   "outputs": [],
   "source": []
  }
 ],
 "metadata": {
  "kernelspec": {
   "display_name": "tensorcpu",
   "language": "python",
   "name": "tensorcpu"
  },
  "language_info": {
   "codemirror_mode": {
    "name": "ipython",
    "version": 3
   },
   "file_extension": ".py",
   "mimetype": "text/x-python",
   "name": "python",
   "nbconvert_exporter": "python",
   "pygments_lexer": "ipython3",
   "version": "3.7.4"
  }
 },
 "nbformat": 4,
 "nbformat_minor": 2
}
