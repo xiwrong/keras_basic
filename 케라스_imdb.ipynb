{
 "cells": [
  {
   "cell_type": "code",
   "execution_count": 1,
   "metadata": {},
   "outputs": [
    {
     "name": "stderr",
     "output_type": "stream",
     "text": [
      "Using TensorFlow backend.\n"
     ]
    }
   ],
   "source": [
    "from keras import models"
   ]
  },
  {
   "cell_type": "code",
   "execution_count": 3,
   "metadata": {},
   "outputs": [],
   "source": [
    "from keras import layers"
   ]
  },
  {
   "cell_type": "code",
   "execution_count": null,
   "metadata": {},
   "outputs": [],
   "source": []
  },
  {
   "cell_type": "code",
   "execution_count": 20,
   "metadata": {},
   "outputs": [],
   "source": [
    "from keras.datasets import imdb"
   ]
  },
  {
   "cell_type": "code",
   "execution_count": 22,
   "metadata": {},
   "outputs": [],
   "source": [
    "(train_data, train_labels), (test_data, test_lables) = imdb.load_data(num_words=10000)"
   ]
  },
  {
   "cell_type": "markdown",
   "metadata": {},
   "source": [
    "## 내부의 리스트를 차원 데이터로 변형하기"
   ]
  },
  {
   "cell_type": "code",
   "execution_count": 23,
   "metadata": {},
   "outputs": [],
   "source": [
    "import numpy as np"
   ]
  },
  {
   "cell_type": "code",
   "execution_count": 24,
   "metadata": {},
   "outputs": [],
   "source": [
    "def vectorize_sequences(sequences, dimension=10000) :\n",
    "    results = np.zeros((len(sequences), dimension))\n",
    "    for i , sequence in enumerate(sequences) :\n",
    "        results[i, sequence] = 1.\n",
    "    return results"
   ]
  },
  {
   "cell_type": "code",
   "execution_count": 26,
   "metadata": {},
   "outputs": [],
   "source": [
    "X_train = vectorize_sequences(train_data)"
   ]
  },
  {
   "cell_type": "code",
   "execution_count": 27,
   "metadata": {},
   "outputs": [],
   "source": [
    "X_test = vectorize_sequences(test_data)"
   ]
  },
  {
   "cell_type": "markdown",
   "metadata": {},
   "source": [
    "# 1. 모델과 레이어 지정하기"
   ]
  },
  {
   "cell_type": "markdown",
   "metadata": {},
   "source": [
    "## 모델을 정의 "
   ]
  },
  {
   "cell_type": "code",
   "execution_count": 4,
   "metadata": {},
   "outputs": [],
   "source": [
    "model = models.Sequential()"
   ]
  },
  {
   "cell_type": "code",
   "execution_count": 5,
   "metadata": {},
   "outputs": [
    {
     "data": {
      "text/plain": [
       "<keras.engine.sequential.Sequential at 0x6386199d0>"
      ]
     },
     "execution_count": 5,
     "metadata": {},
     "output_type": "execute_result"
    }
   ],
   "source": [
    "model"
   ]
  },
  {
   "cell_type": "markdown",
   "metadata": {},
   "source": [
    "## 레이어 정의"
   ]
  },
  {
   "cell_type": "code",
   "execution_count": 6,
   "metadata": {},
   "outputs": [],
   "source": [
    "model.add(layers.Dense(16, activation='relu', input_shape=(10000,)))"
   ]
  },
  {
   "cell_type": "code",
   "execution_count": 7,
   "metadata": {},
   "outputs": [],
   "source": [
    "model.add(layers.Dense(16, activation='relu'))"
   ]
  },
  {
   "cell_type": "code",
   "execution_count": 8,
   "metadata": {},
   "outputs": [],
   "source": [
    "model.add(layers.Dense(1, activation='sigmoid'))"
   ]
  },
  {
   "cell_type": "markdown",
   "metadata": {},
   "source": [
    "# 2. 모델 컴파일을 통해 백엔드 프레임워크와 일치하기"
   ]
  },
  {
   "cell_type": "code",
   "execution_count": 12,
   "metadata": {},
   "outputs": [],
   "source": [
    "model.compile(optimizer='rmsprop', loss='binary_crossentropy', metrics=['accuracy'])"
   ]
  },
  {
   "cell_type": "markdown",
   "metadata": {},
   "source": [
    "##  손실함수, 최적화 함수, 정확도 함수를 직접 지정하기"
   ]
  },
  {
   "cell_type": "code",
   "execution_count": 13,
   "metadata": {},
   "outputs": [],
   "source": [
    "from keras import optimizers"
   ]
  },
  {
   "cell_type": "code",
   "execution_count": 15,
   "metadata": {},
   "outputs": [],
   "source": [
    "from keras import losses"
   ]
  },
  {
   "cell_type": "code",
   "execution_count": 18,
   "metadata": {},
   "outputs": [],
   "source": [
    "from keras import metrics"
   ]
  },
  {
   "cell_type": "code",
   "execution_count": 30,
   "metadata": {},
   "outputs": [],
   "source": [
    "model.compile(optimizer=optimizers.RMSprop(lr=0.001), loss= losses.binary_crossentropy, metrics = [metrics.binary_accuracy ])"
   ]
  },
  {
   "cell_type": "code",
   "execution_count": null,
   "metadata": {},
   "outputs": [],
   "source": []
  },
  {
   "cell_type": "code",
   "execution_count": 31,
   "metadata": {},
   "outputs": [
    {
     "name": "stdout",
     "output_type": "stream",
     "text": [
      "Train on 20000 samples, validate on 5000 samples\n",
      "Epoch 1/20\n",
      "20000/20000 [==============================] - 2s 124us/step - loss: 0.0095 - binary_accuracy: 0.9976 - val_loss: 0.7685 - val_binary_accuracy: 0.8710\n",
      "Epoch 2/20\n",
      "20000/20000 [==============================] - 2s 114us/step - loss: 0.0047 - binary_accuracy: 0.9991 - val_loss: 0.7984 - val_binary_accuracy: 0.8708\n",
      "Epoch 3/20\n",
      "20000/20000 [==============================] - 2s 113us/step - loss: 0.0019 - binary_accuracy: 0.9999 - val_loss: 0.8318 - val_binary_accuracy: 0.8680\n",
      "Epoch 4/20\n",
      "20000/20000 [==============================] - 2s 114us/step - loss: 0.0031 - binary_accuracy: 0.9991 - val_loss: 0.8700 - val_binary_accuracy: 0.8706\n",
      "Epoch 5/20\n",
      "20000/20000 [==============================] - 2s 113us/step - loss: 0.0011 - binary_accuracy: 0.9999 - val_loss: 0.9125 - val_binary_accuracy: 0.8664\n",
      "Epoch 6/20\n",
      "20000/20000 [==============================] - 2s 113us/step - loss: 0.0032 - binary_accuracy: 0.9991 - val_loss: 0.9414 - val_binary_accuracy: 0.8682\n",
      "Epoch 7/20\n",
      "20000/20000 [==============================] - 2s 115us/step - loss: 9.2189e-04 - binary_accuracy: 0.9998 - val_loss: 0.9746 - val_binary_accuracy: 0.8654\n",
      "Epoch 8/20\n",
      "20000/20000 [==============================] - 2s 115us/step - loss: 5.9211e-04 - binary_accuracy: 0.9999 - val_loss: 1.0007 - val_binary_accuracy: 0.8656\n",
      "Epoch 9/20\n",
      "20000/20000 [==============================] - 2s 116us/step - loss: 0.0021 - binary_accuracy: 0.9994 - val_loss: 1.0197 - val_binary_accuracy: 0.8648\n",
      "Epoch 10/20\n",
      "20000/20000 [==============================] - 2s 114us/step - loss: 2.7372e-04 - binary_accuracy: 1.0000 - val_loss: 1.0609 - val_binary_accuracy: 0.8634\n",
      "Epoch 11/20\n",
      "20000/20000 [==============================] - 2s 115us/step - loss: 2.0187e-04 - binary_accuracy: 1.0000 - val_loss: 1.1608 - val_binary_accuracy: 0.8626\n",
      "Epoch 12/20\n",
      "20000/20000 [==============================] - 2s 115us/step - loss: 0.0010 - binary_accuracy: 0.9998 - val_loss: 1.1139 - val_binary_accuracy: 0.8656\n",
      "Epoch 13/20\n",
      "20000/20000 [==============================] - 2s 115us/step - loss: 1.1166e-04 - binary_accuracy: 1.0000 - val_loss: 1.1537 - val_binary_accuracy: 0.8644\n",
      "Epoch 14/20\n",
      "20000/20000 [==============================] - 2s 115us/step - loss: 6.3250e-04 - binary_accuracy: 0.9998 - val_loss: 1.2092 - val_binary_accuracy: 0.8644\n",
      "Epoch 15/20\n",
      "20000/20000 [==============================] - 2s 116us/step - loss: 5.5632e-05 - binary_accuracy: 1.0000 - val_loss: 1.2373 - val_binary_accuracy: 0.8650\n",
      "Epoch 16/20\n",
      "20000/20000 [==============================] - 2s 115us/step - loss: 4.4151e-05 - binary_accuracy: 1.0000 - val_loss: 1.2896 - val_binary_accuracy: 0.8630\n",
      "Epoch 17/20\n",
      "20000/20000 [==============================] - 2s 115us/step - loss: 0.0018 - binary_accuracy: 0.9995 - val_loss: 1.3334 - val_binary_accuracy: 0.8624\n",
      "Epoch 18/20\n",
      "20000/20000 [==============================] - 2s 115us/step - loss: 2.1671e-05 - binary_accuracy: 1.0000 - val_loss: 1.3549 - val_binary_accuracy: 0.8626\n",
      "Epoch 19/20\n",
      "20000/20000 [==============================] - 2s 114us/step - loss: 1.7574e-05 - binary_accuracy: 1.0000 - val_loss: 1.3769 - val_binary_accuracy: 0.8622\n",
      "Epoch 20/20\n",
      "20000/20000 [==============================] - 2s 113us/step - loss: 1.3275e-05 - binary_accuracy: 1.0000 - val_loss: 1.4559 - val_binary_accuracy: 0.8640\n"
     ]
    }
   ],
   "source": [
    "history = model.fit(X_train, train_labels, epochs=20, batch_size=512, validation_split=0.2)"
   ]
  },
  {
   "cell_type": "code",
   "execution_count": 37,
   "metadata": {},
   "outputs": [
    {
     "data": {
      "text/plain": [
       "dict_keys(['val_loss', 'val_binary_accuracy', 'loss', 'binary_accuracy'])"
      ]
     },
     "execution_count": 37,
     "metadata": {},
     "output_type": "execute_result"
    }
   ],
   "source": [
    "history.history.keys()"
   ]
  },
  {
   "cell_type": "code",
   "execution_count": 38,
   "metadata": {},
   "outputs": [],
   "source": [
    "import matplotlib.pyplot as plt\n",
    "%matplotlib inline\n",
    "\n",
    "loss = history.history['loss']\n",
    "val_loss = history.history['val_loss']\n",
    "\n",
    "acc = history.history['binary_accuracy']\n",
    "val_acc = history.history['val_binary_accuracy']\n",
    "epochs = range(1, len(loss) + 1)"
   ]
  },
  {
   "cell_type": "code",
   "execution_count": 39,
   "metadata": {},
   "outputs": [
    {
     "data": {
      "text/plain": [
       "<matplotlib.legend.Legend at 0x63bd992d0>"
      ]
     },
     "execution_count": 39,
     "metadata": {},
     "output_type": "execute_result"
    },
    {
     "data": {
      "image/png": "[encoded data removed]",
      "text/plain": [
       "<Figure size 432x288 with 1 Axes>"
      ]
     },
     "metadata": {
      "needs_background": "light"
     },
     "output_type": "display_data"
    }
   ],
   "source": [
    "plt.plot(epochs, loss, 'bo', label='Tranining loss ')\n",
    "plt.plot(epochs, val_loss, 'r', label='Validation loss')\n",
    "plt.legend()"
   ]
  },
  {
   "cell_type": "code",
   "execution_count": 40,
   "metadata": {},
   "outputs": [
    {
     "data": {
      "text/plain": [
       "<matplotlib.legend.Legend at 0x63bfc0b50>"
      ]
     },
     "execution_count": 40,
     "metadata": {},
     "output_type": "execute_result"
    },
    {
     "data": {
      "image/png": "[encoded data removed]",
      "text/plain": [
       "<Figure size 432x288 with 1 Axes>"
      ]
     },
     "metadata": {
      "needs_background": "light"
     },
     "output_type": "display_data"
    }
   ],
   "source": [
    "plt.plot(epochs, acc, 'bo', label='Tranining accuracy ')\n",
    "plt.plot(epochs, val_acc, 'r', label='Validation accuracy ')\n",
    "plt.legend()"
   ]
  },
  {
   "cell_type": "code",
   "execution_count": 41,
   "metadata": {},
   "outputs": [
    {
     "name": "stdout",
     "output_type": "stream",
     "text": [
      "Train on 20000 samples, validate on 5000 samples\n",
      "Epoch 1/4\n",
      "20000/20000 [==============================] - 2s 112us/step - loss: 0.0014 - binary_accuracy: 0.9994 - val_loss: 1.4588 - val_binary_accuracy: 0.8642\n",
      "Epoch 2/4\n",
      "20000/20000 [==============================] - 2s 107us/step - loss: 8.8715e-06 - binary_accuracy: 1.0000 - val_loss: 1.4628 - val_binary_accuracy: 0.8626\n",
      "Epoch 3/4\n",
      "20000/20000 [==============================] - 2s 108us/step - loss: 6.8041e-06 - binary_accuracy: 1.0000 - val_loss: 1.4805 - val_binary_accuracy: 0.8622\n",
      "Epoch 4/4\n",
      "20000/20000 [==============================] - 2s 108us/step - loss: 5.3351e-06 - binary_accuracy: 1.0000 - val_loss: 1.5123 - val_binary_accuracy: 0.8620\n"
     ]
    }
   ],
   "source": [
    "history = model.fit(X_train, train_labels, epochs=4, batch_size=512, validation_split=0.2)"
   ]
  },
  {
   "cell_type": "code",
   "execution_count": 42,
   "metadata": {},
   "outputs": [],
   "source": [
    "loss = history.history['loss']\n",
    "val_loss = history.history['val_loss']\n",
    "\n",
    "acc = history.history['binary_accuracy']\n",
    "val_acc = history.history['val_binary_accuracy']\n",
    "epochs = range(1, len(loss) + 1)"
   ]
  },
  {
   "cell_type": "code",
   "execution_count": 43,
   "metadata": {},
   "outputs": [
    {
     "data": {
      "text/plain": [
       "<matplotlib.legend.Legend at 0x63c098f90>"
      ]
     },
     "execution_count": 43,
     "metadata": {},
     "output_type": "execute_result"
    },
    {
     "data": {
      "image/png": "[encoded data removed]",
      "text/plain": [
       "<Figure size 432x288 with 1 Axes>"
      ]
     },
     "metadata": {
      "needs_background": "light"
     },
     "output_type": "display_data"
    }
   ],
   "source": [
    "plt.plot(epochs, loss, 'bo', label='Tranining loss ')\n",
    "plt.plot(epochs, val_loss, 'r', label='Validation loss')\n",
    "plt.legend()"
   ]
  },
  {
   "cell_type": "code",
   "execution_count": 44,
   "metadata": {},
   "outputs": [
    {
     "data": {
      "text/plain": [
       "<matplotlib.legend.Legend at 0x63befcdd0>"
      ]
     },
     "execution_count": 44,
     "metadata": {},
     "output_type": "execute_result"
    },
    {
     "data": {
      "image/png": "[encoded data removed]",
      "text/plain": [
       "<Figure size 432x288 with 1 Axes>"
      ]
     },
     "metadata": {
      "needs_background": "light"
     },
     "output_type": "display_data"
    }
   ],
   "source": [
    "plt.plot(epochs, acc, 'bo', label='Tranining accuracy ')\n",
    "plt.plot(epochs, val_acc, 'r', label='Validation accuracy ')\n",
    "plt.legend()"
   ]
  },
  {
   "cell_type": "code",
   "execution_count": 46,
   "metadata": {},
   "outputs": [
    {
     "data": {
      "text/plain": [
       "array([[1.2106657e-02],\n",
       "       [1.0000000e+00],\n",
       "       [9.9999726e-01],\n",
       "       ...,\n",
       "       [2.5421381e-04],\n",
       "       [4.1723251e-07],\n",
       "       [1.4571396e-01]], dtype=float32)"
      ]
     },
     "execution_count": 46,
     "metadata": {},
     "output_type": "execute_result"
    }
   ],
   "source": [
    "model.predict(X_test)"
   ]
  },
  {
   "cell_type": "code",
   "execution_count": null,
   "metadata": {},
   "outputs": [],
   "source": []
  }
 ],
 "metadata": {
  "kernelspec": {
   "display_name": "Python 3",
   "language": "python",
   "name": "python3"
  },
  "language_info": {
   "codemirror_mode": {
    "name": "ipython",
    "version": 3
   },
   "file_extension": ".py",
   "mimetype": "text/x-python",
   "name": "python",
   "nbconvert_exporter": "python",
   "pygments_lexer": "ipython3",
   "version": "3.7.4"
  }
 },
 "nbformat": 4,
 "nbformat_minor": 2
}
