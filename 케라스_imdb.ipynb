{
 "cells": [
  {
   "cell_type": "code",
   "execution_count": 1,
   "metadata": {},
   "outputs": [
    {
     "name": "stderr",
     "output_type": "stream",
     "text": [
      "Using TensorFlow backend.\n"
     ]
    }
   ],
   "source": [
    "from keras import models"
   ]
  },
  {
   "cell_type": "code",
   "execution_count": 2,
   "metadata": {},
   "outputs": [],
   "source": [
    "from keras import layers"
   ]
  },
  {
   "cell_type": "code",
   "execution_count": null,
   "metadata": {},
   "outputs": [],
   "source": []
  },
  {
   "cell_type": "code",
   "execution_count": 3,
   "metadata": {},
   "outputs": [],
   "source": [
    "from keras.datasets import imdb"
   ]
  },
  {
   "cell_type": "code",
   "execution_count": 4,
   "metadata": {},
   "outputs": [],
   "source": [
    "(train_data, train_labels), (test_data, test_lables) = imdb.load_data(num_words=10000)"
   ]
  },
  {
   "cell_type": "markdown",
   "metadata": {},
   "source": [
    "## 내부의 리스트를 차원 데이터로 변형하기"
   ]
  },
  {
   "cell_type": "code",
   "execution_count": 5,
   "metadata": {},
   "outputs": [],
   "source": [
    "import numpy as np"
   ]
  },
  {
   "cell_type": "code",
   "execution_count": 6,
   "metadata": {},
   "outputs": [],
   "source": [
    "def vectorize_sequences(sequences, dimension=10000) :\n",
    "    results = np.zeros((len(sequences), dimension))\n",
    "    for i , sequence in enumerate(sequences) :\n",
    "        results[i, sequence] = 1.\n",
    "    return results"
   ]
  },
  {
   "cell_type": "code",
   "execution_count": 7,
   "metadata": {},
   "outputs": [],
   "source": [
    "X_train = vectorize_sequences(train_data)"
   ]
  },
  {
   "cell_type": "code",
   "execution_count": 8,
   "metadata": {},
   "outputs": [],
   "source": [
    "X_test = vectorize_sequences(test_data)"
   ]
  },
  {
   "cell_type": "markdown",
   "metadata": {},
   "source": [
    "# 1. 모델과 레이어 지정하기"
   ]
  },
  {
   "cell_type": "markdown",
   "metadata": {},
   "source": [
    "## 모델을 정의 "
   ]
  },
  {
   "cell_type": "code",
   "execution_count": 9,
   "metadata": {},
   "outputs": [],
   "source": [
    "model = models.Sequential()"
   ]
  },
  {
   "cell_type": "code",
   "execution_count": 10,
   "metadata": {},
   "outputs": [
    {
     "data": {
      "text/plain": [
       "<keras.engine.sequential.Sequential at 0x211dc4292c8>"
      ]
     },
     "execution_count": 10,
     "metadata": {},
     "output_type": "execute_result"
    }
   ],
   "source": [
    "model"
   ]
  },
  {
   "cell_type": "markdown",
   "metadata": {},
   "source": [
    "## 레이어 정의"
   ]
  },
  {
   "cell_type": "code",
   "execution_count": 11,
   "metadata": {},
   "outputs": [],
   "source": [
    "model.add(layers.Dense(16, activation='relu', input_shape=(10000,)))"
   ]
  },
  {
   "cell_type": "code",
   "execution_count": 12,
   "metadata": {},
   "outputs": [],
   "source": [
    "model.add(layers.Dense(16, activation='relu'))"
   ]
  },
  {
   "cell_type": "code",
   "execution_count": 13,
   "metadata": {},
   "outputs": [],
   "source": [
    "model.add(layers.Dense(1, activation='sigmoid'))"
   ]
  },
  {
   "cell_type": "markdown",
   "metadata": {},
   "source": [
    "# 2. 모델 컴파일을 통해 백엔드 프레임워크와 일치하기"
   ]
  },
  {
   "cell_type": "code",
   "execution_count": 14,
   "metadata": {},
   "outputs": [],
   "source": [
    "model.compile(optimizer='rmsprop', loss='binary_crossentropy', metrics=['accuracy'])"
   ]
  },
  {
   "cell_type": "markdown",
   "metadata": {},
   "source": [
    "##  손실함수, 최적화 함수, 정확도 함수를 직접 지정하기"
   ]
  },
  {
   "cell_type": "code",
   "execution_count": 15,
   "metadata": {},
   "outputs": [],
   "source": [
    "from keras import optimizers"
   ]
  },
  {
   "cell_type": "code",
   "execution_count": 16,
   "metadata": {},
   "outputs": [],
   "source": [
    "from keras import losses"
   ]
  },
  {
   "cell_type": "code",
   "execution_count": 17,
   "metadata": {},
   "outputs": [],
   "source": [
    "from keras import metrics"
   ]
  },
  {
   "cell_type": "code",
   "execution_count": 18,
   "metadata": {},
   "outputs": [],
   "source": [
    "model.compile(optimizer=optimizers.RMSprop(lr=0.001), loss= losses.binary_crossentropy, metrics = [metrics.binary_accuracy ])"
   ]
  },
  {
   "cell_type": "code",
   "execution_count": null,
   "metadata": {},
   "outputs": [],
   "source": []
  },
  {
   "cell_type": "code",
   "execution_count": 19,
   "metadata": {},
   "outputs": [
    {
     "name": "stdout",
     "output_type": "stream",
     "text": [
      "Train on 20000 samples, validate on 5000 samples\n",
      "Epoch 1/20\n",
      "20000/20000 [==============================] - 2s 82us/step - loss: 0.4824 - binary_accuracy: 0.8029 - val_loss: 0.3457 - val_binary_accuracy: 0.8794\n",
      "Epoch 2/20\n",
      "20000/20000 [==============================] - 1s 72us/step - loss: 0.2768 - binary_accuracy: 0.9058 - val_loss: 0.2860 - val_binary_accuracy: 0.8882\n",
      "Epoch 3/20\n",
      "20000/20000 [==============================] - 1s 72us/step - loss: 0.2067 - binary_accuracy: 0.9295 - val_loss: 0.3230 - val_binary_accuracy: 0.8708\n",
      "Epoch 4/20\n",
      "20000/20000 [==============================] - 1s 71us/step - loss: 0.1686 - binary_accuracy: 0.9409 - val_loss: 0.2736 - val_binary_accuracy: 0.8926\n",
      "Epoch 5/20\n",
      "20000/20000 [==============================] - 1s 72us/step - loss: 0.1426 - binary_accuracy: 0.9499 - val_loss: 0.3070 - val_binary_accuracy: 0.8856\n",
      "Epoch 6/20\n",
      "20000/20000 [==============================] - 1s 71us/step - loss: 0.1215 - binary_accuracy: 0.9584 - val_loss: 0.3238 - val_binary_accuracy: 0.8796\n",
      "Epoch 7/20\n",
      "20000/20000 [==============================] - 1s 72us/step - loss: 0.1039 - binary_accuracy: 0.9656 - val_loss: 0.3314 - val_binary_accuracy: 0.8838\n",
      "Epoch 8/20\n",
      "20000/20000 [==============================] - 1s 73us/step - loss: 0.0902 - binary_accuracy: 0.9703 - val_loss: 0.4058 - val_binary_accuracy: 0.8748\n",
      "Epoch 9/20\n",
      "20000/20000 [==============================] - 1s 73us/step - loss: 0.0775 - binary_accuracy: 0.9759 - val_loss: 0.4058 - val_binary_accuracy: 0.8730\n",
      "Epoch 10/20\n",
      "20000/20000 [==============================] - 1s 72us/step - loss: 0.0694 - binary_accuracy: 0.9785 - val_loss: 0.4194 - val_binary_accuracy: 0.8772\n",
      "Epoch 11/20\n",
      "20000/20000 [==============================] - 1s 71us/step - loss: 0.0565 - binary_accuracy: 0.9832 - val_loss: 0.4339 - val_binary_accuracy: 0.8768\n",
      "Epoch 12/20\n",
      "20000/20000 [==============================] - 1s 72us/step - loss: 0.0501 - binary_accuracy: 0.9858 - val_loss: 0.4645 - val_binary_accuracy: 0.8744\n",
      "Epoch 13/20\n",
      "20000/20000 [==============================] - 1s 73us/step - loss: 0.0447 - binary_accuracy: 0.9872 - val_loss: 0.5018 - val_binary_accuracy: 0.8730\n",
      "Epoch 14/20\n",
      "20000/20000 [==============================] - 1s 74us/step - loss: 0.0331 - binary_accuracy: 0.9918 - val_loss: 0.5285 - val_binary_accuracy: 0.8736\n",
      "Epoch 15/20\n",
      "20000/20000 [==============================] - 1s 73us/step - loss: 0.0328 - binary_accuracy: 0.9911 - val_loss: 0.5756 - val_binary_accuracy: 0.8714\n",
      "Epoch 16/20\n",
      "20000/20000 [==============================] - 1s 71us/step - loss: 0.0245 - binary_accuracy: 0.9939 - val_loss: 0.5923 - val_binary_accuracy: 0.8662\n",
      "Epoch 17/20\n",
      "20000/20000 [==============================] - 1s 72us/step - loss: 0.0215 - binary_accuracy: 0.9952 - val_loss: 0.6294 - val_binary_accuracy: 0.8670\n",
      "Epoch 18/20\n",
      "20000/20000 [==============================] - 1s 71us/step - loss: 0.0174 - binary_accuracy: 0.9962 - val_loss: 0.6679 - val_binary_accuracy: 0.8678\n",
      "Epoch 19/20\n",
      "20000/20000 [==============================] - 1s 71us/step - loss: 0.0170 - binary_accuracy: 0.9957 - val_loss: 0.7137 - val_binary_accuracy: 0.8672\n",
      "Epoch 20/20\n",
      "20000/20000 [==============================] - 1s 71us/step - loss: 0.0131 - binary_accuracy: 0.9969 - val_loss: 0.7485 - val_binary_accuracy: 0.8660\n"
     ]
    }
   ],
   "source": [
    "history = model.fit(X_train, train_labels, epochs=20, batch_size=512, validation_split=0.2)"
   ]
  },
  {
   "cell_type": "code",
   "execution_count": 20,
   "metadata": {},
   "outputs": [
    {
     "data": {
      "text/plain": [
       "dict_keys(['val_loss', 'val_binary_accuracy', 'loss', 'binary_accuracy'])"
      ]
     },
     "execution_count": 20,
     "metadata": {},
     "output_type": "execute_result"
    }
   ],
   "source": [
    "history.history.keys()"
   ]
  },
  {
   "cell_type": "code",
   "execution_count": 21,
   "metadata": {},
   "outputs": [],
   "source": [
    "import matplotlib.pyplot as plt\n",
    "%matplotlib inline\n",
    "\n",
    "loss = history.history['loss']\n",
    "val_loss = history.history['val_loss']\n",
    "\n",
    "acc = history.history['binary_accuracy']\n",
    "val_acc = history.history['val_binary_accuracy']\n",
    "epochs = range(1, len(loss) + 1)"
   ]
  },
  {
   "cell_type": "code",
   "execution_count": 22,
   "metadata": {},
   "outputs": [
    {
     "data": {
      "text/plain": [
       "<matplotlib.legend.Legend at 0x211e9fb13c8>"
      ]
     },
     "execution_count": 22,
     "metadata": {},
     "output_type": "execute_result"
    },
    {
     "data": {
      "image/png": "[encoded data removed]",
      "text/plain": [
       "<Figure size 432x288 with 1 Axes>"
      ]
     },
     "metadata": {
      "needs_background": "light"
     },
     "output_type": "display_data"
    }
   ],
   "source": [
    "plt.plot(epochs, loss, 'bo', label='Tranining loss ')\n",
    "plt.plot(epochs, val_loss, 'r', label='Validation loss')\n",
    "plt.legend()"
   ]
  },
  {
   "cell_type": "code",
   "execution_count": 23,
   "metadata": {},
   "outputs": [
    {
     "data": {
      "text/plain": [
       "<matplotlib.legend.Legend at 0x211e78aeac8>"
      ]
     },
     "execution_count": 23,
     "metadata": {},
     "output_type": "execute_result"
    },
    {
     "data": {
      "image/png": "[encoded data removed]",
      "text/plain": [
       "<Figure size 432x288 with 1 Axes>"
      ]
     },
     "metadata": {
      "needs_background": "light"
     },
     "output_type": "display_data"
    }
   ],
   "source": [
    "plt.plot(epochs, acc, 'bo', label='Tranining accuracy ')\n",
    "plt.plot(epochs, val_acc, 'r', label='Validation accuracy ')\n",
    "plt.legend()"
   ]
  },
  {
   "cell_type": "code",
   "execution_count": 24,
   "metadata": {},
   "outputs": [
    {
     "name": "stdout",
     "output_type": "stream",
     "text": [
      "Train on 20000 samples, validate on 5000 samples\n",
      "Epoch 1/4\n",
      "20000/20000 [==============================] - 1s 72us/step - loss: 0.0103 - binary_accuracy: 0.9977 - val_loss: 0.7894 - val_binary_accuracy: 0.8638\n",
      "Epoch 2/4\n",
      "20000/20000 [==============================] - 1s 72us/step - loss: 0.0063 - binary_accuracy: 0.9991 - val_loss: 0.8269 - val_binary_accuracy: 0.8638\n",
      "Epoch 3/4\n",
      "20000/20000 [==============================] - 1s 72us/step - loss: 0.0078 - binary_accuracy: 0.9985 - val_loss: 0.8860 - val_binary_accuracy: 0.8598\n",
      "Epoch 4/4\n",
      "20000/20000 [==============================] - 1s 71us/step - loss: 0.0071 - binary_accuracy: 0.9983 - val_loss: 0.8966 - val_binary_accuracy: 0.8622\n"
     ]
    }
   ],
   "source": [
    "history = model.fit(X_train, train_labels, epochs=4, batch_size=512, validation_split=0.2)"
   ]
  },
  {
   "cell_type": "code",
   "execution_count": 25,
   "metadata": {},
   "outputs": [],
   "source": [
    "loss = history.history['loss']\n",
    "val_loss = history.history['val_loss']\n",
    "\n",
    "acc = history.history['binary_accuracy']\n",
    "val_acc = history.history['val_binary_accuracy']\n",
    "epochs = range(1, len(loss) + 1)"
   ]
  },
  {
   "cell_type": "code",
   "execution_count": 26,
   "metadata": {},
   "outputs": [
    {
     "data": {
      "text/plain": [
       "<matplotlib.legend.Legend at 0x211ccab6f08>"
      ]
     },
     "execution_count": 26,
     "metadata": {},
     "output_type": "execute_result"
    },
    {
     "data": {
      "image/png": "[encoded data removed]",
      "text/plain": [
       "<Figure size 432x288 with 1 Axes>"
      ]
     },
     "metadata": {
      "needs_background": "light"
     },
     "output_type": "display_data"
    }
   ],
   "source": [
    "plt.plot(epochs, loss, 'bo', label='Tranining loss ')\n",
    "plt.plot(epochs, val_loss, 'r', label='Validation loss')\n",
    "plt.legend()"
   ]
  },
  {
   "cell_type": "code",
   "execution_count": 27,
   "metadata": {},
   "outputs": [
    {
     "data": {
      "text/plain": [
       "<matplotlib.legend.Legend at 0x211ccb3d408>"
      ]
     },
     "execution_count": 27,
     "metadata": {},
     "output_type": "execute_result"
    },
    {
     "data": {
      "image/png": "[encoded data removed]",
      "text/plain": [
       "<Figure size 432x288 with 1 Axes>"
      ]
     },
     "metadata": {
      "needs_background": "light"
     },
     "output_type": "display_data"
    }
   ],
   "source": [
    "plt.plot(epochs, acc, 'bo', label='Tranining accuracy ')\n",
    "plt.plot(epochs, val_acc, 'r', label='Validation accuracy ')\n",
    "plt.legend()"
   ]
  },
  {
   "cell_type": "code",
   "execution_count": 28,
   "metadata": {},
   "outputs": [
    {
     "data": {
      "text/plain": [
       "array([[9.8274052e-03],\n",
       "       [1.0000000e+00],\n",
       "       [9.9057698e-01],\n",
       "       ...,\n",
       "       [3.6988527e-02],\n",
       "       [7.5072050e-04],\n",
       "       [1.2239397e-02]], dtype=float32)"
      ]
     },
     "execution_count": 28,
     "metadata": {},
     "output_type": "execute_result"
    }
   ],
   "source": [
    "model.predict(X_test)"
   ]
  },
  {
   "cell_type": "code",
   "execution_count": null,
   "metadata": {},
   "outputs": [],
   "source": []
  }
 ],
 "metadata": {
  "kernelspec": {
   "display_name": "tensorcpu",
   "language": "python",
   "name": "tensorcpu"
  },
  "language_info": {
   "codemirror_mode": {
    "name": "ipython",
    "version": 3
   },
   "file_extension": ".py",
   "mimetype": "text/x-python",
   "name": "python",
   "nbconvert_exporter": "python",
   "pygments_lexer": "ipython3",
   "version": "3.7.4"
  }
 },
 "nbformat": 4,
 "nbformat_minor": 2
}
