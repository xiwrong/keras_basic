{
 "cells": [
  {
   "cell_type": "code",
   "execution_count": 1,
   "metadata": {},
   "outputs": [
    {
     "name": "stderr",
     "output_type": "stream",
     "text": [
      "Using TensorFlow backend.\n"
     ]
    }
   ],
   "source": [
    "import keras"
   ]
  },
  {
   "cell_type": "code",
   "execution_count": 2,
   "metadata": {},
   "outputs": [
    {
     "data": {
      "text/plain": [
       "'2.3.1'"
      ]
     },
     "execution_count": 2,
     "metadata": {},
     "output_type": "execute_result"
    }
   ],
   "source": [
    "keras.__version__"
   ]
  },
  {
   "cell_type": "code",
   "execution_count": 3,
   "metadata": {},
   "outputs": [],
   "source": [
    "from keras.models import Sequential"
   ]
  },
  {
   "cell_type": "code",
   "execution_count": 4,
   "metadata": {},
   "outputs": [],
   "source": [
    "from keras.layers import Dense, Activation"
   ]
  },
  {
   "cell_type": "markdown",
   "metadata": {},
   "source": [
    "# 1. 시퀀스 계층 만들기"
   ]
  },
  {
   "cell_type": "code",
   "execution_count": 5,
   "metadata": {},
   "outputs": [],
   "source": [
    "model = Sequential()\n",
    "model.add(Dense(12, input_dim=8, kernel_initializer='random_uniform'))\n"
   ]
  },
  {
   "cell_type": "code",
   "execution_count": 6,
   "metadata": {},
   "outputs": [
    {
     "name": "stdout",
     "output_type": "stream",
     "text": [
      "Model: \"sequential_1\"\n",
      "_________________________________________________________________\n",
      "Layer (type)                 Output Shape              Param #   \n",
      "=================================================================\n",
      "dense_1 (Dense)              (None, 12)                108       \n",
      "=================================================================\n",
      "Total params: 108\n",
      "Trainable params: 108\n",
      "Non-trainable params: 0\n",
      "_________________________________________________________________\n"
     ]
    }
   ],
   "source": [
    "model.summary()"
   ]
  },
  {
   "cell_type": "code",
   "execution_count": 12,
   "metadata": {},
   "outputs": [],
   "source": [
    "import numpy as np"
   ]
  },
  {
   "cell_type": "code",
   "execution_count": 15,
   "metadata": {},
   "outputs": [],
   "source": [
    "data  = np.arange(1,81).reshape(-1,8)"
   ]
  },
  {
   "cell_type": "code",
   "execution_count": 16,
   "metadata": {},
   "outputs": [
    {
     "data": {
      "text/plain": [
       "(10, 8)"
      ]
     },
     "execution_count": 16,
     "metadata": {},
     "output_type": "execute_result"
    }
   ],
   "source": [
    "data.shape"
   ]
  },
  {
   "cell_type": "code",
   "execution_count": null,
   "metadata": {},
   "outputs": [],
   "source": []
  },
  {
   "cell_type": "markdown",
   "metadata": {},
   "source": [
    "## 내부의 레이어 계층 확인하기"
   ]
  },
  {
   "cell_type": "code",
   "execution_count": 7,
   "metadata": {},
   "outputs": [
    {
     "data": {
      "text/plain": [
       "[<keras.layers.core.Dense at 0x22d6f5e7748>]"
      ]
     },
     "execution_count": 7,
     "metadata": {},
     "output_type": "execute_result"
    }
   ],
   "source": [
    "model.layers"
   ]
  },
  {
   "cell_type": "code",
   "execution_count": 8,
   "metadata": {},
   "outputs": [
    {
     "data": {
      "text/plain": [
       "[<tf.Variable 'dense_1/kernel:0' shape=(8, 12) dtype=float32, numpy=\n",
       " array([[-0.01440911,  0.04220234,  0.02542125,  0.01494323,  0.0037371 ,\n",
       "          0.03511698,  0.03611522, -0.02423338,  0.04253422,  0.03639645,\n",
       "         -0.00385858,  0.03700617],\n",
       "        [ 0.00753331,  0.04918462,  0.04069423,  0.03476837, -0.03666069,\n",
       "         -0.0105173 , -0.03308015,  0.00113021,  0.02125316, -0.01414191,\n",
       "          0.01973629, -0.03026496],\n",
       "        [-0.02553747, -0.0463097 , -0.02180731,  0.02555492,  0.03867623,\n",
       "          0.01318933,  0.03507337,  0.03194636,  0.01951196, -0.03987273,\n",
       "          0.03308487,  0.0302071 ],\n",
       "        [ 0.04341171, -0.03945965, -0.03107902, -0.02109897,  0.04083728,\n",
       "          0.01745578,  0.02710417,  0.03741253, -0.04903371,  0.03053676,\n",
       "          0.03035723, -0.03560954],\n",
       "        [-0.02565582,  0.03377083, -0.03934014,  0.00839271,  0.04263765,\n",
       "          0.02965671, -0.01478163, -0.00897674, -0.01020616,  0.0044866 ,\n",
       "          0.03874704,  0.00557711],\n",
       "        [-0.02456225, -0.02325161, -0.0211059 ,  0.02212808,  0.03841814,\n",
       "          0.04003874, -0.04146598, -0.02132818, -0.04118741,  0.01579968,\n",
       "          0.01872791, -0.03965547],\n",
       "        [ 0.01486269,  0.015941  , -0.0416448 , -0.0474636 , -0.00200329,\n",
       "         -0.00683876,  0.0351702 ,  0.00043489, -0.03749374, -0.0114012 ,\n",
       "         -0.02067516,  0.03588377],\n",
       "        [ 0.03681442, -0.0065713 , -0.04253912,  0.040299  ,  0.02901374,\n",
       "          0.01029705, -0.03388729, -0.03487443, -0.01291943, -0.03350848,\n",
       "          0.03208573,  0.0193289 ]], dtype=float32)>,\n",
       " <tf.Variable 'dense_1/bias:0' shape=(12,) dtype=float32, numpy=array([0., 0., 0., 0., 0., 0., 0., 0., 0., 0., 0., 0.], dtype=float32)>]"
      ]
     },
     "execution_count": 8,
     "metadata": {},
     "output_type": "execute_result"
    }
   ],
   "source": [
    "model.layers[0].weights"
   ]
  },
  {
   "cell_type": "markdown",
   "metadata": {},
   "source": [
    "# 2.  메소드로 계층과 활성화함수 추가하기"
   ]
  },
  {
   "cell_type": "code",
   "execution_count": 9,
   "metadata": {},
   "outputs": [
    {
     "name": "stdout",
     "output_type": "stream",
     "text": [
      "Model: \"sequential_2\"\n",
      "_________________________________________________________________\n",
      "Layer (type)                 Output Shape              Param #   \n",
      "=================================================================\n",
      "dense_2 (Dense)              (None, 12)                108       \n",
      "_________________________________________________________________\n",
      "activation_1 (Activation)    (None, 12)                0         \n",
      "=================================================================\n",
      "Total params: 108\n",
      "Trainable params: 108\n",
      "Non-trainable params: 0\n",
      "_________________________________________________________________\n"
     ]
    }
   ],
   "source": [
    "model_ = Sequential()\n",
    "model_.add(Dense(12, input_shape=(8,)))\n",
    "model_.add(Activation('softmax'))\n",
    "model_.summary()\n"
   ]
  },
  {
   "cell_type": "code",
   "execution_count": 10,
   "metadata": {},
   "outputs": [
    {
     "data": {
      "text/plain": [
       "[<keras.layers.core.Dense at 0x22d6f747908>,\n",
       " <keras.layers.core.Activation at 0x22d6f747d88>]"
      ]
     },
     "execution_count": 10,
     "metadata": {},
     "output_type": "execute_result"
    }
   ],
   "source": [
    "model_.layers"
   ]
  },
  {
   "cell_type": "code",
   "execution_count": 11,
   "metadata": {},
   "outputs": [
    {
     "data": {
      "text/plain": [
       "[<tf.Variable 'dense_2/kernel:0' shape=(8, 12) dtype=float32, numpy=\n",
       " array([[-0.07991156, -0.07275996, -0.48287636, -0.16064319,  0.08437163,\n",
       "          0.43087727,  0.04610473,  0.13783288, -0.17014158,  0.14357978,\n",
       "          0.43289447,  0.53726375],\n",
       "        [ 0.11564726, -0.21306613, -0.439205  ,  0.2647348 ,  0.1606769 ,\n",
       "          0.09100872,  0.04086757,  0.45562494,  0.29641932,  0.47000444,\n",
       "         -0.41716328,  0.20200843],\n",
       "        [-0.18522206, -0.39942247,  0.13381577,  0.42531466, -0.05608788,\n",
       "          0.14881706, -0.4783536 ,  0.45464015,  0.13788837, -0.27525753,\n",
       "         -0.0297364 , -0.10810104],\n",
       "        [-0.19270694,  0.2764849 , -0.4413658 , -0.3336265 , -0.2154252 ,\n",
       "         -0.12645847, -0.22709396,  0.19615847, -0.03245944, -0.18231049,\n",
       "         -0.53580034, -0.21829891],\n",
       "        [-0.1021913 ,  0.14102823, -0.19631755, -0.37851065, -0.37660408,\n",
       "          0.2818331 ,  0.4153402 , -0.06481764,  0.27848577,  0.14361304,\n",
       "          0.3204347 ,  0.37871224],\n",
       "        [ 0.06128341,  0.2612279 ,  0.41354722,  0.33747035,  0.13360906,\n",
       "          0.46885812,  0.11962467, -0.171244  ,  0.39247787,  0.04750764,\n",
       "          0.26356608,  0.09156609],\n",
       "        [ 0.34857494, -0.49598953, -0.14091447, -0.24005017, -0.30297178,\n",
       "         -0.3708039 ,  0.14007115,  0.42240465, -0.3850788 , -0.10299781,\n",
       "          0.2034843 ,  0.2992264 ],\n",
       "        [-0.5059993 , -0.34619188,  0.3747257 , -0.08558846,  0.33890194,\n",
       "         -0.02843028, -0.03914601,  0.30745602, -0.5039231 ,  0.02235121,\n",
       "          0.14106846, -0.36434624]], dtype=float32)>,\n",
       " <tf.Variable 'dense_2/bias:0' shape=(12,) dtype=float32, numpy=array([0., 0., 0., 0., 0., 0., 0., 0., 0., 0., 0., 0.], dtype=float32)>]"
      ]
     },
     "execution_count": 11,
     "metadata": {},
     "output_type": "execute_result"
    }
   ],
   "source": [
    "model_.layers[0].weights"
   ]
  },
  {
   "cell_type": "code",
   "execution_count": null,
   "metadata": {},
   "outputs": [],
   "source": []
  },
  {
   "cell_type": "code",
   "execution_count": null,
   "metadata": {},
   "outputs": [],
   "source": []
  },
  {
   "cell_type": "code",
   "execution_count": null,
   "metadata": {},
   "outputs": [],
   "source": []
  }
 ],
 "metadata": {
  "kernelspec": {
   "display_name": "tensorcpu",
   "language": "python",
   "name": "tensorcpu"
  },
  "language_info": {
   "codemirror_mode": {
    "name": "ipython",
    "version": 3
   },
   "file_extension": ".py",
   "mimetype": "text/x-python",
   "name": "python",
   "nbconvert_exporter": "python",
   "pygments_lexer": "ipython3",
   "version": "3.7.4"
  }
 },
 "nbformat": 4,
 "nbformat_minor": 2
}
