{
 "cells": [
  {
   "cell_type": "code",
   "execution_count": 1,
   "metadata": {},
   "outputs": [
    {
     "name": "stderr",
     "output_type": "stream",
     "text": [
      "Using TensorFlow backend.\n"
     ]
    }
   ],
   "source": [
    "import keras"
   ]
  },
  {
   "cell_type": "code",
   "execution_count": 2,
   "metadata": {},
   "outputs": [
    {
     "data": {
      "text/plain": [
       "'2.3.1'"
      ]
     },
     "execution_count": 2,
     "metadata": {},
     "output_type": "execute_result"
    }
   ],
   "source": [
    "keras.__version__"
   ]
  },
  {
   "cell_type": "code",
   "execution_count": 4,
   "metadata": {},
   "outputs": [],
   "source": [
    "from keras.models import Sequential"
   ]
  },
  {
   "cell_type": "code",
   "execution_count": 6,
   "metadata": {},
   "outputs": [],
   "source": [
    "from keras.layers import Dense, Activation"
   ]
  },
  {
   "cell_type": "markdown",
   "metadata": {},
   "source": [
    "# 1. 시퀀스 계층 만들기"
   ]
  },
  {
   "cell_type": "code",
   "execution_count": 7,
   "metadata": {},
   "outputs": [],
   "source": [
    "model = Sequential()\n",
    "model.add(Dense(12, input_dim=8, kernel_initializer='random_uniform'))\n"
   ]
  },
  {
   "cell_type": "code",
   "execution_count": 8,
   "metadata": {},
   "outputs": [
    {
     "name": "stdout",
     "output_type": "stream",
     "text": [
      "Model: \"sequential_2\"\n",
      "_________________________________________________________________\n",
      "Layer (type)                 Output Shape              Param #   \n",
      "=================================================================\n",
      "dense_1 (Dense)              (None, 12)                108       \n",
      "=================================================================\n",
      "Total params: 108\n",
      "Trainable params: 108\n",
      "Non-trainable params: 0\n",
      "_________________________________________________________________\n"
     ]
    }
   ],
   "source": [
    "model.summary()"
   ]
  },
  {
   "cell_type": "markdown",
   "metadata": {},
   "source": [
    "## 내부의 레이어 계층 확인하기"
   ]
  },
  {
   "cell_type": "code",
   "execution_count": 10,
   "metadata": {},
   "outputs": [
    {
     "data": {
      "text/plain": [
       "[<keras.layers.core.Dense at 0x237065b0888>]"
      ]
     },
     "execution_count": 10,
     "metadata": {},
     "output_type": "execute_result"
    }
   ],
   "source": [
    "model.layers"
   ]
  },
  {
   "cell_type": "code",
   "execution_count": 12,
   "metadata": {},
   "outputs": [
    {
     "data": {
      "text/plain": [
       "[<tf.Variable 'dense_1/kernel:0' shape=(8, 12) dtype=float32, numpy=\n",
       " array([[-0.01199553,  0.02969868, -0.03747097,  0.0024299 ,  0.02118044,\n",
       "         -0.02428906,  0.00855792,  0.03477775, -0.01304255,  0.02479948,\n",
       "         -0.01126225,  0.00755959],\n",
       "        [-0.01559564, -0.04382278, -0.02794953,  0.03937641,  0.02934739,\n",
       "          0.01338217,  0.03672925,  0.04768998,  0.02251008, -0.01472584,\n",
       "          0.01559699, -0.04368353],\n",
       "        [-0.01552924,  0.00123898, -0.02323052,  0.00507188,  0.04711742,\n",
       "         -0.01211462, -0.02126412, -0.03511646,  0.04929955,  0.04594738,\n",
       "          0.00963097, -0.02761364],\n",
       "        [ 0.0095144 , -0.00113628,  0.03631571, -0.04032101,  0.04416616,\n",
       "         -0.01817931,  0.01727455,  0.00073228,  0.04642078, -0.03834692,\n",
       "          0.02665127,  0.02936066],\n",
       "        [-0.00298101, -0.00609473, -0.01822167, -0.01376383, -0.008469  ,\n",
       "         -0.03224071, -0.00557462,  0.02179665,  0.03527249, -0.0135102 ,\n",
       "          0.00997552,  0.04723761],\n",
       "        [-0.00434687,  0.02771795,  0.01551917, -0.04401238,  0.02861432,\n",
       "          0.03178729,  0.03181637,  0.03875307, -0.0417547 , -0.00089605,\n",
       "          0.00612332,  0.00668553],\n",
       "        [ 0.01347226, -0.00407549,  0.04545723,  0.03047012, -0.00048601,\n",
       "          0.03646221,  0.01162877,  0.01955063, -0.00814972, -0.031606  ,\n",
       "         -0.02663282,  0.03580625],\n",
       "        [ 0.01786851,  0.02533482, -0.01223692, -0.00343467,  0.00462011,\n",
       "         -0.02443728,  0.00707251,  0.01144904, -0.0235791 ,  0.02438918,\n",
       "         -0.01082987,  0.0059725 ]], dtype=float32)>,\n",
       " <tf.Variable 'dense_1/bias:0' shape=(12,) dtype=float32, numpy=array([0., 0., 0., 0., 0., 0., 0., 0., 0., 0., 0., 0.], dtype=float32)>]"
      ]
     },
     "execution_count": 12,
     "metadata": {},
     "output_type": "execute_result"
    }
   ],
   "source": [
    "model.layers[0].weights"
   ]
  },
  {
   "cell_type": "markdown",
   "metadata": {},
   "source": [
    "# 2.  메소드로 계층과 활성화함수 추가하기"
   ]
  },
  {
   "cell_type": "code",
   "execution_count": 14,
   "metadata": {},
   "outputs": [
    {
     "name": "stdout",
     "output_type": "stream",
     "text": [
      "Model: \"sequential_4\"\n",
      "_________________________________________________________________\n",
      "Layer (type)                 Output Shape              Param #   \n",
      "=================================================================\n",
      "dense_2 (Dense)              (None, 12)                108       \n",
      "_________________________________________________________________\n",
      "activation_1 (Activation)    (None, 12)                0         \n",
      "=================================================================\n",
      "Total params: 108\n",
      "Trainable params: 108\n",
      "Non-trainable params: 0\n",
      "_________________________________________________________________\n"
     ]
    }
   ],
   "source": [
    "model_ = Sequential()\n",
    "model_.add(Dense(12, input_shape=(8,)))\n",
    "model_.add(Activation('softmax'))\n",
    "model_.summary()\n"
   ]
  },
  {
   "cell_type": "code",
   "execution_count": 15,
   "metadata": {},
   "outputs": [
    {
     "data": {
      "text/plain": [
       "[<keras.layers.core.Dense at 0x23706c34c88>,\n",
       " <keras.layers.core.Activation at 0x23706c34fc8>]"
      ]
     },
     "execution_count": 15,
     "metadata": {},
     "output_type": "execute_result"
    }
   ],
   "source": [
    "model_.layers"
   ]
  },
  {
   "cell_type": "code",
   "execution_count": 16,
   "metadata": {},
   "outputs": [
    {
     "data": {
      "text/plain": [
       "[<tf.Variable 'dense_2/kernel:0' shape=(8, 12) dtype=float32, numpy=\n",
       " array([[ 0.16624159,  0.12568301, -0.05744442, -0.5286037 , -0.27228966,\n",
       "          0.15010309, -0.34479368,  0.35031044,  0.46488786, -0.3126222 ,\n",
       "          0.01715618, -0.29698148],\n",
       "        [-0.35481232,  0.2036193 , -0.5152052 ,  0.12329733,  0.14593619,\n",
       "          0.24694282,  0.30534953,  0.42255002, -0.37317118,  0.5268936 ,\n",
       "         -0.31107658,  0.35894138],\n",
       "        [ 0.3494358 , -0.30897632, -0.12504041,  0.31280094,  0.32135338,\n",
       "          0.5194117 ,  0.32148504, -0.3894233 ,  0.17137653,  0.25945085,\n",
       "          0.14183891,  0.32619137],\n",
       "        [-0.37323844, -0.08761713, -0.09979424, -0.10944071, -0.4879993 ,\n",
       "          0.19394618,  0.00884235, -0.25692374,  0.2842554 ,  0.40162158,\n",
       "          0.23916596, -0.3302687 ],\n",
       "        [ 0.50520873,  0.07539272, -0.42865694,  0.09973276, -0.3879261 ,\n",
       "         -0.28050008, -0.388479  , -0.34622803,  0.31701148, -0.38248348,\n",
       "         -0.34179068, -0.27139476],\n",
       "        [-0.4121384 ,  0.03735328, -0.46292248, -0.44099793, -0.04735225,\n",
       "         -0.48530605, -0.07007402, -0.44281495,  0.2881286 , -0.23932266,\n",
       "         -0.07271451,  0.10849422],\n",
       "        [-0.24690181, -0.08680159, -0.46829104,  0.33879447,  0.06872648,\n",
       "          0.46733236,  0.45790732,  0.40674895,  0.22219759, -0.07378295,\n",
       "          0.02676505,  0.31183475],\n",
       "        [-0.04333854,  0.32223785, -0.5288508 ,  0.32421088, -0.24441779,\n",
       "         -0.11207873,  0.31596756,  0.25380427,  0.5007217 ,  0.505064  ,\n",
       "         -0.53244036, -0.25344098]], dtype=float32)>,\n",
       " <tf.Variable 'dense_2/bias:0' shape=(12,) dtype=float32, numpy=array([0., 0., 0., 0., 0., 0., 0., 0., 0., 0., 0., 0.], dtype=float32)>]"
      ]
     },
     "execution_count": 16,
     "metadata": {},
     "output_type": "execute_result"
    }
   ],
   "source": [
    "model_.layers[0].weights"
   ]
  },
  {
   "cell_type": "code",
   "execution_count": null,
   "metadata": {},
   "outputs": [],
   "source": []
  }
 ],
 "metadata": {
  "kernelspec": {
   "display_name": "tensorcpu",
   "language": "python",
   "name": "tensorcpu"
  },
  "language_info": {
   "codemirror_mode": {
    "name": "ipython",
    "version": 3
   },
   "file_extension": ".py",
   "mimetype": "text/x-python",
   "name": "python",
   "nbconvert_exporter": "python",
   "pygments_lexer": "ipython3",
   "version": "3.7.4"
  }
 },
 "nbformat": 4,
 "nbformat_minor": 2
}
