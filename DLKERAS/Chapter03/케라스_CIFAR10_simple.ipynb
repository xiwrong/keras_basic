{
 "cells": [
  {
   "cell_type": "code",
   "execution_count": 5,
   "metadata": {},
   "outputs": [
    {
     "name": "stdout",
     "output_type": "stream",
     "text": [
      "X_train shape: (50000, 32, 32, 3)\n",
      "50000 train samples\n",
      "10000 test samples\n",
      "Model: \"sequential_2\"\n",
      "_________________________________________________________________\n",
      "Layer (type)                 Output Shape              Param #   \n",
      "=================================================================\n",
      "conv2d_2 (Conv2D)            (None, 32, 32, 32)        896       \n",
      "_________________________________________________________________\n",
      "activation_4 (Activation)    (None, 32, 32, 32)        0         \n",
      "_________________________________________________________________\n",
      "max_pooling2d_2 (MaxPooling2 (None, 16, 16, 32)        0         \n",
      "_________________________________________________________________\n",
      "dropout_3 (Dropout)          (None, 16, 16, 32)        0         \n",
      "_________________________________________________________________\n",
      "flatten_2 (Flatten)          (None, 8192)              0         \n",
      "_________________________________________________________________\n",
      "dense_3 (Dense)              (None, 512)               4194816   \n",
      "_________________________________________________________________\n",
      "activation_5 (Activation)    (None, 512)               0         \n",
      "_________________________________________________________________\n",
      "dropout_4 (Dropout)          (None, 512)               0         \n",
      "_________________________________________________________________\n",
      "dense_4 (Dense)              (None, 10)                5130      \n",
      "_________________________________________________________________\n",
      "activation_6 (Activation)    (None, 10)                0         \n",
      "=================================================================\n",
      "Total params: 4,200,842\n",
      "Trainable params: 4,200,842\n",
      "Non-trainable params: 0\n",
      "_________________________________________________________________\n",
      "Train on 40000 samples, validate on 10000 samples\n",
      "Epoch 1/20\n",
      "40000/40000 [==============================] - 29s 714us/step - loss: 1.7754 - accuracy: 0.3742 - val_loss: 1.4759 - val_accuracy: 0.4901\n",
      "Epoch 2/20\n",
      "40000/40000 [==============================] - 29s 721us/step - loss: 1.3876 - accuracy: 0.5105 - val_loss: 1.3405 - val_accuracy: 0.5211\n",
      "Epoch 3/20\n",
      "40000/40000 [==============================] - 29s 729us/step - loss: 1.2522 - accuracy: 0.5589 - val_loss: 1.2347 - val_accuracy: 0.5641\n",
      "Epoch 4/20\n",
      "40000/40000 [==============================] - 30s 738us/step - loss: 1.1614 - accuracy: 0.5887 - val_loss: 1.1390 - val_accuracy: 0.6111\n",
      "Epoch 5/20\n",
      "40000/40000 [==============================] - 29s 737us/step - loss: 1.0906 - accuracy: 0.6163 - val_loss: 1.1369 - val_accuracy: 0.6018\n",
      "Epoch 6/20\n",
      "40000/40000 [==============================] - 29s 731us/step - loss: 1.0377 - accuracy: 0.6355 - val_loss: 1.0851 - val_accuracy: 0.6184\n",
      "Epoch 7/20\n",
      "40000/40000 [==============================] - 29s 720us/step - loss: 0.9858 - accuracy: 0.6550 - val_loss: 1.0599 - val_accuracy: 0.6337\n",
      "Epoch 8/20\n",
      "40000/40000 [==============================] - 28s 708us/step - loss: 0.9424 - accuracy: 0.6701 - val_loss: 1.0210 - val_accuracy: 0.6495\n",
      "Epoch 9/20\n",
      "40000/40000 [==============================] - 29s 732us/step - loss: 0.9043 - accuracy: 0.6832 - val_loss: 1.0004 - val_accuracy: 0.6584\n",
      "Epoch 10/20\n",
      "40000/40000 [==============================] - 30s 741us/step - loss: 0.8644 - accuracy: 0.6967 - val_loss: 1.0148 - val_accuracy: 0.6534\n",
      "Epoch 11/20\n",
      "40000/40000 [==============================] - 29s 731us/step - loss: 0.8317 - accuracy: 0.7107 - val_loss: 1.0194 - val_accuracy: 0.6553\n",
      "Epoch 12/20\n",
      "40000/40000 [==============================] - 29s 732us/step - loss: 0.8032 - accuracy: 0.7208 - val_loss: 1.0146 - val_accuracy: 0.6589\n",
      "Epoch 13/20\n",
      "40000/40000 [==============================] - 29s 727us/step - loss: 0.7676 - accuracy: 0.7323 - val_loss: 1.0159 - val_accuracy: 0.6714\n",
      "Epoch 14/20\n",
      "40000/40000 [==============================] - 28s 708us/step - loss: 0.7403 - accuracy: 0.7428 - val_loss: 1.1011 - val_accuracy: 0.6466\n",
      "Epoch 15/20\n",
      "40000/40000 [==============================] - 29s 714us/step - loss: 0.7221 - accuracy: 0.7492 - val_loss: 1.0068 - val_accuracy: 0.6618\n",
      "Epoch 16/20\n",
      "40000/40000 [==============================] - 29s 715us/step - loss: 0.6969 - accuracy: 0.7580 - val_loss: 1.0205 - val_accuracy: 0.6716\n",
      "Epoch 17/20\n",
      "40000/40000 [==============================] - 28s 712us/step - loss: 0.6710 - accuracy: 0.7676 - val_loss: 1.0369 - val_accuracy: 0.6730\n",
      "Epoch 18/20\n",
      "40000/40000 [==============================] - 27s 684us/step - loss: 0.6571 - accuracy: 0.7692 - val_loss: 1.0409 - val_accuracy: 0.6756\n",
      "Epoch 19/20\n",
      "40000/40000 [==============================] - 30s 739us/step - loss: 0.6401 - accuracy: 0.7801 - val_loss: 1.0458 - val_accuracy: 0.6711\n",
      "Epoch 20/20\n",
      "40000/40000 [==============================] - 29s 736us/step - loss: 0.6255 - accuracy: 0.7832 - val_loss: 1.1531 - val_accuracy: 0.6628\n",
      "Testing...\n",
      "10000/10000 [==============================] - 1s 149us/step\n",
      "\n",
      "Test score: 1.160004550743103\n",
      "Test accuracy: 0.656499981880188\n"
     ]
    }
   ],
   "source": [
    "# %load keras_CIFAR10_simple.py\n",
    "from keras.datasets import cifar10\n",
    "from keras.utils import np_utils\n",
    "from keras.models import Sequential\n",
    "from keras.layers.core import Dense, Dropout, Activation, Flatten\n",
    "from keras.layers.convolutional import Conv2D, MaxPooling2D\n",
    "from keras.optimizers import SGD, Adam, RMSprop\n",
    "import matplotlib.pyplot as plt\n",
    "\n",
    "# CIFAR_10 은 3채널로 구성된 32x32 이미지 60000장을 갖는다.\n",
    "IMG_CHANNELS = 3\n",
    "IMG_ROWS = 32\n",
    "IMG_COLS = 32\n",
    "\n",
    "# 상수 정의\n",
    "BATCH_SIZE = 128\n",
    "NB_EPOCH = 20\n",
    "NB_CLASSES = 10\n",
    "VERBOSE = 1\n",
    "VALIDATION_SPLIT = 0.2\n",
    "OPTIM = RMSprop()\n",
    "\n",
    "# 데이터셋 불러오기\n",
    "(X_train, y_train), (X_test, y_test) = cifar10.load_data()\n",
    "print('X_train shape:', X_train.shape)\n",
    "print(X_train.shape[0], 'train samples')\n",
    "print(X_test.shape[0], 'test samples')\n",
    "\n",
    "# 범주형으로 변환\n",
    "Y_train = np_utils.to_categorical(y_train, NB_CLASSES)\n",
    "Y_test = np_utils.to_categorical(y_test, NB_CLASSES)\n",
    "\n",
    "# 실수형으로 지정하고 정규화\n",
    "X_train = X_train.astype('float32')\n",
    "X_test = X_test.astype('float32')\n",
    "X_train /= 255\n",
    "X_test /= 255\n",
    "\n",
    "# 신경망 정의\n",
    "model = Sequential()\n",
    "model.add(Conv2D(32, (3, 3), padding='same',\n",
    "                 input_shape=(IMG_ROWS, IMG_COLS, IMG_CHANNELS)))\n",
    "model.add(Activation('relu'))\n",
    "model.add(MaxPooling2D(pool_size=(2, 2)))\n",
    "model.add(Dropout(0.25))\n",
    "\n",
    "model.add(Flatten())\n",
    "model.add(Dense(512))\n",
    "model.add(Activation('relu'))\n",
    "model.add(Dropout(0.5))\n",
    "model.add(Dense(NB_CLASSES))\n",
    "model.add(Activation('softmax'))\n",
    "\n",
    "model.summary()\n",
    "\n",
    "# 학습\n",
    "model.compile(loss='categorical_crossentropy', optimizer=OPTIM,\n",
    "              metrics=['accuracy'])\n",
    "\n",
    "history = model.fit(X_train, Y_train, batch_size=BATCH_SIZE,\n",
    "                    epochs=NB_EPOCH, validation_split=VALIDATION_SPLIT,\n",
    "                    verbose=VERBOSE)\n",
    "\n",
    "print('Testing...')\n",
    "score = model.evaluate(X_test, Y_test,\n",
    "                       batch_size=BATCH_SIZE, verbose=VERBOSE)\n",
    "print(\"\\nTest score:\", score[0])\n",
    "print('Test accuracy:', score[1])\n",
    "\n",
    "# 모델 저장\n",
    "model_json = model.to_json()\n",
    "open('cifar10_architecture.json', 'w').write(model_json)\n",
    "model.save_weights('cifar10_weights.h5', overwrite=True)\n"
   ]
  },
  {
   "cell_type": "code",
   "execution_count": 6,
   "metadata": {},
   "outputs": [
    {
     "name": "stdout",
     "output_type": "stream",
     "text": [
      "dict_keys(['val_loss', 'val_accuracy', 'loss', 'accuracy'])\n"
     ]
    },
    {
     "data": {
      "image/png": "[encoded data removed]",
      "text/plain": [
       "<Figure size 432x288 with 1 Axes>"
      ]
     },
     "metadata": {
      "needs_background": "light"
     },
     "output_type": "display_data"
    },
    {
     "data": {
      "image/png": "[encoded data removed]",
      "text/plain": [
       "<Figure size 432x288 with 1 Axes>"
      ]
     },
     "metadata": {
      "needs_background": "light"
     },
     "output_type": "display_data"
    }
   ],
   "source": [
    "# 히스토리에 있는 모든 데이터 나열\n",
    "print(history.history.keys())\n",
    "# 단순 정확도에 대한 히스토리 요약\n",
    "plt.plot(history.history['accuracy'])\n",
    "plt.plot(history.history['val_accuracy'])\n",
    "plt.title('model accuracy')\n",
    "plt.ylabel('accuracy')\n",
    "plt.xlabel('epoch')\n",
    "plt.legend(['train', 'test'], loc='upper left')\n",
    "plt.show()\n",
    "# 손실에 대한 히스토리 요약\n",
    "plt.plot(history.history['loss'])\n",
    "plt.plot(history.history['val_loss'])\n",
    "plt.title('model loss')\n",
    "plt.ylabel('loss')\n",
    "plt.xlabel('epoch')\n",
    "plt.legend(['train', 'test'], loc='upper left')\n",
    "plt.show()"
   ]
  },
  {
   "cell_type": "code",
   "execution_count": null,
   "metadata": {},
   "outputs": [],
   "source": []
  }
 ],
 "metadata": {
  "kernelspec": {
   "display_name": "Python 3",
   "language": "python",
   "name": "python3"
  },
  "language_info": {
   "codemirror_mode": {
    "name": "ipython",
    "version": 3
   },
   "file_extension": ".py",
   "mimetype": "text/x-python",
   "name": "python",
   "nbconvert_exporter": "python",
   "pygments_lexer": "ipython3",
   "version": "3.7.4"
  }
 },
 "nbformat": 4,
 "nbformat_minor": 2
}
